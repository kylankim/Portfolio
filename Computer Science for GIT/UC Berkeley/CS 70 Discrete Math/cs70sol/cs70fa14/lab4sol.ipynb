{
 "metadata": {
  "name": "",
  "signature": "sha256:464f5bfe19481dda1804550203ba61411d856463174ee8b2e356f97e304e6d69"
 },
 "nbformat": 3,
 "nbformat_minor": 0,
 "worksheets": [
  {
   "cells": [
    {
     "cell_type": "markdown",
     "metadata": {},
     "source": [
      "# Virtual Lab 4 Solution: Modular Arithmetic and Primality Testing\n",
      "\n",
      "### EECS 70: Discrete Mathematics and Probability Theory, Fall 2014\n",
      "\n",
      "#### Due Date: Monday, September 29th, 2014 at 12pm"
     ]
    },
    {
     "cell_type": "markdown",
     "metadata": {},
     "source": [
      "**Instructions**:\n",
      "\n",
      "* Complete this lab by filling in all of the required functions, marked with `\"YOUR CODE HERE\"`\n",
      "* If you plan to use Python, make sure to go over **Tutorial 1A: Introduction to Python and IPython** before attempting the lab\n",
      "* Make sure you run every code cell one after another, i.e. don't skip any cell. A shortcut for doing this in the notebook is Shift+Enter. When you finish, choose 'Cell > Run All' to test your code one last time all at once.\n",
      "* Most of the solution requires no more than a few lines each\n",
      "* Please do not hardcode the result or change any function without the `\"YOUR CODE HERE\"` mark\n",
      "* Questions? Bring them to our Office Hour and/or ask on Piazza\n",
      "* Good luck, and have fun!"
     ]
    },
    {
     "cell_type": "markdown",
     "metadata": {},
     "source": [
      "## Table of Contents\n",
      "\n",
      "The number inside parentheses is the number of functions you are required to fill out for each question. Always make sure to double check before you submit.\n",
      "\n",
      "* [Introduction](#intro)\n",
      "* [Question 1: Modular exponentiation](#q1) (1)\n",
      "* [Question 2: GCD](#q2) (1)\n",
      "* [Question 3: Extended GCD](#q3) (1)\n",
      "* [Question 4: Naive primality test](#q4) (1)\n",
      "* [Question 5: Sieve of Eratosthenes](#q5) (1)"
     ]
    },
    {
     "cell_type": "markdown",
     "metadata": {},
     "source": [
      "<a id='intro'></a>\n",
      "## Introduction"
     ]
    },
    {
     "cell_type": "markdown",
     "metadata": {},
     "source": [
      "In Python, you can perform a lot of powerful modular arithmetic operations. The basic arithmetic operations (+, -, \\*, /) are all supported. Note that when used with integers, the division operator returns the greatest integer less than the exact result. \n",
      "\n",
      "The modular reduction operator is represented by the % operator (e.g. `7 % 2` returns 1). This differs from many other languages in that, if the modulus is positive the result is always positive.\n",
      "\n",
      "Exponentiation can be carried out with the \\*\\* symbol.\n",
      "\n",
      "The `pow()` function can be used for exponentiation if called with two parameters, or efficient modular exponentiation if called with three parameters. `pow(a, b, c)` returns the same result as `(a**b) % c`, but is much more efficient.\n",
      "\n",
      "Below you will find a few examples using the operators described above."
     ]
    },
    {
     "cell_type": "code",
     "collapsed": false,
     "input": [
      "(4 + 7) % 13"
     ],
     "language": "python",
     "metadata": {},
     "outputs": [
      {
       "metadata": {},
       "output_type": "pyout",
       "prompt_number": 1,
       "text": [
        "11"
       ]
      }
     ],
     "prompt_number": 1
    },
    {
     "cell_type": "code",
     "collapsed": false,
     "input": [
      "(5 * 4) % 13"
     ],
     "language": "python",
     "metadata": {},
     "outputs": [
      {
       "metadata": {},
       "output_type": "pyout",
       "prompt_number": 2,
       "text": [
        "7"
       ]
      }
     ],
     "prompt_number": 2
    },
    {
     "cell_type": "code",
     "collapsed": false,
     "input": [
      "7 // 2"
     ],
     "language": "python",
     "metadata": {},
     "outputs": [
      {
       "metadata": {},
       "output_type": "pyout",
       "prompt_number": 3,
       "text": [
        "3"
       ]
      }
     ],
     "prompt_number": 3
    },
    {
     "cell_type": "code",
     "collapsed": false,
     "input": [
      "3 ** 2"
     ],
     "language": "python",
     "metadata": {},
     "outputs": [
      {
       "metadata": {},
       "output_type": "pyout",
       "prompt_number": 4,
       "text": [
        "9"
       ]
      }
     ],
     "prompt_number": 4
    },
    {
     "cell_type": "code",
     "collapsed": false,
     "input": [
      "pow(2, 6, 11)"
     ],
     "language": "python",
     "metadata": {},
     "outputs": [
      {
       "metadata": {},
       "output_type": "pyout",
       "prompt_number": 5,
       "text": [
        "9"
       ]
      }
     ],
     "prompt_number": 5
    },
    {
     "cell_type": "markdown",
     "metadata": {},
     "source": [
      "<a id='q1'></a>\n",
      "## Question 1: Modular exponentiation"
     ]
    },
    {
     "cell_type": "markdown",
     "metadata": {},
     "source": [
      "Implement the function `mod_exp`, which computes `(x^y) mod m`  using **repeated squaring**. **Do NOT use the `pow` function**.\n",
      "\n",
      "*Hint*: Try the pseudocode on page 3 of Note 5 if you get stuck. Make sure you understand why this implementation is better than the naive approach."
     ]
    },
    {
     "cell_type": "code",
     "collapsed": false,
     "input": [
      "def mod_exp(x, y, m):\n",
      "    \"\"\"\n",
      "    Returns the result of (x^y) mod m using repeated squaring\n",
      "    \n",
      "    YOUR CODE HERE\n",
      "    \"\"\"\n",
      "    \n",
      "    if y == 0:\n",
      "        return 1\n",
      "    z = mod_exp(x, y // 2, m)\n",
      "    if y % 2 == 0:\n",
      "        return z * z % m\n",
      "    return x * z *z % m"
     ],
     "language": "python",
     "metadata": {},
     "outputs": [],
     "prompt_number": 6
    },
    {
     "cell_type": "markdown",
     "metadata": {},
     "source": [
      "Test your implementation below. Both tests should print True if your implementation is correct."
     ]
    },
    {
     "cell_type": "code",
     "collapsed": false,
     "input": [
      "mod_exp(2, 6, 11) == pow(2, 6, 11)"
     ],
     "language": "python",
     "metadata": {},
     "outputs": [
      {
       "metadata": {},
       "output_type": "pyout",
       "prompt_number": 7,
       "text": [
        "True"
       ]
      }
     ],
     "prompt_number": 7
    },
    {
     "cell_type": "code",
     "collapsed": false,
     "input": [
      "mod_exp(3, 6, 7) == pow(3, 6, 7)"
     ],
     "language": "python",
     "metadata": {},
     "outputs": [
      {
       "metadata": {},
       "output_type": "pyout",
       "prompt_number": 8,
       "text": [
        "True"
       ]
      }
     ],
     "prompt_number": 8
    },
    {
     "cell_type": "markdown",
     "metadata": {},
     "source": [
      "<a id='q2'></a>\n",
      "## Question 2: GCD"
     ]
    },
    {
     "cell_type": "markdown",
     "metadata": {},
     "source": [
      "Implement the function `gcd`, which computes the greatest common divisor between two numbers."
     ]
    },
    {
     "cell_type": "code",
     "collapsed": false,
     "input": [
      "def gcd(x, y):\n",
      "    \"\"\"\n",
      "    Computes the greatest common divisor between two numbers x and y\n",
      "    \n",
      "    YOUR CODE HERE\n",
      "    \"\"\"\n",
      "\n",
      "    if y == 0:\n",
      "        return x\n",
      "    return gcd(y, x % y)"
     ],
     "language": "python",
     "metadata": {},
     "outputs": [],
     "prompt_number": 9
    },
    {
     "cell_type": "markdown",
     "metadata": {},
     "source": [
      "Test your implementation below. Both tests should print True if your implementation is correct."
     ]
    },
    {
     "cell_type": "code",
     "collapsed": false,
     "input": [
      "gcd(6, 4) == 2"
     ],
     "language": "python",
     "metadata": {},
     "outputs": [
      {
       "metadata": {},
       "output_type": "pyout",
       "prompt_number": 10,
       "text": [
        "True"
       ]
      }
     ],
     "prompt_number": 10
    },
    {
     "cell_type": "code",
     "collapsed": false,
     "input": [
      "gcd(10500, 725) == 25"
     ],
     "language": "python",
     "metadata": {},
     "outputs": [
      {
       "metadata": {},
       "output_type": "pyout",
       "prompt_number": 11,
       "text": [
        "True"
       ]
      }
     ],
     "prompt_number": 11
    },
    {
     "cell_type": "markdown",
     "metadata": {},
     "source": [
      "<a id='q3'></a>\n",
      "## Question 3: Extended GCD"
     ]
    },
    {
     "cell_type": "markdown",
     "metadata": {},
     "source": [
      "Implement the `egcd` function, which takes a pair of natural numbers `x >= y`, and returns a triple of integers `(d, a, b)` such that `d = gcd(x, y) = ax + by`."
     ]
    },
    {
     "cell_type": "code",
     "collapsed": false,
     "input": [
      "def egcd(x, y):\n",
      "    \"\"\"\n",
      "    Extended Euclid's Algorithm. It takes a pair of natural numbers x >= y,\n",
      "    and returns a triple of integers (d, a, b) such that d = gcd(x, y) = ax + by.\n",
      "    \n",
      "    YOUR CODE HERE\n",
      "    \"\"\"\n",
      "    \n",
      "    if y == 0:\n",
      "        return (x, 1, 0)\n",
      "    (d, a, b) = egcd(y, x % y)\n",
      "    return (d, b, a - (x // y) * b)"
     ],
     "language": "python",
     "metadata": {},
     "outputs": [],
     "prompt_number": 12
    },
    {
     "cell_type": "markdown",
     "metadata": {},
     "source": [
      "Test your implementation below. Both tests should print True if your implementation is correct."
     ]
    },
    {
     "cell_type": "code",
     "collapsed": false,
     "input": [
      "egcd(6, 4) == (2, 1, -1)"
     ],
     "language": "python",
     "metadata": {},
     "outputs": [
      {
       "metadata": {},
       "output_type": "pyout",
       "prompt_number": 13,
       "text": [
        "True"
       ]
      }
     ],
     "prompt_number": 13
    },
    {
     "cell_type": "code",
     "collapsed": false,
     "input": [
      "egcd(16, 10) == (2, 2, -3)"
     ],
     "language": "python",
     "metadata": {},
     "outputs": [
      {
       "metadata": {},
       "output_type": "pyout",
       "prompt_number": 14,
       "text": [
        "True"
       ]
      }
     ],
     "prompt_number": 14
    },
    {
     "cell_type": "markdown",
     "metadata": {},
     "source": [
      "Use `egcd(x, y)` to find the **positive** inverse of `117 mod 103`, of `17947 mod 222`, and of `1812647 mod 1234567`. Report the answers in your homework writeup."
     ]
    },
    {
     "cell_type": "code",
     "collapsed": false,
     "input": [
      "egcd(117, 103)[1] + 103"
     ],
     "language": "python",
     "metadata": {},
     "outputs": [
      {
       "metadata": {},
       "output_type": "pyout",
       "prompt_number": 15,
       "text": [
        "81"
       ]
      }
     ],
     "prompt_number": 15
    },
    {
     "cell_type": "code",
     "collapsed": false,
     "input": [
      "egcd(17947, 222)[1]"
     ],
     "language": "python",
     "metadata": {},
     "outputs": [
      {
       "metadata": {},
       "output_type": "pyout",
       "prompt_number": 16,
       "text": [
        "19"
       ]
      }
     ],
     "prompt_number": 16
    },
    {
     "cell_type": "code",
     "collapsed": false,
     "input": [
      "egcd(1812647, 1234567)[1] + 1234567"
     ],
     "language": "python",
     "metadata": {},
     "outputs": [
      {
       "metadata": {},
       "output_type": "pyout",
       "prompt_number": 17,
       "text": [
        "710348"
       ]
      }
     ],
     "prompt_number": 17
    },
    {
     "cell_type": "markdown",
     "metadata": {},
     "source": [
      "<a id='q4'></a>\n",
      "## Question 4: Naive primality test"
     ]
    },
    {
     "cell_type": "markdown",
     "metadata": {},
     "source": [
      "Implement the function `is_prime`, which simply checks if a number `x` is a prime number. You can assume that `x` is a positive integer. It's okay to go with a naive implementation for this question, we'll look at some more efficient implementations in later questions and/or virtual labs."
     ]
    },
    {
     "cell_type": "code",
     "collapsed": false,
     "input": [
      "def is_prime(x):\n",
      "    \"\"\"\n",
      "    Checks if the positive integer x is a prime number\n",
      "    \n",
      "    YOUR CODE HERE\n",
      "    \"\"\"\n",
      "\n",
      "    for i in range(2, x-1):\n",
      "        if x % i == 0:\n",
      "            return False\n",
      "    else:\n",
      "        return True"
     ],
     "language": "python",
     "metadata": {},
     "outputs": [],
     "prompt_number": 18
    },
    {
     "cell_type": "markdown",
     "metadata": {},
     "source": [
      "Test your implementation below. Both tests should print True if your implementation is correct."
     ]
    },
    {
     "cell_type": "code",
     "collapsed": false,
     "input": [
      "is_prime(17) == True"
     ],
     "language": "python",
     "metadata": {},
     "outputs": [
      {
       "metadata": {},
       "output_type": "pyout",
       "prompt_number": 19,
       "text": [
        "True"
       ]
      }
     ],
     "prompt_number": 19
    },
    {
     "cell_type": "code",
     "collapsed": false,
     "input": [
      "is_prime(6) == False"
     ],
     "language": "python",
     "metadata": {},
     "outputs": [
      {
       "metadata": {},
       "output_type": "pyout",
       "prompt_number": 20,
       "text": [
        "True"
       ]
      }
     ],
     "prompt_number": 20
    },
    {
     "cell_type": "markdown",
     "metadata": {},
     "source": [
      "<a id='q5'></a>\n",
      "## Question 5: Sieve of Eratosthenes"
     ]
    },
    {
     "cell_type": "markdown",
     "metadata": {},
     "source": [
      "The Sieve of Eratosthenes is a simple, ancient algorithm for finding all prime numbers up to any given limit. It does so by iteratively marking as composite (i.e. not prime) the multiples of each prime, starting with the multiples of 2. For more information, check out the relevant [Wikipedia article](https://en.wikipedia.org/wiki/Sieve_of_Eratosthenes).\n",
      "\n",
      "Here's a sample execution of the algorithm for primes below 121, taken from Wikipedia."
     ]
    },
    {
     "cell_type": "code",
     "collapsed": false,
     "input": [
      "from IPython.display import Image\n",
      "Image(url='https://upload.wikimedia.org/wikipedia/commons/b/b9/Sieve_of_Eratosthenes_animation.gif')"
     ],
     "language": "python",
     "metadata": {},
     "outputs": [
      {
       "html": [
        "<img src=\"https://upload.wikimedia.org/wikipedia/commons/b/b9/Sieve_of_Eratosthenes_animation.gif\"/>"
       ],
       "metadata": {},
       "output_type": "pyout",
       "prompt_number": 21,
       "text": [
        "<IPython.core.display.Image at 0x9442e8c>"
       ]
      }
     ],
     "prompt_number": 21
    },
    {
     "cell_type": "markdown",
     "metadata": {},
     "source": [
      "Implements the function `sieve`, which takes a positive integer `n`, and returns a list of all primes less than or equal to `n`.\n",
      "\n",
      "*Hint*: create a list containing all numbers less than `n`, then iteratively remove the multiples of each number remaining in the list. You should not need to use the `is_prime` function implemented above."
     ]
    },
    {
     "cell_type": "code",
     "collapsed": false,
     "input": [
      "def sieve(n):\n",
      "    \"\"\"\n",
      "    Return a list of all primes <= n, where n is a positive integer\n",
      "    \n",
      "    YOUR CODE HERE\n",
      "    \"\"\"\n",
      "    \n",
      "    lst = range(n+1)\n",
      "    lst[1] = 0  # 1 is not prime, so we mark it with '0' for future removal \n",
      "    sqrtn = int(round(n**0.5))\n",
      "    for i in range(2, sqrtn + 1):  # why do we only need to go up to sqrt(n) + 1?\n",
      "        if lst[i]:\n",
      "            lst[i*i: n+1: i] = [0] * len(range(i*i, n+1, i))\n",
      "    return filter(None, lst)  # filter out all 0s from lst"
     ],
     "language": "python",
     "metadata": {},
     "outputs": [],
     "prompt_number": 22
    },
    {
     "cell_type": "markdown",
     "metadata": {},
     "source": [
      "Test your implementation below. Both tests should print True if your implementation is correct."
     ]
    },
    {
     "cell_type": "code",
     "collapsed": false,
     "input": [
      "sieve(3) == [2, 3]"
     ],
     "language": "python",
     "metadata": {},
     "outputs": [
      {
       "metadata": {},
       "output_type": "pyout",
       "prompt_number": 23,
       "text": [
        "True"
       ]
      }
     ],
     "prompt_number": 23
    },
    {
     "cell_type": "code",
     "collapsed": false,
     "input": [
      "sieve(20) == [2, 3, 5, 7, 11, 13, 17, 19]"
     ],
     "language": "python",
     "metadata": {},
     "outputs": [
      {
       "metadata": {},
       "output_type": "pyout",
       "prompt_number": 24,
       "text": [
        "True"
       ]
      }
     ],
     "prompt_number": 24
    },
    {
     "cell_type": "markdown",
     "metadata": {},
     "source": [
      "**Congratulations**! You are done with Virtual Lab 4.\n",
      "\n",
      "Don't forget to convert this notebook to a pdf document, merge it with your written homework, and submit both the pdf and the code (as a zip file) on glookup.\n",
      "\n",
      "**Reminder**: late submissions are NOT accepted. If you have any technical difficulty,\n",
      "resolve it early on or use the provided VM."
     ]
    }
   ],
   "metadata": {}
  }
 ]
}