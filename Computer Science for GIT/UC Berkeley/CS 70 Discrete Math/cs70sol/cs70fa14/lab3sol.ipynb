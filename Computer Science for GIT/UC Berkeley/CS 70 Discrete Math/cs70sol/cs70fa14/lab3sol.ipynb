{
 "metadata": {
  "name": "",
  "signature": "sha256:700771a6ff8ca29a171c4fc2b5ec08ab4b0c14551c10f96cb2bd5d17505025c0"
 },
 "nbformat": 3,
 "nbformat_minor": 0,
 "worksheets": [
  {
   "cells": [
    {
     "cell_type": "markdown",
     "metadata": {},
     "source": [
      "# Virtual Lab 3 Solution: The Propose & Reject Algorithm\n",
      "\n",
      "### EECS 70: Discrete Mathematics and Probability Theory, Fall 2014\n",
      "\n",
      "#### Due Date: Monday, September 22nd, 2014 at 12pm"
     ]
    },
    {
     "cell_type": "markdown",
     "metadata": {},
     "source": [
      "**Instructions**:\n",
      "\n",
      "* Complete this lab by filling in all of the required functions, marked with `\"YOUR CODE HERE\"`\n",
      "* If you plan to use Python, make sure to go over **Tutorial 1A: Introduction to Python and IPython** before attempting the lab\n",
      "* Make sure you run every code cell one after another, i.e. don't skip any cell. A shortcut for doing this in the notebook is Shift+Enter. When you finish, choose 'Cell > Run All' to test your code one last time all at once.\n",
      "* **For the sake of simplicity, assume that men and women are both represented by numerals. Whenever you see \"A\", translate it to 1 and so on.**\n",
      "* Please do not hardcode the result or change any function without the `\"YOUR CODE HERE\"` mark\n",
      "* Questions? Bring them to our Office Hour and/or ask on Piazza\n",
      "* Good luck, and have fun!"
     ]
    },
    {
     "cell_type": "markdown",
     "metadata": {},
     "source": [
      "## Table of Contents\n",
      "\n",
      "The number inside parentheses is the number of functions you are required to fill out for this lab. Always make sure to double check before you submit.\n",
      "\n",
      "* [Question 1: Create lists of men and women](#q1) (2)\n",
      "* [Question 2: What if women make the first move?](#q2) (1)\n",
      "* [Question 3: Same final pairings](#q3) (1)\n",
      "* [Question 3: How long does the algorithm take?](#q4) (1)"
     ]
    },
    {
     "cell_type": "markdown",
     "metadata": {},
     "source": [
      "Below you will find the implementation of a Person class in Python. Since we do not expect you to use Object-oriented Programming (OOP) concepts in EECS 70, don't worry if you have trouble understand every detail of the code.\n",
      "\n",
      "That said, you are still expected to read through the code & the docstring of each function and have a general idea of what each function does. Understanding [abstraction][1] is at the heart of Computer Science.\n",
      "\n",
      "[1]: https://en.wikipedia.org/wiki/Abstraction_(computer_science)"
     ]
    },
    {
     "cell_type": "code",
     "collapsed": false,
     "input": [
      "class Person:\n",
      "    \"\"\"\n",
      "    A Person represents one of the participants of the propose & reject algorithm\n",
      "    Instances of Person must be stored in lists called 'men' and 'women'\n",
      "    \"\"\"\n",
      "    \n",
      "    def __init__(self, gender, num, ranks):\n",
      "        \"\"\"\n",
      "        Initializes the person to either a man ('M') or woman ('W'),\n",
      "        and gives him/her an identifying number \n",
      "        and a preference list indicating how they rank the members of the opposite gender\n",
      "        \"\"\"\n",
      "\n",
      "        if gender not in ['M', 'W']:\n",
      "            raise Exception(\"Not male or female\")\n",
      "        self.gender = gender\n",
      "        self.num = num\n",
      "        self.ranks = ranks \n",
      "        self.partner = None\n",
      "    \n",
      "    def get_highest_ranked_person(self):\n",
      "        \"\"\"\n",
      "        Returns the most desirable of this Person's possible matches\n",
      "        \"\"\"\n",
      "\n",
      "        if self.gender == 'M':\n",
      "            return women[self.ranks[0]-1]\n",
      "        else:\n",
      "            return men[self.ranks[0]-1]\n",
      "    \n",
      "    def get_rank(self, other_person):\n",
      "        \"\"\"\n",
      "        Returns the position of \"other_person\" in this Person's ranking list\n",
      "        \"\"\"\n",
      "\n",
      "        if self.gender == other_person.gender:\n",
      "            raise Exception(\"Two people of the same gender don't have a\" +\n",
      "                            \" ranking for each other\")\n",
      "        return self.ranks.index(other_person.num) + 1\n",
      "    \n",
      "    def get_partner(self):\n",
      "        \"\"\"\n",
      "        Returns the current partner if there is any, or None otherwise\n",
      "        \"\"\"\n",
      "\n",
      "        return self.partner\n",
      "    \n",
      "    def maybe(self, other_person):\n",
      "        \"\"\"\n",
      "        Changes this Person and other_person's partners to be each other\n",
      "        \"\"\"\n",
      "        \n",
      "        self.partner = other_person\n",
      "        other_person.partner = self\n",
      "\n",
      "    def remove_from_list(self, other_person):\n",
      "        \"\"\"\n",
      "        Removes other_person from this Person's possible matches\n",
      "        \"\"\"\n",
      "\n",
      "        self.ranks.remove(other_person.num)\n",
      "    \n",
      "    def reset(self):\n",
      "        \"\"\"\n",
      "        Resets the partner of the current Person to None\n",
      "        \"\"\"\n",
      "\n",
      "        self.partner = None\n",
      "        \n",
      "    def __str__(self):\n",
      "        \"\"\"\n",
      "        Prints a Person object\n",
      "        \"\"\"\n",
      "        \n",
      "        return \",\".join([self.gender, str(self.num), str(self.ranks),\n",
      "                         str(None if not self.partner else self.partner.num)])"
     ],
     "language": "python",
     "metadata": {},
     "outputs": [],
     "prompt_number": 48
    },
    {
     "cell_type": "markdown",
     "metadata": {},
     "source": [
      "<a id='q1'></a>\n",
      "## Question 1: Create lists of men and women"
     ]
    },
    {
     "cell_type": "markdown",
     "metadata": {},
     "source": [
      "In Python, you can create an instance of a class using the syntax `ClassName(class_params)`.\n",
      "\n",
      "For example, in a 2x2 instance, if we want to create man 1 who prefers woman 2 to woman 1, we could write:\n",
      "\n",
      "`man1 = Person('M', 1, [2, 1])`"
     ]
    },
    {
     "cell_type": "markdown",
     "metadata": {},
     "source": [
      "Here's an example of how to create lists of men and women using the example from Note 3, page 1."
     ]
    },
    {
     "cell_type": "code",
     "collapsed": false,
     "input": [
      "from IPython.display import Image\n",
      "Image(url='http://inst.eecs.berkeley.edu/~cs199-xs/stable.png')"
     ],
     "language": "python",
     "metadata": {},
     "outputs": [
      {
       "html": [
        "<img src=\"http://inst.eecs.berkeley.edu/~cs199-xs/stable.png\"/>"
       ],
       "metadata": {},
       "output_type": "pyout",
       "prompt_number": 49,
       "text": [
        "<IPython.core.display.Image at 0xa4d34cc>"
       ]
      }
     ],
     "prompt_number": 49
    },
    {
     "cell_type": "code",
     "collapsed": false,
     "input": [
      "def create_example_men_list():\n",
      "    \"\"\"\n",
      "    This function should return a list of size 3, where each\n",
      "    element in the list is a man from the above example\n",
      "    \"\"\"\n",
      "    \n",
      "    return [Person('M', 1, [1,2,3]), Person('M', 2, [2,1,3]), Person('M', 3, [1,2,3])]"
     ],
     "language": "python",
     "metadata": {},
     "outputs": [],
     "prompt_number": 50
    },
    {
     "cell_type": "code",
     "collapsed": false,
     "input": [
      "def create_example_women_list():\n",
      "    \"\"\"\n",
      "    This function should return a list of size 3, where each\n",
      "    element in the list is a woman from the above example\n",
      "    \"\"\"\n",
      "    \n",
      "    return [Person('W', 1, [2,1,3]), Person('W', 2, [1,2,3]), Person('W', 3, [1,2,3])]"
     ],
     "language": "python",
     "metadata": {},
     "outputs": [],
     "prompt_number": 51
    },
    {
     "cell_type": "markdown",
     "metadata": {},
     "source": [
      "Now it's your turn. Using the example from Note 4, page 6, which is shown below again for your convenience, create a list of all the men and another list containing all the women. \n",
      "\n",
      "**Reminder**: we are using numerals to represent both genders."
     ]
    },
    {
     "cell_type": "code",
     "collapsed": false,
     "input": [
      "from IPython.display import Image\n",
      "Image(url='http://inst.eecs.berkeley.edu/~cs199-xs/stable2.png')"
     ],
     "language": "python",
     "metadata": {},
     "outputs": [
      {
       "html": [
        "<img src=\"http://inst.eecs.berkeley.edu/~cs199-xs/stable2.png\"/>"
       ],
       "metadata": {},
       "output_type": "pyout",
       "prompt_number": 52,
       "text": [
        "<IPython.core.display.Image at 0xa4d368c>"
       ]
      }
     ],
     "prompt_number": 52
    },
    {
     "cell_type": "code",
     "collapsed": false,
     "input": [
      "def create_men_list():\n",
      "    \"\"\"\n",
      "    This function should return a list of size 4, where each\n",
      "    element in the list is a man from the above example\n",
      "    \n",
      "    YOUR CODE HERE\n",
      "    \"\"\"\n",
      "    \n",
      "    return [Person('M', 1, [1,2,3,4]), Person('M', 2, [1,4,3,2]),\n",
      "            Person('M', 3, [1,3,2,4]), Person('M', 4, [1,2,3,4])]"
     ],
     "language": "python",
     "metadata": {},
     "outputs": [],
     "prompt_number": 53
    },
    {
     "cell_type": "code",
     "collapsed": false,
     "input": [
      "def create_women_list():\n",
      "    \"\"\"\n",
      "    This function should return a list of size 4, where each\n",
      "    element in the list is a woman from the above example\n",
      "    \n",
      "    YOUR CODE HERE\n",
      "    \"\"\"\n",
      "    \n",
      "    return [Person('W', 1, [1,3,2,4]), Person('W', 2, [4,3,2,1]),\n",
      "            Person('W', 3, [2,3,1,4]), Person('W', 4, [3,4,2,1])]"
     ],
     "language": "python",
     "metadata": {},
     "outputs": [],
     "prompt_number": 54
    },
    {
     "cell_type": "code",
     "collapsed": false,
     "input": [
      "def check_q1():\n",
      "    \"\"\"\n",
      "    This function checks if the functions you created above\n",
      "    returns two lists of the form we expect, so that you can\n",
      "    move on to the next question. It does not check if the \n",
      "    preference list for each Person is correct, so be careful!\n",
      "    \"\"\"\n",
      "    \n",
      "    men = create_men_list()\n",
      "    women = create_women_list()\n",
      "    if len(men) == 4 and len(women) == 4 and\\\n",
      "       all(isinstance(m, Person) for m in men) and\\\n",
      "       all(isinstance(w, Person) for w in women):\n",
      "        print \"Your lists have the right syntax.\"\n",
      "    else:\n",
      "        print \"Your lists are incorrect. Please doublecheck.\""
     ],
     "language": "python",
     "metadata": {},
     "outputs": [],
     "prompt_number": 55
    },
    {
     "cell_type": "code",
     "collapsed": false,
     "input": [
      "check_q1()"
     ],
     "language": "python",
     "metadata": {},
     "outputs": [
      {
       "output_type": "stream",
       "stream": "stdout",
       "text": [
        "Your lists have the right syntax.\n"
       ]
      }
     ],
     "prompt_number": 56
    },
    {
     "cell_type": "markdown",
     "metadata": {},
     "source": [
      "<a id='q2'></a>\n",
      "## Question 2: What if women make the first move?"
     ]
    },
    {
     "cell_type": "markdown",
     "metadata": {},
     "source": [
      "Below you will find a simple implementation of the traditional Propose & Reject algorithm, where the men propose first. The final pairing is male-optimal, as we learn in lecture.\n",
      "\n",
      "We'll use the example on page 1 of Note 4, in case you didn't complete Question 1. That said, you should be able to change it to any example you like, including the example on page 6 of Note 4 that you implemented above."
     ]
    },
    {
     "cell_type": "code",
     "collapsed": false,
     "input": [
      "# Gets the lists of men and women\n",
      "men = create_example_men_list()\n",
      "women = create_example_women_list()"
     ],
     "language": "python",
     "metadata": {},
     "outputs": [],
     "prompt_number": 57
    },
    {
     "cell_type": "code",
     "collapsed": false,
     "input": [
      "def men_propose():\n",
      "    \"\"\"\n",
      "    Runs the traditional Propose & Reject algorithm where men propose\n",
      "    Returns the number of days the algorithm takes to complete\n",
      "    \"\"\"\n",
      "\n",
      "    num_days = 0\n",
      "    has_rejection = True\n",
      "    while has_rejection:\n",
      "        has_rejection = False\n",
      "        proposals = {}\n",
      "\n",
      "        # initialization\n",
      "        for woman in women:\n",
      "            proposals[woman] = []\n",
      "       \n",
      "        # propose phase\n",
      "        for man in men:\n",
      "            ideal_woman = man.get_highest_ranked_person()\n",
      "            proposals[ideal_woman].append(man)\n",
      "       \n",
      "        # decision phase\n",
      "        for woman in women:\n",
      "            if len(proposals[woman]) == 0:\n",
      "                continue\n",
      "            best = proposals[woman][0]\n",
      "            for proposer in proposals[woman]:\n",
      "                if woman.get_rank(proposer) > woman.get_rank(best):\n",
      "                    proposer.remove_from_list(woman) # reject\n",
      "                    has_rejection = True\n",
      "                if woman.get_rank(proposer) < woman.get_rank(best):\n",
      "                    best.remove_from_list(woman) # reject\n",
      "                    has_rejection = True\n",
      "                    best = proposer\n",
      "            woman.maybe(best)\n",
      "        num_days += 1\n",
      "    return num_days"
     ],
     "language": "python",
     "metadata": {},
     "outputs": [],
     "prompt_number": 58
    },
    {
     "cell_type": "code",
     "collapsed": false,
     "input": [
      "def print_men_pairing():\n",
      "    \"\"\"\n",
      "    Prints out the final pairings where men make the proposal\n",
      "    \"\"\"\n",
      "\n",
      "    print \"Final pairings:\"\n",
      "    print \"(Man, Woman)\"\n",
      "    for man in men:\n",
      "        print \"(%s, %s)\" % (man.num, man.get_partner().num)"
     ],
     "language": "python",
     "metadata": {},
     "outputs": [],
     "prompt_number": 59
    },
    {
     "cell_type": "code",
     "collapsed": false,
     "input": [
      "def get_men_pairing():\n",
      "    \"\"\"\n",
      "    Retrieves the final pairings where men make the proposal\n",
      "    \"\"\"\n",
      "    \n",
      "    pairings = []\n",
      "    for man in men:\n",
      "        pairings.append((man.num, man.get_partner().num))\n",
      "    return pairings"
     ],
     "language": "python",
     "metadata": {},
     "outputs": [],
     "prompt_number": 60
    },
    {
     "cell_type": "code",
     "collapsed": false,
     "input": [
      "men_propose()\n",
      "men_pairing = get_men_pairing()\n",
      "print_men_pairing()"
     ],
     "language": "python",
     "metadata": {},
     "outputs": [
      {
       "output_type": "stream",
       "stream": "stdout",
       "text": [
        "Final pairings:\n",
        "(Man, Woman)\n",
        "(1, 1)\n",
        "(2, 2)\n",
        "(3, 3)\n"
       ]
      }
     ],
     "prompt_number": 61
    },
    {
     "cell_type": "markdown",
     "metadata": {},
     "source": [
      "**It's your turn**. Use the code above and make any necessary changes, create a new version to run for the case where women propose first. Please do not hardcode the result, as we'll run your implementation on other instances.\n",
      "\n",
      "*Hint*: A good place to start would be to copy the entire body of `men_propose()` function and reverse the role of men and women. Make sure you understand each part of the algorithm instead of blindly changing the variables' names, however."
     ]
    },
    {
     "cell_type": "code",
     "collapsed": false,
     "input": [
      "# Gets the lists of men and women\n",
      "men = create_example_men_list()\n",
      "women = create_example_women_list()"
     ],
     "language": "python",
     "metadata": {},
     "outputs": [],
     "prompt_number": 62
    },
    {
     "cell_type": "code",
     "collapsed": false,
     "input": [
      "def women_propose():\n",
      "    \"\"\"\n",
      "    Runs the flipped Propose & Reject algorithm where women propose\n",
      "    Returns the number of days the algorithm takes to complete\n",
      "    \n",
      "    YOUR CODE HERE\n",
      "    \"\"\"\n",
      "\n",
      "    num_days = 0\n",
      "    has_rejection = True\n",
      "    while has_rejection:\n",
      "        has_rejection = False\n",
      "        proposals = {}\n",
      "\n",
      "        # initialization\n",
      "        for man in men:\n",
      "            proposals[man] = []\n",
      "       \n",
      "        # propose phase\n",
      "        for woman in women:\n",
      "            ideal_man = woman.get_highest_ranked_person()\n",
      "            proposals[ideal_man].append(woman)\n",
      "       \n",
      "        # decision phase\n",
      "        for man in men:\n",
      "            if len(proposals[man]) == 0:\n",
      "                continue\n",
      "            best = proposals[man][0]\n",
      "            for proposer in proposals[man]:\n",
      "                if man.get_rank(proposer) > man.get_rank(best):\n",
      "                    proposer.remove_from_list(man) # reject\n",
      "                    has_rejection = True\n",
      "                if man.get_rank(proposer) < man.get_rank(best):\n",
      "                    best.remove_from_list(man) # reject\n",
      "                    has_rejection = True\n",
      "                    best = proposer\n",
      "            man.maybe(best)\n",
      "        num_days += 1\n",
      "    return num_days"
     ],
     "language": "python",
     "metadata": {},
     "outputs": [],
     "prompt_number": 63
    },
    {
     "cell_type": "code",
     "collapsed": false,
     "input": [
      "def print_women_pairing():\n",
      "    \"\"\"\n",
      "    Prints out the final pairing where women make the proposal\n",
      "    \"\"\"\n",
      "\n",
      "    print \"Final pairings:\"\n",
      "    print \"(Man, Woman)\"\n",
      "    for woman in women:\n",
      "        print \"(%s, %s)\" % (woman.get_partner().num, woman.num)"
     ],
     "language": "python",
     "metadata": {},
     "outputs": [],
     "prompt_number": 64
    },
    {
     "cell_type": "code",
     "collapsed": false,
     "input": [
      "def get_women_pairing():\n",
      "    \"\"\"\n",
      "    Retrieves the final pairing where women make the proposal\n",
      "    \"\"\"\n",
      "\n",
      "    pairings = []\n",
      "    for woman in women:\n",
      "        pairings.append((woman.get_partner().num, woman.num))\n",
      "    return sorted(pairings)  # sort by man's ID"
     ],
     "language": "python",
     "metadata": {},
     "outputs": [],
     "prompt_number": 65
    },
    {
     "cell_type": "markdown",
     "metadata": {},
     "source": [
      "Test your implementation below."
     ]
    },
    {
     "cell_type": "code",
     "collapsed": false,
     "input": [
      "women_propose()\n",
      "women_pairing = get_women_pairing()\n",
      "print_women_pairing()\n",
      "if women_pairing == [(1, 2), (2, 1), (3, 3)]:\n",
      "    print \"\\nCorrect implementation, nice job!\"\n",
      "else:\n",
      "    print \"\\nSomething is wrong with your implementation.\""
     ],
     "language": "python",
     "metadata": {},
     "outputs": [
      {
       "output_type": "stream",
       "stream": "stdout",
       "text": [
        "Final pairings:\n",
        "(Man, Woman)\n",
        "(2, 1)\n",
        "(1, 2)\n",
        "(3, 3)\n",
        "\n",
        "Correct implementation, nice job!\n"
       ]
      }
     ],
     "prompt_number": 66
    },
    {
     "cell_type": "markdown",
     "metadata": {},
     "source": [
      "<a id='q3'></a>\n",
      "## Question 3: Same final pairings"
     ]
    },
    {
     "cell_type": "markdown",
     "metadata": {},
     "source": [
      "This question will focus on exploring what happens when we randomize preferences. Below, you will find an implementation of the function `create_random_lists`, which allows you to create a random set of preferences. This function will be used to explore some questions about a typical case of the propose-and-reject algorithm."
     ]
    },
    {
     "cell_type": "code",
     "collapsed": false,
     "input": [
      "def create_random_lists(n=3):\n",
      "    \"\"\"\n",
      "    Create random lists of men and women with random preferences\n",
      "    \n",
      "    n -- the number of men/women, default to 3\n",
      "    \"\"\"\n",
      "\n",
      "    import random\n",
      "    people = list(range(1, n+1))\n",
      "    men = [Person('M', i, random.sample(people, n)) for i in range(1, n+1)]\n",
      "    women = [Person('W', i, random.sample(people, n)) for i in range(1, n+1)]\n",
      "    return men, women"
     ],
     "language": "python",
     "metadata": {},
     "outputs": [],
     "prompt_number": 67
    },
    {
     "cell_type": "markdown",
     "metadata": {},
     "source": [
      "If you run the cell below many times (repeated Ctrl+Enter), you will see that it prints different preference lists each time!"
     ]
    },
    {
     "cell_type": "code",
     "collapsed": false,
     "input": [
      "men, women = create_random_lists(4)\n",
      "print ' | '.join(str(m) for m in men)\n",
      "print ' | '.join(str(w) for w in women)"
     ],
     "language": "python",
     "metadata": {},
     "outputs": [
      {
       "output_type": "stream",
       "stream": "stdout",
       "text": [
        "M,1,[1, 4, 2, 3],None | M,2,[1, 2, 3, 4],None | M,3,[1, 3, 4, 2],None | M,4,[2, 3, 4, 1],None\n",
        "W,1,[2, 1, 3, 4],None | W,2,[3, 4, 2, 1],None | W,3,[4, 2, 3, 1],None | W,4,[4, 2, 1, 3],None\n"
       ]
      }
     ],
     "prompt_number": 68
    },
    {
     "cell_type": "markdown",
     "metadata": {},
     "source": [
      "We're interested in how often the men-propose and women-propose algorithms return the same pairing. Complete the following function that generates a random list of preferences for men and women, then runs each variant of the propose-and-reject algorithm on that set of preferences. Make sure to use the same set of preferences for each iteration of the algorithm.\n",
      "\n",
      "Follow the comments to carry out what you need to do for this question."
     ]
    },
    {
     "cell_type": "code",
     "collapsed": false,
     "input": [
      "def same_final_pairing(n=100, num_people=4):\n",
      "    \"\"\"\n",
      "    Runs the propose-and-reject on random preference lists n times,\n",
      "    and report the number of times men-propose and women-propose\n",
      "    give the same final pairing\n",
      "    \n",
      "    n -- number of iterations\n",
      "    num_people -- how large our instance is\n",
      "    \n",
      "    Please note that there are four (4) locations where you have to fill in\n",
      "    to make the function complete. At each location, you need at most two\n",
      "    lines of code.\n",
      "    \"\"\"\n",
      "\n",
      "    # Using global variables is highly discouraged in Python\n",
      "    # and programming in general, but for syntax simplicity,\n",
      "    # we'll be using it in this lab\n",
      "    global men, women\n",
      "    count = 0\n",
      "\n",
      "    # Iterate n times\n",
      "    for _ in range(n):\n",
      "        # Generates random list of preferences\n",
      "        # YOUR CODE HERE\n",
      "        men, women = create_random_lists(num_people)\n",
      "\n",
      "        # Runs the men-propose algorithm\n",
      "        # YOUR CODE HERE\n",
      "        men_propose()\n",
      "        men_pairing = get_men_pairing()\n",
      "    \n",
      "        # Resets the algorithm by removing the current pairings\n",
      "        # Do NOT edit the four lines below, or your implementation will be buggy\n",
      "        for man in men:\n",
      "            man.reset()\n",
      "        for woman in women:\n",
      "            woman.reset()\n",
      "\n",
      "        # Runs the women-propose algorithm\n",
      "        # YOUR CODE HERE\n",
      "        women_propose()\n",
      "        women_pairing = get_women_pairing()\n",
      "        \n",
      "        # Compares the final pairings, increments the counter\n",
      "        # if the pairings are the same\n",
      "        # YOUR CODE HERE\n",
      "        if men_pairing == women_pairing:\n",
      "            count += 1\n",
      "    return count"
     ],
     "language": "python",
     "metadata": {},
     "outputs": [],
     "prompt_number": 69
    },
    {
     "cell_type": "markdown",
     "metadata": {},
     "source": [
      "Test your implementation below. How often is the male-optimal stable pairing the same as the female-optimal stable pairing? Does that frequency change as we change the value of `n`?\n",
      "\n",
      "Note that there is no one correct answer here - however, you should be sure to back up your statements with numbers (for instance, how many times you've seen each at some value of `n`)."
     ]
    },
    {
     "cell_type": "code",
     "collapsed": false,
     "input": [
      "same_final_pairing()"
     ],
     "language": "python",
     "metadata": {},
     "outputs": [
      {
       "metadata": {},
       "output_type": "pyout",
       "prompt_number": 70,
       "text": [
        "56"
       ]
      }
     ],
     "prompt_number": 70
    },
    {
     "cell_type": "markdown",
     "metadata": {},
     "source": [
      " "
     ]
    },
    {
     "cell_type": "markdown",
     "metadata": {},
     "source": [
      "<a id='q4'></a>\n",
      "## Question 4: How many days does the algorithm take?"
     ]
    },
    {
     "cell_type": "markdown",
     "metadata": {},
     "source": [
      "Finally, we're going to explore how long the men-propose algorithm takes as a function of `n`. Note that the function returns how many days it takes, so we can get the number of days taken with `num_days = men_propose()`."
     ]
    },
    {
     "cell_type": "markdown",
     "metadata": {},
     "source": [
      "Write a function that returns how many days it takes for the Propose and Reject algorithm, where women make the proposal, to arrive at its stable solution with a random preference list."
     ]
    },
    {
     "cell_type": "code",
     "collapsed": false,
     "input": [
      "def how_long(num_people=10):\n",
      "    \"\"\"\n",
      "    Returns how many days the female-optimal algorithm takes\n",
      "    to produce the final pairings for randomly-generated preference lists\n",
      "    \"\"\"\n",
      "\n",
      "    global men, women\n",
      "    \n",
      "    # YOUR CODE HERE\n",
      "    men, women = create_random_lists(num_people)\n",
      "    return women_propose()"
     ],
     "language": "python",
     "metadata": {},
     "outputs": [],
     "prompt_number": 72
    },
    {
     "cell_type": "code",
     "collapsed": false,
     "input": [
      "how_long(200)"
     ],
     "language": "python",
     "metadata": {},
     "outputs": [
      {
       "metadata": {},
       "output_type": "pyout",
       "prompt_number": 73,
       "text": [
        "246"
       ]
      }
     ],
     "prompt_number": 73
    },
    {
     "cell_type": "markdown",
     "metadata": {},
     "source": [
      "In lecture, you learned that the algorithm must terminate after at most $n^2$ days (you will soon prove a stricter bound in another problem in this homework).\n",
      "\n",
      "Try it on some inputs of different size. How quickly does the number of days grow with the input? Does it grow linearly (at the same rate as n - maybe twice as fast or half as fast), quadratically, logarithmically? If you can't tell, try graphing some outputs by hand. You do not have to submit any graph, but it certainly would help defend your claim."
     ]
    },
    {
     "cell_type": "code",
     "collapsed": false,
     "input": [
      "import matplotlib.pyplot as plt\n",
      "import numpy as np\n",
      "%matplotlib inline\n",
      "\n",
      "plt.plot(xrange(2, 200), map(how_long, xrange(2, 200)), '.')\n",
      "plt.xlabel('n -- number of people')\n",
      "plt.ylabel('how many days')\n",
      "plt.title(\"How many days the female-optimal algorithm takes as a function of n\")\n",
      "plt.show()"
     ],
     "language": "python",
     "metadata": {},
     "outputs": [
      {
       "metadata": {},
       "output_type": "display_data",
       "png": "[encoded data removed]",
       "text": [
        "<matplotlib.figure.Figure at 0x9c7242c>"
       ]
      }
     ],
     "prompt_number": 27
    },
    {
     "cell_type": "markdown",
     "metadata": {},
     "source": [
      "**Congratulations**! You are done with Virtual Lab 3.\n",
      "\n",
      "Don't forget to convert this notebook to a pdf document, merge it with your written homework, and submit both the pdf and the code (as a zip file) on glookup.\n",
      "\n",
      "**Reminder**: late submissions are NOT accepted. If you have any technical difficulty,\n",
      "resolve it early on or use the provided VM."
     ]
    },
    {
     "cell_type": "markdown",
     "metadata": {},
     "source": [
      "**Acknowledgment**: The Person class was originally written by Mike Ambrose, one of our readers this semester."
     ]
    }
   ],
   "metadata": {}
  }
 ]
}