{
 "metadata": {
  "name": "",
  "signature": "sha256:0c053e674e51bf382bbce32bb7c432ee630b4c0b47fefe4ce0e3ab28789f6ae0"
 },
 "nbformat": 3,
 "nbformat_minor": 0,
 "worksheets": [
  {
   "cells": [
    {
     "cell_type": "markdown",
     "metadata": {},
     "source": [
      "# Virtual Lab 9: Intro to Randomness (cont.)\n",
      "\n",
      "### EECS 70: Discrete Mathematics and Probability Theory, Fall 2014\n",
      "\n",
      "#### Due Date: Monday, November 3rd, 2014 at 12pm\n"
     ]
    },
    {
     "cell_type": "markdown",
     "metadata": {},
     "source": [
      "**Name**: \n",
      "\n",
      "**Login**: cs70-"
     ]
    },
    {
     "cell_type": "markdown",
     "metadata": {},
     "source": [
      "**Instructions**:\n",
      "\n",
      "* **Please fill out your name and login above.**\n",
      "* **Please leave your answers in the Markdown cells, marked with `\"YOUR COMMENTS HERE\"`.**\n",
      "* **Complete this lab by filling in all of the required functions, marked with `\"YOUR CODE HERE\"`.**\n",
      "* If you plan to use Python, make sure to go over **Tutorial 1: Introduction to Python and IPython** and **Tutorial 2: Plotting in Python with Matplotlib** before attempting the lab.\n",
      "* Make sure you run every code cell one after another, i.e. don't skip any cell. A shortcut for doing this in the notebook is Shift+Enter. When you finish, choose 'Cell > Run All' to test your code one last time all at once.\n",
      "* Most of the solution requires no more than a few lines each.\n",
      "* Please do not hardcode the result or change any function without the `\"YOUR CODE HERE\"` mark.\n",
      "* Questions? Bring them to our Office Hour and/or ask on Piazza.\n",
      "* Good luck, and have fun!\n"
     ]
    },
    {
     "cell_type": "markdown",
     "metadata": {},
     "source": [
      "## Table of Contents\n",
      "\n",
      "The number inside parentheses is the number of functions or code blocks you are required to fill out for each question. Always make sure to double check before you submit.\n",
      "\n",
      "* [Introduction](#intro)\n",
      "* [Part (a): Random Walk](#q1) (3)\n",
      "* [Part (b): Normalized Random Walk](#q2) (1)\n",
      "* [Part (c): q-curve](#q3) (2)\n",
      "* [Part (d): Multiple q-curves](#q4) (1)\n",
      "* [Part (e): Quartile Values](#q5) (1)\n",
      "* [Part (f): Quartile Gap](#q6) (1)\n",
      "* [Part (g): Scale the Gap](#q7) (2)\n",
      "* [Part (h): Monty Hall](#q8) (1)\n"
     ]
    },
    {
     "cell_type": "code",
     "collapsed": false,
     "input": [
      "%pylab inline"
     ],
     "language": "python",
     "metadata": {},
     "outputs": []
    },
    {
     "cell_type": "code",
     "collapsed": false,
     "input": [
      "from __future__ import division  # so that you don't have to worry about float division\n",
      "import random\n",
      "import math"
     ],
     "language": "python",
     "metadata": {},
     "outputs": []
    },
    {
     "cell_type": "markdown",
     "metadata": {},
     "source": [
      "<a id='intro'></a>\n",
      "## Introduction"
     ]
    },
    {
     "cell_type": "markdown",
     "metadata": {},
     "source": [
      "In this week's lab, we will continue our coin tossing example, but see it from a different perspective.\n",
      "Make sure you review the lab solution from Homework 8 before moving on.\n",
      "\n",
      "Below, you will find sample implementations for some of the functions from last week's lab."
     ]
    },
    {
     "cell_type": "code",
     "collapsed": false,
     "input": [
      "def count_heads(k):\n",
      "    \"\"\"\n",
      "    Counts the number of heads in num_flips\n",
      "    \"\"\"\n",
      "\n",
      "    return sum([round(random.random()) for _ in range(k)])"
     ],
     "language": "python",
     "metadata": {},
     "outputs": []
    },
    {
     "cell_type": "code",
     "collapsed": false,
     "input": [
      "def count_heads_in_runs(k, n):\n",
      "    \"\"\"\n",
      "    Returns a list of length n, where each element is the number\n",
      "    of heads in k flips.\n",
      "    \"\"\"\n",
      "    \n",
      "    return [count_heads(k) for _ in range(n)]"
     ],
     "language": "python",
     "metadata": {},
     "outputs": []
    },
    {
     "cell_type": "code",
     "collapsed": false,
     "input": [
      "def scaled_run(k, n):\n",
      "    \"\"\"\n",
      "    Shifts the center of the horizontal axis to the origin by subtracting \n",
      "    half the number of tosses from the number of heads\n",
      "    \"\"\"\n",
      "\n",
      "    return [count_heads(k) - k//2 for _ in range(n)]"
     ],
     "language": "python",
     "metadata": {},
     "outputs": []
    },
    {
     "cell_type": "markdown",
     "metadata": {},
     "source": [
      "<a id='q1'></a>\n",
      "## Part (a): Random Walk"
     ]
    },
    {
     "cell_type": "markdown",
     "metadata": {},
     "source": [
      "Let's change gears a little bit from last time. Consider the following visualization of a sequence of coin flips. We start at zero. For every head we get, we add one. For every tail we get, we subtract one. \n",
      "\n",
      "Hence, a sequence of $1000$ coin tosses would be a path that starts at (0,0), and then goes to either $(1,1)$ or $(1,-1)$, and continues wandering till $(1000,y)$ somewhere. Plot $20$ such paths on the same plot based on randomly flipped coins. Each sample path should have $1000$ coin tosses.\n",
      "\n",
      "What do you observe about the paths?\n",
      "\n",
      "Hint: First, implement the function `rand_one`, which generates $1$ and $-1$ randomly with roughly $50\\%$ probability each. Then, implement the `path(n)` function, which returns a list of $n$ elements that starts at $0$ and every element thereafter is either one more or one less than the previous one. In Python, you can access the last element in a list with the syntax `lst[-1]`."
     ]
    },
    {
     "cell_type": "code",
     "collapsed": false,
     "input": [
      "def rand_one():\n",
      "    \"\"\"\n",
      "    Returns -1 roughly one half of a time, and 1 the other half\n",
      "    \n",
      "    YOUR CODE HERE\n",
      "    \"\"\"\n",
      "\n",
      "    "
     ],
     "language": "python",
     "metadata": {},
     "outputs": []
    },
    {
     "cell_type": "code",
     "collapsed": false,
     "input": [
      "# Test your implementation by repeatedly running this code cell.\n",
      "# You should see that the value fluctuates between -1 and 1.\n",
      "\n",
      "rand_one()"
     ],
     "language": "python",
     "metadata": {},
     "outputs": []
    },
    {
     "cell_type": "code",
     "collapsed": false,
     "input": [
      "def path(n):\n",
      "    \"\"\"\n",
      "    An n-step random walk that starts at 0\n",
      "    \n",
      "    YOUR CODE HERE\n",
      "    \"\"\"\n",
      "    \n",
      "    "
     ],
     "language": "python",
     "metadata": {},
     "outputs": []
    },
    {
     "cell_type": "code",
     "collapsed": false,
     "input": [
      "def partA():\n",
      "    \"\"\"\n",
      "    YOUR CODE HERE\n",
      "    \"\"\"\n",
      "\n",
      "    "
     ],
     "language": "python",
     "metadata": {},
     "outputs": []
    },
    {
     "cell_type": "code",
     "collapsed": false,
     "input": [
      "partA()"
     ],
     "language": "python",
     "metadata": {},
     "outputs": []
    },
    {
     "cell_type": "markdown",
     "metadata": {},
     "source": [
      "YOUR COMMENTS HERE:\n",
      "\n"
     ]
    },
    {
     "cell_type": "markdown",
     "metadata": {},
     "source": [
      "<a id='q2'></a>\n",
      "## Part (b): Normalized Random Walk"
     ]
    },
    {
     "cell_type": "markdown",
     "metadata": {},
     "source": [
      "Notice that the histograms you were plotting earlier were\n",
      "effectively looking at vertical slices in this picture and asking how many\n",
      "sample paths were crossing through a particular y coordinate. (If we\n",
      "are looking at $k$ tosses, then having exactly $h$ heads is the same\n",
      "as this sample path crossing through $(k,h-(k-h)) = (k,2h-k)$) \n",
      "\n",
      "Now, let's see what the rescalings we were doing correspond to. The\n",
      "common-set-of-units scaling is what the previous part corresponded\n",
      "to. How would you change the scaling to correspond to the normalized\n",
      "set of units in part (e)? (in this plot, a sample path that consists of all heads\n",
      "should basically be a straight line that stays at the upper-limit --- say\n",
      "$1$. And a sample path that consists of all tails should be a straight\n",
      "line that stays at the lower limit -- say $-1$). \n",
      "\n",
      "Give this new scaling (it will depend on $k$ --- so it will change the\n",
      "visual shape of a path) and plot $100$ sample paths of $1000$ coin\n",
      "tosses each.\n",
      "\n",
      "Comment on what this suggests relative to the earlier plots."
     ]
    },
    {
     "cell_type": "code",
     "collapsed": false,
     "input": [
      "def partB():\n",
      "    \"\"\"\n",
      "    YOUR CODE HERE\n",
      "    \"\"\"\n",
      "\n",
      "    "
     ],
     "language": "python",
     "metadata": {},
     "outputs": []
    },
    {
     "cell_type": "code",
     "collapsed": false,
     "input": [
      "partB()"
     ],
     "language": "python",
     "metadata": {},
     "outputs": []
    },
    {
     "cell_type": "markdown",
     "metadata": {},
     "source": [
      "YOUR COMMENTS HERE:\n",
      "\n"
     ]
    },
    {
     "cell_type": "markdown",
     "metadata": {},
     "source": [
      "<a id='q3'></a>\n",
      "## Part (c): q-curve"
     ]
    },
    {
     "cell_type": "markdown",
     "metadata": {},
     "source": [
      "Shifting gears one more time, we are now going to look at\n",
      "the same basic experiment --- tossing a fair coin $k$ times --- in a\n",
      "third way. Let $R$ for a given run be the ratio of heads.\n",
      "\n",
      "Fix $k=1000$ to be the number of coin tosses in a run. Let $m = 1000$ be\n",
      "the number of runs. Plot how often $R \\leq q$ as a function of\n",
      "$q$. The vertical axis should be (in linear scale) the fraction of the\n",
      "$m$ runs in which $R \\leq q$, while the horizontal scale should have\n",
      "$q$ ranging from $0$ to $1$.\n",
      "\n",
      "*Hint*: Implement the function `q_curve`, which returns the\n",
      "sorted fraction of heads for each of the $m$ runs. You may find Python's built-in\n",
      "`sorted` function helpful here."
     ]
    },
    {
     "cell_type": "code",
     "collapsed": false,
     "input": [
      "def q_curve(k, m):\n",
      "    \"\"\"\n",
      "    Returns the sorted fraction R <= q for each of the m runs.\n",
      "    \n",
      "    YOUR CODE HERE\n",
      "    \"\"\"\n",
      "\n",
      "    "
     ],
     "language": "python",
     "metadata": {},
     "outputs": []
    },
    {
     "cell_type": "code",
     "collapsed": false,
     "input": [
      "# YOUR CODE HERE\n",
      "# Hint: You can't use range with floats in Python. In that case,\n",
      "# our good old friend np.linspace will help.\n",
      "\n",
      "def partC():\n",
      "    \"\"\"\n",
      "    YOUR CODE HERE\n",
      "    \"\"\"\n",
      "\n",
      "    "
     ],
     "language": "python",
     "metadata": {},
     "outputs": []
    },
    {
     "cell_type": "code",
     "collapsed": false,
     "input": [
      "partC()"
     ],
     "language": "python",
     "metadata": {},
     "outputs": []
    },
    {
     "cell_type": "markdown",
     "metadata": {},
     "source": [
      "YOUR COMMENTS HERE:\n",
      "\n"
     ]
    },
    {
     "cell_type": "markdown",
     "metadata": {},
     "source": [
      "<a id='q4'></a>\n",
      "## Part (d): Multiple q-curves"
     ]
    },
    {
     "cell_type": "markdown",
     "metadata": {},
     "source": [
      "Repeat the previous part for different values of $k$ and\n",
      "put them all on the same plot. Try $k=2,10,50,100,500,1000,10000$. \n",
      "\n",
      "What do you see? Is this consonant with what you had observed in earlier plots?"
     ]
    },
    {
     "cell_type": "code",
     "collapsed": false,
     "input": [
      "ks = [2, 10, 50, 100, 500, 1000, 10000]"
     ],
     "language": "python",
     "metadata": {},
     "outputs": []
    },
    {
     "cell_type": "code",
     "collapsed": false,
     "input": [
      "# YOUR CODE HERE\n",
      "\n",
      "def partD():\n",
      "    \"\"\"\n",
      "    YOUR CODE HERE\n",
      "    \"\"\"\n",
      "\n",
      "    "
     ],
     "language": "python",
     "metadata": {},
     "outputs": []
    },
    {
     "cell_type": "code",
     "collapsed": false,
     "input": [
      "partD()"
     ],
     "language": "python",
     "metadata": {},
     "outputs": []
    },
    {
     "cell_type": "markdown",
     "metadata": {},
     "source": [
      "YOUR COMMENTS HERE:\n",
      "\n"
     ]
    },
    {
     "cell_type": "markdown",
     "metadata": {},
     "source": [
      "<a id='q5'></a>\n",
      "## Part (e): Quartile Values"
     ]
    },
    {
     "cell_type": "markdown",
     "metadata": {},
     "source": [
      "Now, think about rescaling the plots in the previous\n",
      "parts to see if there is something common about this shape. For each\n",
      "$k$, read off the $q$ values where the curves seem to\n",
      "cross horizontal lines at $0.25, 0.5, 0.75$. Call these\n",
      "the quartile markers. Compute these $q$s for your experiment. Plot them as a\n",
      "function of $k$. What do you observe?"
     ]
    },
    {
     "cell_type": "code",
     "collapsed": false,
     "input": [
      "# YOUR CODE HERE\n",
      "\n",
      "def partE():\n",
      "    \"\"\"\n",
      "    YOUR CODE HERE\n",
      "    \"\"\"\n",
      "\n",
      "    "
     ],
     "language": "python",
     "metadata": {},
     "outputs": []
    },
    {
     "cell_type": "code",
     "collapsed": false,
     "input": [
      "partE()"
     ],
     "language": "python",
     "metadata": {},
     "outputs": []
    },
    {
     "cell_type": "markdown",
     "metadata": {},
     "source": [
      "YOUR COMMENTS HERE:\n",
      "\n"
     ]
    },
    {
     "cell_type": "markdown",
     "metadata": {},
     "source": [
      "<a id='q6'></a>\n",
      "## Part (f): Quartile Gap"
     ]
    },
    {
     "cell_type": "markdown",
     "metadata": {},
     "source": [
      "Notice that the gap between the $0.75$ marker and the\n",
      "$0.25$ marker is getting smaller as $k$ gets larger. Notice also that\n",
      "the $0.5$ marker seems to be sticking around $q=\\frac{1}{2}$. As a\n",
      "scientific problem, suppose you wanted to discover how indeed this was\n",
      "scaling with $k$. \n",
      "\n",
      "Plot the distance between the $0.25$ and $0.75$ marker as a function of\n",
      "$k$ as a scatter plot. Try all of the traditional axes combinations:\n",
      "linear-linear, linear-log, log-linear, and log-log. Which one seems to\n",
      "offer some insight?\n",
      "\n",
      "*Hint*: In Python, the plotting functions with the aforementioned axes\n",
      " combinations are `plt.plot`, `plt.semilogx`, `plt.semilogy`, and `plt.loglog`."
     ]
    },
    {
     "cell_type": "code",
     "collapsed": false,
     "input": [
      "def partF():\n",
      "    \"\"\"\n",
      "    YOUR CODE HERE\n",
      "    \"\"\"\n",
      "\n",
      "    "
     ],
     "language": "python",
     "metadata": {},
     "outputs": []
    },
    {
     "cell_type": "code",
     "collapsed": false,
     "input": [
      "partF()"
     ],
     "language": "python",
     "metadata": {},
     "outputs": []
    },
    {
     "cell_type": "markdown",
     "metadata": {},
     "source": [
      "YOUR COMMENTS HERE:\n",
      "\n"
     ]
    },
    {
     "cell_type": "markdown",
     "metadata": {},
     "source": [
      "<a id='q7'></a>\n",
      "## Part (g): Scale the Gap"
     ]
    },
    {
     "cell_type": "markdown",
     "metadata": {},
     "source": [
      "Based on what you observed in the previous set of plots,\n",
      "conjecture a scaling rule that lets you calculate the gap between the\n",
      "$0.75$ marker and the $0.25$ marker as a function of $k$ for the fair\n",
      "coin tosses case. Explain your derivation in your writeup.\n",
      "\n",
      "Use this rule to rescale the horizontal axis of the plots from three\n",
      "parts ago. What do you now observe about the curves for different\n",
      "values of $k$? By construction, they should be very close to each\n",
      "other in terms of where they are crossing $0.25, 0.5, 0.75$, but what\n",
      "about elsewhere?\n",
      "\n",
      "*Hint*: Implement the function `q_curve_norm`, which does the same as\n",
      "`q_curve`, except now every point is normalized using your scaling rule.\n",
      "Think about the previous part and how it can help you come up with a scaling rule.\n",
      " \n",
      "*This is a challenging question. Don't worry if you get stuck here.*"
     ]
    },
    {
     "cell_type": "code",
     "collapsed": false,
     "input": [
      "def q_curve_norm(k, m):\n",
      "    \"\"\"\n",
      "    Does the same as q_curve, except now every point is \n",
      "    normalized using your scaling rule.\n",
      "    \n",
      "    YOUR CODE HERE\n",
      "    \"\"\"\n",
      "\n",
      "    "
     ],
     "language": "python",
     "metadata": {},
     "outputs": []
    },
    {
     "cell_type": "code",
     "collapsed": false,
     "input": [
      "def partG():\n",
      "    \"\"\"\n",
      "    YOUR CODE HERE\n",
      "    \"\"\"\n",
      "\n",
      "    "
     ],
     "language": "python",
     "metadata": {},
     "outputs": []
    },
    {
     "cell_type": "code",
     "collapsed": false,
     "input": [
      "partG()"
     ],
     "language": "python",
     "metadata": {},
     "outputs": []
    },
    {
     "cell_type": "markdown",
     "metadata": {},
     "source": [
      "YOUR COMMENTS HERE:\n",
      "\n"
     ]
    },
    {
     "cell_type": "markdown",
     "metadata": {},
     "source": [
      "<a id='q8'></a>\n",
      "## Part (h): Monty Hall"
     ]
    },
    {
     "cell_type": "markdown",
     "metadata": {},
     "source": [
      "Below, you will find a simple implementation that simulates the Monty Hall problem. There are $n$ doors, and only one contains the prize. The contestant first picks a door, and then the host Monty will open all $n-2$ doors that don't contain the prize. The contestant is then given a choice to switch or stay with his current choice.\n",
      "\n",
      "Your task will be to simulate $10000$ trials of the Monty Hall problem. \n",
      "What is the probability of winning when the contestant switches? How about when he/she stays? \n",
      "Does it match your expectation and what was described in lecture and the lecture note? \n",
      "Please report the result in your answer.\n",
      "\n",
      "Finally, if you want to understand how the algorithm work in general, make sure you set the `verbose` parameter to True."
     ]
    },
    {
     "cell_type": "code",
     "collapsed": false,
     "input": [
      "def monty_hall(num_doors=3, switch=True, verbose=False):\n",
      "    \"\"\"\n",
      "    Carries out the game for one contestant.  If 'switch' is True,\n",
      "    the contestant will switch their chosen door when offered the chance.\n",
      "    Returns True if the simulated contestant won, False otherwise.\n",
      "    \n",
      "    Doors are numbered from 0 up to num_doors-1 (inclusive).\n",
      "    \"\"\"\n",
      "\n",
      "    # Randomly choose the door hiding the prize.\n",
      "    winning_door = random.randint(0, num_doors-1)\n",
      "    if verbose:\n",
      "        print '\\nPrize is behind door {}'.format(winning_door+1)\n",
      "\n",
      "    # The contestant picks a random door, too.\n",
      "    choice = random.randint(0, num_doors-1)\n",
      "    if verbose:\n",
      "        print 'Contestant chooses door {}'.format(choice+1)\n",
      "\n",
      "    # The host opens all but two doors.\n",
      "    closed_doors = list(range(num_doors))\n",
      "    while len(closed_doors) > 2:\n",
      "        # Randomly choose a door to open.\n",
      "        door_to_remove = random.choice(closed_doors)\n",
      "\n",
      "        # The host will never open the winning door, or the door\n",
      "        # chosen by the contestant.\n",
      "        if door_to_remove == winning_door or door_to_remove == choice:\n",
      "            continue\n",
      "\n",
      "        # Remove the door from the list of closed doors.\n",
      "        closed_doors.remove(door_to_remove)\n",
      "        if verbose:\n",
      "            print 'Host opens door {}'.format(door_to_remove+1)\n",
      "\n",
      "    # There are always two doors remaining.\n",
      "    assert len(closed_doors) == 2\n",
      "\n",
      "    # Does the contestant want to switch their choice?\n",
      "    if switch:\n",
      "        if verbose:\n",
      "            print 'Contestant switches from door {} '.format(choice+1)\n",
      "\n",
      "        # There are two closed doors left.  The contestant will never\n",
      "        # choose the same door, so we'll remove that door as a choice.\n",
      "        available_doors = list(closed_doors) # Make a copy of the list.\n",
      "        available_doors.remove(choice)\n",
      "\n",
      "        # Change choice to the only door available.\n",
      "        choice = available_doors.pop()\n",
      "        if verbose:\n",
      "            print 'to {}'.format(choice+1)\n",
      "\n",
      "    # Did the contestant win?\n",
      "    won = (choice == winning_door)\n",
      "    if verbose:\n",
      "        if won:\n",
      "            print 'Contestant WON'\n",
      "        else:\n",
      "            print 'Contestant LOST'\n",
      "    return won"
     ],
     "language": "python",
     "metadata": {},
     "outputs": []
    },
    {
     "cell_type": "code",
     "collapsed": false,
     "input": [
      "# Run this cell to understand the algorithm.\n",
      "# Change the parameters (especially the second one).\n",
      "\n",
      "monty_hall(3, True, verbose=True)"
     ],
     "language": "python",
     "metadata": {},
     "outputs": []
    },
    {
     "cell_type": "code",
     "collapsed": false,
     "input": [
      "num_trials = 10000\n",
      "print \"Simulating\", num_trials, \"trials.\"\n",
      "won_switch_count = 0\n",
      "\n",
      "# YOUR CODE HERE\n",
      "# Please make sure you don't set `verbose` to True, \n",
      "# otherwise the output is going to flood your notebook.\n",
      "\n",
      "\n",
      "\n",
      "# END YOUR CODE HERE\n",
      "\n",
      "print 'Switching won {0:5} times out of {1} ({2}% of the time)'.format(\\\n",
      "    won_switch_count, num_trials, (won_switch_count / num_trials * 100))\n",
      "print 'Staying won {0:5} times out of {1} ({2}% of the time)'.format(\\\n",
      "    num_trials-won_switch_count, num_trials, ((num_trials-won_switch_count) / num_trials * 100))"
     ],
     "language": "python",
     "metadata": {},
     "outputs": []
    },
    {
     "cell_type": "markdown",
     "metadata": {},
     "source": [
      "PASTE YOUR SIMULATION RESULT FROM ABOVE IN THIS CELL\n",
      "\n"
     ]
    },
    {
     "cell_type": "markdown",
     "metadata": {},
     "source": [
      "YOUR COMMENTS HERE:\n"
     ]
    },
    {
     "cell_type": "markdown",
     "metadata": {},
     "source": [
      "**Congratulations**! You are done with Virtual Lab 9.\n",
      "\n",
      "Don't forget to convert this notebook to a pdf document, merge it with your written homework, and submit both the pdf and the code (as a zip file) on glookup.\n",
      "\n",
      "**Reminder**: late submissions are NOT accepted. If you have any technical difficulty,\n",
      "resolve it early on or use the provided VM."
     ]
    }
   ],
   "metadata": {}
  }
 ]
}