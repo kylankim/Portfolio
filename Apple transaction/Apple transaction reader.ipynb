{
 "metadata": {
  "language_info": {
   "codemirror_mode": {
    "name": "ipython",
    "version": 3
   },
   "file_extension": ".py",
   "mimetype": "text/x-python",
   "name": "python",
   "nbconvert_exporter": "python",
   "pygments_lexer": "ipython3",
   "version": "3.8.1"
  },
  "orig_nbformat": 2,
  "kernelspec": {
   "name": "python381jvsc74a57bd0335859b7650a8185b200f498a77266c8d8a93f594ef9b4f6c689ea286881adc9",
   "display_name": "Python 3.8.1 32-bit"
  }
 },
 "nbformat": 4,
 "nbformat_minor": 2,
 "cells": [
  {
   "cell_type": "code",
   "execution_count": 4,
   "metadata": {},
   "outputs": [],
   "source": [
    "import numpy as np\n",
    "import pandas as pd\n",
    "import matplotlib.pyplot as plt\n",
    "import os"
   ]
  },
  {
   "source": [
    "os.getcwd()\n",
    "pd.set_option(\"max_rows\", 15)"
   ],
   "cell_type": "code",
   "metadata": {},
   "execution_count": 91,
   "outputs": []
  },
  {
   "cell_type": "code",
   "execution_count": 15,
   "metadata": {},
   "outputs": [
    {
     "output_type": "stream",
     "name": "stdout",
     "text": [
      "C:/Users/hyo05/Documents/Portfolio/Apple transaction/csv/Apple Card Transactions - April 2021.csv\n"
     ]
    }
   ],
   "source": [
    "# file and DB URL\r\n",
    "db_url = \"C:/Users/hyo05/Documents/Portfolio/Apple transaction/csv/\"\r\n",
    "file_url = db_url + \"Apple Card Transactions - April 2021.csv\"\r\n",
    "print(file_url)"
   ]
  },
  {
   "cell_type": "code",
   "execution_count": 139,
   "metadata": {},
   "outputs": [],
   "source": [
    "# Dictionary for Merchant and Category\n",
    "merchant_dict = {'Apple Services' : 'Entertainment', 'Extra Space Storage' : 'Utilities', 'Geico' : 'Automobile', 'City of LA Dot Pvb Pbp' : 'Automobile', 'Soundcloud' : 'Subscriptions', 'T-Mobile' : 'Utilities'}"
   ]
  },
  {
   "cell_type": "code",
   "execution_count": null,
   "metadata": {},
   "outputs": [],
   "source": [
    "def read_db():\n",
    "    "
   ]
  },
  {
   "cell_type": "code",
   "execution_count": 142,
   "metadata": {},
   "outputs": [
    {
     "output_type": "execute_result",
     "data": {
      "text/plain": [
       "   Transaction Date        Merchant       Category      Type  Amount (USD)\n",
       "40       03/31/2021        T-Mobile      Utilities  Purchase         26.68\n",
       "39       04/01/2021           Geico     Automobile  Purchase        264.66\n",
       "38       04/02/2021      Soundcloud  Subscriptions  Purchase          4.99\n",
       "36       04/03/2021  Apple Services  Entertainment  Purchase          3.99\n",
       "37       04/04/2021    Card payment        Payment   Payment       -343.30\n",
       "..              ...             ...            ...       ...           ...\n",
       "4        04/29/2021     Papa John's    Restaurants  Purchase         21.84\n",
       "3        04/29/2021    Seoul Hotdog    Restaurants  Purchase         10.90\n",
       "2        04/29/2021  Apple Services  Entertainment  Purchase         19.99\n",
       "1        04/29/2021  Apple Services  Entertainment  Purchase          4.99\n",
       "0        04/30/2021  Apple Services  Entertainment  Purchase          2.99\n",
       "\n",
       "[41 rows x 5 columns]"
      ],
      "text/html": "<div>\n<style scoped>\n    .dataframe tbody tr th:only-of-type {\n        vertical-align: middle;\n    }\n\n    .dataframe tbody tr th {\n        vertical-align: top;\n    }\n\n    .dataframe thead th {\n        text-align: right;\n    }\n</style>\n<table border=\"1\" class=\"dataframe\">\n  <thead>\n    <tr style=\"text-align: right;\">\n      <th></th>\n      <th>Transaction Date</th>\n      <th>Merchant</th>\n      <th>Category</th>\n      <th>Type</th>\n      <th>Amount (USD)</th>\n    </tr>\n  </thead>\n  <tbody>\n    <tr>\n      <th>40</th>\n      <td>03/31/2021</td>\n      <td>T-Mobile</td>\n      <td>Utilities</td>\n      <td>Purchase</td>\n      <td>26.68</td>\n    </tr>\n    <tr>\n      <th>39</th>\n      <td>04/01/2021</td>\n      <td>Geico</td>\n      <td>Automobile</td>\n      <td>Purchase</td>\n      <td>264.66</td>\n    </tr>\n    <tr>\n      <th>38</th>\n      <td>04/02/2021</td>\n      <td>Soundcloud</td>\n      <td>Subscriptions</td>\n      <td>Purchase</td>\n      <td>4.99</td>\n    </tr>\n    <tr>\n      <th>36</th>\n      <td>04/03/2021</td>\n      <td>Apple Services</td>\n      <td>Entertainment</td>\n      <td>Purchase</td>\n      <td>3.99</td>\n    </tr>\n    <tr>\n      <th>37</th>\n      <td>04/04/2021</td>\n      <td>Card payment</td>\n      <td>Payment</td>\n      <td>Payment</td>\n      <td>-343.30</td>\n    </tr>\n    <tr>\n      <th>...</th>\n      <td>...</td>\n      <td>...</td>\n      <td>...</td>\n      <td>...</td>\n      <td>...</td>\n    </tr>\n    <tr>\n      <th>4</th>\n      <td>04/29/2021</td>\n      <td>Papa John's</td>\n      <td>Restaurants</td>\n      <td>Purchase</td>\n      <td>21.84</td>\n    </tr>\n    <tr>\n      <th>3</th>\n      <td>04/29/2021</td>\n      <td>Seoul Hotdog</td>\n      <td>Restaurants</td>\n      <td>Purchase</td>\n      <td>10.90</td>\n    </tr>\n    <tr>\n      <th>2</th>\n      <td>04/29/2021</td>\n      <td>Apple Services</td>\n      <td>Entertainment</td>\n      <td>Purchase</td>\n      <td>19.99</td>\n    </tr>\n    <tr>\n      <th>1</th>\n      <td>04/29/2021</td>\n      <td>Apple Services</td>\n      <td>Entertainment</td>\n      <td>Purchase</td>\n      <td>4.99</td>\n    </tr>\n    <tr>\n      <th>0</th>\n      <td>04/30/2021</td>\n      <td>Apple Services</td>\n      <td>Entertainment</td>\n      <td>Purchase</td>\n      <td>2.99</td>\n    </tr>\n  </tbody>\n</table>\n<p>41 rows × 5 columns</p>\n</div>"
     },
     "metadata": {},
     "execution_count": 142
    }
   ],
   "source": [
    "def read_csv(f_url):\n",
    "    # Reading csv file\n",
    "    f_df = pd.read_csv(f_url)[['Transaction Date', 'Merchant', 'Category', 'Type', 'Amount (USD)']]\n",
    "    f_df = f_df.sort_values(by=['Transaction Date'])\n",
    "\n",
    "    # Cleaning values\n",
    "    for index, row in f_df.iterrows():\n",
    "        if row['Merchant'] in merchant_dict.keys():\n",
    "            f_df.at[index, 'Category'] = merchant_dict.get(row['Merchant'])\n",
    "        elif row['Merchant'] == \"Ach Deposit Internet Transfer From Account Ending In 3437\":\n",
    "            f_df.at[index, 'Merchant'] = \"Card payment\"\n",
    "\n",
    "    return f_df\n",
    "\n",
    "april_df = read_csv(file_url)\n",
    "april_df\n"
   ]
  },
  {
   "cell_type": "code",
   "execution_count": 144,
   "metadata": {},
   "outputs": [
    {
     "output_type": "stream",
     "name": "stdout",
     "text": [
      "   Transaction Date        Merchant       Category      Type  Amount (USD)\n40       03/31/2021        T-Mobile      Utilities  Purchase         26.68\n39       04/01/2021           Geico     Automobile  Purchase        264.66\n38       04/02/2021      Soundcloud  Subscriptions  Purchase          4.99\n36       04/03/2021  Apple Services  Entertainment  Purchase          3.99\n35       04/08/2021  Apple Services  Entertainment  Purchase          2.99\n..              ...             ...            ...       ...           ...\n4        04/29/2021     Papa John's    Restaurants  Purchase         21.84\n3        04/29/2021    Seoul Hotdog    Restaurants  Purchase         10.90\n2        04/29/2021  Apple Services  Entertainment  Purchase         19.99\n1        04/29/2021  Apple Services  Entertainment  Purchase          4.99\n0        04/30/2021  Apple Services  Entertainment  Purchase          2.99\n\n[38 rows x 5 columns]\n   Transaction Date      Merchant Category     Type  Amount (USD)\n37       04/04/2021  Card payment  Payment  Payment       -343.30\n32       04/15/2021  Card payment  Payment  Payment        -40.96\n14       04/25/2021  Card payment  Payment  Payment       -310.88\n"
     ]
    }
   ],
   "source": [
    "purchase = april_df.where(april_df['Type'] == \"Purchase\").dropna()\n",
    "print(purchase)\n",
    "payment = april_df.where(april_df['Type'] == \"Payment\").dropna()\n",
    "print(payment)"
   ]
  },
  {
   "cell_type": "code",
   "execution_count": 145,
   "metadata": {},
   "outputs": [
    {
     "output_type": "execute_result",
     "data": {
      "text/plain": [
       "                                      Amount (USD)\n",
       "Merchant               Category                   \n",
       "Apple Services         Entertainment        294.77\n",
       "BB* Marufuku Ramen Oak Restaurants           25.67\n",
       "City of LA Dot Pvb Pbp Automobile            65.00\n",
       "Extra Space Storage    Utilities             59.20\n",
       "Geico                  Automobile           264.66\n",
       "Homeroom To-Go         Restaurants           13.75\n",
       "Humphry Slocombe I     Restaurants           19.98\n",
       "Papa John's            Restaurants           21.84\n",
       "Safeway                Grocery               22.62\n",
       "Seoul Hotdog           Restaurants           10.90\n",
       "Soundcloud             Subscriptions          4.99\n",
       "T-Mobile               Utilities             26.68\n",
       "The One Wireless & Gif Other                 93.59"
      ],
      "text/html": "<div>\n<style scoped>\n    .dataframe tbody tr th:only-of-type {\n        vertical-align: middle;\n    }\n\n    .dataframe tbody tr th {\n        vertical-align: top;\n    }\n\n    .dataframe thead th {\n        text-align: right;\n    }\n</style>\n<table border=\"1\" class=\"dataframe\">\n  <thead>\n    <tr style=\"text-align: right;\">\n      <th></th>\n      <th></th>\n      <th>Amount (USD)</th>\n    </tr>\n    <tr>\n      <th>Merchant</th>\n      <th>Category</th>\n      <th></th>\n    </tr>\n  </thead>\n  <tbody>\n    <tr>\n      <th>Apple Services</th>\n      <th>Entertainment</th>\n      <td>294.77</td>\n    </tr>\n    <tr>\n      <th>BB* Marufuku Ramen Oak</th>\n      <th>Restaurants</th>\n      <td>25.67</td>\n    </tr>\n    <tr>\n      <th>City of LA Dot Pvb Pbp</th>\n      <th>Automobile</th>\n      <td>65.00</td>\n    </tr>\n    <tr>\n      <th>Extra Space Storage</th>\n      <th>Utilities</th>\n      <td>59.20</td>\n    </tr>\n    <tr>\n      <th>Geico</th>\n      <th>Automobile</th>\n      <td>264.66</td>\n    </tr>\n    <tr>\n      <th>Homeroom To-Go</th>\n      <th>Restaurants</th>\n      <td>13.75</td>\n    </tr>\n    <tr>\n      <th>Humphry Slocombe I</th>\n      <th>Restaurants</th>\n      <td>19.98</td>\n    </tr>\n    <tr>\n      <th>Papa John's</th>\n      <th>Restaurants</th>\n      <td>21.84</td>\n    </tr>\n    <tr>\n      <th>Safeway</th>\n      <th>Grocery</th>\n      <td>22.62</td>\n    </tr>\n    <tr>\n      <th>Seoul Hotdog</th>\n      <th>Restaurants</th>\n      <td>10.90</td>\n    </tr>\n    <tr>\n      <th>Soundcloud</th>\n      <th>Subscriptions</th>\n      <td>4.99</td>\n    </tr>\n    <tr>\n      <th>T-Mobile</th>\n      <th>Utilities</th>\n      <td>26.68</td>\n    </tr>\n    <tr>\n      <th>The One Wireless &amp; Gif</th>\n      <th>Other</th>\n      <td>93.59</td>\n    </tr>\n  </tbody>\n</table>\n</div>"
     },
     "metadata": {},
     "execution_count": 145
    }
   ],
   "source": [
    "purchase_by_merchant = purchase.groupby(by=['Merchant', 'Category']).sum()\n",
    "purchase_by_merchant"
   ]
  },
  {
   "cell_type": "code",
   "execution_count": 146,
   "metadata": {},
   "outputs": [
    {
     "output_type": "execute_result",
     "data": {
      "text/plain": [
       "   Transaction Date        Merchant       Category      Type  Amount (USD)\n",
       "40       03/31/2021        T-Mobile      Utilities  Purchase         26.68\n",
       "39       04/01/2021           Geico     Automobile  Purchase        264.66\n",
       "38       04/02/2021      Soundcloud  Subscriptions  Purchase          4.99\n",
       "36       04/03/2021  Apple Services  Entertainment  Purchase          3.99\n",
       "35       04/08/2021  Apple Services  Entertainment  Purchase          2.99\n",
       "..              ...             ...            ...       ...           ...\n",
       "4        04/29/2021     Papa John's    Restaurants  Purchase         21.84\n",
       "3        04/29/2021    Seoul Hotdog    Restaurants  Purchase         10.90\n",
       "2        04/29/2021  Apple Services  Entertainment  Purchase         19.99\n",
       "1        04/29/2021  Apple Services  Entertainment  Purchase          4.99\n",
       "0        04/30/2021  Apple Services  Entertainment  Purchase          2.99\n",
       "\n",
       "[38 rows x 5 columns]"
      ],
      "text/html": "<div>\n<style scoped>\n    .dataframe tbody tr th:only-of-type {\n        vertical-align: middle;\n    }\n\n    .dataframe tbody tr th {\n        vertical-align: top;\n    }\n\n    .dataframe thead th {\n        text-align: right;\n    }\n</style>\n<table border=\"1\" class=\"dataframe\">\n  <thead>\n    <tr style=\"text-align: right;\">\n      <th></th>\n      <th>Transaction Date</th>\n      <th>Merchant</th>\n      <th>Category</th>\n      <th>Type</th>\n      <th>Amount (USD)</th>\n    </tr>\n  </thead>\n  <tbody>\n    <tr>\n      <th>40</th>\n      <td>03/31/2021</td>\n      <td>T-Mobile</td>\n      <td>Utilities</td>\n      <td>Purchase</td>\n      <td>26.68</td>\n    </tr>\n    <tr>\n      <th>39</th>\n      <td>04/01/2021</td>\n      <td>Geico</td>\n      <td>Automobile</td>\n      <td>Purchase</td>\n      <td>264.66</td>\n    </tr>\n    <tr>\n      <th>38</th>\n      <td>04/02/2021</td>\n      <td>Soundcloud</td>\n      <td>Subscriptions</td>\n      <td>Purchase</td>\n      <td>4.99</td>\n    </tr>\n    <tr>\n      <th>36</th>\n      <td>04/03/2021</td>\n      <td>Apple Services</td>\n      <td>Entertainment</td>\n      <td>Purchase</td>\n      <td>3.99</td>\n    </tr>\n    <tr>\n      <th>35</th>\n      <td>04/08/2021</td>\n      <td>Apple Services</td>\n      <td>Entertainment</td>\n      <td>Purchase</td>\n      <td>2.99</td>\n    </tr>\n    <tr>\n      <th>...</th>\n      <td>...</td>\n      <td>...</td>\n      <td>...</td>\n      <td>...</td>\n      <td>...</td>\n    </tr>\n    <tr>\n      <th>4</th>\n      <td>04/29/2021</td>\n      <td>Papa John's</td>\n      <td>Restaurants</td>\n      <td>Purchase</td>\n      <td>21.84</td>\n    </tr>\n    <tr>\n      <th>3</th>\n      <td>04/29/2021</td>\n      <td>Seoul Hotdog</td>\n      <td>Restaurants</td>\n      <td>Purchase</td>\n      <td>10.90</td>\n    </tr>\n    <tr>\n      <th>2</th>\n      <td>04/29/2021</td>\n      <td>Apple Services</td>\n      <td>Entertainment</td>\n      <td>Purchase</td>\n      <td>19.99</td>\n    </tr>\n    <tr>\n      <th>1</th>\n      <td>04/29/2021</td>\n      <td>Apple Services</td>\n      <td>Entertainment</td>\n      <td>Purchase</td>\n      <td>4.99</td>\n    </tr>\n    <tr>\n      <th>0</th>\n      <td>04/30/2021</td>\n      <td>Apple Services</td>\n      <td>Entertainment</td>\n      <td>Purchase</td>\n      <td>2.99</td>\n    </tr>\n  </tbody>\n</table>\n<p>38 rows × 5 columns</p>\n</div>"
     },
     "metadata": {},
     "execution_count": 146
    }
   ],
   "source": [
    "merchant_dict = {'Apple Services' : 'Entertainment', 'Extra Space Storage' : 'Utilities', 'Geico' : 'Automobile', 'City of LA Dot Pvb Pbp' : 'Automobile', 'Soundcloud' : 'Subscriptions', 'T-Mobile' : 'Utilities'}\n",
    "\n",
    "merchant_dict.get('Apple Services')\n",
    "\n",
    "merchant_dict.keys()\n",
    "\n",
    "purchase"
   ]
  },
  {
   "cell_type": "code",
   "execution_count": null,
   "metadata": {},
   "outputs": [],
   "source": []
  }
 ]
}