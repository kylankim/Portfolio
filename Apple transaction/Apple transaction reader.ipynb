{
 "metadata": {
  "language_info": {
   "codemirror_mode": {
    "name": "ipython",
    "version": 3
   },
   "file_extension": ".py",
   "mimetype": "text/x-python",
   "name": "python",
   "nbconvert_exporter": "python",
   "pygments_lexer": "ipython3",
   "version": "3.8.1"
  },
  "orig_nbformat": 2,
  "kernelspec": {
   "name": "python381jvsc74a57bd0335859b7650a8185b200f498a77266c8d8a93f594ef9b4f6c689ea286881adc9",
   "display_name": "Python 3.8.1 32-bit"
  }
 },
 "nbformat": 4,
 "nbformat_minor": 2,
 "cells": [
  {
   "cell_type": "code",
   "execution_count": 1,
   "metadata": {},
   "outputs": [],
   "source": [
    "import numpy as np\n",
    "import pandas as pd\n",
    "import matplotlib.pyplot as plt\n",
    "import os\n",
    "\n",
    "pd.set_option('display.max_rows', 40)"
   ]
  },
  {
   "source": [
    "## Read csv files from db directory"
   ],
   "cell_type": "markdown",
   "metadata": {}
  },
  {
   "source": [
    "# file and DB URL\n",
    "db_url = \"C:/Users/hyo05/Documents/Portfolio/Apple transaction/csv/\"\n",
    "file_url = db_url + \"Apple Card Transactions - April 2021.csv\"\n",
    "print(file_url)"
   ],
   "cell_type": "code",
   "metadata": {},
   "execution_count": 3,
   "outputs": [
    {
     "output_type": "stream",
     "name": "stdout",
     "text": [
      "C:/Users/hyo05/Documents/Portfolio/Apple transaction/csv/Apple Card Transactions - April 2021.csv\n"
     ]
    }
   ]
  },
  {
   "source": [
    "# 1.2 Transaction datre\n",
    "Step 2. "
   ],
   "cell_type": "markdown",
   "metadata": {}
  },
  {
   "source": [
    "# Step 1. Data cleaning"
   ],
   "cell_type": "markdown",
   "metadata": {}
  },
  {
   "source": [
    "## 1.1 Reading a csv file and create data frame"
   ],
   "cell_type": "markdown",
   "metadata": {}
  },
  {
   "source": [
    "### Rematch falsely matched pair of Merchant and Category.  "
   ],
   "cell_type": "markdown",
   "metadata": {}
  },
  {
   "source": [
    "# Define mecrchant and category dictionary for pair of merchant and category that does not match up with each other in the original data set.\n",
    "apple_merchant_dict = {'Apple Services' : 'Entertainment', 'Extra Space Storage' : 'Utilities', 'Geico' : 'Automobile', 'City of LA Dot Pvb Pbp' : 'Automobile', 'Soundcloud' : 'Subscriptions', 'T-Mobile' : 'Utilities'}"
   ],
   "cell_type": "code",
   "metadata": {},
   "execution_count": 4,
   "outputs": []
  },
  {
   "cell_type": "code",
   "execution_count": 11,
   "metadata": {},
   "outputs": [],
   "source": [
    "# Search for merchants in the dictionary and edit category if the merchant exists. \n",
    "def match_category(df, dict):\n",
    "    for index, row in df.iterrows():\n",
    "        if row['Merchant'] in dict.keys():\n",
    "            df.at[index, 'Category'] = dict.get(row['Merchant'])\n",
    "        elif row['Merchant'] == \"Ach Deposit Internet Transfer From Account Ending In 3437\":\n",
    "            df.at[index, 'Merchant'] = \"Card payment\"\n",
    "    return df"
   ]
  },
  {
   "source": [
    "### Divide 'Transaction Date' column into 3 columns: Month, Day, Year"
   ],
   "cell_type": "markdown",
   "metadata": {}
  },
  {
   "cell_type": "code",
   "execution_count": 12,
   "metadata": {},
   "outputs": [],
   "source": [
    "# Cleaning date into Month, Day, Year for future operations\n",
    "def clean_date(df):\n",
    "\n",
    "    month = np.array([]).astype(int)\n",
    "    day = np.array([]).astype(int)\n",
    "    year = np.array([]).astype(int)\n",
    "\n",
    "    for index, row in df.iterrows():\n",
    "        date = row['Transaction Date'].split('/')\n",
    "        month = np.append(month, date[0])\n",
    "        day = np.append(day, date[1])\n",
    "        year = np.append(year, date[2])\n",
    "\n",
    "    # Insert Month, Day, Year column and drop 'Transaction Date' column.\n",
    "    df.insert(0, 'Month', month)\n",
    "    df.insert(1, 'Day', day)\n",
    "    df.insert(2, 'Year', year)\n",
    "    df = df.drop(columns=['Transaction Date'])\n",
    "\n",
    "    return df"
   ]
  },
  {
   "cell_type": "code",
   "execution_count": 27,
   "metadata": {},
   "outputs": [
    {
     "output_type": "stream",
     "name": "stdout",
     "text": [
      "   Month Day  Year        Merchant       Category      Type  Amount (USD)\n40    03  31  2021        T-Mobile      Utilities  Purchase         26.68\n39    04  01  2021           Geico     Automobile  Purchase        264.66\n38    04  02  2021      Soundcloud  Subscriptions  Purchase          4.99\n36    04  03  2021  Apple Services  Entertainment  Purchase          3.99\n37    04  04  2021    Card payment        Payment   Payment       -343.30\n..   ...  ..   ...             ...            ...       ...           ...\n4     04  29  2021     Papa John's    Restaurants  Purchase         21.84\n3     04  29  2021    Seoul Hotdog    Restaurants  Purchase         10.90\n2     04  29  2021  Apple Services  Entertainment  Purchase         19.99\n1     04  29  2021  Apple Services  Entertainment  Purchase          4.99\n0     04  30  2021  Apple Services  Entertainment  Purchase          2.99\n\n[41 rows x 7 columns]\n"
     ]
    }
   ],
   "source": [
    "def read_csv(f_url):\n",
    "    # Reading csv file for selected columns and create and sort dataframe by the Transaction date\n",
    "    f_df = pd.read_csv(f_url)[['Transaction Date', 'Merchant', 'Category', 'Type', 'Amount (USD)']]\n",
    "    f_df = f_df.sort_values(by=['Transaction Date'])\n",
    "\n",
    "    # Cleaning Merchant and Category\n",
    "    f_df = match_category(f_df, apple_merchant_dict)\n",
    "\n",
    "    # Clean 'Transaction Date' column. \n",
    "    f_df = clean_date(f_df)\n",
    "\n",
    "    return f_df\n",
    "\n",
    "april_df = read_csv(file_url)\n",
    "print(april_df)"
   ]
  },
  {
   "source": [
    "## 1.2 Read all csv files from DB."
   ],
   "cell_type": "markdown",
   "metadata": {}
  },
  {
   "source": [
    "### Read all files from DB."
   ],
   "cell_type": "markdown",
   "metadata": {}
  },
  {
   "cell_type": "code",
   "execution_count": 31,
   "metadata": {},
   "outputs": [
    {
     "output_type": "stream",
     "name": "stdout",
     "text": [
      "Apple Card Transactions - April 2021.csv\n"
     ]
    }
   ],
   "source": [
    "for i in os.listdir(os.getcwd()+'\\csv'):\n",
    "    print(i)"
   ]
  },
  {
   "cell_type": "code",
   "execution_count": null,
   "metadata": {},
   "outputs": [],
   "source": [
    "def read_db():\n",
    "    return ..."
   ]
  },
  {
   "source": [
    "# 2. Analysis\n",
    "## 2.1 By type\n",
    "### purchase and payment\n",
    "## 2.2 Merchant and Disctionary\n",
    "### Unique merchant\n",
    "#### Update merchant dictionary\n",
    "### Monthly spending on each merchant and category \n",
    "## 2.3 Monthly report "
   ],
   "cell_type": "markdown",
   "metadata": {}
  },
  {
   "cell_type": "code",
   "execution_count": 25,
   "metadata": {},
   "outputs": [
    {
     "output_type": "stream",
     "name": "stdout",
     "text": [
      "   Month Day  Year                Merchant       Category      Type  \\\n40    03  31  2021                T-Mobile      Utilities  Purchase   \n39    04  01  2021                   Geico     Automobile  Purchase   \n38    04  02  2021              Soundcloud  Subscriptions  Purchase   \n36    04  03  2021          Apple Services  Entertainment  Purchase   \n35    04  08  2021          Apple Services  Entertainment  Purchase   \n34    04  08  2021          Apple Services  Entertainment  Purchase   \n33    04  13  2021          Apple Services  Entertainment  Purchase   \n31    04  18  2021     Extra Space Storage      Utilities  Purchase   \n29    04  19  2021                 Safeway        Grocery  Purchase   \n28    04  20  2021          Apple Services  Entertainment  Purchase   \n30    04  20  2021          Apple Services  Entertainment  Purchase   \n26    04  21  2021          Apple Services  Entertainment  Purchase   \n25    04  21  2021          Apple Services  Entertainment  Purchase   \n24    04  21  2021          Apple Services  Entertainment  Purchase   \n23    04  21  2021          Apple Services  Entertainment  Purchase   \n27    04  22  2021  The One Wireless & Gif          Other  Purchase   \n22    04  22  2021          Apple Services  Entertainment  Purchase   \n21    04  22  2021          Apple Services  Entertainment  Purchase   \n20    04  22  2021          Apple Services  Entertainment  Purchase   \n18    04  22  2021                 Safeway        Grocery  Purchase   \n17    04  22  2021          Apple Services  Entertainment  Purchase   \n16    04  22  2021          Apple Services  Entertainment  Purchase   \n19    04  22  2021          Apple Services  Entertainment  Purchase   \n15    04  23  2021          Homeroom To-Go    Restaurants  Purchase   \n13    04  24  2021          Apple Services  Entertainment  Purchase   \n12    04  24  2021          Apple Services  Entertainment  Purchase   \n9     04  25  2021  City of LA Dot Pvb Pbp     Automobile  Purchase   \n11    04  25  2021          Apple Services  Entertainment  Purchase   \n10    04  26  2021          Apple Services  Entertainment  Purchase   \n8     04  26  2021  BB* Marufuku Ramen Oak    Restaurants  Purchase   \n7     04  26  2021     Extra Space Storage      Utilities  Purchase   \n6     04  27  2021                 Safeway        Grocery  Purchase   \n5     04  28  2021      Humphry Slocombe I    Restaurants  Purchase   \n4     04  29  2021             Papa John's    Restaurants  Purchase   \n3     04  29  2021            Seoul Hotdog    Restaurants  Purchase   \n2     04  29  2021          Apple Services  Entertainment  Purchase   \n1     04  29  2021          Apple Services  Entertainment  Purchase   \n0     04  30  2021          Apple Services  Entertainment  Purchase   \n\n    Amount (USD)  \n40         26.68  \n39        264.66  \n38          4.99  \n36          3.99  \n35          2.99  \n34          2.99  \n33         30.99  \n31         24.00  \n29          3.27  \n28          2.99  \n30          2.99  \n26         19.99  \n25          4.99  \n24          4.99  \n23          4.99  \n27         93.59  \n22         19.99  \n21         49.99  \n20         19.99  \n18         10.39  \n17          9.99  \n16          4.99  \n19         19.99  \n15         13.75  \n13          2.99  \n12          2.99  \n9          65.00  \n11         49.99  \n10          3.99  \n8          25.67  \n7          35.20  \n6           8.96  \n5          19.98  \n4          21.84  \n3          10.90  \n2          19.99  \n1           4.99  \n0           2.99  \n   Month Day  Year      Merchant Category     Type  Amount (USD)\n37    04  04  2021  Card payment  Payment  Payment       -343.30\n32    04  15  2021  Card payment  Payment  Payment        -40.96\n14    04  25  2021  Card payment  Payment  Payment       -310.88\n"
     ]
    }
   ],
   "source": [
    "purchase = april_df[april_df['Type'] == \"Purchase\"]\n",
    "print(purchase)\n",
    "payment = april_df[april_df['Type'] == \"Payment\"]\n",
    "print(payment)"
   ]
  },
  {
   "cell_type": "code",
   "execution_count": null,
   "metadata": {},
   "outputs": [],
   "source": []
  }
 ]
}