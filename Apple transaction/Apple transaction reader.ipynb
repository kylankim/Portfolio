{
 "metadata": {
  "language_info": {
   "codemirror_mode": {
    "name": "ipython",
    "version": 3
   },
   "file_extension": ".py",
   "mimetype": "text/x-python",
   "name": "python",
   "nbconvert_exporter": "python",
   "pygments_lexer": "ipython3",
   "version": "3.8.1"
  },
  "orig_nbformat": 2,
  "kernelspec": {
   "name": "python381jvsc74a57bd0335859b7650a8185b200f498a77266c8d8a93f594ef9b4f6c689ea286881adc9",
   "display_name": "Python 3.8.1 32-bit"
  }
 },
 "nbformat": 4,
 "nbformat_minor": 2,
 "cells": [
  {
   "cell_type": "code",
   "execution_count": 1,
   "metadata": {},
   "outputs": [],
   "source": [
    "import numpy as np\n",
    "import pandas as pd\n",
    "import matplotlib.pyplot as plt\n",
    "import os\n",
    "\n",
    "pd.set_option('display.max_rows', 40)"
   ]
  },
  {
   "source": [
    "## Read csv files from db directory"
   ],
   "cell_type": "markdown",
   "metadata": {}
  },
  {
   "source": [
    "# file and DB URL\n",
    "db_url = \"C:/Users/hyo05/Documents/Portfolio/Apple transaction/csv/\"\n",
    "file_url = db_url + \"Apple Card Transactions - April 2021.csv\""
   ],
   "cell_type": "code",
   "metadata": {},
   "execution_count": 34,
   "outputs": []
  },
  {
   "source": [
    "# 1.2 Transaction datre\n",
    "Step 2. "
   ],
   "cell_type": "markdown",
   "metadata": {}
  },
  {
   "source": [
    "# Step 1. Data cleaning"
   ],
   "cell_type": "markdown",
   "metadata": {}
  },
  {
   "source": [
    "## 1.1 Reading a csv file and create data frame"
   ],
   "cell_type": "markdown",
   "metadata": {}
  },
  {
   "source": [
    "### Rematch falsely matched pair of Merchant and Category.  "
   ],
   "cell_type": "markdown",
   "metadata": {}
  },
  {
   "cell_type": "code",
   "execution_count": null,
   "metadata": {},
   "outputs": [],
   "source": []
  },
  {
   "source": [
    "# Define mecrchant and category dictionary for pair of merchant and category that does not match up with each other in the original data set.\n",
    "apple_category_dict = {\n",
    "    'Apple Services' : 'Entertainment',\n",
    "    'Extra Space Storage' : 'Utilities',\n",
    "    'Geico' : 'Automobile',\n",
    "    'City of LA Dot Pvb Pbp' : 'Automobile',\n",
    "    'Soundcloud' : 'Subscriptions',\n",
    "    'T-Mobile' : 'Utilities',\n",
    "    'FasTrak' : 'Automobile',\n",
    "    'Marshalls' : 'Shopping',\n",
    "    'trashwarrior.com' : 'Utilities',\n",
    "    'Koreana Plaza Market' : 'Grocery',\n",
    "    'Airbnb' : 'Travel',\n",
    "    'Daily Cash Adjustment' : 'Other',\n",
    "    'Chase Jayne' : 'Unknown',\n",
    "    'Lim*Ride Cost' : 'General',\n",
    "    \"Zoomy's Santa Nella\" : \"Unknown\",\n",
    "    'H Mart' : 'Grocery',\n",
    "    'Soundcloud' : 'Subscriptions',\n",
    "    'Chevron' : 'Automobile',\n",
    "    'Homeowners Insurance' : 'Utilities',\n",
    "    'Tokyo Fish Market' : 'Grocery',\n",
    "    'Safeway' : 'Grocery',\n",
    "    'Discount Cigarette' : 'Entertainment',\n",
    "    'Amazon Marketplace' : 'Grocery',\n",
    "    'Amazon Music' : 'Subscription',\n",
    "    'Dollar Tree' : 'Shopping',\n",
    "    'www.coursehero.com' : 'Subscription',\n",
    "    'updater.com' : 'Unknown',\n",
    "    'Stellar' : 'General',\n",
    "    'Amazon Web Services' : 'General',\n",
    "    'The One Wireless & Gif' : 'Entertainment',\n",
    "    'Amazon' : 'Shopping',\n",
    "    'Big AL S' : 'Entertainment',\n",
    "    'The UPS Store' : 'General',\n",
    "    'Hornblower Yachts' : 'Unknown',\n",
    "    'Card payment' : 'Payment',\n",
    "    'Home Depot' : 'Shopping',\n",
    "    'Aventri Event Reg' : 'Unknown',\n",
    "    'UC Awpe Fee' : 'Tuition',\n",
    "    'Element Vape' : 'Entertainment',\n",
    "    'CVS Pharmacy' : 'General',\n",
    "    'Amazon Prime' : 'Subscriptions',\n",
    "    'FedEx' : 'General',\n",
    "    'Service Dog Certificat' : 'General',\n",
    "    'Contra Costa Comm Coll' : 'Tuition'\n",
    "    }"
   ],
   "cell_type": "code",
   "metadata": {},
   "execution_count": 192,
   "outputs": []
  },
  {
   "cell_type": "code",
   "execution_count": 202,
   "metadata": {},
   "outputs": [],
   "source": [
    "apple_merchant_long_dict = {\n",
    "    \"Ach Deposit Internet Transfer From Account Ending In 3437\" : \"Card payment\",\n",
    "    'Geico *auto One Geico Plaza 800-841-3000 20076 Dc Usa (dispute Credit)' : 'Geico dispute credit',\n",
    "    'Postmates Membership 201 3rd Stsuite 200 8778877815 94103 Ca Usa (dispute Credit)' : 'Postmate dispute credit',\n",
    "    'Aventri Event Reg 7700 Eastport Parkway 2034039470 06854 Ct Usa (dispute Credit)' : 'Aventri dispute credit',\n",
    "    'Amazon Web Services 440 Terry Ave N Aws.amazon.co98109 Wa Usa (dispute Credit)' : 'AWS dispute credit'\n",
    "}"
   ]
  },
  {
   "cell_type": "code",
   "execution_count": 203,
   "metadata": {},
   "outputs": [],
   "source": [
    "# Search for merchants in the dictionary and edit category if the merchant exists. \n",
    "def match_category(df, long_dict, category_dict):\n",
    "    \n",
    "    for index, row in df.iterrows():\n",
    "        # Shortening long mervhant names.\n",
    "        if row['Merchant'] in long_dict.keys():\n",
    "            df.at[index, 'Merchant'] = long_dict.get(row['Merchant'])\n",
    "\n",
    "        # Matching correct category.\n",
    "        if row['Merchant'] in category_dict.keys():\n",
    "            df.at[index, 'Category'] = category_dict.get(row['Merchant'])\n",
    "\n",
    "    return df"
   ]
  },
  {
   "source": [
    "### Divide 'Transaction Date' column into 3 columns: Month, Day, Year"
   ],
   "cell_type": "markdown",
   "metadata": {}
  },
  {
   "cell_type": "code",
   "execution_count": 204,
   "metadata": {},
   "outputs": [],
   "source": [
    "# Cleaning date into Month, Day, Year for future operations\n",
    "def clean_date(df):\n",
    "\n",
    "    month = np.array([]).astype(int)\n",
    "    day = np.array([]).astype(int)\n",
    "    year = np.array([]).astype(int)\n",
    "\n",
    "    for index, row in df.iterrows():\n",
    "        date = row['Transaction Date'].split('/')\n",
    "        month = np.append(month, date[0])\n",
    "        day = np.append(day, date[1])\n",
    "        year = np.append(year, date[2])\n",
    "\n",
    "    # Insert Month, Day, Year column and drop 'Transaction Date' column.\n",
    "    df.insert(0, 'Month', month)\n",
    "    df.insert(1, 'Day', day)\n",
    "    df.insert(2, 'Year', year)\n",
    "    df = df.drop(columns=['Transaction Date'])\n",
    "\n",
    "    return df"
   ]
  },
  {
   "cell_type": "code",
   "execution_count": 206,
   "metadata": {},
   "outputs": [
    {
     "output_type": "stream",
     "name": "stdout",
     "text": [
      "   Month Day  Year        Merchant       Category      Type  Amount (USD)\n40    03  31  2021        T-Mobile      Utilities  Purchase         26.68\n39    04  01  2021           Geico     Automobile  Purchase        264.66\n38    04  02  2021      Soundcloud  Subscriptions  Purchase          4.99\n36    04  03  2021  Apple Services  Entertainment  Purchase          3.99\n37    04  04  2021    Card payment        Payment   Payment       -343.30\n..   ...  ..   ...             ...            ...       ...           ...\n4     04  29  2021     Papa John's    Restaurants  Purchase         21.84\n3     04  29  2021    Seoul Hotdog    Restaurants  Purchase         10.90\n2     04  29  2021  Apple Services  Entertainment  Purchase         19.99\n1     04  29  2021  Apple Services  Entertainment  Purchase          4.99\n0     04  30  2021  Apple Services  Entertainment  Purchase          2.99\n\n[41 rows x 7 columns]\n"
     ]
    }
   ],
   "source": [
    "def read_csv(f_url, long_dict, cat_dcit):\n",
    "    # Reading csv file for selected columns and create and sort dataframe by the Transaction date\n",
    "    f_df = pd.read_csv(f_url)[['Transaction Date', 'Merchant', 'Category', 'Type', 'Amount (USD)']]\n",
    "    f_df = f_df.sort_values(by=['Transaction Date'])\n",
    "\n",
    "    # Cleaning Merchant and Category\n",
    "    f_df = match_category(f_df, long_dict, cat_dcit)\n",
    "\n",
    "    # Clean 'Transaction Date' column. \n",
    "    f_df = clean_date(f_df)\n",
    "\n",
    "    return f_df\n",
    "\n",
    "april_df = read_csv(file_url, apple_merchant_long_dict, apple_category_dict)\n",
    "print(april_df)"
   ]
  },
  {
   "source": [
    "## 1.2 Read all csv files from DB."
   ],
   "cell_type": "markdown",
   "metadata": {}
  },
  {
   "source": [
    "### Read all files from DB."
   ],
   "cell_type": "markdown",
   "metadata": {}
  },
  {
   "cell_type": "code",
   "execution_count": 208,
   "metadata": {
    "tags": []
   },
   "outputs": [
    {
     "output_type": "execute_result",
     "data": {
      "text/plain": [
       "    Month Day  Year         Merchant       Category      Type  Amount (USD)\n",
       "0      05  16  2020        Postmates    Restaurants  Purchase         22.93\n",
       "1      05  19  2020  In-N-Out Burger    Restaurants  Purchase         16.30\n",
       "2      05  19  2020    Lim*Ride Cost          Other  Purchase          2.99\n",
       "3      05  21  2020      Jamba Juice    Restaurants  Purchase         13.78\n",
       "4      05  21  2020     CVS Pharmacy        General  Purchase         54.61\n",
       "..    ...  ..   ...              ...            ...       ...           ...\n",
       "303    04  29  2021      Papa John's    Restaurants  Purchase         21.84\n",
       "304    04  29  2021     Seoul Hotdog    Restaurants  Purchase         10.90\n",
       "305    04  29  2021   Apple Services  Entertainment  Purchase         19.99\n",
       "306    04  29  2021   Apple Services  Entertainment  Purchase          4.99\n",
       "307    04  30  2021   Apple Services  Entertainment  Purchase          2.99\n",
       "\n",
       "[308 rows x 7 columns]"
      ],
      "text/html": "<div>\n<style scoped>\n    .dataframe tbody tr th:only-of-type {\n        vertical-align: middle;\n    }\n\n    .dataframe tbody tr th {\n        vertical-align: top;\n    }\n\n    .dataframe thead th {\n        text-align: right;\n    }\n</style>\n<table border=\"1\" class=\"dataframe\">\n  <thead>\n    <tr style=\"text-align: right;\">\n      <th></th>\n      <th>Month</th>\n      <th>Day</th>\n      <th>Year</th>\n      <th>Merchant</th>\n      <th>Category</th>\n      <th>Type</th>\n      <th>Amount (USD)</th>\n    </tr>\n  </thead>\n  <tbody>\n    <tr>\n      <th>0</th>\n      <td>05</td>\n      <td>16</td>\n      <td>2020</td>\n      <td>Postmates</td>\n      <td>Restaurants</td>\n      <td>Purchase</td>\n      <td>22.93</td>\n    </tr>\n    <tr>\n      <th>1</th>\n      <td>05</td>\n      <td>19</td>\n      <td>2020</td>\n      <td>In-N-Out Burger</td>\n      <td>Restaurants</td>\n      <td>Purchase</td>\n      <td>16.30</td>\n    </tr>\n    <tr>\n      <th>2</th>\n      <td>05</td>\n      <td>19</td>\n      <td>2020</td>\n      <td>Lim*Ride Cost</td>\n      <td>Other</td>\n      <td>Purchase</td>\n      <td>2.99</td>\n    </tr>\n    <tr>\n      <th>3</th>\n      <td>05</td>\n      <td>21</td>\n      <td>2020</td>\n      <td>Jamba Juice</td>\n      <td>Restaurants</td>\n      <td>Purchase</td>\n      <td>13.78</td>\n    </tr>\n    <tr>\n      <th>4</th>\n      <td>05</td>\n      <td>21</td>\n      <td>2020</td>\n      <td>CVS Pharmacy</td>\n      <td>General</td>\n      <td>Purchase</td>\n      <td>54.61</td>\n    </tr>\n    <tr>\n      <th>...</th>\n      <td>...</td>\n      <td>...</td>\n      <td>...</td>\n      <td>...</td>\n      <td>...</td>\n      <td>...</td>\n      <td>...</td>\n    </tr>\n    <tr>\n      <th>303</th>\n      <td>04</td>\n      <td>29</td>\n      <td>2021</td>\n      <td>Papa John's</td>\n      <td>Restaurants</td>\n      <td>Purchase</td>\n      <td>21.84</td>\n    </tr>\n    <tr>\n      <th>304</th>\n      <td>04</td>\n      <td>29</td>\n      <td>2021</td>\n      <td>Seoul Hotdog</td>\n      <td>Restaurants</td>\n      <td>Purchase</td>\n      <td>10.90</td>\n    </tr>\n    <tr>\n      <th>305</th>\n      <td>04</td>\n      <td>29</td>\n      <td>2021</td>\n      <td>Apple Services</td>\n      <td>Entertainment</td>\n      <td>Purchase</td>\n      <td>19.99</td>\n    </tr>\n    <tr>\n      <th>306</th>\n      <td>04</td>\n      <td>29</td>\n      <td>2021</td>\n      <td>Apple Services</td>\n      <td>Entertainment</td>\n      <td>Purchase</td>\n      <td>4.99</td>\n    </tr>\n    <tr>\n      <th>307</th>\n      <td>04</td>\n      <td>30</td>\n      <td>2021</td>\n      <td>Apple Services</td>\n      <td>Entertainment</td>\n      <td>Purchase</td>\n      <td>2.99</td>\n    </tr>\n  </tbody>\n</table>\n<p>308 rows × 7 columns</p>\n</div>"
     },
     "metadata": {},
     "execution_count": 208
    }
   ],
   "source": [
    "def initiate_db():\n",
    "    # Create empty dataframe with cloumn labels \n",
    "    c_label = ['Month', 'Day', 'Year', 'Merchant', 'Category', 'Type', 'Amount (USD)']\n",
    "    raw_df = pd.DataFrame(columns=c_label)\n",
    "\n",
    "    # For each files in the DB append raw \n",
    "    for i in os.listdir(db_url):\n",
    "        f_url = db_url + i\n",
    "        tmp = read_csv(f_url, apple_merchant_long_dict, apple_category_dict)\n",
    "        raw_df = raw_df.append(tmp, ignore_index=True)\n",
    "\n",
    "    # Sorting by date\n",
    "    raw_df = raw_df.sort_values(by=['Year', 'Month', 'Day'])\n",
    "\n",
    "    # Reindexing\n",
    "    raw_df = raw_df.reset_index().drop(columns='index')\n",
    "\n",
    "    return raw_df\n",
    "\n",
    "db = initiate_db()\n",
    "db"
   ]
  },
  {
   "source": [
    "## Update dictionary"
   ],
   "cell_type": "markdown",
   "metadata": {}
  },
  {
   "source": [
    "### Create two column dataframe of Merchant and Category for each unique merchant. "
   ],
   "cell_type": "markdown",
   "metadata": {}
  },
  {
   "cell_type": "code",
   "execution_count": 215,
   "metadata": {},
   "outputs": [
    {
     "output_type": "execute_result",
     "data": {
      "text/plain": [
       "                  Merchant       Category\n",
       "0       Amazon Marketplace        Grocery\n",
       "1           Apple Services  Entertainment\n",
       "2             Amazon Music   Subscription\n",
       "3              Dollar Tree       Shopping\n",
       "4                  FasTrak     Automobile\n",
       "..                     ...            ...\n",
       "58      Discount Cigarette  Entertainment\n",
       "59     Extra Space Storage      Utilities\n",
       "60  Contra Costa Comm Coll        Tuition\n",
       "61  BB* Marufuku Ramen Oak    Restaurants\n",
       "62          Homeroom To-Go    Restaurants\n",
       "\n",
       "[63 rows x 2 columns]"
      ],
      "text/html": "<div>\n<style scoped>\n    .dataframe tbody tr th:only-of-type {\n        vertical-align: middle;\n    }\n\n    .dataframe tbody tr th {\n        vertical-align: top;\n    }\n\n    .dataframe thead th {\n        text-align: right;\n    }\n</style>\n<table border=\"1\" class=\"dataframe\">\n  <thead>\n    <tr style=\"text-align: right;\">\n      <th></th>\n      <th>Merchant</th>\n      <th>Category</th>\n    </tr>\n  </thead>\n  <tbody>\n    <tr>\n      <th>0</th>\n      <td>Amazon Marketplace</td>\n      <td>Grocery</td>\n    </tr>\n    <tr>\n      <th>1</th>\n      <td>Apple Services</td>\n      <td>Entertainment</td>\n    </tr>\n    <tr>\n      <th>2</th>\n      <td>Amazon Music</td>\n      <td>Subscription</td>\n    </tr>\n    <tr>\n      <th>3</th>\n      <td>Dollar Tree</td>\n      <td>Shopping</td>\n    </tr>\n    <tr>\n      <th>4</th>\n      <td>FasTrak</td>\n      <td>Automobile</td>\n    </tr>\n    <tr>\n      <th>...</th>\n      <td>...</td>\n      <td>...</td>\n    </tr>\n    <tr>\n      <th>58</th>\n      <td>Discount Cigarette</td>\n      <td>Entertainment</td>\n    </tr>\n    <tr>\n      <th>59</th>\n      <td>Extra Space Storage</td>\n      <td>Utilities</td>\n    </tr>\n    <tr>\n      <th>60</th>\n      <td>Contra Costa Comm Coll</td>\n      <td>Tuition</td>\n    </tr>\n    <tr>\n      <th>61</th>\n      <td>BB* Marufuku Ramen Oak</td>\n      <td>Restaurants</td>\n    </tr>\n    <tr>\n      <th>62</th>\n      <td>Homeroom To-Go</td>\n      <td>Restaurants</td>\n    </tr>\n  </tbody>\n</table>\n<p>63 rows × 2 columns</p>\n</div>"
     },
     "metadata": {},
     "execution_count": 215
    }
   ],
   "source": [
    "# Create a dataframe of unique Merchant and Category pair.\n",
    "def create_merchant_category_df(df): \n",
    "    category_arr = np.array([])\n",
    "    merchant_ls = list(set(df.Merchant))\n",
    "\n",
    "    # Append category_arr for each merchant in the Mercnat set.\n",
    "    for i in merchant_ls:\n",
    "        category = df.loc[df['Merchant'] == i]['Category'].values[0]\n",
    "        category_arr = np.append(category_arr, category)\n",
    "\n",
    "    # Create data frame of unique merchant and category pair.\n",
    "    merchant_category_df = pd.DataFrame({\n",
    "        \"Merchant\": merchant_ls,\n",
    "        \"Category\": category_arr\n",
    "    })\n",
    "\n",
    "    return merchant_category_df\n",
    "\n",
    "merchant_category_df = create_merchant_category_df(db)\n",
    "merchant_category_df"
   ]
  },
  {
   "source": [
    "### Create two column dataframe that shows merchants and their catergory that are not tracked in the apple_category_dictionary.\n",
    "\n",
    "#### Ignore \"Restaurants\" category as they matches with their merchants."
   ],
   "cell_type": "markdown",
   "metadata": {}
  },
  {
   "cell_type": "code",
   "execution_count": 220,
   "metadata": {},
   "outputs": [
    {
     "output_type": "execute_result",
     "data": {
      "text/plain": [
       "                  Merchant Category\n",
       "0  Postmate dispute credit   Credit\n",
       "1     Geico dispute credit   Credit\n",
       "2   Aventri dispute credit   Credit\n",
       "3       AWS dispute credit   Credit"
      ],
      "text/html": "<div>\n<style scoped>\n    .dataframe tbody tr th:only-of-type {\n        vertical-align: middle;\n    }\n\n    .dataframe tbody tr th {\n        vertical-align: top;\n    }\n\n    .dataframe thead th {\n        text-align: right;\n    }\n</style>\n<table border=\"1\" class=\"dataframe\">\n  <thead>\n    <tr style=\"text-align: right;\">\n      <th></th>\n      <th>Merchant</th>\n      <th>Category</th>\n    </tr>\n  </thead>\n  <tbody>\n    <tr>\n      <th>0</th>\n      <td>Postmate dispute credit</td>\n      <td>Credit</td>\n    </tr>\n    <tr>\n      <th>1</th>\n      <td>Geico dispute credit</td>\n      <td>Credit</td>\n    </tr>\n    <tr>\n      <th>2</th>\n      <td>Aventri dispute credit</td>\n      <td>Credit</td>\n    </tr>\n    <tr>\n      <th>3</th>\n      <td>AWS dispute credit</td>\n      <td>Credit</td>\n    </tr>\n  </tbody>\n</table>\n</div>"
     },
     "metadata": {},
     "execution_count": 220
    }
   ],
   "source": [
    "# Iterate through dataframe and search for merchants not listed in the merchant and category dictionary.\n",
    "def untracked_merchant(df):\n",
    "\n",
    "    # Initialize empty arrays.\n",
    "    category_arr = np.array([])\n",
    "    merchant_arr = np.array([])\n",
    "    merchant_ls = list(set(df.Merchant))\n",
    "    \n",
    "    # Iterate list of unique merchants and search for merchants not listed in the dictionary.\n",
    "    for i in merchant_ls:    \n",
    "        if i not in apple_category_dict.keys():\n",
    "            category = df.loc[df['Merchant']==i]['Category'].values[0]\n",
    "            # Ignore category \"Restaurant\"\n",
    "            if category == \"Restaurants\":\n",
    "                continue\n",
    "\n",
    "            merchant_arr = np.append(merchant_arr, i)\n",
    "            category_arr = np.append(category_arr, category)\n",
    "\n",
    "    \n",
    "    # Create data frame of unique merchant and category pair.\n",
    "    untracked_merchant_df = pd.DataFrame({\n",
    "        \"Merchant\": merchant_arr,\n",
    "        \"Category\": category_arr\n",
    "    })\n",
    "\n",
    "    return untracked_merchant_df\n",
    "\n",
    "untracked_merchant(db)"
   ]
  },
  {
   "source": [
    "#### 'Merchants' who has'Category' value w/ 'Other' needs to be updated\n",
    "#### 'Unknown' used for transactions cannot be remembered.  "
   ],
   "cell_type": "markdown",
   "metadata": {}
  },
  {
   "cell_type": "code",
   "execution_count": 222,
   "metadata": {},
   "outputs": [
    {
     "output_type": "stream",
     "name": "stdout",
     "text": [
      "Grocery\n    Month Day  Year              Merchant Category      Type  Amount (USD)\n5      05  21  2020                H Mart  Grocery  Purchase        122.18\n7      05  27  2020    Amazon Marketplace  Grocery  Purchase        217.52\n11     05  28  2020    Amazon Marketplace  Grocery  Purchase         98.31\n12     05  28  2020    Amazon Marketplace  Grocery  Purchase        240.19\n13     05  28  2020    Amazon Marketplace  Grocery  Purchase         85.16\n14     05  28  2020    Amazon Marketplace  Grocery  Purchase         68.81\n16     05  28  2020                H Mart  Grocery  Purchase          8.80\n18     05  29  2020    Amazon Marketplace  Grocery  Purchase          6.54\n30     06  08  2020                H Mart  Grocery  Purchase        254.34\n35     06  13  2020  Koreana Plaza Market  Grocery  Purchase         93.06\n49     07  10  2020    Amazon Marketplace  Grocery  Purchase         25.84\n50     07  10  2020    Amazon Marketplace  Grocery  Purchase         14.19\n58     07  28  2020     Tokyo Fish Market  Grocery  Purchase         35.26\n167    12  31  2020    Amazon Marketplace  Grocery  Purchase         16.70\n177    01  02  2021    Amazon Marketplace  Grocery  Purchase         48.17\n182    01  05  2021    Amazon Marketplace  Grocery  Purchase         16.70\n184    01  05  2021  Koreana Plaza Market  Grocery  Purchase          2.16\n185    01  05  2021  Koreana Plaza Market  Grocery  Purchase         55.28\n192    01  07  2021  Koreana Plaza Market  Grocery  Purchase         31.47\n219    01  19  2021               Safeway  Grocery  Purchase         30.64\n227    01  29  2021                H Mart  Grocery  Purchase         94.19\n235    02  10  2021     Tokyo Fish Market  Grocery  Purchase         34.31\n244    02  26  2021                H Mart  Grocery  Purchase         58.12\n277    04  19  2021               Safeway  Grocery  Purchase          3.27\n288    04  22  2021               Safeway  Grocery  Purchase         10.39\n301    04  27  2021               Safeway  Grocery  Purchase          8.96\nUtilities\n    Month Day  Year              Merchant   Category      Type  Amount (USD)\n20     05  30  2020   Extra Space Storage  Utilities  Purchase         79.20\n41     06  30  2020   Extra Space Storage  Utilities  Purchase         55.20\n60     07  30  2020   Extra Space Storage  Utilities  Purchase         55.20\n77     08  30  2020   Extra Space Storage  Utilities  Purchase         55.20\n89     09  30  2020   Extra Space Storage  Utilities  Purchase         55.20\n115    10  30  2020   Extra Space Storage  Utilities  Purchase         55.20\n128    11  17  2020  Homeowners Insurance  Utilities  Purchase        160.00\n132    11  30  2020   Extra Space Storage  Utilities  Purchase         55.20\n165    12  30  2020              T-Mobile  Utilities  Purchase         37.63\n166    12  30  2020   Extra Space Storage  Utilities  Purchase         55.20\n218    01  18  2021   Extra Space Storage  Utilities  Purchase         48.00\n225    01  27  2021      trashwarrior.com  Utilities  Purchase         95.00\n240    02  18  2021   Extra Space Storage  Utilities  Purchase         24.00\n256    03  18  2021   Extra Space Storage  Utilities  Purchase         24.00\n262    03  26  2021   Extra Space Storage  Utilities  Purchase         78.67\n266    03  31  2021              T-Mobile  Utilities  Purchase         26.68\n276    04  18  2021   Extra Space Storage  Utilities  Purchase         24.00\n300    04  26  2021   Extra Space Storage  Utilities  Purchase         35.20\nAutomobile\n    Month Day  Year                Merchant    Category      Type  \\\n10     05  27  2020                 Chevron  Automobile  Purchase   \n74     08  29  2020                   Geico  Automobile  Purchase   \n90     09  30  2020                   Geico  Automobile  Purchase   \n119    11  05  2020                   Geico  Automobile  Purchase   \n120    11  06  2020                 FasTrak  Automobile  Purchase   \n136    11  30  2020                   Geico  Automobile  Purchase   \n148    12  05  2020                 FasTrak  Automobile  Purchase   \n161    12  29  2020                 FasTrak  Automobile  Purchase   \n162    12  30  2020                   Geico  Automobile  Purchase   \n229    01  30  2021                   Geico  Automobile  Purchase   \n247    03  01  2021                   Geico  Automobile  Purchase   \n249    03  05  2021                 FasTrak  Automobile  Purchase   \n260    03  24  2021                 FasTrak  Automobile  Purchase   \n268    04  01  2021                   Geico  Automobile  Purchase   \n295    04  25  2021  City of LA Dot Pvb Pbp  Automobile  Purchase   \n\n     Amount (USD)  \n10           2.09  \n74         290.95  \n90         460.40  \n119        366.36  \n120         25.00  \n136        366.36  \n148         25.00  \n161         25.00  \n162        415.38  \n229        335.16  \n247        265.54  \n249         25.00  \n260         25.00  \n268        264.66  \n295         65.00  \nUnknown\n    Month Day  Year             Merchant Category      Type  Amount (USD)\n8      05  27  2020          Chase Jayne  Unknown  Purchase          2.79\n29     06  05  2020  Zoomy's Santa Nella  Unknown  Purchase         42.49\n63     07  31  2020    Hornblower Yachts  Unknown  Purchase         20.00\n108    10  20  2020    Aventri Event Reg  Unknown  Purchase         70.00\n146    12  04  2020          updater.com  Unknown  Purchase          1.00\nTuition\n    Month Day  Year                Merchant Category      Type  Amount (USD)\n117    11  01  2020             UC Awpe Fee  Tuition  Purchase         110.0\n152    12  08  2020  Contra Costa Comm Coll  Tuition  Purchase         145.0\nGeneral\n    Month Day  Year                Merchant Category      Type  Amount (USD)\n4      05  21  2020            CVS Pharmacy  General  Purchase         54.61\n112    10  25  2020                 Stellar  General  Purchase         69.99\n145    12  03  2020     Amazon Web Services  General  Purchase         80.34\n151    12  08  2020  Service Dog Certificat  General  Purchase         76.99\n172    01  01  2021            CVS Pharmacy  General  Purchase          7.67\n178    01  03  2021     Amazon Web Services  General  Purchase         20.72\n212    01  15  2021                   FedEx  General  Purchase          2.93\n213    01  15  2021           The UPS Store  General  Purchase         14.52\nPayment\n    Month Day  Year      Merchant Category     Type  Amount (USD)\n6      05  24  2020  Card payment  Payment  Payment       -232.79\n42     06  30  2020  Card payment  Payment  Payment       -430.77\n46     07  05  2020  Card payment  Payment  Payment      -1645.08\n75     08  29  2020  Card payment  Payment  Payment       -683.73\n92     09  30  2020  Card payment  Payment  Payment       -303.94\n116    10  31  2020  Card payment  Payment  Payment       -868.26\n123    11  10  2020  Card payment  Payment  Payment       -708.94\n134    11  30  2020  Card payment  Payment  Payment       -220.76\n135    11  30  2020  Card payment  Payment  Payment        -49.80\n150    12  08  2020  Card payment  Payment  Payment       -811.27\n170    01  01  2021  Card payment  Payment  Payment       -792.36\n187    01  06  2021  Card payment  Payment  Payment       -755.99\n193    01  08  2021  Card payment  Payment  Payment       -300.19\n217    01  16  2021  Card payment  Payment  Payment       -403.50\n232    02  02  2021  Card payment  Payment  Payment       -546.77\n242    02  23  2021  Card payment  Payment  Payment       -278.77\n255    03  14  2021  Card payment  Payment  Payment       -438.55\n261    03  25  2021  Card payment  Payment  Payment       -103.63\n263    03  29  2021  Card payment  Payment  Payment       -103.67\n271    04  04  2021  Card payment  Payment  Payment       -343.30\n275    04  15  2021  Card payment  Payment  Payment        -40.96\n296    04  25  2021  Card payment  Payment  Payment       -310.88\nTravel\n    Month Day  Year Merchant Category      Type  Amount (USD)\n69     08  12  2020   Airbnb   Travel  Purchase        136.53\n70     08  12  2020   Airbnb   Travel  Purchase        243.80\n72     08  21  2020   Airbnb   Travel  Purchase       -136.53\n86     09  15  2020   Airbnb   Travel  Purchase        336.01\n87     09  20  2020   Airbnb   Travel  Purchase        153.71\n97     10  06  2020   Airbnb   Travel  Purchase        124.48\n113    10  29  2020   Airbnb   Travel  Purchase       -243.80\n118    11  02  2020   Airbnb   Travel  Purchase        160.54\n153    12  12  2020   Airbnb   Travel  Purchase        171.55\n158    12  20  2020   Airbnb   Travel  Purchase        -58.94\nRestaurants\n    Month Day  Year                Merchant     Category      Type  \\\n0      05  16  2020               Postmates  Restaurants  Purchase   \n1      05  19  2020         In-N-Out Burger  Restaurants  Purchase   \n3      05  21  2020             Jamba Juice  Restaurants  Purchase   \n9      05  27  2020             Burger King  Restaurants  Purchase   \n17     05  29  2020               Postmates  Restaurants  Purchase   \n19     05  29  2020       Hwal A Kwang Jang  Restaurants  Purchase   \n23     05  30  2020                DoorDash  Restaurants  Purchase   \n26     06  01  2020         In-N-Out Burger  Restaurants  Purchase   \n28     06  05  2020                DoorDash  Restaurants  Purchase   \n32     06  10  2020               Postmates  Restaurants  Purchase   \n36     06  15  2020               Postmates  Restaurants  Purchase   \n37     06  17  2020               Postmates  Restaurants  Purchase   \n38     06  18  2020               Postmates  Restaurants  Purchase   \n40     06  28  2020               Postmates  Restaurants  Purchase   \n51     07  11  2020               Starbucks  Restaurants  Purchase   \n53     07  13  2020               Postmates  Restaurants  Purchase   \n56     07  19  2020             Papa John's  Restaurants  Purchase   \n84     09  13  2020               Postmates  Restaurants  Purchase   \n102    10  13  2020               Postmates  Restaurants  Purchase   \n124    11  13  2020               Postmates  Restaurants  Purchase   \n155    12  13  2020               Postmates  Restaurants  Purchase   \n174    01  01  2021         In-N-Out Burger  Restaurants  Purchase   \n188    01  06  2021        Humphry Slocombe  Restaurants  Purchase   \n190    01  07  2021            Seoul Hotdog  Restaurants  Purchase   \n194    01  09  2021        Humphry Slocombe  Restaurants  Purchase   \n195    01  09  2021            Seoul Hotdog  Restaurants  Purchase   \n210    01  13  2021         In-N-Out Burger  Restaurants  Purchase   \n216    01  16  2021            Seoul Hotdog  Restaurants  Purchase   \n221    01  25  2021         In-N-Out Burger  Restaurants  Purchase   \n226    01  29  2021      Bazak Bazak Rice H  Restaurants  Purchase   \n238    02  14  2021           Panda Express  Restaurants  Purchase   \n239    02  18  2021  Kansai Japanese Restur  Restaurants  Purchase   \n243    02  24  2021           Panda Express  Restaurants  Purchase   \n292    04  23  2021          Homeroom To-Go  Restaurants  Purchase   \n299    04  26  2021  BB* Marufuku Ramen Oak  Restaurants  Purchase   \n302    04  28  2021      Humphry Slocombe I  Restaurants  Purchase   \n303    04  29  2021             Papa John's  Restaurants  Purchase   \n304    04  29  2021            Seoul Hotdog  Restaurants  Purchase   \n\n     Amount (USD)  \n0           22.93  \n1           16.30  \n3           13.78  \n9            9.25  \n17          35.62  \n19         109.49  \n23          27.24  \n26          14.27  \n28         139.84  \n32          22.50  \n36          20.25  \n37          18.11  \n38          21.74  \n40          45.86  \n51          25.00  \n53          19.82  \n56          30.57  \n84           9.99  \n102          9.99  \n124          9.99  \n155          9.99  \n174         10.15  \n188          9.99  \n190          9.26  \n194         19.98  \n195          9.81  \n210         10.15  \n216          6.54  \n221         10.15  \n226          4.50  \n238         10.95  \n239         14.15  \n243         13.96  \n292         13.75  \n299         25.67  \n302         19.98  \n303         21.84  \n304         10.90  \nSubscription\n    Month Day  Year            Merchant      Category      Type  Amount (USD)\n33     06  12  2020        Amazon Music  Subscription  Purchase          0.99\n52     07  12  2020        Amazon Music  Subscription  Purchase          0.99\n68     08  12  2020        Amazon Music  Subscription  Purchase          0.99\n82     09  12  2020        Amazon Music  Subscription  Purchase          0.99\n101    10  12  2020        Amazon Music  Subscription  Purchase          0.99\n241    02  23  2021  www.coursehero.com  Subscription  Purchase        119.40\nCredit\n    Month Day  Year                 Merchant Category    Type  Amount (USD)\n103    10  14  2020  Postmate dispute credit   Credit  Credit         -9.99\n109    10  20  2020   Aventri dispute credit   Credit  Credit        -70.00\n125    11  13  2020  Postmate dispute credit   Credit  Credit         -9.99\n142    12  01  2020     Geico dispute credit   Credit  Credit       -366.36\n144    12  03  2020       AWS dispute credit   Credit  Credit        -80.34\n154    12  12  2020  Postmate dispute credit   Credit  Credit         -9.99\nEntertainment\n    Month Day  Year            Merchant       Category      Type  Amount (USD)\n21     05  30  2020  Discount Cigarette  Entertainment  Purchase         76.75\n22     05  30  2020            Big AL S  Entertainment  Purchase         76.46\n24     05  31  2020      Apple Services  Entertainment  Purchase         12.99\n25     05  31  2020      Apple Services  Entertainment  Purchase          2.99\n27     06  04  2020      Apple Services  Entertainment  Purchase         30.99\n..    ...  ..   ...                 ...            ...       ...           ...\n297    04  25  2021      Apple Services  Entertainment  Purchase         49.99\n298    04  26  2021      Apple Services  Entertainment  Purchase          3.99\n305    04  29  2021      Apple Services  Entertainment  Purchase         19.99\n306    04  29  2021      Apple Services  Entertainment  Purchase          4.99\n307    04  30  2021      Apple Services  Entertainment  Purchase          2.99\n\n[123 rows x 7 columns]\nSubscriptions\n    Month Day  Year      Merchant       Category      Type  Amount (USD)\n175    01  02  2021    Soundcloud  Subscriptions  Purchase          4.99\n189    01  06  2021  Amazon Prime  Subscriptions  Purchase         64.61\n231    02  01  2021    Soundcloud  Subscriptions  Purchase          4.99\n248    03  03  2021    Soundcloud  Subscriptions  Purchase          4.99\n269    04  02  2021    Soundcloud  Subscriptions  Purchase          4.99\nShopping\n    Month Day  Year     Merchant  Category      Type  Amount (USD)\n15     05  28  2020   Home Depot  Shopping  Purchase          5.48\n34     06  12  2020       Amazon  Shopping  Purchase         54.59\n48     07  10  2020       Amazon  Shopping  Purchase         26.41\n54     07  18  2020       Amazon  Shopping  Purchase         29.46\n55     07  18  2020       Amazon  Shopping  Purchase         23.59\n80     09  02  2020       Amazon  Shopping  Purchase         21.84\n169    12  31  2020       Amazon  Shopping  Purchase        215.90\n171    01  01  2021  Dollar Tree  Shopping  Purchase         14.47\n176    01  02  2021       Amazon  Shopping  Purchase         37.54\n183    01  05  2021       Amazon  Shopping  Purchase          1.62\n186    01  05  2021    Marshalls  Shopping  Purchase         15.33\n211    01  14  2021       Amazon  Shopping  Purchase         39.99\n214    01  16  2021       Amazon  Shopping  Purchase         18.33\n215    01  16  2021       Amazon  Shopping  Purchase        131.39\nOther\n    Month Day  Year               Merchant Category      Type  Amount (USD)\n2      05  19  2020          Lim*Ride Cost    Other  Purchase          2.99\n73     08  22  2020  Daily Cash Adjustment    Other     Debit          2.73\n114    10  29  2020  Daily Cash Adjustment    Other     Debit          4.88\n126    11  14  2020  Daily Cash Adjustment    Other     Debit          0.20\n130    11  19  2020  Daily Cash Adjustment    Other     Debit          0.20\n156    12  13  2020  Daily Cash Adjustment    Other     Debit          0.70\n157    12  14  2020  Daily Cash Adjustment    Other     Debit          0.20\n159    12  21  2020  Daily Cash Adjustment    Other     Debit          1.18\n222    01  25  2021  Daily Cash Adjustment    Other     Debit          0.80\n257    03  19  2021  Daily Cash Adjustment    Other     Debit          3.66\n"
     ]
    }
   ],
   "source": [
    "# By each category\n",
    "for category in list(set(db.Category)):\n",
    "    print(category)\n",
    "    tmp = db.loc[db['Category'] == category]\n",
    "    print(tmp)"
   ]
  },
  {
   "cell_type": "code",
   "execution_count": 231,
   "metadata": {},
   "outputs": [
    {
     "output_type": "stream",
     "name": "stdout",
     "text": [
      "                       Amount (USD)\nCategory   Year Month              \nAutomobile 2020 05             2.09\n                08           290.95\n                09           460.40\n                11           757.72\n                12           465.38\n...                             ...\nUtilities  2020 12            92.83\n           2021 01           143.00\n                02            24.00\n                03           129.35\n                04            59.20\n\n[103 rows x 1 columns]\n"
     ]
    }
   ],
   "source": [
    "# By each category and month\n",
    "print(db.groupby(by=['Category', 'Year', 'Month']).sum())"
   ]
  },
  {
   "source": [
    "## Remove all files after reading them\n",
    "## Check whether any file in the directory for update\n",
    "## "
   ],
   "cell_type": "markdown",
   "metadata": {}
  },
  {
   "source": [
    "# 2. Analysis\n",
    "## 2.1 By type\n",
    "### purchase and payment\n",
    "## 2.2 Merchant and Disctionary\n",
    "### Unique merchant\n",
    "#### Update merchant dictionary\n",
    "### Monthly spending on each merchant and category \n",
    "## 2.3 Monthly report "
   ],
   "cell_type": "markdown",
   "metadata": {}
  },
  {
   "cell_type": "code",
   "execution_count": 232,
   "metadata": {},
   "outputs": [
    {
     "output_type": "stream",
     "name": "stdout",
     "text": [
      "   Month Day  Year                Merchant       Category      Type  \\\n40    03  31  2021                T-Mobile      Utilities  Purchase   \n39    04  01  2021                   Geico     Automobile  Purchase   \n38    04  02  2021              Soundcloud  Subscriptions  Purchase   \n36    04  03  2021          Apple Services  Entertainment  Purchase   \n35    04  08  2021          Apple Services  Entertainment  Purchase   \n34    04  08  2021          Apple Services  Entertainment  Purchase   \n33    04  13  2021          Apple Services  Entertainment  Purchase   \n31    04  18  2021     Extra Space Storage      Utilities  Purchase   \n29    04  19  2021                 Safeway        Grocery  Purchase   \n28    04  20  2021          Apple Services  Entertainment  Purchase   \n30    04  20  2021          Apple Services  Entertainment  Purchase   \n26    04  21  2021          Apple Services  Entertainment  Purchase   \n25    04  21  2021          Apple Services  Entertainment  Purchase   \n24    04  21  2021          Apple Services  Entertainment  Purchase   \n23    04  21  2021          Apple Services  Entertainment  Purchase   \n27    04  22  2021  The One Wireless & Gif  Entertainment  Purchase   \n22    04  22  2021          Apple Services  Entertainment  Purchase   \n21    04  22  2021          Apple Services  Entertainment  Purchase   \n20    04  22  2021          Apple Services  Entertainment  Purchase   \n18    04  22  2021                 Safeway        Grocery  Purchase   \n17    04  22  2021          Apple Services  Entertainment  Purchase   \n16    04  22  2021          Apple Services  Entertainment  Purchase   \n19    04  22  2021          Apple Services  Entertainment  Purchase   \n15    04  23  2021          Homeroom To-Go    Restaurants  Purchase   \n13    04  24  2021          Apple Services  Entertainment  Purchase   \n12    04  24  2021          Apple Services  Entertainment  Purchase   \n9     04  25  2021  City of LA Dot Pvb Pbp     Automobile  Purchase   \n11    04  25  2021          Apple Services  Entertainment  Purchase   \n10    04  26  2021          Apple Services  Entertainment  Purchase   \n8     04  26  2021  BB* Marufuku Ramen Oak    Restaurants  Purchase   \n7     04  26  2021     Extra Space Storage      Utilities  Purchase   \n6     04  27  2021                 Safeway        Grocery  Purchase   \n5     04  28  2021      Humphry Slocombe I    Restaurants  Purchase   \n4     04  29  2021             Papa John's    Restaurants  Purchase   \n3     04  29  2021            Seoul Hotdog    Restaurants  Purchase   \n2     04  29  2021          Apple Services  Entertainment  Purchase   \n1     04  29  2021          Apple Services  Entertainment  Purchase   \n0     04  30  2021          Apple Services  Entertainment  Purchase   \n\n    Amount (USD)  \n40         26.68  \n39        264.66  \n38          4.99  \n36          3.99  \n35          2.99  \n34          2.99  \n33         30.99  \n31         24.00  \n29          3.27  \n28          2.99  \n30          2.99  \n26         19.99  \n25          4.99  \n24          4.99  \n23          4.99  \n27         93.59  \n22         19.99  \n21         49.99  \n20         19.99  \n18         10.39  \n17          9.99  \n16          4.99  \n19         19.99  \n15         13.75  \n13          2.99  \n12          2.99  \n9          65.00  \n11         49.99  \n10          3.99  \n8          25.67  \n7          35.20  \n6           8.96  \n5          19.98  \n4          21.84  \n3          10.90  \n2          19.99  \n1           4.99  \n0           2.99  \n   Month Day  Year      Merchant Category     Type  Amount (USD)\n37    04  04  2021  Card payment  Payment  Payment       -343.30\n32    04  15  2021  Card payment  Payment  Payment        -40.96\n14    04  25  2021  Card payment  Payment  Payment       -310.88\n"
     ]
    }
   ],
   "source": [
    "purchase = april_df[april_df['Type'] == \"Purchase\"]\n",
    "print(purchase)\n",
    "payment = april_df[april_df['Type'] == \"Payment\"]\n",
    "print(payment)"
   ]
  },
  {
   "cell_type": "code",
   "execution_count": null,
   "metadata": {},
   "outputs": [],
   "source": []
  }
 ]
}