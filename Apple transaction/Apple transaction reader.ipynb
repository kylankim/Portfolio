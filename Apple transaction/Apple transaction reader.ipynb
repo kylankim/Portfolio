{
 "metadata": {
  "language_info": {
   "codemirror_mode": {
    "name": "ipython",
    "version": 3
   },
   "file_extension": ".py",
   "mimetype": "text/x-python",
   "name": "python",
   "nbconvert_exporter": "python",
   "pygments_lexer": "ipython3",
   "version": "3.8.1"
  },
  "orig_nbformat": 2,
  "kernelspec": {
   "name": "python381jvsc74a57bd0335859b7650a8185b200f498a77266c8d8a93f594ef9b4f6c689ea286881adc9",
   "display_name": "Python 3.8.1 32-bit"
  }
 },
 "nbformat": 4,
 "nbformat_minor": 2,
 "cells": [
  {
   "cell_type": "code",
   "execution_count": 4,
   "metadata": {},
   "outputs": [],
   "source": [
    "import numpy as np\n",
    "import pandas as pd\n",
    "import matplotlib.pyplot as plt\n",
    "import os\n",
    "\n",
    "pd.set_option('display.max_rows', 40)"
   ]
  },
  {
   "source": [
    "## Read csv files from db directory"
   ],
   "cell_type": "markdown",
   "metadata": {}
  },
  {
   "source": [
    "# file and DB URL\n",
    "db_url = \"C:/Users/hyo05/Documents/Portfolio/Apple transaction/csv/\"\n",
    "file_url = db_url + \"Apple Card Transactions - April 2021.csv\""
   ],
   "cell_type": "code",
   "metadata": {},
   "execution_count": 5,
   "outputs": []
  },
  {
   "source": [
    "# 1.2 Transaction datre\n",
    "Step 2. "
   ],
   "cell_type": "markdown",
   "metadata": {}
  },
  {
   "source": [
    "# Step 1. Data cleaning"
   ],
   "cell_type": "markdown",
   "metadata": {}
  },
  {
   "source": [
    "## 1.1 Reading a csv file and create data frame"
   ],
   "cell_type": "markdown",
   "metadata": {}
  },
  {
   "source": [
    "### Rematch falsely matched pair of Merchant and Category.  "
   ],
   "cell_type": "markdown",
   "metadata": {}
  },
  {
   "cell_type": "code",
   "execution_count": null,
   "metadata": {},
   "outputs": [],
   "source": []
  },
  {
   "source": [
    "# Define mecrchant and category dictionary for pair of merchant and category that does not match up with each other in the original data set.\n",
    "apple_category_dict = {\n",
    "    'Apple Services' : 'Entertainment',\n",
    "    'Extra Space Storage' : 'Utilities',\n",
    "    'Geico' : 'Automobile',\n",
    "    'City of LA Dot Pvb Pbp' : 'Automobile',\n",
    "    'Soundcloud' : 'Subscriptions',\n",
    "    'T-Mobile' : 'Utilities',\n",
    "    'FasTrak' : 'Automobile',\n",
    "    'Marshalls' : 'Shopping',\n",
    "    'trashwarrior.com' : 'Utilities',\n",
    "    'Koreana Plaza Market' : 'Grocery',\n",
    "    'Airbnb' : 'Travel',\n",
    "    'Daily Cash Adjustment' : 'Other',\n",
    "    'Chase Jayne' : 'Unknown',\n",
    "    'Lim*Ride Cost' : 'General',\n",
    "    \"Zoomy's Santa Nella\" : \"Unknown\",\n",
    "    'H Mart' : 'Grocery',\n",
    "    'Soundcloud' : 'Subscriptions',\n",
    "    'Chevron' : 'Automobile',\n",
    "    'Homeowners Insurance' : 'Utilities',\n",
    "    'Tokyo Fish Market' : 'Grocery',\n",
    "    'Safeway' : 'Grocery',\n",
    "    'Discount Cigarette' : 'Entertainment',\n",
    "    'Amazon Marketplace' : 'Grocery',\n",
    "    'Amazon Music' : 'Subscription',\n",
    "    'Dollar Tree' : 'Shopping',\n",
    "    'www.coursehero.com' : 'Subscription',\n",
    "    'updater.com' : 'Unknown',\n",
    "    'Stellar' : 'General',\n",
    "    'Amazon Web Services' : 'General',\n",
    "    'The One Wireless & Gif' : 'Entertainment',\n",
    "    'Amazon' : 'Shopping',\n",
    "    'Big AL S' : 'Entertainment',\n",
    "    'The UPS Store' : 'General',\n",
    "    'Hornblower Yachts' : 'Unknown',\n",
    "    'Card payment' : 'Payment',\n",
    "    'Home Depot' : 'Shopping',\n",
    "    'Aventri Event Reg' : 'Unknown',\n",
    "    'UC Awpe Fee' : 'Tuition',\n",
    "    'Element Vape' : 'Entertainment',\n",
    "    'CVS Pharmacy' : 'General',\n",
    "    'Amazon Prime' : 'Subscriptions',\n",
    "    'FedEx' : 'General',\n",
    "    'Service Dog Certificat' : 'General',\n",
    "    'Contra Costa Comm Coll' : 'Tuition'\n",
    "    }"
   ],
   "cell_type": "code",
   "metadata": {},
   "execution_count": 6,
   "outputs": []
  },
  {
   "cell_type": "code",
   "execution_count": 7,
   "metadata": {},
   "outputs": [],
   "source": [
    "apple_merchant_long_dict = {\n",
    "    \"Ach Deposit Internet Transfer From Account Ending In 3437\" : \"Card payment\",\n",
    "    'Geico *auto One Geico Plaza 800-841-3000 20076 Dc Usa (dispute Credit)' : 'Geico dispute credit',\n",
    "    'Postmates Membership 201 3rd Stsuite 200 8778877815 94103 Ca Usa (dispute Credit)' : 'Postmate dispute credit',\n",
    "    'Aventri Event Reg 7700 Eastport Parkway 2034039470 06854 Ct Usa (dispute Credit)' : 'Aventri dispute credit',\n",
    "    'Amazon Web Services 440 Terry Ave N Aws.amazon.co98109 Wa Usa (dispute Credit)' : 'AWS dispute credit'\n",
    "}"
   ]
  },
  {
   "cell_type": "code",
   "execution_count": 8,
   "metadata": {},
   "outputs": [],
   "source": [
    "# Search for merchants in the dictionary and edit category if the merchant exists. \n",
    "def match_category(df, long_dict, category_dict):\n",
    "    \n",
    "    for index, row in df.iterrows():\n",
    "        # Shortening long mervhant names.\n",
    "        if row['Merchant'] in long_dict.keys():\n",
    "            df.at[index, 'Merchant'] = long_dict.get(row['Merchant'])\n",
    "\n",
    "        # Matching correct category.\n",
    "        if row['Merchant'] in category_dict.keys():\n",
    "            df.at[index, 'Category'] = category_dict.get(row['Merchant'])\n",
    "\n",
    "    return df"
   ]
  },
  {
   "source": [
    "### Divide 'Transaction Date' column into 3 columns: Month, Day, Year"
   ],
   "cell_type": "markdown",
   "metadata": {}
  },
  {
   "cell_type": "code",
   "execution_count": 9,
   "metadata": {},
   "outputs": [],
   "source": [
    "# Cleaning date into Month, Day, Year for future operations\n",
    "def clean_date(df):\n",
    "\n",
    "    month = np.array([]).astype(int)\n",
    "    day = np.array([]).astype(int)\n",
    "    year = np.array([]).astype(int)\n",
    "\n",
    "    for index, row in df.iterrows():\n",
    "        date = row['Transaction Date'].split('/')\n",
    "        month = np.append(month, date[0])\n",
    "        day = np.append(day, date[1])\n",
    "        year = np.append(year, date[2])\n",
    "\n",
    "    # Insert Month, Day, Year column and drop 'Transaction Date' column.\n",
    "    df.insert(0, 'Month', month)\n",
    "    df.insert(1, 'Day', day)\n",
    "    df.insert(2, 'Year', year)\n",
    "    df = df.drop(columns=['Transaction Date'])\n",
    "\n",
    "    return df"
   ]
  },
  {
   "cell_type": "code",
   "execution_count": 10,
   "metadata": {},
   "outputs": [
    {
     "output_type": "stream",
     "name": "stdout",
     "text": [
      "   Month Day  Year        Merchant       Category      Type  Amount (USD)\n40    03  31  2021        T-Mobile      Utilities  Purchase         26.68\n39    04  01  2021           Geico     Automobile  Purchase        264.66\n38    04  02  2021      Soundcloud  Subscriptions  Purchase          4.99\n36    04  03  2021  Apple Services  Entertainment  Purchase          3.99\n37    04  04  2021    Card payment        Payment   Payment       -343.30\n..   ...  ..   ...             ...            ...       ...           ...\n4     04  29  2021     Papa John's    Restaurants  Purchase         21.84\n3     04  29  2021    Seoul Hotdog    Restaurants  Purchase         10.90\n2     04  29  2021  Apple Services  Entertainment  Purchase         19.99\n1     04  29  2021  Apple Services  Entertainment  Purchase          4.99\n0     04  30  2021  Apple Services  Entertainment  Purchase          2.99\n\n[41 rows x 7 columns]\n"
     ]
    }
   ],
   "source": [
    "def read_csv(f_url, long_dict, cat_dcit):\n",
    "    # Reading csv file for selected columns and create and sort dataframe by the Transaction date\n",
    "    f_df = pd.read_csv(f_url)[['Transaction Date', 'Merchant', 'Category', 'Type', 'Amount (USD)']]\n",
    "    f_df = f_df.sort_values(by=['Transaction Date'])\n",
    "\n",
    "    # Cleaning Merchant and Category\n",
    "    f_df = match_category(f_df, long_dict, cat_dcit)\n",
    "\n",
    "    # Clean 'Transaction Date' column. \n",
    "    f_df = clean_date(f_df)\n",
    "\n",
    "    return f_df\n",
    "\n",
    "april_df = read_csv(file_url, apple_merchant_long_dict, apple_category_dict)\n",
    "print(april_df)"
   ]
  },
  {
   "source": [
    "## 1.2 Read all csv files from DB."
   ],
   "cell_type": "markdown",
   "metadata": {}
  },
  {
   "source": [
    "### Read all files from DB."
   ],
   "cell_type": "markdown",
   "metadata": {}
  },
  {
   "cell_type": "code",
   "execution_count": 11,
   "metadata": {
    "tags": []
   },
   "outputs": [
    {
     "output_type": "execute_result",
     "data": {
      "text/plain": [
       "    Month Day  Year         Merchant       Category      Type  Amount (USD)\n",
       "0      05  16  2020        Postmates    Restaurants  Purchase         22.93\n",
       "1      05  19  2020  In-N-Out Burger    Restaurants  Purchase         16.30\n",
       "2      05  19  2020    Lim*Ride Cost        General  Purchase          2.99\n",
       "3      05  21  2020      Jamba Juice    Restaurants  Purchase         13.78\n",
       "4      05  21  2020     CVS Pharmacy        General  Purchase         54.61\n",
       "..    ...  ..   ...              ...            ...       ...           ...\n",
       "303    04  29  2021      Papa John's    Restaurants  Purchase         21.84\n",
       "304    04  29  2021     Seoul Hotdog    Restaurants  Purchase         10.90\n",
       "305    04  29  2021   Apple Services  Entertainment  Purchase         19.99\n",
       "306    04  29  2021   Apple Services  Entertainment  Purchase          4.99\n",
       "307    04  30  2021   Apple Services  Entertainment  Purchase          2.99\n",
       "\n",
       "[308 rows x 7 columns]"
      ],
      "text/html": "<div>\n<style scoped>\n    .dataframe tbody tr th:only-of-type {\n        vertical-align: middle;\n    }\n\n    .dataframe tbody tr th {\n        vertical-align: top;\n    }\n\n    .dataframe thead th {\n        text-align: right;\n    }\n</style>\n<table border=\"1\" class=\"dataframe\">\n  <thead>\n    <tr style=\"text-align: right;\">\n      <th></th>\n      <th>Month</th>\n      <th>Day</th>\n      <th>Year</th>\n      <th>Merchant</th>\n      <th>Category</th>\n      <th>Type</th>\n      <th>Amount (USD)</th>\n    </tr>\n  </thead>\n  <tbody>\n    <tr>\n      <th>0</th>\n      <td>05</td>\n      <td>16</td>\n      <td>2020</td>\n      <td>Postmates</td>\n      <td>Restaurants</td>\n      <td>Purchase</td>\n      <td>22.93</td>\n    </tr>\n    <tr>\n      <th>1</th>\n      <td>05</td>\n      <td>19</td>\n      <td>2020</td>\n      <td>In-N-Out Burger</td>\n      <td>Restaurants</td>\n      <td>Purchase</td>\n      <td>16.30</td>\n    </tr>\n    <tr>\n      <th>2</th>\n      <td>05</td>\n      <td>19</td>\n      <td>2020</td>\n      <td>Lim*Ride Cost</td>\n      <td>General</td>\n      <td>Purchase</td>\n      <td>2.99</td>\n    </tr>\n    <tr>\n      <th>3</th>\n      <td>05</td>\n      <td>21</td>\n      <td>2020</td>\n      <td>Jamba Juice</td>\n      <td>Restaurants</td>\n      <td>Purchase</td>\n      <td>13.78</td>\n    </tr>\n    <tr>\n      <th>4</th>\n      <td>05</td>\n      <td>21</td>\n      <td>2020</td>\n      <td>CVS Pharmacy</td>\n      <td>General</td>\n      <td>Purchase</td>\n      <td>54.61</td>\n    </tr>\n    <tr>\n      <th>...</th>\n      <td>...</td>\n      <td>...</td>\n      <td>...</td>\n      <td>...</td>\n      <td>...</td>\n      <td>...</td>\n      <td>...</td>\n    </tr>\n    <tr>\n      <th>303</th>\n      <td>04</td>\n      <td>29</td>\n      <td>2021</td>\n      <td>Papa John's</td>\n      <td>Restaurants</td>\n      <td>Purchase</td>\n      <td>21.84</td>\n    </tr>\n    <tr>\n      <th>304</th>\n      <td>04</td>\n      <td>29</td>\n      <td>2021</td>\n      <td>Seoul Hotdog</td>\n      <td>Restaurants</td>\n      <td>Purchase</td>\n      <td>10.90</td>\n    </tr>\n    <tr>\n      <th>305</th>\n      <td>04</td>\n      <td>29</td>\n      <td>2021</td>\n      <td>Apple Services</td>\n      <td>Entertainment</td>\n      <td>Purchase</td>\n      <td>19.99</td>\n    </tr>\n    <tr>\n      <th>306</th>\n      <td>04</td>\n      <td>29</td>\n      <td>2021</td>\n      <td>Apple Services</td>\n      <td>Entertainment</td>\n      <td>Purchase</td>\n      <td>4.99</td>\n    </tr>\n    <tr>\n      <th>307</th>\n      <td>04</td>\n      <td>30</td>\n      <td>2021</td>\n      <td>Apple Services</td>\n      <td>Entertainment</td>\n      <td>Purchase</td>\n      <td>2.99</td>\n    </tr>\n  </tbody>\n</table>\n<p>308 rows × 7 columns</p>\n</div>"
     },
     "metadata": {},
     "execution_count": 11
    }
   ],
   "source": [
    "def initiate_db():\n",
    "    # Create empty dataframe with cloumn labels \n",
    "    c_label = ['Month', 'Day', 'Year', 'Merchant', 'Category', 'Type', 'Amount (USD)']\n",
    "    raw_df = pd.DataFrame(columns=c_label)\n",
    "\n",
    "    # For each files in the DB append raw \n",
    "    for i in os.listdir(db_url):\n",
    "        f_url = db_url + i\n",
    "        tmp = read_csv(f_url, apple_merchant_long_dict, apple_category_dict)\n",
    "        raw_df = raw_df.append(tmp, ignore_index=True)\n",
    "\n",
    "    # Sorting by date\n",
    "    raw_df = raw_df.sort_values(by=['Year', 'Month', 'Day'])\n",
    "\n",
    "    # Reindexing\n",
    "    raw_df = raw_df.reset_index().drop(columns='index')\n",
    "\n",
    "    return raw_df\n",
    "\n",
    "db = initiate_db()\n",
    "db"
   ]
  },
  {
   "source": [
    "## Update dictionary"
   ],
   "cell_type": "markdown",
   "metadata": {}
  },
  {
   "source": [
    "### Create two column dataframe of Merchant and Category for each unique merchant. "
   ],
   "cell_type": "markdown",
   "metadata": {}
  },
  {
   "cell_type": "code",
   "execution_count": 12,
   "metadata": {},
   "outputs": [
    {
     "output_type": "execute_result",
     "data": {
      "text/plain": [
       "                 Merchant       Category\n",
       "0          Apple Services  Entertainment\n",
       "1      Humphry Slocombe I    Restaurants\n",
       "2           The UPS Store        General\n",
       "3               Marshalls       Shopping\n",
       "4    Homeowners Insurance      Utilities\n",
       "..                    ...            ...\n",
       "58            UC Awpe Fee        Tuition\n",
       "59  Daily Cash Adjustment          Other\n",
       "60            Papa John's    Restaurants\n",
       "61           Amazon Music   Subscription\n",
       "62                Chevron     Automobile\n",
       "\n",
       "[63 rows x 2 columns]"
      ],
      "text/html": "<div>\n<style scoped>\n    .dataframe tbody tr th:only-of-type {\n        vertical-align: middle;\n    }\n\n    .dataframe tbody tr th {\n        vertical-align: top;\n    }\n\n    .dataframe thead th {\n        text-align: right;\n    }\n</style>\n<table border=\"1\" class=\"dataframe\">\n  <thead>\n    <tr style=\"text-align: right;\">\n      <th></th>\n      <th>Merchant</th>\n      <th>Category</th>\n    </tr>\n  </thead>\n  <tbody>\n    <tr>\n      <th>0</th>\n      <td>Apple Services</td>\n      <td>Entertainment</td>\n    </tr>\n    <tr>\n      <th>1</th>\n      <td>Humphry Slocombe I</td>\n      <td>Restaurants</td>\n    </tr>\n    <tr>\n      <th>2</th>\n      <td>The UPS Store</td>\n      <td>General</td>\n    </tr>\n    <tr>\n      <th>3</th>\n      <td>Marshalls</td>\n      <td>Shopping</td>\n    </tr>\n    <tr>\n      <th>4</th>\n      <td>Homeowners Insurance</td>\n      <td>Utilities</td>\n    </tr>\n    <tr>\n      <th>...</th>\n      <td>...</td>\n      <td>...</td>\n    </tr>\n    <tr>\n      <th>58</th>\n      <td>UC Awpe Fee</td>\n      <td>Tuition</td>\n    </tr>\n    <tr>\n      <th>59</th>\n      <td>Daily Cash Adjustment</td>\n      <td>Other</td>\n    </tr>\n    <tr>\n      <th>60</th>\n      <td>Papa John's</td>\n      <td>Restaurants</td>\n    </tr>\n    <tr>\n      <th>61</th>\n      <td>Amazon Music</td>\n      <td>Subscription</td>\n    </tr>\n    <tr>\n      <th>62</th>\n      <td>Chevron</td>\n      <td>Automobile</td>\n    </tr>\n  </tbody>\n</table>\n<p>63 rows × 2 columns</p>\n</div>"
     },
     "metadata": {},
     "execution_count": 12
    }
   ],
   "source": [
    "# Create a dataframe of unique Merchant and Category pair.\n",
    "def create_merchant_category_df(df): \n",
    "    category_arr = np.array([])\n",
    "    merchant_ls = list(set(df.Merchant))\n",
    "\n",
    "    # Append category_arr for each merchant in the Mercnat set.\n",
    "    for i in merchant_ls:\n",
    "        category = df.loc[df['Merchant'] == i]['Category'].values[0]\n",
    "        category_arr = np.append(category_arr, category)\n",
    "\n",
    "    # Create data frame of unique merchant and category pair.\n",
    "    merchant_category_df = pd.DataFrame({\n",
    "        \"Merchant\": merchant_ls,\n",
    "        \"Category\": category_arr\n",
    "    })\n",
    "\n",
    "    return merchant_category_df\n",
    "\n",
    "merchant_category_df = create_merchant_category_df(db)\n",
    "merchant_category_df"
   ]
  },
  {
   "source": [
    "### Create two column dataframe that shows merchants and their catergory that are not tracked in the apple_category_dictionary.\n",
    "\n",
    "#### Ignore \"Restaurants\" category as they matches with their merchants."
   ],
   "cell_type": "markdown",
   "metadata": {}
  },
  {
   "cell_type": "code",
   "execution_count": 13,
   "metadata": {},
   "outputs": [
    {
     "output_type": "execute_result",
     "data": {
      "text/plain": [
       "                  Merchant Category\n",
       "0       AWS dispute credit   Credit\n",
       "1     Geico dispute credit   Credit\n",
       "2  Postmate dispute credit   Credit\n",
       "3   Aventri dispute credit   Credit"
      ],
      "text/html": "<div>\n<style scoped>\n    .dataframe tbody tr th:only-of-type {\n        vertical-align: middle;\n    }\n\n    .dataframe tbody tr th {\n        vertical-align: top;\n    }\n\n    .dataframe thead th {\n        text-align: right;\n    }\n</style>\n<table border=\"1\" class=\"dataframe\">\n  <thead>\n    <tr style=\"text-align: right;\">\n      <th></th>\n      <th>Merchant</th>\n      <th>Category</th>\n    </tr>\n  </thead>\n  <tbody>\n    <tr>\n      <th>0</th>\n      <td>AWS dispute credit</td>\n      <td>Credit</td>\n    </tr>\n    <tr>\n      <th>1</th>\n      <td>Geico dispute credit</td>\n      <td>Credit</td>\n    </tr>\n    <tr>\n      <th>2</th>\n      <td>Postmate dispute credit</td>\n      <td>Credit</td>\n    </tr>\n    <tr>\n      <th>3</th>\n      <td>Aventri dispute credit</td>\n      <td>Credit</td>\n    </tr>\n  </tbody>\n</table>\n</div>"
     },
     "metadata": {},
     "execution_count": 13
    }
   ],
   "source": [
    "# Iterate through dataframe and search for merchants not listed in the merchant and category dictionary.\n",
    "def untracked_merchant(df):\n",
    "\n",
    "    # Initialize empty arrays.\n",
    "    category_arr = np.array([])\n",
    "    merchant_arr = np.array([])\n",
    "    merchant_ls = list(set(df.Merchant))\n",
    "    \n",
    "    # Iterate list of unique merchants and search for merchants not listed in the dictionary.\n",
    "    for i in merchant_ls:    \n",
    "        if i not in apple_category_dict.keys():\n",
    "            category = df.loc[df['Merchant']==i]['Category'].values[0]\n",
    "            # Ignore category \"Restaurant\"\n",
    "            if category == \"Restaurants\":\n",
    "                continue\n",
    "\n",
    "            merchant_arr = np.append(merchant_arr, i)\n",
    "            category_arr = np.append(category_arr, category)\n",
    "\n",
    "    \n",
    "    # Create data frame of unique merchant and category pair.\n",
    "    untracked_merchant_df = pd.DataFrame({\n",
    "        \"Merchant\": merchant_arr,\n",
    "        \"Category\": category_arr\n",
    "    })\n",
    "\n",
    "    return untracked_merchant_df\n",
    "\n",
    "untracked_merchant(db)"
   ]
  },
  {
   "source": [
    "#### 'Merchants' who has'Category' value w/ 'Other' needs to be updated\n",
    "#### 'Unknown' used for transactions cannot be remembered.  "
   ],
   "cell_type": "markdown",
   "metadata": {}
  },
  {
   "cell_type": "code",
   "execution_count": 17,
   "metadata": {},
   "outputs": [
    {
     "output_type": "stream",
     "name": "stdout",
     "text": [
      "Utilities\n                                 Amount (USD)\nMerchant             Year Month              \nExtra Space Storage  2020 05            79.20\n                          06            55.20\n                          07            55.20\n                          08            55.20\n                          09            55.20\n                          10            55.20\n                          11            55.20\n                          12            55.20\n                     2021 01            48.00\n                          02            24.00\n                          03           102.67\n                          04            59.20\nHomeowners Insurance 2020 11           160.00\nT-Mobile             2020 12            37.63\n                     2021 03            26.68\ntrashwarrior.com     2021 01            95.00\nSubscriptions\n                         Amount (USD)\nMerchant     Year Month              \nAmazon Prime 2021 01            64.61\nSoundcloud   2021 01             4.99\n                  02             4.99\n                  03             4.99\n                  04             4.99\nSubscription\n                               Amount (USD)\nMerchant           Year Month              \nAmazon Music       2020 06             0.99\n                        07             0.99\n                        08             0.99\n                        09             0.99\n                        10             0.99\nwww.coursehero.com 2021 02           119.40\nUnknown\n                                Amount (USD)\nMerchant            Year Month              \nAventri Event Reg   2020 10            70.00\nChase Jayne         2020 05             2.79\nHornblower Yachts   2020 07            20.00\nZoomy's Santa Nella 2020 06            42.49\nupdater.com         2020 12             1.00\nRestaurants\n                                   Amount (USD)\nMerchant               Year Month              \nBB* Marufuku Ramen Oak 2021 04            25.67\nBazak Bazak Rice H     2021 01             4.50\nBurger King            2020 05             9.25\nDoorDash               2020 05            27.24\n                            06           139.84\nHomeroom To-Go         2021 04            13.75\nHumphry Slocombe       2021 01            29.97\nHumphry Slocombe I     2021 04            19.98\nHwal A Kwang Jang      2020 05           109.49\nIn-N-Out Burger        2020 05            16.30\n                            06            14.27\n                       2021 01            30.45\nJamba Juice            2020 05            13.78\nKansai Japanese Restur 2021 02            14.15\nPanda Express          2021 02            24.91\nPapa John's            2020 07            30.57\n                       2021 04            21.84\nPostmates              2020 05            58.55\n                            06           128.46\n                            07            19.82\n                            09             9.99\n                            10             9.99\n                            11             9.99\n                            12             9.99\nSeoul Hotdog           2021 01            25.61\n                            04            10.90\nStarbucks              2020 07            25.00\nAutomobile\n                                   Amount (USD)\nMerchant               Year Month              \nChevron                2020 05             2.09\nCity of LA Dot Pvb Pbp 2021 04            65.00\nFasTrak                2020 11            25.00\n                            12            50.00\n                       2021 03            50.00\nGeico                  2020 08           290.95\n                            09           460.40\n                            11           732.72\n                            12           415.38\n                       2021 01           335.16\n                            03           265.54\n                            04           264.66\nShopping\n                        Amount (USD)\nMerchant    Year Month              \nAmazon      2020 06            54.59\n                 07            79.46\n                 09            21.84\n                 12           215.90\n            2021 01           228.87\nDollar Tree 2021 01            14.47\nHome Depot  2020 05             5.48\nMarshalls   2021 01            15.33\nGeneral\n                                   Amount (USD)\nMerchant               Year Month              \nAmazon Web Services    2020 12            80.34\n                       2021 01            20.72\nCVS Pharmacy           2020 05            54.61\n                       2021 01             7.67\nFedEx                  2021 01             2.93\nLim*Ride Cost          2020 05             2.99\nService Dog Certificat 2020 12            76.99\nStellar                2020 10            69.99\nThe UPS Store          2021 01            14.52\nGrocery\n                                 Amount (USD)\nMerchant             Year Month              \nAmazon Marketplace   2020 05           716.53\n                          07            40.03\n                          12            16.70\n                     2021 01            64.87\nH Mart               2020 05           130.98\n                          06           254.34\n                     2021 01            94.19\n                          02            58.12\nKoreana Plaza Market 2020 06            93.06\n                     2021 01            88.91\nSafeway              2021 01            30.64\n                          04            22.62\nTokyo Fish Market    2020 07            35.26\n                     2021 02            34.31\nOther\n                                  Amount (USD)\nMerchant              Year Month              \nDaily Cash Adjustment 2020 08             2.73\n                           10             4.88\n                           11             0.40\n                           12             2.08\n                      2021 01             0.80\n                           03             3.66\nTuition\n                                   Amount (USD)\nMerchant               Year Month              \nContra Costa Comm Coll 2020 12            145.0\nUC Awpe Fee            2020 11            110.0\nPayment\n                         Amount (USD)\nMerchant     Year Month              \nCard payment 2020 05          -232.79\n                  06          -430.77\n                  07         -1645.08\n                  08          -683.73\n                  09          -303.94\n                  10          -868.26\n                  11          -979.50\n                  12          -811.27\n             2021 01         -2252.04\n                  02          -825.54\n                  03          -645.85\n                  04          -695.14\nEntertainment\n                                   Amount (USD)\nMerchant               Year Month              \nApple Services         2020 05            15.98\n                            06            82.95\n                            07            78.93\n                            08           110.91\n                            09            83.92\n                            10           198.34\n                            11            79.93\n                            12           279.88\n                       2021 01           384.77\n                            02            91.94\n                            03           177.90\n                            04           294.77\nBig AL S               2020 05            76.46\nDiscount Cigarette     2020 05            76.75\nElement Vape           2021 01            89.74\nThe One Wireless & Gif 2021 04            93.59\nCredit\n                                    Amount (USD)\nMerchant                Year Month              \nAWS dispute credit      2020 12           -80.34\nAventri dispute credit  2020 10           -70.00\nGeico dispute credit    2020 12          -366.36\nPostmate dispute credit 2020 10            -9.99\n                             11            -9.99\n                             12            -9.99\nTravel\n                     Amount (USD)\nMerchant Year Month              \nAirbnb   2020 08           243.80\n              09           489.72\n              10          -119.32\n              11           160.54\n              12           112.61\n"
     ]
    }
   ],
   "source": [
    "# By each category\n",
    "for category in list(set(db.Category)):\n",
    "    print(category)\n",
    "    tmp = db.loc[db['Category'] == category]\n",
    "    tmp = tmp.groupby(by=[\"Merchant\",'Year', 'Month']).sum()\n",
    "    print(tmp)"
   ]
  },
  {
   "cell_type": "code",
   "execution_count": 15,
   "metadata": {},
   "outputs": [
    {
     "output_type": "stream",
     "name": "stdout",
     "text": [
      "                       Amount (USD)\nCategory   Year Month              \nAutomobile 2020 05             2.09\n                08           290.95\n                09           460.40\n                11           757.72\n                12           465.38\n...                             ...\nUtilities  2020 12            92.83\n           2021 01           143.00\n                02            24.00\n                03           129.35\n                04            59.20\n\n[102 rows x 1 columns]\n"
     ]
    }
   ],
   "source": [
    "# By each category and month\n",
    "print(db.groupby(by=['Category', 'Year', 'Month']).sum())"
   ]
  },
  {
   "source": [
    "## Remove all files after reading them\n",
    "## Check whether any file in the directory for update\n",
    "## "
   ],
   "cell_type": "markdown",
   "metadata": {}
  },
  {
   "source": [
    "# 2. Analysis\n",
    "## 2.1 By type\n",
    "### purchase and payment\n",
    "## 2.2 Merchant and Disctionary\n",
    "### Unique merchant\n",
    "#### Update merchant dictionary\n",
    "### Monthly spending on each merchant and category \n",
    "## 2.3 Monthly report "
   ],
   "cell_type": "markdown",
   "metadata": {}
  },
  {
   "cell_type": "code",
   "execution_count": 16,
   "metadata": {},
   "outputs": [
    {
     "output_type": "stream",
     "name": "stdout",
     "text": [
      "   Month Day  Year                Merchant       Category      Type  \\\n40    03  31  2021                T-Mobile      Utilities  Purchase   \n39    04  01  2021                   Geico     Automobile  Purchase   \n38    04  02  2021              Soundcloud  Subscriptions  Purchase   \n36    04  03  2021          Apple Services  Entertainment  Purchase   \n35    04  08  2021          Apple Services  Entertainment  Purchase   \n34    04  08  2021          Apple Services  Entertainment  Purchase   \n33    04  13  2021          Apple Services  Entertainment  Purchase   \n31    04  18  2021     Extra Space Storage      Utilities  Purchase   \n29    04  19  2021                 Safeway        Grocery  Purchase   \n28    04  20  2021          Apple Services  Entertainment  Purchase   \n30    04  20  2021          Apple Services  Entertainment  Purchase   \n26    04  21  2021          Apple Services  Entertainment  Purchase   \n25    04  21  2021          Apple Services  Entertainment  Purchase   \n24    04  21  2021          Apple Services  Entertainment  Purchase   \n23    04  21  2021          Apple Services  Entertainment  Purchase   \n27    04  22  2021  The One Wireless & Gif  Entertainment  Purchase   \n22    04  22  2021          Apple Services  Entertainment  Purchase   \n21    04  22  2021          Apple Services  Entertainment  Purchase   \n20    04  22  2021          Apple Services  Entertainment  Purchase   \n18    04  22  2021                 Safeway        Grocery  Purchase   \n17    04  22  2021          Apple Services  Entertainment  Purchase   \n16    04  22  2021          Apple Services  Entertainment  Purchase   \n19    04  22  2021          Apple Services  Entertainment  Purchase   \n15    04  23  2021          Homeroom To-Go    Restaurants  Purchase   \n13    04  24  2021          Apple Services  Entertainment  Purchase   \n12    04  24  2021          Apple Services  Entertainment  Purchase   \n9     04  25  2021  City of LA Dot Pvb Pbp     Automobile  Purchase   \n11    04  25  2021          Apple Services  Entertainment  Purchase   \n10    04  26  2021          Apple Services  Entertainment  Purchase   \n8     04  26  2021  BB* Marufuku Ramen Oak    Restaurants  Purchase   \n7     04  26  2021     Extra Space Storage      Utilities  Purchase   \n6     04  27  2021                 Safeway        Grocery  Purchase   \n5     04  28  2021      Humphry Slocombe I    Restaurants  Purchase   \n4     04  29  2021             Papa John's    Restaurants  Purchase   \n3     04  29  2021            Seoul Hotdog    Restaurants  Purchase   \n2     04  29  2021          Apple Services  Entertainment  Purchase   \n1     04  29  2021          Apple Services  Entertainment  Purchase   \n0     04  30  2021          Apple Services  Entertainment  Purchase   \n\n    Amount (USD)  \n40         26.68  \n39        264.66  \n38          4.99  \n36          3.99  \n35          2.99  \n34          2.99  \n33         30.99  \n31         24.00  \n29          3.27  \n28          2.99  \n30          2.99  \n26         19.99  \n25          4.99  \n24          4.99  \n23          4.99  \n27         93.59  \n22         19.99  \n21         49.99  \n20         19.99  \n18         10.39  \n17          9.99  \n16          4.99  \n19         19.99  \n15         13.75  \n13          2.99  \n12          2.99  \n9          65.00  \n11         49.99  \n10          3.99  \n8          25.67  \n7          35.20  \n6           8.96  \n5          19.98  \n4          21.84  \n3          10.90  \n2          19.99  \n1           4.99  \n0           2.99  \n   Month Day  Year      Merchant Category     Type  Amount (USD)\n37    04  04  2021  Card payment  Payment  Payment       -343.30\n32    04  15  2021  Card payment  Payment  Payment        -40.96\n14    04  25  2021  Card payment  Payment  Payment       -310.88\n"
     ]
    }
   ],
   "source": [
    "purchase = april_df[april_df['Type'] == \"Purchase\"]\n",
    "print(purchase)\n",
    "payment = april_df[april_df['Type'] == \"Payment\"]\n",
    "print(payment)"
   ]
  },
  {
   "cell_type": "code",
   "execution_count": null,
   "metadata": {},
   "outputs": [],
   "source": []
  }
 ]
}