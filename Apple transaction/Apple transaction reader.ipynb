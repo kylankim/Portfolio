{
 "metadata": {
  "language_info": {
   "codemirror_mode": {
    "name": "ipython",
    "version": 3
   },
   "file_extension": ".py",
   "mimetype": "text/x-python",
   "name": "python",
   "nbconvert_exporter": "python",
   "pygments_lexer": "ipython3",
   "version": "3.8.1"
  },
  "orig_nbformat": 2,
  "kernelspec": {
   "name": "python381jvsc74a57bd0335859b7650a8185b200f498a77266c8d8a93f594ef9b4f6c689ea286881adc9",
   "display_name": "Python 3.8.1 32-bit"
  }
 },
 "nbformat": 4,
 "nbformat_minor": 2,
 "cells": [
  {
   "cell_type": "code",
   "execution_count": 4,
   "metadata": {},
   "outputs": [],
   "source": [
    "import numpy as np\n",
    "import pandas as pd\n",
    "import matplotlib.pyplot as plt\n",
    "import os"
   ]
  },
  {
   "source": [
    "os.getcwd()"
   ],
   "cell_type": "code",
   "metadata": {},
   "execution_count": 2,
   "outputs": [
    {
     "output_type": "execute_result",
     "data": {
      "text/plain": [
       "'c:\\\\Users\\\\hyo05\\\\Documents\\\\Portfolio\\\\Apple transaction'"
      ]
     },
     "metadata": {},
     "execution_count": 2
    }
   ]
  },
  {
   "cell_type": "code",
   "execution_count": 15,
   "metadata": {},
   "outputs": [
    {
     "output_type": "stream",
     "name": "stdout",
     "text": [
      "C:/Users/hyo05/Documents/Portfolio/Apple transaction/csv/Apple Card Transactions - April 2021.csv\n"
     ]
    }
   ],
   "source": [
    "# file and DB URL\r\n",
    "db_url = \"C:/Users/hyo05/Documents/Portfolio/Apple transaction/csv/\"\r\n",
    "file_url = db_url + \"Apple Card Transactions - April 2021.csv\"\r\n",
    "print(file_url)"
   ]
  },
  {
   "cell_type": "code",
   "execution_count": 17,
   "metadata": {},
   "outputs": [],
   "source": [
    "# Look for the similarity in the file name for loop"
   ]
  },
  {
   "cell_type": "code",
   "execution_count": 16,
   "metadata": {},
   "outputs": [
    {
     "output_type": "display_data",
     "data": {
      "text/plain": "   Transaction Date Clearing Date  \\\n0        04/30/2021    05/01/2021   \n1        04/29/2021    04/30/2021   \n2        04/29/2021    04/30/2021   \n3        04/29/2021    04/30/2021   \n4        04/29/2021    04/29/2021   \n..              ...           ...   \n36       04/03/2021    04/05/2021   \n37       04/04/2021    04/04/2021   \n38       04/02/2021    04/02/2021   \n39       04/01/2021    04/02/2021   \n40       03/31/2021    04/01/2021   \n\n                                          Description  \\\n0   APPLE.COM/BILL ONE APPLE PARK WAY 866-712-7753...   \n1   APPLE.COM/BILL ONE APPLE PARK WAY 866-712-7753...   \n2   APPLE.COM/BILL ONE APPLE PARK WAY 866-712-7753...   \n3   SQ *SEOUL HOTDOG 1822 ARCH STREET BERKELEY 947...   \n4   PAPA JOHN'S #4764 5412 SAN PABLO AVE STE B 510...   \n..                                                ...   \n36  APPLE.COM/BILL ONE APPLE PARK WAY 866-712-7753...   \n37  ACH DEPOSIT INTERNET TRANSFER FROM ACCOUNT END...   \n38  SOUNDCLOUD INC 510 TREAT AVE SAN FRANCISCO9411...   \n39  GEICO *AUTO ONE GEICO PLAZA 800-841-3000 20076...   \n40  TMOBILE*PREPD AUTOPY 12920 SE 38TH ST 877-778-...   \n\n                                             Merchant     Category      Type  \\\n0                                      Apple Services        Other  Purchase   \n1                                      Apple Services        Other  Purchase   \n2                                      Apple Services        Other  Purchase   \n3                                        Seoul Hotdog  Restaurants  Purchase   \n4                                         Papa John's  Restaurants  Purchase   \n..                                                ...          ...       ...   \n36                                     Apple Services        Other  Purchase   \n37  Ach Deposit Internet Transfer From Account End...      Payment   Payment   \n38                                         Soundcloud    Utilities  Purchase   \n39                                              Geico    Insurance  Purchase   \n40                                           T-Mobile        Other  Purchase   \n\n    Amount (USD)  \n0           2.99  \n1           4.99  \n2          19.99  \n3          10.90  \n4          21.84  \n..           ...  \n36          3.99  \n37       -343.30  \n38          4.99  \n39        264.66  \n40         26.68  \n\n[41 rows x 7 columns]",
      "text/html": "<div>\n<style scoped>\n    .dataframe tbody tr th:only-of-type {\n        vertical-align: middle;\n    }\n\n    .dataframe tbody tr th {\n        vertical-align: top;\n    }\n\n    .dataframe thead th {\n        text-align: right;\n    }\n</style>\n<table border=\"1\" class=\"dataframe\">\n  <thead>\n    <tr style=\"text-align: right;\">\n      <th></th>\n      <th>Transaction Date</th>\n      <th>Clearing Date</th>\n      <th>Description</th>\n      <th>Merchant</th>\n      <th>Category</th>\n      <th>Type</th>\n      <th>Amount (USD)</th>\n    </tr>\n  </thead>\n  <tbody>\n    <tr>\n      <th>0</th>\n      <td>04/30/2021</td>\n      <td>05/01/2021</td>\n      <td>APPLE.COM/BILL ONE APPLE PARK WAY 866-712-7753...</td>\n      <td>Apple Services</td>\n      <td>Other</td>\n      <td>Purchase</td>\n      <td>2.99</td>\n    </tr>\n    <tr>\n      <th>1</th>\n      <td>04/29/2021</td>\n      <td>04/30/2021</td>\n      <td>APPLE.COM/BILL ONE APPLE PARK WAY 866-712-7753...</td>\n      <td>Apple Services</td>\n      <td>Other</td>\n      <td>Purchase</td>\n      <td>4.99</td>\n    </tr>\n    <tr>\n      <th>2</th>\n      <td>04/29/2021</td>\n      <td>04/30/2021</td>\n      <td>APPLE.COM/BILL ONE APPLE PARK WAY 866-712-7753...</td>\n      <td>Apple Services</td>\n      <td>Other</td>\n      <td>Purchase</td>\n      <td>19.99</td>\n    </tr>\n    <tr>\n      <th>3</th>\n      <td>04/29/2021</td>\n      <td>04/30/2021</td>\n      <td>SQ *SEOUL HOTDOG 1822 ARCH STREET BERKELEY 947...</td>\n      <td>Seoul Hotdog</td>\n      <td>Restaurants</td>\n      <td>Purchase</td>\n      <td>10.90</td>\n    </tr>\n    <tr>\n      <th>4</th>\n      <td>04/29/2021</td>\n      <td>04/29/2021</td>\n      <td>PAPA JOHN'S #4764 5412 SAN PABLO AVE STE B 510...</td>\n      <td>Papa John's</td>\n      <td>Restaurants</td>\n      <td>Purchase</td>\n      <td>21.84</td>\n    </tr>\n    <tr>\n      <th>...</th>\n      <td>...</td>\n      <td>...</td>\n      <td>...</td>\n      <td>...</td>\n      <td>...</td>\n      <td>...</td>\n      <td>...</td>\n    </tr>\n    <tr>\n      <th>36</th>\n      <td>04/03/2021</td>\n      <td>04/05/2021</td>\n      <td>APPLE.COM/BILL ONE APPLE PARK WAY 866-712-7753...</td>\n      <td>Apple Services</td>\n      <td>Other</td>\n      <td>Purchase</td>\n      <td>3.99</td>\n    </tr>\n    <tr>\n      <th>37</th>\n      <td>04/04/2021</td>\n      <td>04/04/2021</td>\n      <td>ACH DEPOSIT INTERNET TRANSFER FROM ACCOUNT END...</td>\n      <td>Ach Deposit Internet Transfer From Account End...</td>\n      <td>Payment</td>\n      <td>Payment</td>\n      <td>-343.30</td>\n    </tr>\n    <tr>\n      <th>38</th>\n      <td>04/02/2021</td>\n      <td>04/02/2021</td>\n      <td>SOUNDCLOUD INC 510 TREAT AVE SAN FRANCISCO9411...</td>\n      <td>Soundcloud</td>\n      <td>Utilities</td>\n      <td>Purchase</td>\n      <td>4.99</td>\n    </tr>\n    <tr>\n      <th>39</th>\n      <td>04/01/2021</td>\n      <td>04/02/2021</td>\n      <td>GEICO *AUTO ONE GEICO PLAZA 800-841-3000 20076...</td>\n      <td>Geico</td>\n      <td>Insurance</td>\n      <td>Purchase</td>\n      <td>264.66</td>\n    </tr>\n    <tr>\n      <th>40</th>\n      <td>03/31/2021</td>\n      <td>04/01/2021</td>\n      <td>TMOBILE*PREPD AUTOPY 12920 SE 38TH ST 877-778-...</td>\n      <td>T-Mobile</td>\n      <td>Other</td>\n      <td>Purchase</td>\n      <td>26.68</td>\n    </tr>\n  </tbody>\n</table>\n<p>41 rows × 7 columns</p>\n</div>"
     },
     "metadata": {}
    }
   ],
   "source": [
    "# Read and display data\n",
    "april = pd.read_csv(file_url)\n",
    "pd.set_option(\"max_rows\", 10)\n",
    "display(april)"
   ]
  },
  {
   "cell_type": "code",
   "execution_count": null,
   "metadata": {},
   "outputs": [],
   "source": []
  }
 ]
}