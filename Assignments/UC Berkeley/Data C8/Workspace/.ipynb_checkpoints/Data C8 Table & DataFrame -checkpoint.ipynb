{
 "cells": [
  {
   "cell_type": "code",
   "execution_count": 1,
   "metadata": {},
   "outputs": [],
   "source": [
    "# Import statements and basic sample datas\n",
    "\n",
    "import numpy as np\n",
    "import pandas as pd\n",
    "from urllib.request import urlopen\n",
    "\n",
    "number_array = np.array([1,2,3,4,5])\n",
    "number_array\n",
    "\n",
    "boolean_array = number_array > 3 # boolean array\n",
    "boolean_array\n",
    "\n",
    "num_tbl = pd.DataFrame({'Numbers' : number_array}) # DataFrame of number_array\n",
    "num_tbl\n",
    "\n",
    "bool_tbl = pd.DataFrame({'Booleans' : boolean_array}) # DataFrame of boolean_array\n",
    "# bool_tbl"
   ]
  },
  {
   "cell_type": "markdown",
   "metadata": {},
   "source": [
    "# Data C8 Table & DataFrame "
   ]
  },
  {
   "cell_type": "markdown",
   "metadata": {},
   "source": [
    "## [A] Table : \n",
    "\n",
    "> Same type of the data structure as DataFrame from Pandas library "
   ]
  },
  {
   "cell_type": "markdown",
   "metadata": {},
   "source": [
    "### Fundamental methods and example related to the Table"
   ]
  },
  {
   "cell_type": "markdown",
   "metadata": {},
   "source": [
    "### 1. Table().with_columns('Label1', Array1, ... )\n",
    "\n",
    "   > Constructor method of Table data structure from C8 datascience module\n",
    "   \n",
    "   **[PANDAS] ~ pd.DataFrame({'Label_1' : Series_1, 'Label_2' : Series_2})**"
   ]
  },
  {
   "cell_type": "code",
   "execution_count": 3,
   "metadata": {},
   "outputs": [
    {
     "name": "stdout",
     "output_type": "stream",
     "text": [
      "   Numbers  Booleans\n",
      "0        1     False\n",
      "1        2     False\n",
      "2        3     False\n",
      "3        4      True\n",
      "4        5      True\n"
     ]
    }
   ],
   "source": [
    "# Constructor of DataFrame structure from Pandas \n",
    "num_bool_tbl = pd.DataFrame({'Numbers' : number_array, 'Booleans' : boolean_array})\n",
    "print(num_bool_tbl)"
   ]
  },
  {
   "cell_type": "markdown",
   "metadata": {},
   "source": [
    "### 2. tmp_tb.apply(param_func, 'param_Label')\n",
    "    \n",
    "   > 1. Return a new array of elements from 'param_Label' column of tmp_tb\n",
    "   > 2. param_func are applied to each element of the 'param_Label' column\n",
    "\n",
    "  \n",
    "  **[PANDAS] ~ tmp_dframe.apply(param_func)**\n"
   ]
  },
  {
   "cell_type": "code",
   "execution_count": 11,
   "metadata": {
    "scrolled": false
   },
   "outputs": [
    {
     "data": {
      "text/plain": [
       "Numbers    15\n",
       "dtype: int64"
      ]
     },
     "execution_count": 11,
     "metadata": {},
     "output_type": "execute_result"
    }
   ],
   "source": [
    "# Apply param_func on the column of the Pandas datra structure.\n",
    "sum_num_tbl = num_tbl.apply(np.sum)\n",
    "sum_num_tbl"
   ]
  },
  {
   "cell_type": "markdown",
   "metadata": {},
   "source": [
    "### 3. Table().read_table('CSV_FILE')\n",
    "\n",
    "   > 1. Read 'CSV_FILE' and return a table from the 'CSV_FILE'\n",
    "   \n",
    "   **[PANDAS] ~ pd.read_csv('CSV_FILE', index_col = \"Name_Of_Label\")**\n",
    "\n",
    "   "
   ]
  },
  {
   "cell_type": "code",
   "execution_count": 14,
   "metadata": {},
   "outputs": [],
   "source": [
    "# Read 'CSV_FILE' and return a new table from the 'CSV_FILE'\n",
    "# csv_tbl = pd.read_table()"
   ]
  },
  {
   "cell_type": "markdown",
   "metadata": {},
   "source": []
  }
 ],
 "metadata": {
  "kernelspec": {
   "display_name": "Python 3",
   "language": "python",
   "name": "python3"
  },
  "language_info": {
   "codemirror_mode": {
    "name": "ipython",
    "version": 3
   },
   "file_extension": ".py",
   "mimetype": "text/x-python",
   "name": "python",
   "nbconvert_exporter": "python",
   "pygments_lexer": "ipython3",
   "version": "3.7.6"
  }
 },
 "nbformat": 4,
 "nbformat_minor": 4
}
