{
 "cells": [
  {
   "cell_type": "markdown",
   "metadata": {},
   "source": [
    "# Jupyter notebooks\n",
    "\n",
    "1. Jupyter Notebooks > Place to write programs and view their results, and also to write text.\n",
    "    > Jupyter NoteBook prints out the last value of the cell automatically. \n",
    "2. Text Cells > Each rectangle containing text or code\n",
    "3. Kernel (<span style = \"color:lime\"> In [Number] : </span>) > Program that executes the code inside the notebook and outputs the result\n",
    "    > 1. <span style = \"color:lime\"> [NUMBER] </span> > NUMBER corresponds to the order of execution\n",
    "    > 2. Interrupt and Restart Kernal when code stucks. Else, save and restart the server from file tab\n",
    "    > 3. Kernel only outputs the last and final value of lines from each cell\n"
   ]
  },
  {
   "cell_type": "markdown",
   "metadata": {},
   "source": [
    "# HTML Code\n",
    "1. Font Color > <\\span style = \"color: COLOR\"> </span>\n",
    "2. Line Seperator > <\\br>"
   ]
  },
  {
   "cell_type": "code",
   "execution_count": 5,
   "metadata": {},
   "outputs": [
    {
     "name": "stdout",
     "output_type": "stream",
     "text": [
      "STRING_TO_PRINT_OUT\n"
     ]
    }
   ],
   "source": [
    "# Prints out the string in the output\n",
    "print(\"STRING_TO_PRINT_OUT\")"
   ]
  },
  {
   "cell_type": "markdown",
   "metadata": {},
   "source": [
    "## Emoticons\n",
    "1. Emoticons > <span style = \"color:lime\"> \\N{EMOTICON_IN_STRING_TYPE} </span> \n",
    "    > 1. {EARTH GLOBE ASIA-AUSTRALIA} > 🌏\n",
    "    > 2. {EIGHTH NOTE} > ♪"
   ]
  },
  {
   "cell_type": "markdown",
   "metadata": {},
   "source": [
    "## Python Expression\n",
    "1. Power arithmetic > A <span style = \"color: lime\">**</span> B \n",
    "    > Stands for A power of B (A^B)\n",
    "2. Assignment Statement > <span style = \"color: lime\"> = </span> Symbol\n",
    "    > Name on the left side and expression to be evaluated on the right\n",
    "3. Absolute built-in function > <span style = \"color: lime\"> abs(VARIABLE) </span>\n",
    "    > Returns absolute value of the VARIABLE\n",
    "4. Max built-in function > <span style = \"color: lime\"> max(ARGUMENTS) </span>\n",
    "    > Returns maximum value passed in through AGRUMENTS variable\n",
    "5. Nested expressions > Function calls on arguments that contain expressions"
   ]
  }
 ],
 "metadata": {
  "kernelspec": {
   "display_name": "Python 3",
   "language": "python",
   "name": "python3"
  },
  "language_info": {
   "codemirror_mode": {
    "name": "ipython",
    "version": 3
   },
   "file_extension": ".py",
   "mimetype": "text/x-python",
   "name": "python",
   "nbconvert_exporter": "python",
   "pygments_lexer": "ipython3",
   "version": "3.8.1"
  }
 },
 "nbformat": 4,
 "nbformat_minor": 4
}
