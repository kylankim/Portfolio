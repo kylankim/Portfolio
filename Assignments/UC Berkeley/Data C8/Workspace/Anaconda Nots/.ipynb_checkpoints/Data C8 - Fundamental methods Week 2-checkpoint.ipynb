{
 "cells": [
  {
   "cell_type": "code",
   "execution_count": 11,
   "metadata": {},
   "outputs": [],
   "source": [
    "# Import statements and basic sample datas\n",
    "\n",
    "import numpy as np\n",
    "import pandas as pd\n",
    "from urllib.request import urlopen\n",
    "\n",
    "number_array = np.array([1,2,3,4,5])\n",
    "number_array\n",
    "\n",
    "boolean_array = number_array > 3 # boolean array\n",
    "boolean_array\n",
    "\n",
    "num_tbl = pd.DataFrame({'Numbers' : number_array}) # DataFrame of number_array\n",
    "num_tbl\n",
    "\n",
    "bool_tbl = pd.DataFrame({'Booleans' : boolean_array}) # DataFrame of boolean_array\n",
    "# bool_tbl"
   ]
  },
  {
   "cell_type": "markdown",
   "metadata": {},
   "source": [
    "# Data C8 - Fundamental methods Week 2"
   ]
  },
  {
   "cell_type": "markdown",
   "metadata": {},
   "source": [
    "## 1) Array : \n",
    "\n",
    "    1. \n",
    "\n",
    "### Fundamental methods of Array\n",
    "\n",
    "    1. make_array( elements ... )  \n",
    "        > Constructor of Array data structure from Data C8 course\n",
    "        \n",
    "    2. \n"
   ]
  },
  {
   "cell_type": "markdown",
   "metadata": {},
   "source": [
    "### Examples of Array"
   ]
  },
  {
   "cell_type": "code",
   "execution_count": 4,
   "metadata": {
    "scrolled": true
   },
   "outputs": [
    {
     "data": {
      "text/plain": [
       "array([1, 2, 3, 4, 5])"
      ]
     },
     "execution_count": 4,
     "metadata": {},
     "output_type": "execute_result"
    }
   ],
   "source": [
    "# Constructor method of the Array data structure from Numpy\n",
    "num_arr1 = np.array([1,2,3,4,5])\n",
    "num_arr1"
   ]
  },
  {
   "cell_type": "markdown",
   "metadata": {},
   "source": [
    "## 2) Numpy : \n",
    "   \n",
    "   > \n",
    "    \n",
    "### Fundamental methods of Numpy\n",
    "\n",
    "1. np.array([elements ... ])\n",
    "    > Constructor method of the Array data structure through Numpy library\n",
    "\n",
    "2. np.arange(p_int1, p_int2, p_step)\n",
    "    > Returns a new array of elements from p_int1 upto (and including) p_int2 by p_step\n",
    "\n",
    "3. np.random.choice(param_array, rand_num1)         \n",
    "    > Returns a new array of randomly chosen elements from param_array as much as rand_num1.\n",
    "\n",
    "4. np.count_nonzero(param_array)        \n",
    "    > Counts the number of True elements from the param_array\n",
    "\n",
    "5. "
   ]
  },
  {
   "cell_type": "markdown",
   "metadata": {},
   "source": [
    "### Examples of Numpy "
   ]
  },
  {
   "cell_type": "code",
   "execution_count": 8,
   "metadata": {},
   "outputs": [
    {
     "data": {
      "text/plain": [
       "2"
      ]
     },
     "execution_count": 8,
     "metadata": {},
     "output_type": "execute_result"
    }
   ],
   "source": [
    "# Returns a new array of elements from p_int1 upto (and including) p_int2 by p_step\n",
    "p_int1, p_int2, p_step = 0, 10, 2 \n",
    "num_arr2 = np.arange(p_int1, p_int2, p_step)\n",
    "num_arr2\n",
    "\n",
    "# Choose random element from array. \n",
    "rand_num1 = np.random.choice(number_array)\n",
    "rand_num1 # (Data in the variable keep changes)\n",
    "\n",
    "# Number of elements to choose as one of parameters.  \n",
    "random_numarr1 = np.random.choice(number_array, rand_num1)\n",
    "random_numarr1 # Number of the elements vary b/c of random_num1\n",
    "\n",
    "# Count number of true elements\n",
    "num = np.count_nonzero(boolean_array)\n",
    "num # boolean_array = array([False, False, False,  True,  True])\n"
   ]
  },
  {
   "cell_type": "code",
   "execution_count": null,
   "metadata": {},
   "outputs": [],
   "source": []
  },
  {
   "cell_type": "code",
   "execution_count": null,
   "metadata": {},
   "outputs": [],
   "source": []
  }
 ],
 "metadata": {
  "kernelspec": {
   "display_name": "Python 3",
   "language": "python",
   "name": "python3"
  },
  "language_info": {
   "codemirror_mode": {
    "name": "ipython",
    "version": 3
   },
   "file_extension": ".py",
   "mimetype": "text/x-python",
   "name": "python",
   "nbconvert_exporter": "python",
   "pygments_lexer": "ipython3",
   "version": "3.7.6"
  }
 },
 "nbformat": 4,
 "nbformat_minor": 4
}
