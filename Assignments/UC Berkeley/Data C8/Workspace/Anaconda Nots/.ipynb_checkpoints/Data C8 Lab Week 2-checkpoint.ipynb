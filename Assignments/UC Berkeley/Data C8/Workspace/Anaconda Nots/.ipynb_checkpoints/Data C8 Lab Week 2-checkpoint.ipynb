{
 "cells": [
  {
   "cell_type": "code",
   "execution_count": 7,
   "metadata": {
    "scrolled": true
   },
   "outputs": [
    {
     "data": {
      "text/html": [
       "<table border=\"1\" class=\"dataframe\">\n",
       "    <thead>\n",
       "        <tr>\n",
       "            <th>SEX</th> <th>AGE</th> <th>2010</th> <th>2015</th>\n",
       "        </tr>\n",
       "    </thead>\n",
       "    <tbody>\n",
       "        <tr>\n",
       "            <td>0   </td> <td>0   </td> <td>3951330</td> <td>3978038</td>\n",
       "        </tr>\n",
       "        <tr>\n",
       "            <td>0   </td> <td>1   </td> <td>3957888</td> <td>3968564</td>\n",
       "        </tr>\n",
       "        <tr>\n",
       "            <td>0   </td> <td>2   </td> <td>4090862</td> <td>3966583</td>\n",
       "        </tr>\n",
       "        <tr>\n",
       "            <td>0   </td> <td>3   </td> <td>4111920</td> <td>3974061</td>\n",
       "        </tr>\n",
       "        <tr>\n",
       "            <td>0   </td> <td>4   </td> <td>4077551</td> <td>4020035</td>\n",
       "        </tr>\n",
       "        <tr>\n",
       "            <td>0   </td> <td>5   </td> <td>4064653</td> <td>4018158</td>\n",
       "        </tr>\n",
       "        <tr>\n",
       "            <td>0   </td> <td>6   </td> <td>4073013</td> <td>4019207</td>\n",
       "        </tr>\n",
       "        <tr>\n",
       "            <td>0   </td> <td>7   </td> <td>4043046</td> <td>4148360</td>\n",
       "        </tr>\n",
       "        <tr>\n",
       "            <td>0   </td> <td>8   </td> <td>4025604</td> <td>4167887</td>\n",
       "        </tr>\n",
       "        <tr>\n",
       "            <td>0   </td> <td>9   </td> <td>4125415</td> <td>4133564</td>\n",
       "        </tr>\n",
       "    </tbody>\n",
       "</table>\n",
       "<p>... (296 rows omitted)</p>"
      ],
      "text/plain": [
       "SEX  | AGE  | 2010    | 2015\n",
       "0    | 0    | 3951330 | 3978038\n",
       "0    | 1    | 3957888 | 3968564\n",
       "0    | 2    | 4090862 | 3966583\n",
       "0    | 3    | 4111920 | 3974061\n",
       "0    | 4    | 4077551 | 4020035\n",
       "0    | 5    | 4064653 | 4018158\n",
       "0    | 6    | 4073013 | 4019207\n",
       "0    | 7    | 4043046 | 4148360\n",
       "0    | 8    | 4025604 | 4167887\n",
       "0    | 9    | 4125415 | 4133564\n",
       "... (296 rows omitted)"
      ]
     },
     "execution_count": 7,
     "metadata": {},
     "output_type": "execute_result"
    }
   ],
   "source": [
    "# Import statements and basic sample datas\n",
    "\n",
    "import numpy as np\n",
    "import pandas as pd\n",
    "from urllib.request import urlopen\n",
    "from datascience import *\n",
    "\n",
    "\n",
    "# These lines set up graphing capabilities.\n",
    "import matplotlib # Library for Data visualization and plot   \n",
    "%matplotlib inline \n",
    "import matplotlib.pyplot as plt\n",
    "plt.style.use('fivethirtyeight')\n",
    "import warnings\n",
    "warnings.simplefilter('ignore', FutureWarning)\n",
    "\n",
    "# url address of US census website. (Data soiurce)\n",
    "census_url = 'https://www2.census.gov/programs-surveys/' \n",
    "\n",
    "# url-link of 2010-2015 population data csv file.\n",
    "pop_url = 'https://www2.census.gov/programs-surveys/popest/datasets/2010-2015/national/asrh/nc-est2015-agesex-res.csv'\n",
    "pop_tbl = Table().read_table(pop_url) # Create a table based on the csv file.\n",
    "\n",
    "# Refined version of US population table \n",
    "ref_pop_tbl = pop_tbl.select('SEX', 'AGE', 4, 9).relabeled(2, '2010').relabeled(3, '2015')\n",
    "ref_pop_tbl "
   ]
  },
  {
   "cell_type": "markdown",
   "metadata": {},
   "source": [
    "# Data Types and Arrays"
   ]
  },
  {
   "cell_type": "markdown",
   "metadata": {},
   "source": [
    "## Data Types"
   ]
  },
  {
   "cell_type": "markdown",
   "metadata": {},
   "source": [
    "### Text\n",
    "   \n",
    "   > Represented by a string value (a sequence of characters) in Python.\n",
    "   \n",
    "   - Single quotes (') and double quotes (\") are both valid, but the types of opening and closing quotation marks must match.\n",
    "   \n",
    "   - "
   ]
  },
  {
   "cell_type": "markdown",
   "metadata": {},
   "source": [
    "### String methods\n",
    "\n",
    "####  `.replace( )`\n",
    "  - original_string.replace(old_substring, new_substring)\n",
    " \n",
    "#### `int( )`, `float( )`, `str( )`\n",
    "   - int(str | float)\n",
    "   > Converts a string of digits or a float to an integer (\"int\") value|\n",
    "   \n",
    "   - float(str | int) \n",
    "   > Converts a string of digits (perhaps with a decimal point) or an int to a decimal (\"float\") value\n",
    "   \n",
    "   - str(any_value)  \n",
    "   > Converts any value to a string\n",
    "\n",
    "#### `len( )`\n",
    "> takes a single string as its argument and returns the number of characters (including spaces) in the string\n",
    "\n"
   ]
  },
  {
   "cell_type": "markdown",
   "metadata": {},
   "source": [
    "## Array and Table"
   ]
  },
  {
   "cell_type": "markdown",
   "metadata": {},
   "source": [
    "### Array \n",
    "\n",
    "   > collection of values of the same type. \n",
    "   \n",
    "  - Index \n",
    "     > "
   ]
  },
  {
   "cell_type": "markdown",
   "metadata": {},
   "source": [
    "### Array methods\n",
    "\n",
    "#### `make_array( )`\n",
    "\n",
    "- make_array( elements ... )\n",
    " > Each argument you pass to `make_array` will be in the array it returns\n",
    "\n",
    "#### `np.array( )`\n",
    "\n",
    "- np.array([elements ... ])\n",
    " > Constructor method of the Array data structure through Numpy library\n",
    "\n",
    "#### `np.arange( )`\n",
    "\n",
    "- np.arange(start, stop, step)\n",
    " > Evaluates to an array with all the numbers starting at start and counting up by step, stopping before stop is reached.\n",
    " \n",
    " \n",
    "#### `np.mean( )`\n",
    "\n",
    "- np.mean(p_arr)\n",
    " > Returns the mean of p_arr "
   ]
  },
  {
   "cell_type": "markdown",
   "metadata": {},
   "source": [
    "### Table\n",
    " \n",
    " > \n",
    " "
   ]
  },
  {
   "cell_type": "markdown",
   "metadata": {},
   "source": [
    "### Table operations\n",
    "\n",
    "#### `Table( ).with_columns ( )`\n",
    "\n",
    " - Table().with_columns(p_label, param_arr, ... )\n",
    "  \n",
    "  > put arrays of the same length into a Table, a 2-dimensional type of dataset\n",
    "      \n",
    "\n",
    "\n",
    "#### `.read_table( )`\n",
    "\n",
    " - Table.read_table(\"CSV_FILE\")\n",
    "  \n",
    "  > Loading a table from a .csv file\n",
    "\n",
    "#### `.column( )`\n",
    "\n",
    " - Table.column(p_label) \n",
    "    \n",
    "  > returns the values in p_label column as an array.\n",
    "  \n",
    "  \n",
    "#### `.take( )`\n",
    "\n",
    "- Table.take(row_idx_arr)\n",
    " \n",
    " > Returns a new table with only those rows in the row_idx_arr.\n",
    " \n",
    "   - row_idx_arr\n",
    "   > Array of row indices to take from the Table.  \n",
    "   \n",
    "   \n",
    "- Table.take(np.arange(start, stop, step))\n",
    " > Use .take() in conjunction with np.arange() to take the first few rows of a table.\n",
    "   \n",
    " \n",
    "     "
   ]
  },
  {
   "cell_type": "markdown",
   "metadata": {},
   "source": [
    "### `where` Method\n",
    "\n",
    "#### `.where( )`\n",
    "\n",
    " - tbl.where( bool_arr )\n",
    " \n",
    "  > Return new table of rows whose corresponding indices in bool_arr are True.\n",
    "  \n",
    " - tbl.where( label, `condition`)\n",
    " \n",
    "  > Return new table of rows that are True after the `condition`.\n",
    "  \n",
    "   - ***are*** `.conditinal_func( )`\n",
    "       \n",
    "       - .{above | below}\\_or_equal( )\n",
    "       \n",
    "       - .contained_in(param_arr)\n",
    "           \n",
    "       - . \n",
    "    \n"
   ]
  },
  {
   "cell_type": "markdown",
   "metadata": {},
   "source": [
    "# Functions and Visualizations"
   ]
  },
  {
   "cell_type": "markdown",
   "metadata": {},
   "source": [
    "## Functions"
   ]
  },
  {
   "cell_type": "markdown",
   "metadata": {},
   "source": [
    "### Function\n",
    " \n",
    "\n",
    "#### `def` Statement\n",
    "\n",
    "```\n",
    " [def] [func_Name](parameter):\n",
    "    \"\"\"[Documentation]\"\"\" \n",
    "    [Body]\n",
    "    [return Statement]    \n",
    "``` "
   ]
  },
  {
   "cell_type": "markdown",
   "metadata": {},
   "source": [
    "# Previous notes below here."
   ]
  },
  {
   "cell_type": "markdown",
   "metadata": {},
   "source": [
    "### 2) Series :  \n",
    "\n",
    "   > 1. Series : one-dimensional labelled array capable of holding data of any type \n",
    "   > 2. Possible to create a Series from Lists and Dictionaries\n",
    "   > 3. Labels : need not be unique but must be a hashable\n",
    "   > 4. Index : The axis labels\n",
    "   "
   ]
  },
  {
   "cell_type": "markdown",
   "metadata": {},
   "source": [
    "#### Fundamental methods of Series\n",
    "\n",
    "1. pd.Series(param_data, index_array)\n",
    "  \n",
    "  > 1. Constructor method of the Series data structure from Pandas\n",
    "  > 2. Index_array (Optional) : Array of Indices of datas in param_datas\n",
    "  > 3. Possible sources of param_data : Dictionary | List | A single element\n",
    "\n",
    "2. pd.Series(single_element, index_array)\n",
    "\n",
    "  > 1. Constructor method of the Series data structure from Pandas\n",
    "  > 2. num_rows of Series == Number of elements in index_array \n",
    "  > 3. "
   ]
  },
  {
   "cell_type": "markdown",
   "metadata": {},
   "source": [
    "#### Examples of Series"
   ]
  },
  {
   "cell_type": "code",
   "execution_count": 3,
   "metadata": {},
   "outputs": [
    {
     "data": {
      "text/plain": [
       "2     7\n",
       "4     7\n",
       "6     7\n",
       "8     7\n",
       "10    7\n",
       "dtype: int64"
      ]
     },
     "execution_count": 3,
     "metadata": {},
     "output_type": "execute_result"
    }
   ],
   "source": [
    "# Array of an indices of data from param_data to create a Series.\n",
    "idx_arr = number_array * 2\n",
    "\n",
    "\n",
    "# Dictionary data structure of data for Series \n",
    "data_dict = {'Element_1' : 10, 'Element_2' : 20, 'Element_3' : 30} \n",
    "\n",
    "\n",
    "# Constructor method of the Series data structure from Pandas. \n",
    "# Using idx_arr, an array of indices of datas, as indexes on the leftmost of Series \n",
    "num_ser1 = pd.Series(boolean_array, idx_arr)\n",
    "num_ser1 \n",
    "\n",
    "\n",
    "# Constructor method of the Series data structure from Pandas. \n",
    "# Dictionary data structure of data as a paramenter to create a Series \n",
    "dic_ser = pd.Series(data_dict)\n",
    "dic_ser\n",
    "\n",
    "\n",
    "# Constructor method of the Series data structure from Pandas. \n",
    "# Single data as a paramenter to create a scalar Series according to idx_arr.\n",
    "scalar_ser = pd.Series(7, idx_arr)\n",
    "scalar_ser"
   ]
  },
  {
   "cell_type": "markdown",
   "metadata": {},
   "source": [
    "### 3) DataFrame :\n",
    "\n",
    "1. Table type data structure from Data C8 Courses\n",
    "\n",
    "#### Fundamental methods of DataFrame\n",
    "\n",
    "1. pd.DataFrame({'Label_1' : Series_1, 'Label_2' : Series_2})\n",
    "    > Constructor of the DataFrame data structure of Pandas\n",
    "        \n",
    "2. tmp_dframe.apply(param_func)\n",
    "    > param_func applied to the elements of 'param_Label' column from tmp_dframe\n",
    "    "
   ]
  },
  {
   "cell_type": "markdown",
   "metadata": {},
   "source": [
    "#### Examples of DataFrame"
   ]
  },
  {
   "cell_type": "code",
   "execution_count": 4,
   "metadata": {
    "scrolled": false
   },
   "outputs": [
    {
     "name": "stdout",
     "output_type": "stream",
     "text": [
      "   Numbers  Booleans\n",
      "0        1     False\n",
      "1        2     False\n",
      "2        3     False\n",
      "3        4      True\n",
      "4        5      True\n"
     ]
    },
    {
     "data": {
      "text/plain": [
       "Numbers    15\n",
       "dtype: int64"
      ]
     },
     "execution_count": 4,
     "metadata": {},
     "output_type": "execute_result"
    }
   ],
   "source": [
    "## Examples of Array # Constructor of DataFrame structure from Pandas \n",
    "num_bool_tbl = pd.DataFrame({'Numbers' : number_array, 'Booleans' : boolean_array})\n",
    "print(num_bool_tbl)\n",
    "\n",
    "# Apply function on the elements of the column of the table data structure.\n",
    "sum_num_tbl = num_tbl.apply(np.sum)\n",
    "sum_num_tbl\n"
   ]
  },
  {
   "cell_type": "markdown",
   "metadata": {},
   "source": [
    "## [B] Table Manipulation"
   ]
  },
  {
   "cell_type": "markdown",
   "metadata": {},
   "source": [
    "### Fundamental Methods about table manipulation"
   ]
  },
  {
   "cell_type": "markdown",
   "metadata": {},
   "source": [
    "#### 1. TABLE_tmp.show(param_num)\n",
    "   \n",
    "   > 1. Displays param_num amount of the contents of the TABLE_tmp.\n",
    "   \n",
    "   **[PANDAS] ~ display(DataFrame_tmp)** > {i.e. TABLE_tmp == DataFrame_tmp} \n",
    "   \n"
   ]
  },
  {
   "cell_type": "code",
   "execution_count": 9,
   "metadata": {},
   "outputs": [
    {
     "data": {
      "text/html": [
       "<div>\n",
       "<style scoped>\n",
       "    .dataframe tbody tr th:only-of-type {\n",
       "        vertical-align: middle;\n",
       "    }\n",
       "\n",
       "    .dataframe tbody tr th {\n",
       "        vertical-align: top;\n",
       "    }\n",
       "\n",
       "    .dataframe thead th {\n",
       "        text-align: right;\n",
       "    }\n",
       "</style>\n",
       "<table border=\"1\" class=\"dataframe\">\n",
       "  <thead>\n",
       "    <tr style=\"text-align: right;\">\n",
       "      <th></th>\n",
       "      <th>Numbers</th>\n",
       "    </tr>\n",
       "  </thead>\n",
       "  <tbody>\n",
       "    <tr>\n",
       "      <th>0</th>\n",
       "      <td>1</td>\n",
       "    </tr>\n",
       "    <tr>\n",
       "      <th>1</th>\n",
       "      <td>2</td>\n",
       "    </tr>\n",
       "    <tr>\n",
       "      <th>2</th>\n",
       "      <td>3</td>\n",
       "    </tr>\n",
       "    <tr>\n",
       "      <th>3</th>\n",
       "      <td>4</td>\n",
       "    </tr>\n",
       "    <tr>\n",
       "      <th>4</th>\n",
       "      <td>5</td>\n",
       "    </tr>\n",
       "  </tbody>\n",
       "</table>\n",
       "</div>"
      ],
      "text/plain": [
       "   Numbers\n",
       "0        1\n",
       "1        2\n",
       "2        3\n",
       "3        4\n",
       "4        5"
      ]
     },
     "metadata": {},
     "output_type": "display_data"
    }
   ],
   "source": [
    "# param_num : Number of data to show\n",
    "param_num = 2\n",
    "\n",
    "# Displays param_num amount of the contents of the TABLE_tmp.\n",
    "display(num_tbl)"
   ]
  },
  {
   "cell_type": "markdown",
   "metadata": {},
   "source": [
    "#### 2. TABLE_tmp.join\n",
    "\n",
    "   > 1. "
   ]
  },
  {
   "cell_type": "code",
   "execution_count": null,
   "metadata": {},
   "outputs": [],
   "source": []
  },
  {
   "cell_type": "markdown",
   "metadata": {},
   "source": [
    "\n"
   ]
  }
 ],
 "metadata": {
  "kernelspec": {
   "display_name": "Python 3",
   "language": "python",
   "name": "python3"
  },
  "language_info": {
   "codemirror_mode": {
    "name": "ipython",
    "version": 3
   },
   "file_extension": ".py",
   "mimetype": "text/x-python",
   "name": "python",
   "nbconvert_exporter": "python",
   "pygments_lexer": "ipython3",
   "version": "3.6.9"
  }
 },
 "nbformat": 4,
 "nbformat_minor": 4
}
