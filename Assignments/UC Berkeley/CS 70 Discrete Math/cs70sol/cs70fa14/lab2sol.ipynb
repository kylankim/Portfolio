{
 "metadata": {
  "name": "",
  "signature": "sha256:d9cf3481744f91d44bd1f2bc64a0acd596a7a0336d113abc6f81e75e6f470e44"
 },
 "nbformat": 3,
 "nbformat_minor": 0,
 "worksheets": [
  {
   "cells": [
    {
     "cell_type": "markdown",
     "metadata": {},
     "source": [
      "# Virtual Lab 2 Solution: Logic and Quantifiers\n",
      "\n",
      "### EECS 70: Discrete Mathematics and Probability Theory, Fall 2014\n",
      "\n",
      "#### Due Date: Monday, September 15th, 2014 at 12pm"
     ]
    },
    {
     "cell_type": "markdown",
     "metadata": {},
     "source": [
      "**Instructions**:\n",
      "\n",
      "* Complete this lab by filling in all of the required functions, marked with `\"YOUR CODE HERE\"`\n",
      "* If you plan to use Python, make sure to go over **Tutorial 1A: Introduction to Python and IPython** before attempting the lab\n",
      "* Most of the solution requires no more than 5 lines each\n",
      "* Please do not hardcode the result or change any function without the `\"YOUR CODE HERE\"` mark\n",
      "* Questions? Bring them to our Office Hour and/or ask on Piazza\n",
      "* Good luck, and have fun!"
     ]
    },
    {
     "cell_type": "markdown",
     "metadata": {},
     "source": [
      "## Table of Contents\n",
      "\n",
      "The number inside parentheses is the number of functions you are required to fill out for this lab. Always make sure to double check before you submit.\n",
      "\n",
      "* [Question 1: Truth Table Warm-up](#q1) (3)\n",
      "* [Question 2: Quantifiers](#q2) (2)\n",
      "* [Question 3: More Quantifiers](#q3) (2)"
     ]
    },
    {
     "cell_type": "markdown",
     "metadata": {},
     "source": [
      "<a id='q1'></a>\n",
      "## Question 1: Truth Table Warm-up"
     ]
    },
    {
     "cell_type": "markdown",
     "metadata": {},
     "source": [
      "You can create propositional statements in Python, as shown in the example below."
     ]
    },
    {
     "cell_type": "code",
     "collapsed": false,
     "input": [
      "%%latex\n",
      "\n",
      "$$x = a \\vee \\neg{b}$$\n",
      "\n",
      "$$y = \\neg{a} \\wedge b$$"
     ],
     "language": "python",
     "metadata": {},
     "outputs": [
      {
       "latex": [
        "\n",
        "$$x = a \\vee \\neg{b}$$\n",
        "\n",
        "$$y = \\neg{a} \\wedge b$$"
       ],
       "metadata": {},
       "output_type": "display_data",
       "text": [
        "<IPython.core.display.Latex at 0x7fc82c6d2550>"
       ]
      }
     ],
     "prompt_number": 72
    },
    {
     "cell_type": "code",
     "collapsed": false,
     "input": [
      "def x(a, b):\n",
      "    return a or not b\n",
      "\n",
      "def y(a, b):\n",
      "    return not a and b"
     ],
     "language": "python",
     "metadata": {},
     "outputs": [],
     "prompt_number": 73
    },
    {
     "cell_type": "code",
     "collapsed": false,
     "input": [
      "def print_truth_table(var_list, *args):\n",
      "    \"\"\"\n",
      "    Prints a truth table using the variables in var_list and len(args) \n",
      "    propositional statements constructed from these variables\n",
      "    \n",
      "    Don't worry if this function is too complicated, you are only\n",
      "    calling it and it basically prints out the truth table in a nice format\n",
      "    \"\"\"\n",
      "    \n",
      "    parts = list(var_list)\n",
      "    parts.extend([s.__name__ for s in args])\n",
      "    \n",
      "    # Prints header of truth table\n",
      "    header = \"%3s\" * len(var_list) + \"  |\" + \"%3s\" * len(args)\n",
      "    body = \"%3d\" * len(var_list) + \"  |\" + \"%3d\" * len(args)\n",
      "    print header % tuple(parts)\n",
      "    \n",
      "    # Prints body of truth table\n",
      "    import itertools\n",
      "    products = itertools.product([0, 1], repeat=len(var_list))\n",
      "    for p in products:\n",
      "        print body % (p + tuple([f(*p) for f in args]))"
     ],
     "language": "python",
     "metadata": {},
     "outputs": [],
     "prompt_number": 74
    },
    {
     "cell_type": "code",
     "collapsed": false,
     "input": [
      "print_truth_table([\"a\", \"b\"], x, y)"
     ],
     "language": "python",
     "metadata": {},
     "outputs": [
      {
       "output_type": "stream",
       "stream": "stdout",
       "text": [
        "  a  b  |  x  y\n",
        "  0  0  |  1  0\n",
        "  0  1  |  0  1\n",
        "  1  0  |  1  0\n",
        "  1  1  |  1  0\n"
       ]
      }
     ],
     "prompt_number": 75
    },
    {
     "cell_type": "markdown",
     "metadata": {},
     "source": [
      "**It's your turn**. Fill in the functions f, g, and h as defined below. Handcraft a truth table on paper to make sure that the result is consistent."
     ]
    },
    {
     "cell_type": "code",
     "collapsed": false,
     "input": [
      "%%latex\n",
      "\n",
      "$$f = (a \\wedge \\neg{b}) \\vee c$$\n",
      "\n",
      "$$g = (\\neg{a} \\vee b) \\wedge \\neg{c}$$\n",
      "\n",
      "$$h = (a \\vee c) \\wedge (\\neg{b} \\vee c)$$"
     ],
     "language": "python",
     "metadata": {},
     "outputs": [
      {
       "latex": [
        "\n",
        "$$f = (a \\wedge \\neg{b}) \\vee c$$\n",
        "\n",
        "$$g = (\\neg{a} \\vee b) \\wedge \\neg{c}$$\n",
        "\n",
        "$$h = (a \\vee c) \\wedge (\\neg{b} \\vee c)$$"
       ],
       "metadata": {},
       "output_type": "display_data",
       "text": [
        "<IPython.core.display.Latex at 0x7fc82c6d2310>"
       ]
      }
     ],
     "prompt_number": 76
    },
    {
     "cell_type": "code",
     "collapsed": false,
     "input": [
      "def f(a, b, c):\n",
      "    \"\"\"YOUR CODE HERE\"\"\"\n",
      "\n",
      "    return (a and (not b)) or c  \n",
      "\n",
      "def g(a, b, c):\n",
      "    \"\"\"YOUR CODE HERE\"\"\"\n",
      "\n",
      "    return ((not a) or b) and (not c)\n",
      "\n",
      "def h(a, b, c):\n",
      "    \"\"\"YOUR CODE HERE\"\"\"\n",
      "\n",
      "    return (a or c) and (not b or c)"
     ],
     "language": "python",
     "metadata": {},
     "outputs": [],
     "prompt_number": 77
    },
    {
     "cell_type": "code",
     "collapsed": false,
     "input": [
      "print_truth_table([\"a\", \"b\", \"c\"], f, g, h)"
     ],
     "language": "python",
     "metadata": {},
     "outputs": [
      {
       "output_type": "stream",
       "stream": "stdout",
       "text": [
        "  a  b  c  |  f  g  h\n",
        "  0  0  0  |  0  1  0\n",
        "  0  0  1  |  1  0  1\n",
        "  0  1  0  |  0  1  0\n",
        "  0  1  1  |  1  0  1\n",
        "  1  0  0  |  1  0  1\n",
        "  1  0  1  |  1  0  1\n",
        "  1  1  0  |  0  1  0\n",
        "  1  1  1  |  1  0  1\n"
       ]
      }
     ],
     "prompt_number": 78
    },
    {
     "cell_type": "markdown",
     "metadata": {},
     "source": [
      "**Comment on the relationship between the functions g, h, and f**:\n",
      "\n",
      "* g is the negation of f. Try to negate f and apply De Morgan's Laws and see what you get.\n",
      "* h is logically equivalent to f by applying the distributive property to f.\n",
      "* g is also the negation of h, since f and h are logically equivalent."
     ]
    },
    {
     "cell_type": "markdown",
     "metadata": {},
     "source": [
      "<a id='q2'></a>\n",
      "## Question 2: Quantifiers"
     ]
    },
    {
     "cell_type": "markdown",
     "metadata": {},
     "source": [
      "Implement your own `forall` and `exists` functions, each takes in a list and a predicate and returns whether all/there is one element in the list that satisfies the predicate.\n",
      "\n",
      "You can assume the predicate will take one parameter and return True/False based on whether the parameter satisfies the predicate or not.\n",
      "\n",
      "**DO NOT USE PYTHON'S BUILT-IN `any()` AND `all()` FUNCTIONS!**\n",
      "\n",
      "*Hint: There is no need to maintain a count. Lookup [short-circuit evaluation](https://en.wikipedia.org/wiki/Short-circuit_evaluation).*"
     ]
    },
    {
     "cell_type": "code",
     "collapsed": false,
     "input": [
      "def forall(lst, pred):\n",
      "    \"\"\"YOUR CODE HERE\"\"\"\n",
      "    \n",
      "    for elem in lst:\n",
      "        if not pred(elem):\n",
      "            return False\n",
      "    return True"
     ],
     "language": "python",
     "metadata": {},
     "outputs": [],
     "prompt_number": 79
    },
    {
     "cell_type": "code",
     "collapsed": false,
     "input": [
      "def exists(lst, pred):\n",
      "    \"\"\"YOUR CODE HERE\"\"\"\n",
      "    \n",
      "    for elem in lst:\n",
      "        if pred(elem):\n",
      "            return True\n",
      "    return False"
     ],
     "language": "python",
     "metadata": {},
     "outputs": [],
     "prompt_number": 80
    },
    {
     "cell_type": "markdown",
     "metadata": {},
     "source": [
      "Test your implementation below, and compare them with Python's built-in `any()` and `all()` functions"
     ]
    },
    {
     "cell_type": "code",
     "collapsed": false,
     "input": [
      "def Q2():\n",
      "    lst = [-1, 1, 3, 5, 7]\n",
      "\n",
      "    # forall\n",
      "    ans1 = forall(lst, lambda x: x % 2 == 1)\n",
      "    ans2 = forall(lst, lambda x: x > 0)\n",
      "    if ans1 and not ans2:\n",
      "        print \"Great job with the implementation of forall!\"\n",
      "    else:\n",
      "        print \"Double check your forall implementation!\"\n",
      "        \n",
      "    # exists\n",
      "    ans3 = exists(lst, lambda x: x < 0)\n",
      "    ans4 = exists(lst, lambda x: x % 2 == 0)\n",
      "    \n",
      "    if ans3 and not ans4:\n",
      "        print \"Great job with the implementation of exists!\"\n",
      "    else:\n",
      "        print \"Double check your exists implementation!\"\n",
      "        \n",
      "    return ans1, ans2, ans3, ans4"
     ],
     "language": "python",
     "metadata": {},
     "outputs": [],
     "prompt_number": 81
    },
    {
     "cell_type": "code",
     "collapsed": false,
     "input": [
      "m2 = Q2()"
     ],
     "language": "python",
     "metadata": {},
     "outputs": [
      {
       "output_type": "stream",
       "stream": "stdout",
       "text": [
        "Great job with the implementation of forall!\n",
        "Great job with the implementation of exists!\n"
       ]
      }
     ],
     "prompt_number": 82
    },
    {
     "cell_type": "code",
     "collapsed": false,
     "input": [
      "def Q2_builtin():\n",
      "    lst = [-1, 1, 3, 5, 7]\n",
      "    ans1 = all((lambda x: x % 2 == 1)(x) for x in lst)\n",
      "    ans2 = all((lambda x: x > 0)(x) for x in lst)\n",
      "    ans3 = any((lambda x: x < 0)(x) for x in lst)\n",
      "    ans4 = any((lambda x: x % 2 == 0)(x) for x in lst)\n",
      "    return ans1, ans2, ans3, ans4"
     ],
     "language": "python",
     "metadata": {},
     "outputs": [],
     "prompt_number": 83
    },
    {
     "cell_type": "code",
     "collapsed": false,
     "input": [
      "m2 == Q2_builtin()  # this should print True"
     ],
     "language": "python",
     "metadata": {},
     "outputs": [
      {
       "metadata": {},
       "output_type": "pyout",
       "prompt_number": 84,
       "text": [
        "True"
       ]
      }
     ],
     "prompt_number": 84
    },
    {
     "cell_type": "markdown",
     "metadata": {},
     "source": [
      "Hey, you just implemented two built-in Python functions in the second lab. Good job!"
     ]
    },
    {
     "cell_type": "markdown",
     "metadata": {},
     "source": [
      "<a id='q3'></a>\n",
      "## Question 3: More Quantifiers"
     ]
    },
    {
     "cell_type": "markdown",
     "metadata": {},
     "source": [
      "Implement `forall2` using `exists`, and `exists2` using `forall`. Make sure to review the relationship between the two quantifiers before attempting this question.\n",
      "\n",
      "*Hint*: Since `pred` is a predicate function that returns either True or False, you can't simply negate it\n",
      "by writing `not pred`. You need to make your own (anonymous) function by wrapping `pred`. Here's an example\n",
      "of an anonymous function, which you can read more about [here](http://www.secnetix.de/olli/Python/lambda_functions.hawk)"
     ]
    },
    {
     "cell_type": "code",
     "collapsed": false,
     "input": [
      "def is_positive(x):\n",
      "    return x > 0\n",
      "\n",
      "def my_func():\n",
      "    return lambda x: not is_positive(x)"
     ],
     "language": "python",
     "metadata": {},
     "outputs": [],
     "prompt_number": 85
    },
    {
     "cell_type": "code",
     "collapsed": false,
     "input": [
      "is_positive(10)"
     ],
     "language": "python",
     "metadata": {},
     "outputs": [
      {
       "metadata": {},
       "output_type": "pyout",
       "prompt_number": 86,
       "text": [
        "True"
       ]
      }
     ],
     "prompt_number": 86
    },
    {
     "cell_type": "code",
     "collapsed": false,
     "input": [
      "is_not_positive = my_func()"
     ],
     "language": "python",
     "metadata": {},
     "outputs": [],
     "prompt_number": 87
    },
    {
     "cell_type": "code",
     "collapsed": false,
     "input": [
      "is_not_positive(10)"
     ],
     "language": "python",
     "metadata": {},
     "outputs": [
      {
       "metadata": {},
       "output_type": "pyout",
       "prompt_number": 88,
       "text": [
        "False"
       ]
      }
     ],
     "prompt_number": 88
    },
    {
     "cell_type": "code",
     "collapsed": false,
     "input": [
      "is_not_positive(-5)"
     ],
     "language": "python",
     "metadata": {},
     "outputs": [
      {
       "metadata": {},
       "output_type": "pyout",
       "prompt_number": 89,
       "text": [
        "True"
       ]
      }
     ],
     "prompt_number": 89
    },
    {
     "cell_type": "markdown",
     "metadata": {},
     "source": [
      "Now it's your turn. Fill in the implementation for `forall2` and `exists2` below."
     ]
    },
    {
     "cell_type": "code",
     "collapsed": false,
     "input": [
      "def forall2(lst, pred):\n",
      "    \"\"\"YOUR CODE HERE\"\"\"\n",
      "\n",
      "    return not exists(lst, lambda x: not pred(x))"
     ],
     "language": "python",
     "metadata": {},
     "outputs": [],
     "prompt_number": 90
    },
    {
     "cell_type": "code",
     "collapsed": false,
     "input": [
      "def exists2(lst, pred):\n",
      "    \"\"\"YOUR CODE HERE\"\"\"\n",
      "\n",
      "    return not forall(lst, lambda x: not pred(x))"
     ],
     "language": "python",
     "metadata": {},
     "outputs": [],
     "prompt_number": 91
    },
    {
     "cell_type": "code",
     "collapsed": false,
     "input": [
      "def Q3():\n",
      "    # We're going to use the same example as before again!\n",
      "    lst = [-1, 1, 3, 5, 7]\n",
      "\n",
      "    # forall2\n",
      "    ans1 = forall2(lst, lambda x: x % 2 == 1)\n",
      "    ans2 = forall2(lst, lambda x: x > 0)\n",
      "    if ans1 and not ans2:\n",
      "        print \"Great job with the implementation of forall2!\"\n",
      "    else:\n",
      "        print \"Double check your forall2 implementation!\"\n",
      "        \n",
      "    # exists2\n",
      "    ans3 = exists2(lst, lambda x: x < 0)\n",
      "    ans4 = exists2(lst, lambda x: x % 2 == 0)\n",
      "    \n",
      "    if ans3 and not ans4:\n",
      "        print \"Great job with the implementation of exists2!\"\n",
      "    else:\n",
      "        print \"Double check your exists2 implementation!\"\n",
      "        \n",
      "    return ans1, ans2, ans3, ans4"
     ],
     "language": "python",
     "metadata": {},
     "outputs": [],
     "prompt_number": 92
    },
    {
     "cell_type": "code",
     "collapsed": false,
     "input": [
      "Q3() == Q2_builtin()  # this should again print True"
     ],
     "language": "python",
     "metadata": {},
     "outputs": [
      {
       "output_type": "stream",
       "stream": "stdout",
       "text": [
        "Great job with the implementation of forall2!\n",
        "Great job with the implementation of exists2!\n"
       ]
      },
      {
       "metadata": {},
       "output_type": "pyout",
       "prompt_number": 93,
       "text": [
        "True"
       ]
      }
     ],
     "prompt_number": 93
    },
    {
     "cell_type": "markdown",
     "metadata": {},
     "source": [
      "**Congratulations**! You are done with Virtual Lab 2.\n",
      "\n",
      "Don't forget to convert this notebook to a pdf document, merge it with your written homework, and submit both the pdf and the code (as a zip file) on glookup.\n",
      "\n",
      "**Reminder**: late submission are NOT accepted. If you have any technical difficulty,\n",
      "resolve it early on or use the provided VM."
     ]
    }
   ],
   "metadata": {}
  }
 ]
}