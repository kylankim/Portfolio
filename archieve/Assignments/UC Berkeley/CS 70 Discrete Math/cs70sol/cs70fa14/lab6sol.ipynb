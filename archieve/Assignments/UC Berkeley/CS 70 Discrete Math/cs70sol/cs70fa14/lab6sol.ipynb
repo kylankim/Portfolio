{
 "metadata": {
  "name": "",
  "signature": "sha256:d9cf3481744f91d44bd1f2bc64a0acd596a7a0336d113abc6f81e75e6f470e44"
 },
 "nbformat": 3,
 "nbformat_minor": 0,
 "worksheets": [
  {
   "cells": [
    {
     "cell_type": "markdown",
     "metadata": {},
     "source": [
      "# Virtual Lab 6 Solution: Public Key Cryptography and Lagrange Interpolation\n",
      "\n",
      "### EECS 70: Discrete Mathematics and Probability Theory, Fall 2014\n",
      "\n",
      "#### Due Date: Monday, October 13th, 2014 at 12pm"
     ]
    },
    {
     "cell_type": "markdown",
     "metadata": {},
     "source": [
      "**Instructions**:\n",
      "\n",
      "* Complete this lab by filling in all of the required functions, marked with `\"YOUR CODE HERE\"`\n",
      "* If you plan to use Python, make sure to go over **Tutorial 1A: Introduction to Python and IPython** before attempting the lab\n",
      "* Make sure you run every code cell one after another, i.e. don't skip any cell. A shortcut for doing this in the notebook is Shift+Enter. When you finish, choose 'Cell > Run All' to test your code one last time all at once.\n",
      "* Most of the solution requires no more than a few lines each\n",
      "* Please do not hardcode the result or change any function without the `\"YOUR CODE HERE\"` mark\n",
      "* Questions? Bring them to our Office Hour and/or ask on Piazza\n",
      "* Good luck, and have fun!"
     ]
    },
    {
     "cell_type": "markdown",
     "metadata": {},
     "source": [
      "## Table of Contents\n",
      "\n",
      "The number inside parentheses is the number of functions or code blocks you are required to fill out for each question. Always make sure to double check before you submit.\n",
      "\n",
      "* [Introduction](#intro)\n",
      "* [Question 1: Pairwise coprime](#q1) (1)\n",
      "* [Question 2: Generate RSA keypair](#q2) (1)\n",
      "* [Question 3: Encrypt/Decrypt simple messages](#q3) (2)\n",
      "* [Question 4: Encrypt/Decrypt text messages](#q4) (4)\n",
      "* [Question 5: Degree 2 polynomial interpolation](#q5) (1)\n",
      "* [Question 6: Plotting Bar Charts](#q6) (3)"
     ]
    },
    {
     "cell_type": "code",
     "collapsed": false,
     "input": [
      "%pylab inline"
     ],
     "language": "python",
     "metadata": {},
     "outputs": [
      {
       "output_type": "stream",
       "stream": "stdout",
       "text": [
        "Populating the interactive namespace from numpy and matplotlib\n"
       ]
      }
     ],
     "prompt_number": 10
    },
    {
     "cell_type": "code",
     "collapsed": false,
     "input": [
      "import sys\n",
      "import math\n",
      "import random\n",
      "import copy"
     ],
     "language": "python",
     "metadata": {},
     "outputs": [],
     "prompt_number": 40
    },
    {
     "cell_type": "markdown",
     "metadata": {},
     "source": [
      "<a id='intro'></a>\n",
      "## Introduction"
     ]
    },
    {
     "cell_type": "markdown",
     "metadata": {},
     "source": [
      "In this week's Virtual Lab, we will implement a toy RSA cryptosystem. We will start by generating the public and private keys for RSA using functions that we have implemented in the past two weeks (`mod_exp`, `egcd`, etc.). Then, we will encrypt and decrypt messages with the RSA function -- you will decrypt a secret and tell us in your written homework what that secret is.\n",
      "\n",
      "Finally, we will learn to carry out Lagrange Interpolation for a degree 2 polynomial. Let's dive in!"
     ]
    },
    {
     "cell_type": "markdown",
     "metadata": {},
     "source": [
      "Once again, you will find below sample implementations of the functions we asked you to implement in Virtual Lab 4. Feel free to use them when appropriate."
     ]
    },
    {
     "cell_type": "code",
     "collapsed": false,
     "input": [
      "def mod_exp(x, y, m):\n",
      "    \"\"\"\n",
      "    Returns the result of (x^y) mod m using repeated squaring\n",
      "    \"\"\"\n",
      "    \n",
      "    if y == 0:\n",
      "        return 1\n",
      "    z = mod_exp(x, y // 2, m)\n",
      "    if y % 2 == 0:\n",
      "        return z * z % m\n",
      "    return x * z *z % m"
     ],
     "language": "python",
     "metadata": {},
     "outputs": [],
     "prompt_number": 41
    },
    {
     "cell_type": "code",
     "collapsed": false,
     "input": [
      "def gcd(x, y):\n",
      "    \"\"\"\n",
      "    Computes the greatest common divisor between two numbers x and y\n",
      "    \"\"\"\n",
      "\n",
      "    if y == 0:\n",
      "        return x\n",
      "    return gcd(y, x % y)"
     ],
     "language": "python",
     "metadata": {},
     "outputs": [],
     "prompt_number": 42
    },
    {
     "cell_type": "code",
     "collapsed": false,
     "input": [
      "def egcd(x, y):\n",
      "    \"\"\"\n",
      "    Extended Euclid's Algorithm. It takes a pair of natural numbers x >= y,\n",
      "    and returns a triple of integers (d, a, b) such that d = gcd(x, y) = ax + by.\n",
      "    \"\"\"\n",
      "    \n",
      "    if y == 0:\n",
      "        return (x, 1, 0)\n",
      "    (d, a, b) = egcd(y, x % y)\n",
      "    return (d, b, a - (x // y) * b)"
     ],
     "language": "python",
     "metadata": {},
     "outputs": [],
     "prompt_number": 43
    },
    {
     "cell_type": "code",
     "collapsed": false,
     "input": [
      "def inverse(x, m):\n",
      "    \"\"\"\n",
      "    Returns the positive multiplicative inverse of x mod m\n",
      "    \"\"\"\n",
      "    \n",
      "    inverse = egcd(x, m)[1]\n",
      "    if inverse < 0:\n",
      "        inverse += m\n",
      "    return inverse"
     ],
     "language": "python",
     "metadata": {},
     "outputs": [],
     "prompt_number": 44
    },
    {
     "cell_type": "code",
     "collapsed": false,
     "input": [
      "def sieve(n):\n",
      "    \"\"\"\n",
      "    Returns a list of all primes <= n, where n is a positive integer\n",
      "    \"\"\"\n",
      "\n",
      "    lst = range(n+1)\n",
      "    lst[1] = 0  # 1 is not prime, so we mark it with '0' for future removal \n",
      "    sqrtn = int(round(n**0.5))\n",
      "    for i in range(2, sqrtn + 1):  # why do we only need to go up to sqrt(n) + 1?\n",
      "        if lst[i]:\n",
      "            lst[i*i: n+1: i] = [0] * len(range(i*i, n+1, i))\n",
      "    return filter(None, lst)  # filter out all 0s from lst"
     ],
     "language": "python",
     "metadata": {},
     "outputs": [],
     "prompt_number": 45
    },
    {
     "cell_type": "markdown",
     "metadata": {},
     "source": [
      "<a id='q1'></a>\n",
      "## Question 1: Pairwise coprime"
     ]
    },
    {
     "cell_type": "markdown",
     "metadata": {},
     "source": [
      "*Warmup*: Implement the function `pairwise_coprime`, which returns True if every pair of numbers in `lst` is\n",
      "coprime (relatively prime) and False otherwise. You can retrieve every pair in `lst` with the function `combinations(lst, 2)` from the `itertools` module."
     ]
    },
    {
     "cell_type": "code",
     "collapsed": false,
     "input": [
      "def pairwise_coprime(lst):\n",
      "    \"\"\"\n",
      "    Returns True if every pair of numbers in lst is\n",
      "    coprime (relatively prime) and False otherwise\n",
      "\n",
      "    YOUR CODE HERE\n",
      "    \"\"\"\n",
      "    \n",
      "    from itertools import combinations\n",
      "    for i, j in combinations(lst, 2):\n",
      "        if gcd(i, j) != 1:\n",
      "            return False\n",
      "    return True"
     ],
     "language": "python",
     "metadata": {},
     "outputs": [],
     "prompt_number": 46
    },
    {
     "cell_type": "markdown",
     "metadata": {},
     "source": [
      "Test your implementation below. All tests should print True if your implementation is correct."
     ]
    },
    {
     "cell_type": "code",
     "collapsed": false,
     "input": [
      "pairwise_coprime([2, 3, 5, 7, 11]) == True"
     ],
     "language": "python",
     "metadata": {},
     "outputs": [
      {
       "metadata": {},
       "output_type": "pyout",
       "prompt_number": 47,
       "text": [
        "True"
       ]
      }
     ],
     "prompt_number": 47
    },
    {
     "cell_type": "code",
     "collapsed": false,
     "input": [
      "pairwise_coprime([2, 3, 5, 7, 12]) == False  # 2 and 12, 3 and 12 are not coprime"
     ],
     "language": "python",
     "metadata": {},
     "outputs": [
      {
       "metadata": {},
       "output_type": "pyout",
       "prompt_number": 48,
       "text": [
        "True"
       ]
      }
     ],
     "prompt_number": 48
    },
    {
     "cell_type": "code",
     "collapsed": false,
     "input": [
      "pairwise_coprime([2]) == True  # no pair, so True by default"
     ],
     "language": "python",
     "metadata": {},
     "outputs": [
      {
       "metadata": {},
       "output_type": "pyout",
       "prompt_number": 49,
       "text": [
        "True"
       ]
      }
     ],
     "prompt_number": 49
    },
    {
     "cell_type": "markdown",
     "metadata": {},
     "source": [
      "<a id='q2'></a>\n",
      "## Question 2: Generate RSA keypair"
     ]
    },
    {
     "cell_type": "markdown",
     "metadata": {},
     "source": [
      "Recall part (c) of last week lab, where we implement the function `is_prime_fermat` to test if a positive integer is a probable prime or is definitely composite. Below you will find an implementation of the function `is_probable_prime`, which uses the Miller-Rabin algorithm to carry out the same task with a very small error rate. \n",
      "\n",
      "The implementation is quite complex, and do not worry if you don't understand the code below."
     ]
    },
    {
     "cell_type": "code",
     "collapsed": false,
     "input": [
      "def is_probable_prime(n, k=7):\n",
      "    \"\"\"\n",
      "    Uses the Miller-Rabin algorithm to return True (n is probably prime)\n",
      "    or False (n is definitely composite)\n",
      "    \"\"\"\n",
      "\n",
      "    if n < 6:  # shortcut the first few cases here...\n",
      "        return [False, False, True, True, False, True][n]\n",
      "    elif n & 1 == 0:  # should be faster than n % 2\n",
      "        return False\n",
      "    else:\n",
      "        s, d = 0, n - 1\n",
      "        while d & 1 == 0:\n",
      "            s, d = s + 1, d >> 1\n",
      "            for a in random.sample(xrange(2, min(n - 2, sys.maxint)), min(n - 4, k)):\n",
      "                x = pow(a, d, n)\n",
      "                if x != 1 and x + 1 != n:\n",
      "                    for r in xrange(1, s):\n",
      "                        x = pow(x, 2, n)\n",
      "                        if x == 1:\n",
      "                            return False  # composite for sure\n",
      "                        elif x == n - 1:\n",
      "                            a = 0  # so we know loop didn't continue to end\n",
      "                            break  # could be strong liar, try another a\n",
      "                    if a:\n",
      "                        return False  # composite if we reached end of this loop\n",
      "            return True  # probably prime if reached end of outer loop"
     ],
     "language": "python",
     "metadata": {},
     "outputs": [],
     "prompt_number": 50
    },
    {
     "cell_type": "markdown",
     "metadata": {},
     "source": [
      "Here's how the function `is_probable_prime` could be used. Notice how $561$ doesn't pass the Miller-Rabin test. :-)"
     ]
    },
    {
     "cell_type": "code",
     "collapsed": false,
     "input": [
      "is_probable_prime(7)"
     ],
     "language": "python",
     "metadata": {},
     "outputs": [
      {
       "metadata": {},
       "output_type": "pyout",
       "prompt_number": 51,
       "text": [
        "True"
       ]
      }
     ],
     "prompt_number": 51
    },
    {
     "cell_type": "code",
     "collapsed": false,
     "input": [
      "is_probable_prime(561)"
     ],
     "language": "python",
     "metadata": {},
     "outputs": [
      {
       "metadata": {},
       "output_type": "pyout",
       "prompt_number": 52,
       "text": [
        "False"
       ]
      }
     ],
     "prompt_number": 52
    },
    {
     "cell_type": "markdown",
     "metadata": {},
     "source": [
      "Below is a simple implementation of a function that generates a pseudorandom prime. This function will help you\n",
      "generate your public and private key pair for RSA."
     ]
    },
    {
     "cell_type": "code",
     "collapsed": false,
     "input": [
      "def gen_prime(a, b, k=7):\n",
      "    \"\"\"\n",
      "    Generates a pseudo prime number roughly between a and b.\n",
      "    \n",
      "    Raises ValueError if we still fail to find a prime number after\n",
      "    10 * math.log(x) + 3 tries.\n",
      "    \"\"\"\n",
      "\n",
      "    x = random.randint(a, b)\n",
      "    for i in range(0, int(10 * math.log(x) + 3)):\n",
      "        if is_probable_prime(x, k):\n",
      "            return x\n",
      "        else:\n",
      "            x += 1\n",
      "    raise ValueError"
     ],
     "language": "python",
     "metadata": {},
     "outputs": [],
     "prompt_number": 53
    },
    {
     "cell_type": "markdown",
     "metadata": {},
     "source": [
      "Runs the code cell below multiple times! You should see that it generates a pseudorandom prime roughly between $3$ and $100$."
     ]
    },
    {
     "cell_type": "code",
     "collapsed": false,
     "input": [
      "gen_prime(3, 100)"
     ],
     "language": "python",
     "metadata": {},
     "outputs": [
      {
       "metadata": {},
       "output_type": "pyout",
       "prompt_number": 54,
       "text": [
        "11"
       ]
      }
     ],
     "prompt_number": 54
    },
    {
     "cell_type": "markdown",
     "metadata": {},
     "source": [
      "Now it's your turn! Implement the function `gen_key`, which generates a pair of public and private keys for RSA. For simplicity, return a triple `(N, e, d)` in your implementation, where $N = pq$ (`p` and `q` are two large primes), $e$ is relatively prime to $(p-1)(q-1)$, and $d$ is the inverse of $e$ mod $(p-1)(q-1)$. Refer to Page 2 of Lecture Note 6 for more details on how to generate the RSA key pair."
     ]
    },
    {
     "cell_type": "code",
     "collapsed": false,
     "input": [
      "def gen_key(a, b, k=7):\n",
      "    \"\"\"\n",
      "    Generates public and private keys for RSA encryption.\n",
      "    Raises ValueError if the function fails to find one.\n",
      "    \n",
      "    Please fill in the three code blocks marked with \"YOUR CODE HERE\"\n",
      "    below. Each block requires no more than five lines.\n",
      "    \"\"\"\n",
      "\n",
      "    try:\n",
      "        # Finds two large primes p and q, where q needs to be\n",
      "        # different than p\n",
      "        # YOUR CODE HERE\n",
      "        p = gen_prime(a, b, k)\n",
      "        q = gen_prime(a, b, k)\n",
      "        while q == p:\n",
      "            q = gen_prime(a, b, k)\n",
      "    except:\n",
      "        raise ValueError\n",
      "        \n",
      "    # Computes N = p * q, and m = (p - 1) * (q - 1)\n",
      "    # YOUR CODE HERE\n",
      "    N = p * q\n",
      "    m = (p - 1) * (q - 1)\n",
      "    \n",
      "    # Finds e coprime to m. You can use the function \n",
      "    # `pairwise_coprime` from part (a), or just good ol' `gcd`\n",
      "    # Then find d, the inverse of e mod (p-1)(q-1)\n",
      "    # YOUR CODE HERE\n",
      "    while True:\n",
      "        e = random.randint(1, m)\n",
      "        if pairwise_coprime([e, m]):\n",
      "            break\n",
      "    d = inverse(e, m)\n",
      "    \n",
      "    # Returns our keypair as a triple\n",
      "    return (N, e, d)"
     ],
     "language": "python",
     "metadata": {},
     "outputs": [],
     "prompt_number": 55
    },
    {
     "cell_type": "markdown",
     "metadata": {},
     "source": [
      "Unfortunately, it's not quite easy to test if your implementation above is correct. We'll know by the time we\n",
      "reach the next question, where you get to actually encrypt/decrypt messages!"
     ]
    },
    {
     "cell_type": "markdown",
     "metadata": {},
     "source": [
      "<a id='q3'></a>\n",
      "## Question 3: Encrypt/Decrypt simple messages"
     ]
    },
    {
     "cell_type": "markdown",
     "metadata": {},
     "source": [
      "Implement the functions `encrypt_integer` and `decrypt_integer`, which encrypts and decrypts a positive integer $x$. We will generate our RSA keypair using the function `gen_key` you implemented above."
     ]
    },
    {
     "cell_type": "code",
     "collapsed": false,
     "input": [
      "N, e, d = gen_key(3, 100)  # we will work with small numbers for this question\n",
      "print N, e, d"
     ],
     "language": "python",
     "metadata": {},
     "outputs": [
      {
       "output_type": "stream",
       "stream": "stdout",
       "text": [
        "6499 6253 229\n"
       ]
      }
     ],
     "prompt_number": 56
    },
    {
     "cell_type": "code",
     "collapsed": false,
     "input": [
      "def encrypt_integer(x, N, e):\n",
      "    \"\"\"\n",
      "    Encrypts the message x, where x is a positive integer\n",
      "    \n",
      "    YOUR CODE HERE\n",
      "    \"\"\"\n",
      "\n",
      "    return mod_exp(x, e, N)"
     ],
     "language": "python",
     "metadata": {},
     "outputs": [],
     "prompt_number": 57
    },
    {
     "cell_type": "code",
     "collapsed": false,
     "input": [
      "def decrypt_integer(x, N, d):\n",
      "    \"\"\"\n",
      "    Decrypts the cipher x to get a positive integer \n",
      "    encrypted with `encrypt_integer`\n",
      "    \n",
      "    YOUR CODE HERE\n",
      "    \"\"\"\n",
      "\n",
      "    return mod_exp(x, d, N)"
     ],
     "language": "python",
     "metadata": {},
     "outputs": [],
     "prompt_number": 58
    },
    {
     "cell_type": "markdown",
     "metadata": {},
     "source": [
      "Time to encrypt/decrypt something! If your implementations for Q2 and Q3 are both correct, the first two tests below should print True."
     ]
    },
    {
     "cell_type": "code",
     "collapsed": false,
     "input": [
      "decrypt_integer(encrypt_integer(28, N, e), N, d) == 28"
     ],
     "language": "python",
     "metadata": {},
     "outputs": [
      {
       "metadata": {},
       "output_type": "pyout",
       "prompt_number": 59,
       "text": [
        "True"
       ]
      }
     ],
     "prompt_number": 59
    },
    {
     "cell_type": "code",
     "collapsed": false,
     "input": [
      "decrypt_integer(encrypt_integer(199, N, e), N, d) == 199"
     ],
     "language": "python",
     "metadata": {},
     "outputs": [
      {
       "metadata": {},
       "output_type": "pyout",
       "prompt_number": 60,
       "text": [
        "True"
       ]
      }
     ],
     "prompt_number": 60
    },
    {
     "cell_type": "code",
     "collapsed": false,
     "input": [
      "decrypt_integer(encrypt_integer(290000, N, e), N, d) == 290000"
     ],
     "language": "python",
     "metadata": {},
     "outputs": [
      {
       "metadata": {},
       "output_type": "pyout",
       "prompt_number": 61,
       "text": [
        "False"
       ]
      }
     ],
     "prompt_number": 61
    },
    {
     "cell_type": "markdown",
     "metadata": {},
     "source": [
      "Wait what? Why does $290000$ not work?\n",
      "\n",
      "The answer can be found on the bottom of Page 2 of Note 6. We need to map our message $x$ into a number between $2$ and $N - 1$, which we didn't. The largest prime below $100$ is $97$, and even if we allow $p$ and $q$ to be the same, $N = p \\cdot q$ would not be larger than $290000$. :-("
     ]
    },
    {
     "cell_type": "markdown",
     "metadata": {},
     "source": [
      "<a id='q4'></a>\n",
      "## Question 4: Encrypt/Decrypt text messages"
     ]
    },
    {
     "cell_type": "markdown",
     "metadata": {},
     "source": [
      "Q3 was a bit boring, wasn't it? In this part, we will give you the code to convert text messages into lists of integers based on ASCII values, and you will actually get to encrypt or decrypt actual messages."
     ]
    },
    {
     "cell_type": "markdown",
     "metadata": {},
     "source": [
      "Belows are some functions that you might find helpful for completing this question. You do not need to understand the implementation, but please read the docstring carefully to make sure you understand when to use each function."
     ]
    },
    {
     "cell_type": "code",
     "collapsed": false,
     "input": [
      "def string_to_num_list(s):\n",
      "    \"\"\"\n",
      "    Converts a string to a list of integers based on ASCII values\n",
      "    \"\"\"\n",
      "\n",
      "    return [ord(char) for char in s]"
     ],
     "language": "python",
     "metadata": {},
     "outputs": [],
     "prompt_number": 62
    },
    {
     "cell_type": "code",
     "collapsed": false,
     "input": [
      "def num_list_to_string(l):\n",
      "    \"\"\"\n",
      "    Converts a list of integers to a string based on ASCII values\n",
      "    \"\"\"\n",
      "\n",
      "    return ''.join(map(chr, l))"
     ],
     "language": "python",
     "metadata": {},
     "outputs": [],
     "prompt_number": 63
    },
    {
     "cell_type": "code",
     "collapsed": false,
     "input": [
      "def num_list_to_blocks(l, n):\n",
      "    \"\"\"\n",
      "    Takes a list of integers (each between 0 and 127), and combines them\n",
      "    into list of blocks, each of size n, using base 256. If len(L) % n != 0, \n",
      "    use some random junk to fill L.\n",
      "    \"\"\"\n",
      "\n",
      "    blocks = []\n",
      "    to_process = copy.copy(l)\n",
      "    if len(to_process) % n != 0:\n",
      "        for i in range(0, n - len(to_process) % n):\n",
      "            to_process.append(random.randint(32, 126))\n",
      "    for i in range(0, len(to_process), n):\n",
      "        block = 0\n",
      "        for j in range(0, n):\n",
      "            block += to_process[i + j] << (8 * (n - j - 1))\n",
      "        blocks.append(block)\n",
      "    return blocks"
     ],
     "language": "python",
     "metadata": {},
     "outputs": [],
     "prompt_number": 64
    },
    {
     "cell_type": "code",
     "collapsed": false,
     "input": [
      "def blocks_to_num_list(blocks, n):\n",
      "    \"\"\"\n",
      "    Takes a list of blocks and converts them back into\n",
      "    a number list. This function is the inverse of num_list_to_blocks\n",
      "    \"\"\"\n",
      "\n",
      "    to_process = copy.copy(blocks)\n",
      "    num_list = []\n",
      "    for num_block in to_process:\n",
      "        inner = []\n",
      "        for i in range(0, n):\n",
      "            inner.append(num_block % 256)\n",
      "            num_block >>= 8\n",
      "        inner.reverse()\n",
      "        num_list.extend(inner)\n",
      "    return num_list"
     ],
     "language": "python",
     "metadata": {},
     "outputs": [],
     "prompt_number": 65
    },
    {
     "cell_type": "markdown",
     "metadata": {},
     "source": [
      "Now it's your turn! Once again, implement the `encrypt` and `decrypt` functions, this time for text messages. Both functions should be relatively simple. For `encrypt`, you should convert the text message to a number list, then convert the number list to blocks, then encrypt each block with `mod_exp`, and finally return a list of numbers, where each number is the secret for a corresponding block. \n",
      "\n",
      "For `decrypt`, do the reverse. The four functions given above should do the trick if you use them correctly."
     ]
    },
    {
     "cell_type": "code",
     "collapsed": false,
     "input": [
      "N, e, d = gen_key(10 ** 100, 10 ** 101)  # we will work with super large numbers like actual RSA this time\n",
      "print N\n",
      "print e\n",
      "print d"
     ],
     "language": "python",
     "metadata": {},
     "outputs": [
      {
       "output_type": "stream",
       "stream": "stdout",
       "text": [
        "2197945836121024037508169101623951144751752488159875449301820439036236081359494299201058839134653233814603343477611246110356328751416740778427190089286046577448044030163757942776963249499940231336856089\n",
        "202492516739988847709821969232954032762158673675644863215803896999754794080841775772706442958228792257496813862503707346363380669333248826699946840345526261361204190953190663602290176964721020364026045\n",
        "575368371879520653462277382691724096914538433522692601040059420171496015648839858469847693049984477572809660785768118683540838570874766271537462444136183412245504938700572047745427169804137802522695925\n"
       ]
      }
     ],
     "prompt_number": 66
    },
    {
     "cell_type": "code",
     "collapsed": false,
     "input": [
      "def encrypt(message, N, e, block_size):\n",
      "    \"\"\"\n",
      "    Takes a text message, the public keys (N, e), and block's size, \n",
      "    and encrypts the text message using RSA\n",
      "    \n",
      "    YOUR CODE HERE\n",
      "    \"\"\"\n",
      "\n",
      "    num_list = string_to_num_list(message)\n",
      "    num_blocks = num_list_to_blocks(num_list, block_size)\n",
      "    return [mod_exp(block, e, N) for block in num_blocks]"
     ],
     "language": "python",
     "metadata": {},
     "outputs": [],
     "prompt_number": 67
    },
    {
     "cell_type": "code",
     "collapsed": false,
     "input": [
      "def decrypt(secret, N, d, block_size):\n",
      "    \"\"\"\n",
      "    Takes a secret, the modulus N, the private key d, and block's size,\n",
      "    decrypts the secret back to a text message\n",
      "    \n",
      "    YOUR CODE HERE\n",
      "    \"\"\"\n",
      "\n",
      "    num_blocks = [mod_exp(block, d, N) for block in secret]\n",
      "    num_list = blocks_to_num_list(num_blocks, block_size)\n",
      "    return num_list_to_string(num_list)"
     ],
     "language": "python",
     "metadata": {},
     "outputs": [],
     "prompt_number": 68
    },
    {
     "cell_type": "markdown",
     "metadata": {},
     "source": [
      "Test your implementation below. The test should print True if your implementation is correct."
     ]
    },
    {
     "cell_type": "code",
     "collapsed": false,
     "input": [
      "block_size = 14\n",
      "message = \"70 is awesome!\"\n",
      "print message\n",
      "\n",
      "secret = encrypt(message, N, e, block_size)\n",
      "decrypted_message = decrypt(secret, N, d, block_size)\n",
      "print decrypted_message\n",
      "message == decrypted_message"
     ],
     "language": "python",
     "metadata": {},
     "outputs": [
      {
       "output_type": "stream",
       "stream": "stdout",
       "text": [
        "70 is awesome!\n",
        "70 is awesome!\n"
       ]
      },
      {
       "metadata": {},
       "output_type": "pyout",
       "prompt_number": 69,
       "text": [
        "True"
       ]
      }
     ],
     "prompt_number": 69
    },
    {
     "cell_type": "markdown",
     "metadata": {},
     "source": [
      "70 is indeed awesome, isn't it? :-)"
     ]
    },
    {
     "cell_type": "markdown",
     "metadata": {},
     "source": [
      "However, this implementation requires your message length to be a multiple of `block_size`, otherwise the decrypted message will have some garbage at the end. Try the following code cell."
     ]
    },
    {
     "cell_type": "code",
     "collapsed": false,
     "input": [
      "block_size = 8\n",
      "message = \"70 is awesome!\"\n",
      "print message\n",
      "\n",
      "secret = encrypt(message, N, e, block_size)\n",
      "decrypted_message = decrypt(secret, N, d, block_size)\n",
      "print decrypted_message"
     ],
     "language": "python",
     "metadata": {},
     "outputs": [
      {
       "output_type": "stream",
       "stream": "stdout",
       "text": [
        "70 is awesome!\n",
        "70 is awesome!&U"
       ]
      },
      {
       "output_type": "stream",
       "stream": "stdout",
       "text": [
        "\n"
       ]
      }
     ],
     "prompt_number": 70
    },
    {
     "cell_type": "markdown",
     "metadata": {},
     "source": [
      "Oops! :-( But that's okay -- we have just implemented a toy RSA cryptosystem in this Virtual Lab, which is already a huge accomplishment!"
     ]
    },
    {
     "cell_type": "markdown",
     "metadata": {},
     "source": [
      "In your written homework, answer the following two questions:\n",
      "\n",
      "(1) What's the secret of your class log-in (cs70-XYZ) using a block size of $4$? If your login only has two letters, treat the last letter as a whitespace. Everyone's answer to this question should be quite different from one another -- we will check the answer!\n",
      "\n",
      "(Since the secret will be quite long, make sure you copy and paste the answer instead of writing it down. If you handwrite your homework, use a software like [PDF Escape](https://www.pdfescape.com/) to edit the PDF and paste the answer in.)\n",
      "\n",
      "(2) What's the original message of the following secret? You will need to figure out the block size yourself. *Hint*: the length of the original message is $126$. Check the numbers from `range(1, len(message))` that divides the message's length.\n",
      "\n",
      "For both parts, please use the following $N,e,d$. Make sure you run this code cell below (and don't run `gen_key` again), otherwise your answers will not match up with ours.\n",
      "\n",
      "Also, don't worry if the pdf conversion command cuts off the numbers since they are too big -- that's okay, we'll look at your ipynb file."
     ]
    },
    {
     "cell_type": "code",
     "collapsed": false,
     "input": [
      "N = 3591224728728243967431780330029322970301016099123249137152691586965497777693318678753203545658413381773667996520366656383834447829275013141661000386451848694263644438715389939960349132346892498739637473\n",
      "e = 2265313266008335726456032066183714518811233898214071530131892751223517333906320150343450386421545910940544277876015503203906040105656290240589164295436651306867309306330590857317983439846177660611723101\n",
      "d = 28283740770418684421439495338658018373533454980350053565645105730752643657694690384791879887526845909572452781469854061624019891284958906310985803583577819124893380589018159338370655674834219495342869"
     ],
     "language": "python",
     "metadata": {},
     "outputs": [],
     "prompt_number": 71
    },
    {
     "cell_type": "code",
     "collapsed": false,
     "input": [
      "super_secret = \\\n",
      "[633838447921877681567288216402901981019277312874177652686655214660913238777022850073406280125650158088803272958456927561103734976958834613570951058513028213003173449590906778109401687468781398094562680L, 3360951139990959535470833348888721146921810533373435504124114085691454041285684623722392657116277057467117275451211933884512227962760972833457047698643172906120863106127905211986591495282858420155833201L, 1456071389960733060084180784207194611588666423647001553365418378609152665219819204488437431034906304941590268290803533951063740296830296003718737286637851175298672574985900031467850570827125733766300162L, 236261246976962373811427094644582567473595132733656641770478126396882554160517707684986431846761020155450590161169182308752262191932868993367479121416604008055690244435377942606127642138873799796829628L, 2704506374981177240098919578438412398207962146109475225466838059452065866915751920513472952284542577401902324187558318483412582737936268192929394588855643441864725765317402382954759222989153570557086745L, 1412703848399617332620860192395765992262014042903155464703241096985330343345667784695076156720201871660309387566982303995301479298438678884314438153374892002462649821752780358693699705334471194693481004L, 2359254494744317732115807318231677401956301250808978640835918943601284363689847903422473960400605192079683946628745530111386378902289596294135681689953364167080275646557572329532053717749410049978276794L]"
     ],
     "language": "python",
     "metadata": {},
     "outputs": [],
     "prompt_number": 72
    },
    {
     "cell_type": "code",
     "collapsed": false,
     "input": [
      "# YOUR CODE HERE for subpart 1\n",
      "block_size = 4\n",
      "message = \"cs70-ta \"\n",
      "print message\n",
      "\n",
      "secret = encrypt(message, N, e, block_size)\n",
      "print secret"
     ],
     "language": "python",
     "metadata": {},
     "outputs": [
      {
       "output_type": "stream",
       "stream": "stdout",
       "text": [
        "cs70-ta \n",
        "[2447810932550727353987691838700467048278221148712720786064910778322316771088013480762848466975948983782102933077611908382004105020071921300787281039482749456050897021815381244985326603049452469886042947L, 2581152557196637838932821724098901545896292901544401855383915855026780439239644340700306715092811985229978620976222813212541823555444139410374501542555674607875713200849790752745944947567980935590234536L]\n"
       ]
      }
     ],
     "prompt_number": 73
    },
    {
     "cell_type": "code",
     "collapsed": false,
     "input": [
      "# YOUR CODE HERE for subpart 2\n",
      "for i in range(2, 126/2+1):\n",
      "    if 126 % i == 0:  # found a number that divides 126\n",
      "        decrypted_message = decrypt(super_secret, N, d, i)\n",
      "        if len(decrypted_message) == 126:\n",
      "            print i, decrypted_message"
     ],
     "language": "python",
     "metadata": {},
     "outputs": [
      {
       "output_type": "stream",
       "stream": "stdout",
       "text": [
        "18 One of the powerful things about mathematics is thatit provides you with an alternative to your naive intuition of being right\n"
       ]
      }
     ],
     "prompt_number": 74
    },
    {
     "cell_type": "markdown",
     "metadata": {},
     "source": [
      "For subpart 2, there are other block sizes that \"prints\" the correct message, although the message length is incorrect."
     ]
    },
    {
     "cell_type": "markdown",
     "metadata": {},
     "source": [
      "<a id='q5'></a>\n",
      "## Question 5: Degree 2 polynomial interpolation"
     ]
    },
    {
     "cell_type": "markdown",
     "metadata": {},
     "source": [
      "Let's switch gear to something quite different! This question aims to introduce you to Lagrange interpolation for a simple degree 2 polynomial.\n",
      "\n",
      "Below is the example data from Note 7."
     ]
    },
    {
     "cell_type": "code",
     "collapsed": false,
     "input": [
      "x = np.linspace(0, 4, 1001)  # generates a fine grid of random points\n",
      "xj = np.array([1., 2., 3.])\n",
      "yj = np.array([1., 2., 4.])"
     ],
     "language": "python",
     "metadata": {},
     "outputs": [],
     "prompt_number": 75
    },
    {
     "cell_type": "markdown",
     "metadata": {},
     "source": [
      "Recall that the three polynomials $\\Delta_i$ can be found as follows:\n",
      "\n",
      "\\begin{align}\n",
      "\\Delta_1(x) &= \\frac{(x-x_2)(x-x_3)}{(x_1-x_2)(x_1-x_3)},\\\\\\\\\n",
      "\\Delta_2(x) &= \\frac{(x-x_1)(x-x_3)}{(x_2-x_1)(x_2-x_3)},\\\\\\\\\n",
      "\\Delta_3(x) &= \\frac{(x-x_1)(x-x_2)}{(x_3-x_1)(x_3-x_2)}\n",
      "\\end{align}"
     ]
    },
    {
     "cell_type": "markdown",
     "metadata": {},
     "source": [
      "To represent $\\Delta$ in Python, we're going to use $D$. Implement the function `interpolate_2D` to calculate $D_1$, $D_2$, $D_3$, and return the final polynomial $p(x)$."
     ]
    },
    {
     "cell_type": "code",
     "collapsed": false,
     "input": [
      "def interpolate_2D(xj, yj):\n",
      "    \"\"\"\n",
      "    Carries out Lagrange interpolation for a degree 2 polynomial.\n",
      "    \n",
      "    xj and yj are list of data points.\n",
      "    \n",
      "    YOUR CODE HERE\n",
      "    \"\"\"\n",
      "\n",
      "    D1 = (x-xj[1])*(x-xj[2]) / ((xj[0]-xj[1])*(xj[0]-xj[2]))\n",
      "    D2 = (x-xj[0])*(x-xj[2]) / ((xj[1]-xj[0])*(xj[1]-xj[2]))\n",
      "    D3 = (x-xj[0])*(x-xj[1]) / ((xj[2]-xj[0])*(xj[2]-xj[1]))\n",
      "    p = yj[0]*D1 + yj[1]*D2 + yj[2]*D3\n",
      "    return p"
     ],
     "language": "python",
     "metadata": {},
     "outputs": [],
     "prompt_number": 76
    },
    {
     "cell_type": "markdown",
     "metadata": {},
     "source": [
      "Let's see how we did with a plot."
     ]
    },
    {
     "cell_type": "code",
     "collapsed": false,
     "input": [
      "p = interpolate_2D(xj, yj)\n",
      "plt.plot(x, p)\n",
      "plt.plot(xj, yj, 'b.', markersize=10)"
     ],
     "language": "python",
     "metadata": {},
     "outputs": [
      {
       "metadata": {},
       "output_type": "pyout",
       "prompt_number": 77,
       "text": [
        "[<matplotlib.lines.Line2D at 0xb09637ec>]"
       ]
      },
      {
       "metadata": {},
       "output_type": "display_data",
       "png": "[encoded data removed]",
       "text": [
        "<matplotlib.figure.Figure at 0xb096394c>"
       ]
      }
     ],
     "prompt_number": 77
    },
    {
     "cell_type": "markdown",
     "metadata": {},
     "source": [
      "Not bad at all. The polynomial does indeed pass through the given three points!"
     ]
    },
    {
     "cell_type": "markdown",
     "metadata": {},
     "source": [
      "<a id='q6'></a>\n",
      "## Question 6: Plotting Bar Charts"
     ]
    },
    {
     "cell_type": "markdown",
     "metadata": {},
     "source": [
      "Last week, we learned how to plot a simple curve using Matplotlib. This week, we will learn how to plot a bar chart. By the end of this question, you will plot a bar chart grouping the EECS 70 lecture notes by their last modified months!\n",
      "\n",
      "But first, let's look at an example. Months are represented by the x-axis, whereas the y-axis represents the number of exams a student typically have during that month. For simplicity, we will only be working with 5 months from August to December."
     ]
    },
    {
     "cell_type": "code",
     "collapsed": false,
     "input": [
      "# Take a look at the documentation for np.arange\n",
      "help(np.arange)"
     ],
     "language": "python",
     "metadata": {},
     "outputs": []
    },
    {
     "cell_type": "code",
     "collapsed": false,
     "input": [
      "width = 1\n",
      "y = [0, 3, 4, 2, 4]\n",
      "x = np.arange(8, 13)\n",
      "plt.bar(x, y, width=width, color=\"pink\")\n",
      "plt.xticks(x + width*0.5, x)  # center the xticks\n",
      "plt.title('Number of exams during month')"
     ],
     "language": "python",
     "metadata": {},
     "outputs": [
      {
       "metadata": {},
       "output_type": "pyout",
       "prompt_number": 50,
       "text": [
        "<matplotlib.text.Text at 0xb03b6d6c>"
       ]
      },
      {
       "metadata": {},
       "output_type": "display_data",
       "png": "[encoded data removed]",
       "text": [
        "<matplotlib.figure.Figure at 0xb03baacc>"
       ]
      }
     ],
     "prompt_number": 50
    },
    {
     "cell_type": "markdown",
     "metadata": {},
     "source": [
      "Wow, that's pretty straightforward! Just like last time, we define a (NumPy) list that contains the x values, another one that contains the y values, and then call the appropriate Matplotlib function to get the plot we want. Last week it was `plt.plot()`. This week, it's just `plt.bar()`.\n",
      "\n",
      "Believe it or not, you now know more than enough to complete this question! We will give you the code to recursively fetch the lecture note pdfs on the course website, as well as the Python commands to extract the last modified dates.  **You can tackle this problem in any creative way you want**, but here's our recommended approach.\n",
      "\n",
      "* Group the lecture notes by month (*Hint: use a counter dictionary, where the keys are 1 to 12 (the month), and the values are the number of notes that were last modified during that month*)\n",
      "\n",
      "* Convert the dictionary into two lists and make sure to preserve the order. For example, there are three lecture notes that were last modified in January, so $1$ should be the first value of the list of months, and $3$ should be the first value of the list of counts.\n",
      "\n",
      "* Plot the list values as a bar chart."
     ]
    },
    {
     "cell_type": "markdown",
     "metadata": {},
     "source": [
      "First, you will need to download the dataset (if you think you can get the last modified dates straight from the course website, go for it!). Execute the command below, which will save all the lecture note pdfs under the directory `notes`."
     ]
    },
    {
     "cell_type": "code",
     "collapsed": false,
     "input": [
      "!wget -r -nH --cut-dirs=2 -A .pdf --no-parent http://www-inst.eecs.berkeley.edu/~cs70/fa14/notes/"
     ],
     "language": "python",
     "metadata": {},
     "outputs": []
    },
    {
     "cell_type": "code",
     "collapsed": false,
     "input": [
      "!ls notes"
     ],
     "language": "python",
     "metadata": {},
     "outputs": [
      {
       "output_type": "stream",
       "stream": "stdout",
       "text": [
        "n0.pdf\t     n12.pdf  n16.pdf  n1.pdf\tn4.pdf\tn8.pdf\r\n",
        "n0.sp13.pdf  n13.pdf  n17.pdf  n20.pdf\tn5.pdf\tn9.pdf\r\n",
        "n10.pdf      n14.pdf  n18.pdf  n2.pdf\tn6.pdf\tnoteShannon.pdf\r\n",
        "n11.pdf      n15.pdf  n19.pdf  n3.pdf\tn7.pdf\r\n"
       ]
      }
     ],
     "prompt_number": 13
    },
    {
     "cell_type": "code",
     "collapsed": false,
     "input": [
      "!ls notes | wc -l"
     ],
     "language": "python",
     "metadata": {},
     "outputs": [
      {
       "output_type": "stream",
       "stream": "stdout",
       "text": [
        "23\r\n"
       ]
      }
     ],
     "prompt_number": 14
    },
    {
     "cell_type": "markdown",
     "metadata": {},
     "source": [
      "The command above should return either 23 or 24. At the time of this writing, it's 23, but the Chinese Remainder Theorem note might be added to the course website during the week. :-)\n",
      "\n",
      "We will now make a dictionary, where the keys are the lecture notes' names, and the values are the last modified months."
     ]
    },
    {
     "cell_type": "code",
     "collapsed": false,
     "input": [
      "import os, os.path, datetime\n",
      "\n",
      "notes = {}\n",
      "for f in os.listdir('notes'):\n",
      "    notes[f] = datetime.datetime.fromtimestamp(os.path.getmtime('notes/' + f)).month\n",
      "    \n",
      "notes"
     ],
     "language": "python",
     "metadata": {},
     "outputs": [
      {
       "metadata": {},
       "output_type": "pyout",
       "prompt_number": 23,
       "text": [
        "{'n0.pdf': 4,\n",
        " 'n0.sp13.pdf': 5,\n",
        " 'n1.pdf': 1,\n",
        " 'n10.pdf': 4,\n",
        " 'n11.pdf': 4,\n",
        " 'n12.pdf': 3,\n",
        " 'n13.pdf': 4,\n",
        " 'n14.pdf': 4,\n",
        " 'n15.pdf': 4,\n",
        " 'n16.pdf': 4,\n",
        " 'n17.pdf': 4,\n",
        " 'n18.pdf': 4,\n",
        " 'n19.pdf': 4,\n",
        " 'n2.pdf': 1,\n",
        " 'n20.pdf': 4,\n",
        " 'n3.pdf': 1,\n",
        " 'n4.pdf': 9,\n",
        " 'n5.pdf': 2,\n",
        " 'n6.pdf': 2,\n",
        " 'n7.pdf': 2,\n",
        " 'n8.pdf': 3,\n",
        " 'n9.pdf': 3,\n",
        " 'noteShannon.pdf': 4}"
       ]
      }
     ],
     "prompt_number": 23
    },
    {
     "cell_type": "markdown",
     "metadata": {},
     "source": [
      "The initial dataset is now complete! The rest of the work will be yours. Be as creative as you want, or you can follow our recommended approach above. Feel free to add axes' labels, the count above each bar, etc. to your heart's content.\n",
      "\n",
      "To get an idea of what we expect, please take a look at the homework pdf to see what the final plot should look like."
     ]
    },
    {
     "cell_type": "code",
     "collapsed": false,
     "input": [
      "# Step 1 -- Convert the `notes` dictionary into a counter\n",
      "# Feel free to use advanced Python data structures like Counter, defaultdict, etc.\n",
      "# YOUR CODE HERE\n",
      "\n",
      "from collections import defaultdict\n",
      "\n",
      "counter = defaultdict(int)\n",
      "for month in notes.values():\n",
      "    counter[month] += 1\n",
      "    \n",
      "counter"
     ],
     "language": "python",
     "metadata": {},
     "outputs": [
      {
       "metadata": {},
       "output_type": "pyout",
       "prompt_number": 30,
       "text": [
        "defaultdict(<type 'int'>, {1: 3, 2: 3, 3: 3, 4: 12, 5: 1, 9: 1})"
       ]
      }
     ],
     "prompt_number": 30
    },
    {
     "cell_type": "code",
     "collapsed": false,
     "input": [
      "# Step 2 -- Convert the counter into two lists while preserving the order\n",
      "# Hint: you can use the `sorted()` function in Python\n",
      "# https://docs.python.org/2/library/functions.html#sorted\n",
      "# YOUR CODE HERE\n",
      "\n",
      "labels = np.arange(1, 13)\n",
      "values = [counter[label] for label in labels]\n",
      "\n",
      "values"
     ],
     "language": "python",
     "metadata": {},
     "outputs": [
      {
       "metadata": {},
       "output_type": "pyout",
       "prompt_number": 46,
       "text": [
        "[3, 3, 3, 12, 1, 0, 0, 0, 1, 0, 0, 0]"
       ]
      }
     ],
     "prompt_number": 46
    },
    {
     "cell_type": "code",
     "collapsed": false,
     "input": [
      "# Step 3 -- Plot the bar chart!\n",
      "# YOUR CODE HERE\n",
      "\n",
      "width = 1\n",
      "plt.bar(labels, values, width=width, color='pink')\n",
      "plt.xticks(labels + width*0.5, labels)\n",
      "plt.title('Number of Lecture Notes by Last Modified Month')"
     ],
     "language": "python",
     "metadata": {},
     "outputs": [
      {
       "metadata": {},
       "output_type": "pyout",
       "prompt_number": 52,
       "text": [
        "<matplotlib.text.Text at 0xb0302d4c>"
       ]
      },
      {
       "metadata": {},
       "output_type": "display_data",
       "png": "[encoded data removed]",
       "text": [
        "<matplotlib.figure.Figure at 0xb0813dec>"
       ]
      }
     ],
     "prompt_number": 52
    },
    {
     "cell_type": "markdown",
     "metadata": {},
     "source": [
      "**Congratulations**! You are done with Virtual Lab 6.\n",
      "\n",
      "Don't forget to convert this notebook to a pdf document, merge it with your written homework, and submit both the pdf and the code (as a zip file) on glookup.\n",
      "\n",
      "**Reminder**: late submissions are NOT accepted. If you have any technical difficulty,\n",
      "resolve it early on or use the provided VM."
     ]
    }
   ],
   "metadata": {}
  }
 ]
}