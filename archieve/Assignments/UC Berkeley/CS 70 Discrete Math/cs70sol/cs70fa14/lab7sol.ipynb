{
 "metadata": {
  "name": "",
  "signature": "sha256:178e74a290673a09b16f8deeecece40387dd670183bce1caac5cbb8635fa8347"
 },
 "nbformat": 3,
 "nbformat_minor": 0,
 "worksheets": [
  {
   "cells": [
    {
     "cell_type": "markdown",
     "metadata": {},
     "source": [
      "# Virtual Lab 7 Solution: Polynomials, Secret Sharing, and Histograms\n",
      "\n",
      "### EECS 70: Discrete Mathematics and Probability Theory, Fall 2014\n",
      "\n",
      "#### Due Date: Monday, October 20th, 2014 at 12pm\n"
     ]
    },
    {
     "cell_type": "markdown",
     "metadata": {},
     "source": [
      "**Name**: EECS 70\n",
      "\n",
      "**Login**: cs70-ta\n"
     ]
    },
    {
     "cell_type": "markdown",
     "metadata": {},
     "source": [
      "**Instructions**:\n",
      "\n",
      "* **Please fill out your name and login above.**\n",
      "* Complete this lab by filling in all of the required functions, marked with `\"YOUR CODE HERE\"`.\n",
      "* If you plan to use Python, make sure to go over **Tutorial 1A: Introduction to Python and IPython** before attempting the lab.\n",
      "* Make sure you run every code cell one after another, i.e. don't skip any cell. A shortcut for doing this in the notebook is Shift+Enter. When you finish, choose 'Cell > Run All' to test your code one last time all at once.\n",
      "* Most of the solution requires no more than a few lines each.\n",
      "* Please do not hardcode the result or change any function without the `\"YOUR CODE HERE\"` mark.\n",
      "* Questions? Bring them to our Office Hour and/or ask on Piazza.\n",
      "* Good luck, and have fun!"
     ]
    },
    {
     "cell_type": "markdown",
     "metadata": {},
     "source": [
      "## Table of Contents\n",
      "\n",
      "The number inside parentheses is the number of functions or code blocks you are required to fill out for each question. Always make sure to double check before you submit.\n",
      "\n",
      "* [Introduction](#intro)\n",
      "* [Part (a): Polynomials Basic](#q1) (1)\n",
      "* [Part (b): Plot Polynomials in Finite Field](#q2) (1)\n",
      "* [Part (c): Plot & Compare Polynomials](#q3) (1)\n",
      "* [Part (d): Plot & Compare Polynomials, Part 2](#q4) (1)\n",
      "* [Part (e): Lagrange Interpolation](#q5) (1)\n",
      "* [Part (f): Simple Secret Sharing Scheme](#q6) (3)\n",
      "* [Part (g): Erasure Errors](#q7) (7)\n",
      "* [Part (h): Gaussian Histogram](#q8) (1)\n",
      "* [Part (i): Uniform Histogram](#q9) (1)\n",
      "* [Part (j): Fair Coin Toss](#q10) (2)"
     ]
    },
    {
     "cell_type": "code",
     "collapsed": false,
     "input": [
      "%pylab inline"
     ],
     "language": "python",
     "metadata": {},
     "outputs": [
      {
       "output_type": "stream",
       "stream": "stdout",
       "text": [
        "Populating the interactive namespace from numpy and matplotlib\n"
       ]
      }
     ],
     "prompt_number": 2
    },
    {
     "cell_type": "code",
     "collapsed": false,
     "input": [
      "import random"
     ],
     "language": "python",
     "metadata": {},
     "outputs": [],
     "prompt_number": 3
    },
    {
     "cell_type": "markdown",
     "metadata": {},
     "source": [
      "<a id='intro'></a>\n",
      "## Introduction"
     ]
    },
    {
     "cell_type": "markdown",
     "metadata": {},
     "source": [
      "In this week's Virtual Lab, we will dive deeper into Polynomials and their applications. We will start by generalizing our implementation of degree $2$ polynomial's Lagrange Interpolation for any degree $d$ polynomial in a finite field. We will then implement two simple Secret Sharing and Erasure Error clients using Lagrange Interpolation and Polynomial properties studied in lecture."
     ]
    },
    {
     "cell_type": "markdown",
     "metadata": {},
     "source": [
      "Below, you will find our sample implementation of a `Polynomial` class. You don't need to understand the details of the implementation, but please read the docstring of each function to understand the general idea. Recall VL3, the Person class, and the Propose-and-Reject algorithm for example."
     ]
    },
    {
     "cell_type": "code",
     "collapsed": false,
     "input": [
      "# Here's our favorite algorithm again\n",
      "\n",
      "def egcd(x, y):\n",
      "    \"\"\"\n",
      "    Extended Euclid's Algorithm. It takes a pair of natural numbers x >= y,\n",
      "    and returns a triple of integers (d, a, b) such that d = gcd(x, y) = ax + by.\n",
      "    \"\"\"\n",
      "    \n",
      "    if y == 0:\n",
      "        return (x, 1, 0)\n",
      "    (d, a, b) = egcd(y, x % y)\n",
      "    return (d, b, a - (x // y) * b)"
     ],
     "language": "python",
     "metadata": {},
     "outputs": [],
     "prompt_number": 4
    },
    {
     "cell_type": "code",
     "collapsed": false,
     "input": [
      "def inverse(x, m):\n",
      "    \"\"\"\n",
      "    Returns the positive multiplicative inverse of x mod m\n",
      "    \"\"\"\n",
      "    \n",
      "    triple = egcd(x, m)\n",
      "    assert triple[0] == 1, \"There doesn't exist an inverse when gcd != 1\"\n",
      "    inverse = triple[1]\n",
      "    if inverse < 0:\n",
      "        inverse += m\n",
      "    return inverse"
     ],
     "language": "python",
     "metadata": {},
     "outputs": [],
     "prompt_number": 5
    },
    {
     "cell_type": "code",
     "collapsed": false,
     "input": [
      "class Polynomial:\n",
      "    def __init__(self, coef, n=None):\n",
      "        \"\"\"\n",
      "        Creates the polynomial a0 + a1x + a2x^2 + ... + anx^n\n",
      "        coef = [a0, a1, a2, ..., an]\n",
      "        n is the modulus\n",
      "        \"\"\"\n",
      "\n",
      "        self.coef = coef\n",
      "        self.degree = len(coef)-1\n",
      "        self.n = n\n",
      "        self.reduce_coefs()\n",
      "\n",
      "    def reduce_coefs(self):\n",
      "        \"\"\"\n",
      "        Helper function which keeps the coefficients low \n",
      "        if we know the modulus\n",
      "        \"\"\"\n",
      "\n",
      "        if not self.n:\n",
      "            return\n",
      "        self.coef = [c%self.n for c in self.coef]\n",
      "\n",
      "    def __call__(self, x):\n",
      "        \"\"\"\n",
      "        Returns the value of the polynomial at point x\n",
      "        \"\"\"\n",
      "\n",
      "        total = 0\n",
      "        for i in range(self.degree+1):\n",
      "            total += self.coef[i] * (x**i)\n",
      "            if self.n:\n",
      "                total %= self.n\n",
      "        return total\n",
      "\n",
      "    def __mul__(self, val):\n",
      "        \"\"\"\n",
      "        Multiplication either for real values or for other polynomials\n",
      "        \"\"\"\n",
      "\n",
      "        if type(val) == int or type(val) == float:\n",
      "            new_poly = Polynomial([val * c for c in self.coef], self.n)\n",
      "            return new_poly\n",
      "        elif val.__class__.__name__ == 'Polynomial':\n",
      "            assert self.n == val.n, \"inconsistent moduli\"\n",
      "            new_degree = self.degree + val.degree\n",
      "            new_coefs = [0] * (new_degree + 1)\n",
      "            for i in range(self.degree + 1):\n",
      "                for j in range(val.degree + 1):\n",
      "                    new_coefs[i+j] += self.coef[i] * val.coef[j]\n",
      "            return Polynomial(new_coefs, self.n)\n",
      "        else:\n",
      "            raise Exception(\"invalid multiplication of polynomials\")\n",
      "\n",
      "    def __add__(self, val):\n",
      "        \"\"\"\n",
      "        Addition for polynomials (not defined for reals)\n",
      "        \"\"\"\n",
      "\n",
      "        assert self.n == val.n, \"inconsistent moduli\"\n",
      "        new_degree = max(self.degree, val.degree)\n",
      "        new_coef = [0] * (new_degree+1)\n",
      "        for i in range(min(self.degree, val.degree)+1):\n",
      "            new_coef[i] = self.coef[i] + val.coef[i]\n",
      "        i += 1\n",
      "        if self.degree > val.degree:\n",
      "            new_coef[i:] = self.coef[i:]\n",
      "        else:\n",
      "            new_coef[i:] = val.coef[i:]\n",
      "        return Polynomial(new_coef, self.n)\n",
      "\n",
      "    def __repr__(self):\n",
      "        \"\"\"\n",
      "        String representation of a Polynomial object\n",
      "        \"\"\"\n",
      "        \n",
      "        return_str = \"\"\n",
      "        first = True\n",
      "        \n",
      "        for i in reversed(xrange(1, len(self.coef))):\n",
      "            if self.coef[i] < 0 and not first:\n",
      "                return_str += '-'\n",
      "            elif self.coef[i] == 0:\n",
      "                continue\n",
      "            elif self.coef[i] > 0 and not first:\n",
      "                return_str += '+'\n",
      "            first = False\n",
      "            return_str += str(abs(self.coef[i])) + \"(x^\" + str(i) + \")\"\n",
      "        \n",
      "        if self.coef[0] > 0:\n",
      "            return_str += '+' + str(self.coef[0])\n",
      "        elif self.coef[0] < 0:\n",
      "            return_str += '-' + str(self.coef[0])\n",
      "\n",
      "        if self.n != None:\n",
      "            return_str += ' mod ' + str(self.n)\n",
      "        return return_str\n",
      "\n",
      "    def __div__(self, val):\n",
      "        \"\"\"\n",
      "        Under a modulus, multiplies by the multiplicative inverse of val\n",
      "        Otherwise, divides by the real value val\n",
      "        \"\"\"\n",
      "\n",
      "        if not self.n:\n",
      "            return self.__mul__(1.0 / val)\n",
      "        val = val % self.n\n",
      "        val_inverse = inverse(val, self.n)\n",
      "        return self.__mul__(val_inverse)\n",
      "\n",
      "    def __eq__(self, other):\n",
      "        \"\"\"\n",
      "        Checks if this polynomial is \"equal\" to the\n",
      "        other polynomial.\n",
      "        \n",
      "        We define two polynomials \"equal\" if they have the same\n",
      "        coefficients, degrees, and moduli.\n",
      "        \"\"\"\n",
      "\n",
      "        return (isinstance(other, self.__class__)\n",
      "            and self.coef == other.coef\n",
      "            and self.degree == other.degree\n",
      "            and self.n == other.n)\n",
      "\n",
      "    def __ne__(self, other):\n",
      "        \"\"\"\n",
      "        Checks if the this polynomial is not \"equal\"\n",
      "        to the other polynomial\n",
      "        \"\"\"\n",
      "\n",
      "        return not self.__eq__(other)\n",
      "\n",
      "    def plot(self, num_points=10, lim=None, reals=False, style='o', size=8):\n",
      "        \"\"\"\n",
      "        Plots the polynomial.\n",
      "        \n",
      "        num_points -- number of points to plot (for the non-mod case)\n",
      "        lim        -- the range of the points as a list\n",
      "        reals      -- are we plotting in the reals, default to False\n",
      "        style      -- what marker to use\n",
      "        size       -- the size of the marker\n",
      "        \n",
      "        Make sure you play with this function and understand what each parameter does.\n",
      "        \"\"\"\n",
      "\n",
      "        if not self.n:\n",
      "            if not lim:\n",
      "                x = np.linspace(-5, 10, num_points)\n",
      "            else:\n",
      "                x = np.linspace(lim[0], lim[1], num_points)\n",
      "            y = [self(xval) for xval in x]\n",
      "            return plt.plot(x, y)\n",
      "        else:\n",
      "            if not lim:\n",
      "                x = xrange(0, self.n)\n",
      "            else:\n",
      "                if reals:\n",
      "                    x = np.linspace(lim[0], lim[1], num_points)\n",
      "                else:  # plot discrete integer values\n",
      "                    x = xrange(lim[0], lim[1])\n",
      "            y = [self(xval) for xval in x]\n",
      "            if reals:\n",
      "                polynomial_plot = plt.plot(x, y)\n",
      "            else:\n",
      "                polynomial_plot = plt.plot(x, y, style, markersize=size)\n",
      "            plt.xlim([-1, max(x)+1])\n",
      "            plt.ylim([-1, max(y)+1])\n",
      "            return polynomial_plot\n",
      "\n",
      "    __rmul__ = __mul__\n",
      "    __radd__ = __add__"
     ],
     "language": "python",
     "metadata": {},
     "outputs": [],
     "prompt_number": 6
    },
    {
     "cell_type": "markdown",
     "metadata": {},
     "source": [
      "<a id='q1'></a>\n",
      "## Part (a): Polynomials Basic"
     ]
    },
    {
     "cell_type": "markdown",
     "metadata": {},
     "source": [
      "Here are a few examples to help you understand the basics of the `Polynomial` class"
     ]
    },
    {
     "cell_type": "code",
     "collapsed": false,
     "input": [
      "f = Polynomial([1, 2], 7)  # f(x) = 2x + 1 (mod 7)\n",
      "f"
     ],
     "language": "python",
     "metadata": {},
     "outputs": [
      {
       "metadata": {},
       "output_type": "pyout",
       "prompt_number": 7,
       "text": [
        "2(x^1)+1 mod 7"
       ]
      }
     ],
     "prompt_number": 7
    },
    {
     "cell_type": "code",
     "collapsed": false,
     "input": [
      "f(5)  # (1 + 2x5) mod 7 = 4"
     ],
     "language": "python",
     "metadata": {},
     "outputs": [
      {
       "metadata": {},
       "output_type": "pyout",
       "prompt_number": 8,
       "text": [
        "4"
       ]
      }
     ],
     "prompt_number": 8
    },
    {
     "cell_type": "code",
     "collapsed": false,
     "input": [
      "g = Polynomial([1, 2], 7) # g(x) = 2x + 1 (mod 7)\n",
      "h = f*g  # h(x) = 4x^2 + 4x + 1\n",
      "h"
     ],
     "language": "python",
     "metadata": {},
     "outputs": [
      {
       "metadata": {},
       "output_type": "pyout",
       "prompt_number": 9,
       "text": [
        "4(x^2)+4(x^1)+1 mod 7"
       ]
      }
     ],
     "prompt_number": 9
    },
    {
     "cell_type": "code",
     "collapsed": false,
     "input": [
      "j = f + g  # j(x) = 4x + 2 (mod 7)\n",
      "j"
     ],
     "language": "python",
     "metadata": {},
     "outputs": [
      {
       "metadata": {},
       "output_type": "pyout",
       "prompt_number": 10,
       "text": [
        "4(x^1)+2 mod 7"
       ]
      }
     ],
     "prompt_number": 10
    },
    {
     "cell_type": "code",
     "collapsed": false,
     "input": [
      "k = f * 3  # k(x) = 6x + 3 (mod 7)\n",
      "k"
     ],
     "language": "python",
     "metadata": {},
     "outputs": [
      {
       "metadata": {},
       "output_type": "pyout",
       "prompt_number": 11,
       "text": [
        "6(x^1)+3 mod 7"
       ]
      }
     ],
     "prompt_number": 11
    },
    {
     "cell_type": "code",
     "collapsed": false,
     "input": [
      "l = f / 3  # l(x) = 3x + 5 (mod 7)\n",
      "l"
     ],
     "language": "python",
     "metadata": {},
     "outputs": [
      {
       "metadata": {},
       "output_type": "pyout",
       "prompt_number": 12,
       "text": [
        "3(x^1)+5 mod 7"
       ]
      }
     ],
     "prompt_number": 12
    },
    {
     "cell_type": "code",
     "collapsed": false,
     "input": [
      "f.plot()  # x=0 then y=1, x=1 then y=3, and so on"
     ],
     "language": "python",
     "metadata": {},
     "outputs": [
      {
       "metadata": {},
       "output_type": "pyout",
       "prompt_number": 13,
       "text": [
        "[<matplotlib.lines.Line2D at 0xb2cd9ac>]"
       ]
      },
      {
       "metadata": {},
       "output_type": "display_data",
       "png": "[encoded data removed]",
       "text": [
        "<matplotlib.figure.Figure at 0xa436a8c>"
       ]
      }
     ],
     "prompt_number": 13
    },
    {
     "cell_type": "code",
     "collapsed": false,
     "input": [
      "# Here's a normal polynomial in the reals\n",
      "\n",
      "k = Polynomial([1, 2])\n",
      "k.plot()"
     ],
     "language": "python",
     "metadata": {},
     "outputs": [
      {
       "metadata": {},
       "output_type": "pyout",
       "prompt_number": 14,
       "text": [
        "[<matplotlib.lines.Line2D at 0xb46346c>]"
       ]
      },
      {
       "metadata": {},
       "output_type": "display_data",
       "png": "[encoded data removed]",
       "text": [
        "<matplotlib.figure.Figure at 0xb2b126c>"
       ]
      }
     ],
     "prompt_number": 14
    },
    {
     "cell_type": "markdown",
     "metadata": {},
     "source": [
      "Make sure you understand the Polynomial class and spend time playing with the examples above; otherwise you will be very confused during the next few parts."
     ]
    },
    {
     "cell_type": "markdown",
     "metadata": {},
     "source": [
      "<a id='q2'></a>\n",
      "## Part (b): Plot Polynomials in Finite Field"
     ]
    },
    {
     "cell_type": "markdown",
     "metadata": {},
     "source": [
      "Make and plot the polynomials $p(x) = 2x+3$ and $q(x) = 3x-2$ with all numbers reduced mod $5$. Make sure you use the correct symbol ('o' or 'x') to represent the points so that your result looks similar to the figure on page 5 of Note 7 (there's no need to display the legend on the side)."
     ]
    },
    {
     "cell_type": "code",
     "collapsed": true,
     "input": [
      "# YOUR CODE HERE\n",
      "\n",
      "p = Polynomial([3, 2], 5)\n",
      "q = Polynomial([-2, 3], 5)\n",
      "p.plot(style='o')\n",
      "q.plot(style='x', size=10)\n",
      "plt.title(\"Note 7 Plot\")"
     ],
     "language": "python",
     "metadata": {},
     "outputs": [
      {
       "metadata": {},
       "output_type": "pyout",
       "prompt_number": 15,
       "text": [
        "<matplotlib.text.Text at 0xb4b62cc>"
       ]
      },
      {
       "metadata": {},
       "output_type": "display_data",
       "png": "[encoded data removed]",
       "text": [
        "<matplotlib.figure.Figure at 0xb388ccc>"
       ]
      }
     ],
     "prompt_number": 15
    },
    {
     "cell_type": "markdown",
     "metadata": {},
     "source": [
      "<a id='q3'></a>\n",
      "## Part (c): Plot & Compare Polynomials"
     ]
    },
    {
     "cell_type": "markdown",
     "metadata": {},
     "source": [
      "Plot $x^3 \\; (\\text{mod } 5)$ for $x \\in [0,5]$ in the reals. \n",
      "For example, $2.3 \\equiv 7.3 \\; (\\text{mod } 5)$. On the same graph, plot $x^3 \\; (\\text{mod } 5)$ \n",
      "for integer values of $x = 0, 1, \\ldots, 5$."
     ]
    },
    {
     "cell_type": "code",
     "collapsed": false,
     "input": [
      "# YOUR CODE HERE\n",
      "# You can specify num_points to be 1000 if you're plotting in the reals\n",
      "\n",
      "h = Polynomial([0, 0, 0, 1], 5)\n",
      "h.plot(num_points=1000, lim=[0, 5], reals=True)\n",
      "h.plot(lim=[0, 5])"
     ],
     "language": "python",
     "metadata": {},
     "outputs": [
      {
       "metadata": {},
       "output_type": "pyout",
       "prompt_number": 16,
       "text": [
        "[<matplotlib.lines.Line2D at 0xb46b02c>]"
       ]
      },
      {
       "metadata": {},
       "output_type": "display_data",
       "png": "[encoded data removed]",
       "text": [
        "<matplotlib.figure.Figure at 0xb46ba8c>"
       ]
      }
     ],
     "prompt_number": 16
    },
    {
     "cell_type": "markdown",
     "metadata": {},
     "source": [
      "<a id='q4'></a>\n",
      "## Part (d): Plot & Compare Polynomials, Part 2"
     ]
    },
    {
     "cell_type": "markdown",
     "metadata": {},
     "source": [
      "Now repeat (c) for $x \\in [0,10]$ and $x = 0, 1, \\ldots, 10$. What do you observe? What happens to each plot as $x$ gets larger? Why do you think this is happening? "
     ]
    },
    {
     "cell_type": "code",
     "collapsed": false,
     "input": [
      "h.plot(num_points=1000, lim=[0, 10], reals=True)\n",
      "h.plot(lim=[0, 10])"
     ],
     "language": "python",
     "metadata": {},
     "outputs": [
      {
       "metadata": {},
       "output_type": "pyout",
       "prompt_number": 17,
       "text": [
        "[<matplotlib.lines.Line2D at 0xb4cbecc>]"
       ]
      },
      {
       "metadata": {},
       "output_type": "display_data",
       "png": "[encoded data removed]",
       "text": [
        "<matplotlib.figure.Figure at 0xb2acdec>"
       ]
      }
     ],
     "prompt_number": 17
    },
    {
     "cell_type": "markdown",
     "metadata": {},
     "source": [
      "<a id='q5'></a>\n",
      "## Part (e): Lagrange Interpolation"
     ]
    },
    {
     "cell_type": "markdown",
     "metadata": {},
     "source": [
      "Last week, we implemented Lagrange Interpolation for a degree $2$ polynomial. This week, we will do so again for any degree $d$ polynomial in a finite field. Implement the function `interpolate`, which takes a list of points and a modulus $n$, and returns a polynomial that passes through the points in $GF(n)$."
     ]
    },
    {
     "cell_type": "code",
     "collapsed": false,
     "input": [
      "def interpolate(pts, n):\n",
      "    \"\"\"\n",
      "    Takes a list of points and a modulus n,\n",
      "    and returns a polynomial that passes through the points in GF(n).\n",
      "    \n",
      "    Fill in the three blanks marked with YOUR CODE HERE,\n",
      "    using what you know about Lagrange Interpolation.\n",
      "    \"\"\"\n",
      "    \n",
      "    final_p = Polynomial([0], n)\n",
      "    for pt in pts:\n",
      "        delta_i = Polynomial([1], n)\n",
      "        for pt2 in pts:\n",
      "            if pt2 == pt:\n",
      "                continue\n",
      "            delta_i *= Polynomial([-pt2[0], 1], n)\n",
      "            delta_i /= (pt[0] - pt2[0])\n",
      "        final_p += pt[1] * delta_i\n",
      "    return final_p"
     ],
     "language": "python",
     "metadata": {},
     "outputs": [],
     "prompt_number": 18
    },
    {
     "cell_type": "markdown",
     "metadata": {},
     "source": [
      "Test your implementation below. Both tests should print True if your implementation is correct."
     ]
    },
    {
     "cell_type": "code",
     "collapsed": false,
     "input": [
      "g = interpolate([(1, 1), (2, 2), (3, 4)], 5)\n",
      "print g\n",
      "g == Polynomial([1, 2, 3], 5)"
     ],
     "language": "python",
     "metadata": {},
     "outputs": [
      {
       "output_type": "stream",
       "stream": "stdout",
       "text": [
        "3(x^2)+2(x^1)+1 mod 5\n"
       ]
      },
      {
       "metadata": {},
       "output_type": "pyout",
       "prompt_number": 19,
       "text": [
        "True"
       ]
      }
     ],
     "prompt_number": 19
    },
    {
     "cell_type": "code",
     "collapsed": false,
     "input": [
      "h = interpolate([(1, 1), (2, 2), (3, 3), (4, 4)], 7)\n",
      "print h\n",
      "h == Polynomial([0, 1, 0, 0], 7)"
     ],
     "language": "python",
     "metadata": {},
     "outputs": [
      {
       "output_type": "stream",
       "stream": "stdout",
       "text": [
        "1(x^1) mod 7\n"
       ]
      },
      {
       "metadata": {},
       "output_type": "pyout",
       "prompt_number": 20,
       "text": [
        "True"
       ]
      }
     ],
     "prompt_number": 20
    },
    {
     "cell_type": "markdown",
     "metadata": {},
     "source": [
      "Notice how in the example above, we give it four points, but we only get back the line $y=x$ because all the points belong to the same degree 1 polynomial.\n",
      "\n",
      "(That said, one of the drawbacks of this toy implementation is that we still need to create a \"degree 3\" polynomial to do the comparison, as seen above, even though what we really want is to compare it with just `Polynomial([0, 1], 7)`. **Can you think of a way to implement this behavior for Extra Credit? Post on Piazza your implementation of a new and improved `Polynomial` class, but only after you have carefully tested your implementation.**"
     ]
    },
    {
     "cell_type": "markdown",
     "metadata": {},
     "source": [
      "<a id='q6'></a>\n",
      "## Part (f): Simple Secret Sharing Scheme"
     ]
    },
    {
     "cell_type": "markdown",
     "metadata": {},
     "source": [
      "Below is an incomplete implementation of a simple Secret Sharing class. First, implement the method `add_share`, which simply adds a share (a tuple, similar to the Polynomial class) to the list of shares.\n",
      "\n",
      "After adding enough shares (information), you can then reconstruct the Polynomial with Lagrange Interpolation (part (b)), and evaluate the Polynomial at $0$ to find the secret. Implement the method `find_secret`, which basically conveys the idea described above."
     ]
    },
    {
     "cell_type": "code",
     "collapsed": false,
     "input": [
      "class ShamirSecret:\n",
      "    \"\"\"\n",
      "    A class that manages the client of a Shamir Secret Sharing scheme\n",
      "    \"\"\"\n",
      "\n",
      "    def __init__(self, n, k):\n",
      "        \"\"\"\n",
      "        Initializes a Secret Sharing client with zero share,\n",
      "        a modulus n, and the least number of people k to recover the secret.\n",
      "        \"\"\"\n",
      "        \n",
      "        self.shares = []\n",
      "        self.n = n\n",
      "        self.k = k\n",
      "\n",
      "    def add_share(self, x):\n",
      "        \"\"\"\n",
      "        Adds a share (a tuple) to the list of shares.\n",
      "        \n",
      "        YOUR CODE HERE\n",
      "        \"\"\"\n",
      "\n",
      "        self.shares.append(x)\n",
      "\n",
      "    def find_secret(self):\n",
      "        \"\"\"\n",
      "        Reconstructs the original polynomial with Lagrange Interpolation,\n",
      "        then returns the secret.\n",
      "        \n",
      "        You can assume the secret is evaluated at x = 0.\n",
      "        \n",
      "        YOUR CODE HERE\n",
      "        \"\"\"\n",
      "\n",
      "        assert len(self.shares) >= self.k, \"Not enough shares to recover secret\"\n",
      "        return interpolate(self.shares, self.n)(0)"
     ],
     "language": "python",
     "metadata": {},
     "outputs": [],
     "prompt_number": 21
    },
    {
     "cell_type": "markdown",
     "metadata": {},
     "source": [
      "Test your implementation by carrying out the example on page 7/8 of Note 7. Use the same shares in the example (assuming officials $3$, $4$, and $5$ get together to recover the secret).\n",
      "\n",
      "The secret should be consistent with the example in the Note, and the test should print True."
     ]
    },
    {
     "cell_type": "code",
     "collapsed": false,
     "input": [
      "# You should first instantiate a new `ShamirSecret` object,\n",
      "# then call `add_share` three times, and finally `find_secret`.\n",
      "# Assign the secret to the variable s for the final comparison.\n",
      "# YOUR CODE HERE\n",
      "\n",
      "example = ShamirSecret(7, 3)\n",
      "example.add_share((3, 1))\n",
      "example.add_share((4, 6))\n",
      "example.add_share((5, 3))\n",
      "s = example.find_secret()\n",
      "s == 1"
     ],
     "language": "python",
     "metadata": {},
     "outputs": [
      {
       "metadata": {},
       "output_type": "pyout",
       "prompt_number": 22,
       "text": [
        "True"
       ]
      }
     ],
     "prompt_number": 22
    },
    {
     "cell_type": "markdown",
     "metadata": {},
     "source": [
      "Now, choose a different set of $3$ shares and recover the secret. What do you get? Is it\n",
      "consistent with the above part? Why is that the case?"
     ]
    },
    {
     "cell_type": "code",
     "collapsed": false,
     "input": [
      "# YOUR CODE HERE\n",
      "\n",
      "example2 = ShamirSecret(7, 3)\n",
      "example2.add_share((1, 2))\n",
      "example2.add_share((2, 2))\n",
      "example2.add_share((4, 6))\n",
      "s = example2.find_secret()\n",
      "s == 1"
     ],
     "language": "python",
     "metadata": {},
     "outputs": [
      {
       "metadata": {},
       "output_type": "pyout",
       "prompt_number": 23,
       "text": [
        "True"
       ]
      }
     ],
     "prompt_number": 23
    },
    {
     "cell_type": "markdown",
     "metadata": {},
     "source": [
      "<a id='q7'></a>\n",
      "## Part (g): Erasure Errors"
     ]
    },
    {
     "cell_type": "markdown",
     "metadata": {},
     "source": [
      "Below is a simple implementation of an Erasure Error client. It has the ability to add packets and drop deterministic or random packet(s)."
     ]
    },
    {
     "cell_type": "code",
     "collapsed": false,
     "input": [
      "class ErasureError:\n",
      "    \"\"\"\n",
      "    A class that manages the client of an Erasure Error problem\n",
      "    \"\"\"\n",
      "\n",
      "    def __init__(self, n, k, m):\n",
      "        \"\"\"\n",
      "        Initializes an Erasure Error client with n (empty) packets, k potential\n",
      "        lost packets, and modulus m (i.e. working in GF(m)).\n",
      "        \"\"\"\n",
      "        \n",
      "        self.n = n\n",
      "        self.k = k\n",
      "        self.m = m\n",
      "        self.packets = []\n",
      "\n",
      "    def add_packet(self, x):\n",
      "        \"\"\"\n",
      "        Adds a packet to the list of packets\n",
      "        \"\"\"\n",
      "\n",
      "        self.packets.append(x)\n",
      "\n",
      "    def drop(self, x):\n",
      "        \"\"\"\n",
      "        Drops the packet x by removing it from the list of packets\n",
      "        Notices that x is a packet, not an index\n",
      "        \"\"\"\n",
      "        \n",
      "        assert x in self.packets, \"The packet to be removed is not in the list of packets!\"\n",
      "        self.packets.remove(x)\n",
      "        \n",
      "    def random_drop(self):\n",
      "        \"\"\"\n",
      "        Drops a packet from the list of packets at random\n",
      "        \"\"\"\n",
      "\n",
      "        drop_index = random.randint(0, len(self.packets)-1)\n",
      "        self.packets.pop(drop_index)"
     ],
     "language": "python",
     "metadata": {},
     "outputs": [],
     "prompt_number": 24
    },
    {
     "cell_type": "markdown",
     "metadata": {},
     "source": [
      "Your task is to carry out the example between Alice and Bob on page 2 and 3 of Note 8. There are seven (7) code blocks that you need to fill in below; however, each one should be relatively short and straightforward.\n",
      "\n",
      "**Important: do NOT run any code cell in this problem more than once.** If you do, the list of packets might be modified and your result will be inconsistent. If you happen to run a code cell more than once, you have to go to the Step 1 cell and rerun everything again (shortcut: Shift+Enter)."
     ]
    },
    {
     "cell_type": "code",
     "collapsed": false,
     "input": [
      "# Step 1: Instantiate a new ErasureError client. Then, add the four packets \n",
      "# that Alice wants to send to Bob from page 2 of Note 8.\n",
      "\n",
      "client = ErasureError(4, 2, 7)\n",
      "\n",
      "# YOUR CODE HERE\n",
      "client.add_packet((1, 3))\n",
      "client.add_packet((2, 1))\n",
      "client.add_packet((3, 5))\n",
      "client.add_packet((4, 0))\n",
      "\n",
      "print client.packets\n",
      "len(client.packets) == client.n"
     ],
     "language": "python",
     "metadata": {},
     "outputs": [
      {
       "output_type": "stream",
       "stream": "stdout",
       "text": [
        "[(1, 3), (2, 1), (3, 5), (4, 0)]\n"
       ]
      },
      {
       "metadata": {},
       "output_type": "pyout",
       "prompt_number": 25,
       "text": [
        "True"
       ]
      }
     ],
     "prompt_number": 25
    },
    {
     "cell_type": "code",
     "collapsed": false,
     "input": [
      "# Step 2: Construct a Polynomial based on the packets with Lagrange Interpolation\n",
      "# Make sure you use client.m for the modulus. You should NOT use 7 (or\n",
      "# any other number in the problem) directly.\n",
      "# YOUR CODE HERE\n",
      "\n",
      "p = interpolate(client.packets, client.m)\n",
      "print p"
     ],
     "language": "python",
     "metadata": {},
     "outputs": [
      {
       "output_type": "stream",
       "stream": "stdout",
       "text": [
        "1(x^3)+4(x^2)+5 mod 7\n"
       ]
      }
     ],
     "prompt_number": 26
    },
    {
     "cell_type": "code",
     "collapsed": false,
     "input": [
      "# Step 3: Evaluates the Polynomial at two extra points, as described in the Note.\n",
      "# Adds these points to the list of shares\n",
      "# YOUR CODE HERE\n",
      "\n",
      "client.add_packet((5, p(5)))\n",
      "client.add_packet((6, p(6)))\n",
      "\n",
      "print client.packets\n",
      "len(client.packets) == client.n + client.k"
     ],
     "language": "python",
     "metadata": {},
     "outputs": [
      {
       "output_type": "stream",
       "stream": "stdout",
       "text": [
        "[(1, 3), (2, 1), (3, 5), (4, 0), (5, 6), (6, 1)]\n"
       ]
      },
      {
       "metadata": {},
       "output_type": "pyout",
       "prompt_number": 27,
       "text": [
        "True"
       ]
      }
     ],
     "prompt_number": 27
    },
    {
     "cell_type": "code",
     "collapsed": false,
     "input": [
      "# Step 4: Drops two packets by calling `self.drop()`\n",
      "# We will do random drops later\n",
      "# YOUR CODE HERE\n",
      "\n",
      "client.drop((2, 1))\n",
      "client.drop((6, 1))\n",
      "\n",
      "print client.packets\n",
      "len(client.packets) == client.n"
     ],
     "language": "python",
     "metadata": {},
     "outputs": [
      {
       "output_type": "stream",
       "stream": "stdout",
       "text": [
        "[(1, 3), (3, 5), (4, 0), (5, 6)]\n"
       ]
      },
      {
       "metadata": {},
       "output_type": "pyout",
       "prompt_number": 28,
       "text": [
        "True"
       ]
      }
     ],
     "prompt_number": 28
    },
    {
     "cell_type": "code",
     "collapsed": false,
     "input": [
      "# Step 5: Reconstructs the original polynomial using Lagrange Interpolation\n",
      "# Make sure you save this polynomial to a different variable than the original one\n",
      "# YOUR CODE HERE\n",
      "\n",
      "p_reconstruct = interpolate(client.packets, client.m)\n",
      "p == p_reconstruct"
     ],
     "language": "python",
     "metadata": {},
     "outputs": [
      {
       "metadata": {},
       "output_type": "pyout",
       "prompt_number": 29,
       "text": [
        "True"
       ]
      }
     ],
     "prompt_number": 29
    },
    {
     "cell_type": "markdown",
     "metadata": {},
     "source": [
      "Now how about we drop the packets at random? Let's add the two dropped packets back to our list of packets first."
     ]
    },
    {
     "cell_type": "code",
     "collapsed": false,
     "input": [
      "client.add_packet((2, 1))\n",
      "client.add_packet((6, 1))"
     ],
     "language": "python",
     "metadata": {},
     "outputs": [],
     "prompt_number": 30
    },
    {
     "cell_type": "code",
     "collapsed": false,
     "input": [
      "# Step 4b: Drops two random packets\n",
      "# YOUR CODE HERE\n",
      "\n",
      "client.random_drop()\n",
      "client.random_drop()\n",
      "print client.packets\n",
      "len(client.packets) == client.n"
     ],
     "language": "python",
     "metadata": {},
     "outputs": [
      {
       "output_type": "stream",
       "stream": "stdout",
       "text": [
        "[(3, 5), (4, 0), (5, 6), (6, 1)]\n"
       ]
      },
      {
       "metadata": {},
       "output_type": "pyout",
       "prompt_number": 31,
       "text": [
        "True"
       ]
      }
     ],
     "prompt_number": 31
    },
    {
     "cell_type": "code",
     "collapsed": false,
     "input": [
      "# Step 5b: Reconstructs the original polynomial using Lagrange Interpolation\n",
      "# Make sure you save this polynomial to a different variable than the original one\n",
      "# Simply copy your code from Step 5 here...\n",
      "# YOUR CODE HERE\n",
      "\n",
      "p_random_reconstruct = interpolate(client.packets, client.m)\n",
      "p == p_random_reconstruct"
     ],
     "language": "python",
     "metadata": {},
     "outputs": [
      {
       "metadata": {},
       "output_type": "pyout",
       "prompt_number": 32,
       "text": [
        "True"
       ]
      }
     ],
     "prompt_number": 32
    },
    {
     "cell_type": "markdown",
     "metadata": {},
     "source": [
      "<a id='q8'></a>\n",
      "## Part (h): Gaussian Histogram"
     ]
    },
    {
     "cell_type": "markdown",
     "metadata": {},
     "source": [
      "In the last couple of labs, we learned how to plot a simple curve and a bar chart. To wrap up our Matplotlib intro series, we will learn another major plot today: the histogram.\n",
      "\n",
      "Before we begin, we want to stress that histograms are quite different than bar charts, even though both use bars. Histograms are used to show distributions of variables while bar charts are used to compare variables. Histograms plot quantitative data with ranges of the data grouped into bins or intervals while bar charts plot categorical data.\n",
      "\n",
      "For more information, check out this Forbes article. http://www.forbes.com/sites/naomirobbins/2012/01/04/a-histogram-is-not-a-bar-chart/"
     ]
    },
    {
     "cell_type": "markdown",
     "metadata": {},
     "source": [
      "What we will use for our data is $1000$ random numbers, drawn from a Gaussian distribution. This is the common \"normal\" distribution, or the \"bell curve\" that occurs so frequently in nature. We will use a Gaussian centered about zero, with a standard deviation of 1.0 (this is the default for `np.random.normal`)."
     ]
    },
    {
     "cell_type": "code",
     "collapsed": false,
     "input": [
      "gaussian_numbers = np.random.normal(size=1000)\n",
      "plt.hist(gaussian_numbers)\n",
      "plt.title(\"Gaussian Histogram\")\n",
      "plt.xlabel(\"Value\")\n",
      "plt.ylabel(\"Frequency\")"
     ],
     "language": "python",
     "metadata": {},
     "outputs": [
      {
       "metadata": {},
       "output_type": "pyout",
       "prompt_number": 33,
       "text": [
        "<matplotlib.text.Text at 0x7f77f15ac3d0>"
       ]
      },
      {
       "metadata": {},
       "output_type": "display_data",
       "png": "[encoded data removed]",
       "text": [
        "<matplotlib.figure.Figure at 0x7f77f15f5090>"
       ]
      }
     ],
     "prompt_number": 33
    },
    {
     "cell_type": "markdown",
     "metadata": {},
     "source": [
      "Again, that is pretty straightforward! We also learn a few new commands this week.\n",
      "\n",
      "* `plt.hist` plots a histogram, as you might suspect. There are a lot of options which you can pass to this function, and some of which will be further explored in this question.\n",
      "* `plt.xlabel` gives the x-axis a meaningful label.\n",
      "* `plt.ylabel` gives the y-axis a meaningful label.\n",
      "* `np.random.normal` generates random samples from a normal distribution."
     ]
    },
    {
     "cell_type": "markdown",
     "metadata": {},
     "source": [
      "**We now want to plot a probability distribution instead of just frequency counts**. In other words, we want to scale the values appropriately so that rather than showing how many numbers in each bin, we instead have a probability of finding a number in that bin.\n",
      "\n",
      "We also want to increase the number of bins. `plt.hist` defaults to $10$ bins, and since we have $1000$ points, that seems a bit too small. **Change the number of bins to $20$**.\n",
      "\n",
      "You need to look into the documentation of `plt.hist` and find the argument(s) that help you accomplish the tasks above."
     ]
    },
    {
     "cell_type": "code",
     "collapsed": false,
     "input": [
      "# YOUR CODE HERE\n",
      "\n",
      "plt.hist(gaussian_numbers, bins=20, normed=True)\n",
      "plt.title(\"Gaussian Histogram\")\n",
      "plt.xlabel(\"Value\")\n",
      "plt.ylabel(\"Probability\")"
     ],
     "language": "python",
     "metadata": {},
     "outputs": [
      {
       "metadata": {},
       "output_type": "pyout",
       "prompt_number": 34,
       "text": [
        "<matplotlib.text.Text at 0x7f77f14f7cd0>"
       ]
      },
      {
       "metadata": {},
       "output_type": "display_data",
       "png": "[encoded data removed]",
       "text": [
        "<matplotlib.figure.Figure at 0x7f77f15f5650>"
       ]
      }
     ],
     "prompt_number": 34
    },
    {
     "cell_type": "code",
     "collapsed": false,
     "input": [
      "# This might be helpful\n",
      "\n",
      "#help(plt.hist)"
     ],
     "language": "python",
     "metadata": {},
     "outputs": [],
     "prompt_number": 35
    },
    {
     "cell_type": "markdown",
     "metadata": {},
     "source": [
      "<a id='q9'></a>\n",
      "## Part (i): Uniform Histogram"
     ]
    },
    {
     "cell_type": "markdown",
     "metadata": {},
     "source": [
      "Now, we want to add a uniform distribution to the above plot. If you simply add a second histogram, the plots will obscure each other. We can fix this problem by using Matplotlib\u2019s ability to handle alpha transparency.\n",
      "\n",
      "**Add a histogram of $1000$ uniformly distributed random numbers from -3 to 3 in red with 50% transparency over top the blue Gaussian from the first task**.\n",
      "\n",
      "Also, **give each of your histogram a label**. Then, at the very end, you can call `plt.legend()`, which will display the legends nicely. Check the homework handout to see what your final plot should look like."
     ]
    },
    {
     "cell_type": "code",
     "collapsed": false,
     "input": [
      "# YOUR CODE HERE\n",
      "\n",
      "uniform_numbers = np.random.uniform(low=-3, high=3, size=1000)\n",
      "plt.hist(gaussian_numbers, bins=20, normed=True, color='b', label='Gaussian')\n",
      "plt.hist(uniform_numbers, bins=20, normed=True, color='r', alpha=0.5, label='Uniform')\n",
      "plt.title(\"Gaussian/Uniform Histogram\")\n",
      "plt.xlabel(\"Value\")\n",
      "plt.ylabel(\"Probability\")\n",
      "plt.legend()"
     ],
     "language": "python",
     "metadata": {},
     "outputs": [
      {
       "metadata": {},
       "output_type": "pyout",
       "prompt_number": 36,
       "text": [
        "<matplotlib.legend.Legend at 0x7f77f140a550>"
       ]
      },
      {
       "metadata": {},
       "output_type": "display_data",
       "png": "[encoded data removed]",
       "text": [
        "<matplotlib.figure.Figure at 0x7f77f140abd0>"
       ]
      }
     ],
     "prompt_number": 36
    },
    {
     "cell_type": "code",
     "collapsed": false,
     "input": [
      "# Beside the help for plt.hist, this might also be helpful\n",
      "# to look for a function that generates data from a uniform distribution.\n",
      "\n",
      "#help(np.random)"
     ],
     "language": "python",
     "metadata": {},
     "outputs": [],
     "prompt_number": 37
    },
    {
     "cell_type": "markdown",
     "metadata": {},
     "source": [
      "<a id='q10'></a>\n",
      "## Part (j): Fair Coin Toss"
     ]
    },
    {
     "cell_type": "markdown",
     "metadata": {},
     "source": [
      "This last question is meant to warm you up for next week's lab on randomness. Imagine you are tossing a fair coin $k$ times, and you would like to count the numer of heads. Implement the function `count_heads`, which takes in $k$, the number of tosses, and returns the number of heads in $k$ tosses.\n",
      "\n",
      "Do $1000$ coin tosses. Plot a bar chart of how many heads you got v.s. how many tails. What do you observe? Does it match your expectation?\n",
      "\n",
      "*Hint*: In Python, `random.randint(a, b)` returns a random integer $x$ such that $a \\leq x \\leq b$. Can you think of a way to use this function to simulate the fair coin tosses? You don't necessarily have to use `randint`, but you will definitely need a function from the `random` module."
     ]
    },
    {
     "cell_type": "code",
     "collapsed": false,
     "input": [
      "def count_heads(k):\n",
      "    \"\"\"\n",
      "    Counts the number of heads in k tosses\n",
      "    \n",
      "    YOUR CODE HERE\n",
      "    \"\"\"\n",
      "\n",
      "    return sum([round(random.random()) for _ in range(k)])"
     ],
     "language": "python",
     "metadata": {},
     "outputs": [],
     "prompt_number": 38
    },
    {
     "cell_type": "code",
     "collapsed": false,
     "input": [
      "# YOUR CODE HERE\n",
      "\n",
      "heads = count_heads(1000)\n",
      "plt.bar([0, 1], [heads, 1000 - heads], width=0.2, align=\"center\")\n",
      "plt.xticks([0, 1], [\"Heads\", \"Tails\"])\n",
      "plt.title(\"1000 coin tosses\")"
     ],
     "language": "python",
     "metadata": {},
     "outputs": [
      {
       "metadata": {},
       "output_type": "pyout",
       "prompt_number": 39,
       "text": [
        "<matplotlib.text.Text at 0x7f77f11ca5d0>"
       ]
      },
      {
       "metadata": {},
       "output_type": "display_data",
       "png": "[encoded data removed]",
       "text": [
        "<matplotlib.figure.Figure at 0x7f77f149cbd0>"
       ]
      }
     ],
     "prompt_number": 39
    },
    {
     "cell_type": "markdown",
     "metadata": {},
     "source": [
      "**Congratulations**! You are done with Virtual Lab 7.\n",
      "\n",
      "Don't forget to convert this notebook to a pdf document, merge it with your written homework, and submit both the pdf and the code (as a zip file) on glookup.\n",
      "\n",
      "**Reminder**: late submissions are NOT accepted. If you have any technical difficulty,\n",
      "resolve it early on or use the provided VM."
     ]
    }
   ],
   "metadata": {}
  }
 ]
}