{
 "metadata": {
  "name": "",
  "signature": "sha256:d9cf3481744f91d44bd1f2bc64a0acd596a7a0336d113abc6f81e75e6f470e44"
 },
 "nbformat": 3,
 "nbformat_minor": 0,
 "worksheets": [
  {
   "cells": [
    {
     "cell_type": "markdown",
     "metadata": {},
     "source": [
      "# Virtual Lab 5 Solution: Chinese Remainder Theorem and Euler's Theorem\n",
      "\n",
      "### EECS 70: Discrete Mathematics and Probability Theory, Fall 2014\n",
      "\n",
      "#### Due Date: Monday, October 6th, 2014 at 12pm"
     ]
    },
    {
     "cell_type": "markdown",
     "metadata": {},
     "source": [
      "**Instructions**:\n",
      "\n",
      "* Complete this lab by filling in all of the required functions, marked with `\"YOUR CODE HERE\"`\n",
      "* **This week's Virtual Lab builds heavily on last week's lab**. Make sure you understand how to do last week's lab and/or read the solution carefully, or you will be very confused.\n",
      "* If you plan to use Python, make sure to go over **Tutorial 1A: Introduction to Python and IPython** before attempting the lab\n",
      "* Make sure you run every code cell one after another, i.e. don't skip any cell. A shortcut for doing this in the notebook is Shift+Enter. When you finish, choose 'Cell > Run All' to test your code one last time all at once.\n",
      "* Most of the solution requires no more than a few lines each\n",
      "* Please do not hardcode the result or change any function without the `\"YOUR CODE HERE\"` mark\n",
      "* Questions? Bring them to our Office Hour and/or ask on Piazza\n",
      "* Good luck, and have fun!"
     ]
    },
    {
     "cell_type": "markdown",
     "metadata": {},
     "source": [
      "## Table of Contents\n",
      "\n",
      "The number inside parentheses is the number of functions or code cells you are required to fill out for each question. Always make sure to double check before you submit.\n",
      "\n",
      "* [Introduction](#intro)\n",
      "* [Question 1: Chinese remainder theorem](#q1) (1)\n",
      "* [Question 2: Solve the puzzle](#q2) (1)\n",
      "* [Question 3: Fermat primality test](#q3) (1)\n",
      "* [Question 4: Euler's totient function](#q4) (1)\n",
      "* [Question 5: Euler's theorem](#q5) (1)\n",
      "* [Question 6: Plot polynomials](#q6) (2)"
     ]
    },
    {
     "cell_type": "code",
     "collapsed": false,
     "input": [
      "# We'll do some basic plotting in this week's lab.\n",
      "# Please do not remove the line below.\n",
      "%pylab inline"
     ],
     "language": "python",
     "metadata": {},
     "outputs": [
      {
       "output_type": "stream",
       "stream": "stdout",
       "text": [
        "Populating the interactive namespace from numpy and matplotlib\n"
       ]
      }
     ],
     "prompt_number": 1
    },
    {
     "cell_type": "markdown",
     "metadata": {},
     "source": [
      "<a id='intro'></a>\n",
      "## Introduction"
     ]
    },
    {
     "cell_type": "markdown",
     "metadata": {},
     "source": [
      "Oystein Ore described a puzzle with a dramatic element from Brahma-Sphuta-Siddhanta (Brahma's Correct System) by Brahmagupta (born 598 AD) as follows.\n",
      "\n",
      "> An old woman goes to market and a horse steps on her basket and crushes the eggs. The rider offers to pay for the damages and asks her how many eggs she had brought. She does not remember the exact number, but when she had taken them out two at a time, there was one egg left. The same happened when she picked them out three, four, five, and six at a time, but when she took them seven at a time they came out even. What is the smallest number of eggs she could have had?\n",
      "\n",
      "In the first part of this week's Virtual Lab, we will implement the functions to solve the above puzzle based on the Chinese Remainder Theorem. In the second part, we will explore two very useful theorems in modular arithmetic: Fermat's Little Theorem and Euler's Theorem."
     ]
    },
    {
     "cell_type": "markdown",
     "metadata": {},
     "source": [
      "<a id='q1'></a>\n",
      "## Question 1: Chinese remainder theorem"
     ]
    },
    {
     "cell_type": "markdown",
     "metadata": {},
     "source": [
      "Below, you will find an implementation of the function `egcd` that we asked you to implement in last week's lab."
     ]
    },
    {
     "cell_type": "code",
     "collapsed": false,
     "input": [
      "def egcd(x, y):\n",
      "    \"\"\"\n",
      "    Extended Euclid's Algorithm. It takes a pair of natural numbers x >= y,\n",
      "    and returns a triple of integers (d, a, b) such that d = gcd(x, y) = ax + by.\n",
      "    \"\"\"\n",
      "    \n",
      "    if y == 0:\n",
      "        return (x, 1, 0)\n",
      "    (d, a, b) = egcd(y, x % y)\n",
      "    return (d, b, a - (x // y) * b)"
     ],
     "language": "python",
     "metadata": {},
     "outputs": [],
     "prompt_number": 2
    },
    {
     "cell_type": "markdown",
     "metadata": {},
     "source": [
      "Based on the above implementation, it's easy to find the positive multiplicative inverse of $x$ mod $m$ as follows."
     ]
    },
    {
     "cell_type": "code",
     "collapsed": false,
     "input": [
      "def inverse(x, m):\n",
      "    \"\"\"\n",
      "    Returns the positive multiplicative inverse of x mod m\n",
      "    \"\"\"\n",
      "    \n",
      "    res = egcd(x, m)[1]\n",
      "    if res < 0:\n",
      "        res += m\n",
      "    return res"
     ],
     "language": "python",
     "metadata": {},
     "outputs": [],
     "prompt_number": 3
    },
    {
     "cell_type": "markdown",
     "metadata": {},
     "source": [
      "For example, the inverse of $117$ mod $103$ from last week's lab is $81$."
     ]
    },
    {
     "cell_type": "code",
     "collapsed": false,
     "input": [
      "inverse(117, 103)"
     ],
     "language": "python",
     "metadata": {},
     "outputs": [
      {
       "metadata": {},
       "output_type": "pyout",
       "prompt_number": 4,
       "text": [
        "81"
       ]
      }
     ],
     "prompt_number": 4
    },
    {
     "cell_type": "markdown",
     "metadata": {},
     "source": [
      "Implement the `chinese_remainder` function using the `inverse` function above. Refer to the lectures, lecture notes, or Discussion 5M on how the Chinese Remainder Theorem works."
     ]
    },
    {
     "cell_type": "code",
     "collapsed": false,
     "input": [
      "def chinese_remainder(items):\n",
      "    \"\"\"\n",
      "    Solves the Chinese Remainder Theorem\n",
      "\n",
      "    Given a list of tuples (a_i, n_i), this function solves for x\n",
      "    such that x \\equiv a_i (mod n_i) and 0 <= x < product(n_i)\n",
      "\n",
      "    Assumes that n_i are pairwise co-prime.\n",
      "    \n",
      "    YOUR CODE HERE\n",
      "    \"\"\"\n",
      "    \n",
      "    # Determines N, the product of all n_i\n",
      "    n_list = [i[1] for i in items] \n",
      "    N = reduce(lambda x, y: x * y, n_list, 1)\n",
      "\n",
      "    # Finds the solution (mod N)\n",
      "    result = 0\n",
      "    for a, n in items:\n",
      "        m = N // n\n",
      "        result += a * inverse(m, n) * m\n",
      "\n",
      "    return result % N"
     ],
     "language": "python",
     "metadata": {},
     "outputs": [],
     "prompt_number": 5
    },
    {
     "cell_type": "markdown",
     "metadata": {},
     "source": [
      "Check you answer to the system of congruences below. The test should print True if your implementation is correct.\n",
      "    \n",
      "$x \\equiv 2$ mod $3$\n",
      "\n",
      "$x \\equiv 3$ mod $5$\n",
      "\n",
      "$x \\equiv 2$ mod $7$"
     ]
    },
    {
     "cell_type": "code",
     "collapsed": false,
     "input": [
      "chinese_remainder([(2, 3), (3, 5), (2, 7)]) == 23"
     ],
     "language": "python",
     "metadata": {},
     "outputs": [
      {
       "metadata": {},
       "output_type": "pyout",
       "prompt_number": 6,
       "text": [
        "True"
       ]
      }
     ],
     "prompt_number": 6
    },
    {
     "cell_type": "markdown",
     "metadata": {},
     "source": [
      "<a id='q2'></a>\n",
      "## Question 2: Solve the puzzle"
     ]
    },
    {
     "cell_type": "markdown",
     "metadata": {},
     "source": [
      "Now that we have implemented `chinese_remainder`, it's time to solve the puzzle posed in the [Introduction](#intro) section.\n",
      "\n",
      "In your written homework, write the system of congruences that describes the puzzle (see the example above). Then solve it with the `chinese_remainder` function below. Report the answer in your written homework.\n",
      "\n",
      "*Hint*: be very careful, remember that we're assuming the $n_i$ are pairwise co-prime. Do you really need all the congruences to solve the problem? Recall in Discussion 5M how we eliminate redundant information.\n",
      "\n",
      "Make sure to double check that this is indeed the smallest number of eggs as well."
     ]
    },
    {
     "cell_type": "code",
     "collapsed": false,
     "input": [
      "chinese_remainder([(1, 3), (1, 4), (1, 5), (0, 7)])"
     ],
     "language": "python",
     "metadata": {},
     "outputs": [
      {
       "metadata": {},
       "output_type": "pyout",
       "prompt_number": 7,
       "text": [
        "301"
       ]
      }
     ],
     "prompt_number": 7
    },
    {
     "cell_type": "markdown",
     "metadata": {},
     "source": [
      "See the homework solution for the system of congruences, as well as the reasoning behind the above code block."
     ]
    },
    {
     "cell_type": "markdown",
     "metadata": {},
     "source": [
      "<a id='q3'></a>\n",
      "## Question 3: Fermat's primality test"
     ]
    },
    {
     "cell_type": "markdown",
     "metadata": {},
     "source": [
      "Last week, you implemented a naive way of testing whether a positive integer `p` is prime. Here's a sample implementation."
     ]
    },
    {
     "cell_type": "code",
     "collapsed": false,
     "input": [
      "def is_prime(x):\n",
      "    \"\"\"\n",
      "    Checks if the positive integer x is a prime number\n",
      "    \"\"\"\n",
      "\n",
      "    for i in range(2, x-1):\n",
      "        if x % i == 0:\n",
      "            return False\n",
      "    else:\n",
      "        return True"
     ],
     "language": "python",
     "metadata": {},
     "outputs": [],
     "prompt_number": 8
    },
    {
     "cell_type": "code",
     "collapsed": false,
     "input": [
      "def mod_exp(x, y, m):\n",
      "    \"\"\"\n",
      "    Returns the result of (x^y) mod m using repeated squaring\n",
      "    \"\"\"\n",
      "    \n",
      "    if y == 0:\n",
      "        return 1\n",
      "    z = mod_exp(x, y // 2, m)\n",
      "    if y % 2 == 0:\n",
      "        return z * z % m\n",
      "    return x * z *z % m"
     ],
     "language": "python",
     "metadata": {},
     "outputs": [],
     "prompt_number": 9
    },
    {
     "cell_type": "markdown",
     "metadata": {},
     "source": [
      "In lecture, we studied Fermat's Little Theorem, which states that if `p` is a prime number, then for any integer `a`, the number $a^p \u2212 a$ is an integer multiple of `p`.\n",
      "\n",
      "In the notation of modular arithmetic, this is expressed as: $a^p \\equiv a$ (mod $p$).\n",
      "\n",
      "Based on Fermat's Little Theorem, we can come up with a new primality test as follows.\n",
      "\n",
      "For a randomly-chosen $a$, where $1 \\leq a \\leq p-1$, test if $a^{(p-1)} \\equiv 1$ (mod $p$). If the equality does not hold, then $p$ is composite. If the equality does hold, then we can say that p is a *probable prime*.\n",
      "\n",
      "*Why \"probable prime\"? If you are really curious, you can read more about the term on [Wikipedia](https://en.wikipedia.org/wiki/Probable_prime). We'll get more into this once we hit the probability part of the class*"
     ]
    },
    {
     "cell_type": "markdown",
     "metadata": {},
     "source": [
      "Your task is to implement the function `is_prime_fermat`, which basically conveys the idea described above. You can choose `a` randomly -- we will give you the code to do that."
     ]
    },
    {
     "cell_type": "code",
     "collapsed": false,
     "input": [
      "def is_prime_fermat(p):\n",
      "    \"\"\"\n",
      "    Tests if a positive integer p is prime\n",
      "    using Fermat's Little Theorem\n",
      "    \"\"\"\n",
      "    \n",
      "    import random\n",
      "    a = random.randint(2, p-1)\n",
      "    \n",
      "    # YOUR CODE HERE\n",
      "    # For modular exponentiation, make sure to use\n",
      "    # the mod_exp function above\n",
      "    return mod_exp(a, p-1, p) == 1"
     ],
     "language": "python",
     "metadata": {},
     "outputs": [],
     "prompt_number": 10
    },
    {
     "cell_type": "markdown",
     "metadata": {},
     "source": [
      "Test your implementation below. Both tests should print True if your implementation is correct."
     ]
    },
    {
     "cell_type": "code",
     "collapsed": false,
     "input": [
      "is_prime_fermat(17) == True"
     ],
     "language": "python",
     "metadata": {},
     "outputs": [
      {
       "metadata": {},
       "output_type": "pyout",
       "prompt_number": 11,
       "text": [
        "True"
       ]
      }
     ],
     "prompt_number": 11
    },
    {
     "cell_type": "code",
     "collapsed": false,
     "input": [
      "is_prime_fermat(24) == False"
     ],
     "language": "python",
     "metadata": {},
     "outputs": [
      {
       "metadata": {},
       "output_type": "pyout",
       "prompt_number": 12,
       "text": [
        "True"
       ]
      }
     ],
     "prompt_number": 12
    },
    {
     "cell_type": "markdown",
     "metadata": {},
     "source": [
      "How about this example? Is $561$ a prime number? Try it out! If `is_prime_fermat` prints \"False\" for $561$, run the code cell again!"
     ]
    },
    {
     "cell_type": "code",
     "collapsed": false,
     "input": [
      "is_prime_fermat(561)"
     ],
     "language": "python",
     "metadata": {},
     "outputs": [
      {
       "metadata": {},
       "output_type": "pyout",
       "prompt_number": 13,
       "text": [
        "False"
       ]
      }
     ],
     "prompt_number": 13
    },
    {
     "cell_type": "code",
     "collapsed": false,
     "input": [
      "is_prime(561)"
     ],
     "language": "python",
     "metadata": {},
     "outputs": [
      {
       "metadata": {},
       "output_type": "pyout",
       "prompt_number": 14,
       "text": [
        "False"
       ]
      }
     ],
     "prompt_number": 14
    },
    {
     "cell_type": "markdown",
     "metadata": {},
     "source": [
      "Wait a minute! $561 = 3 \\cdot 11 \\cdot 17$, so how could it be prime? Is our implementation of `is_prime_fermat` broken?\n",
      "\n",
      "The answer is no, $561$ is an example of [Carmichael number](https://en.wikipedia.org/wiki/Carmichael_number), which we encourage you to read more on if you are interested. In simple terms, Carmichael number is a composite number $n$ which satisfies: $a^n \\equiv a$ (mod $n$) for all integers $1<a<n$ for which $a$ and $n$ are relatively prime.\n",
      "\n",
      "This is the reason why, even when the algorithm returns True, we can only conclude that our positive integer $p$ is only a \"probable prime\". In EECS 170, you will learn a way to improve this function's chance of returning whether a number is prime or not correctly. (*Hint*: simply do more iterations with different, random $a$'s. Can you see why doing so would increase the probability of testing whether a number is prime or not using Fermat's Little Theorem?)"
     ]
    },
    {
     "cell_type": "markdown",
     "metadata": {},
     "source": [
      "<a id='q4'></a>\n",
      "## Question 4: Euler's totient function"
     ]
    },
    {
     "cell_type": "markdown",
     "metadata": {},
     "source": [
      "Below are sample implementations of the functions `gcd` and `sieve` that you were asked to implement in last week's lab."
     ]
    },
    {
     "cell_type": "code",
     "collapsed": false,
     "input": [
      "def gcd(x, y):\n",
      "    \"\"\"\n",
      "    Computes the greatest common divisor between two numbers x and y\n",
      "    \"\"\"\n",
      "\n",
      "    if y == 0:\n",
      "        return x\n",
      "    return gcd(y, x % y)"
     ],
     "language": "python",
     "metadata": {},
     "outputs": [],
     "prompt_number": 15
    },
    {
     "cell_type": "code",
     "collapsed": false,
     "input": [
      "def sieve(n):\n",
      "    \"\"\"\n",
      "    Return a list of all primes <= n, where n is a positive integer\n",
      "    \"\"\"\n",
      "\n",
      "    lst = range(n+1)\n",
      "    lst[1] = 0  # 1 is not prime, so we mark it with '0' for future removal \n",
      "    sqrtn = int(round(n**0.5))\n",
      "    for i in range(2, sqrtn + 1):  # why do we only need to go up to sqrt(n) + 1?\n",
      "        if lst[i]:\n",
      "            lst[i*i: n+1: i] = [0] * len(range(i*i, n+1, i))\n",
      "    return filter(None, lst)  # filter out all 0s from lst"
     ],
     "language": "python",
     "metadata": {},
     "outputs": [],
     "prompt_number": 16
    },
    {
     "cell_type": "markdown",
     "metadata": {},
     "source": [
      "Consider the problem of trying to find the value of a tower of iterated exponents modulo some prime number $p$. We know from the running time of the modular exponentiation algorithm that this can be done quickly for expressions of the form \n",
      "\n",
      "$$ x^x \\mathrm{\\ mod\\ } p $$\n",
      "\n",
      "Moreover, because of Fermat's Little Theorem (FLT), we know that we can even quickly calculate expressions of the form\n",
      "\n",
      "$$ x^{x^x} \\mathrm{\\ mod\\ } p $$\n",
      "\n",
      "Here we use FLT to change the exponent to $x^x \\mathrm{\\ mod\\ } (p - 1)$, which we can then calculate quickly using the modular exponentiation algorithm.\n",
      "\n",
      "Great! But now what if we want to take this even higher? If our exponent was instead $x^{x^x} \\mathrm{\\ mod\\ } (p-1)$, what can we do? We can't use Fermat's Little Theorem here because there is no guarantee that $p-1$ is prime (in fact, unless $p=3$, it's not). We have to calculate the exponent $x^x$ without a modulus. If $x$ is sufficiently large, we'll be working with numbers so big they'll fry your computer (try asking Python for $\\texttt{1000000**1000000}$).\n",
      "\n",
      "In order for calculations of this form to be tractable, we need some way to bubble the modulus up through the exponents so we can continue using the modular exponentiation algorithm.\n",
      "\n",
      "In 1763, Euler generalized Fermat's Little Theorem to not require the modulus to be prime. Before Euler's theorem though, we need to know about Euler's Totient Function. \n",
      "\n",
      "Euler\u2019s totient function is defined as follows:\n",
      "\n",
      "$$\\phi(n)=\\left|\\{i:1 \\leq i \\leq n,\\texttt{gcd}(n,i)=1\\}\\right|$$\n",
      "\n",
      "In other words, $\\phi(n)$ is the total number of positive integers less than $n$ which are relatively prime to it, where $1$ is counted as being relatively prime to all numbers. Since a number less than or equal to and relatively prime to a given number is called a totative, the totient function $\\phi(n)$ can be simply defined as the number of totatives of $n$. For example, there are eight totatives of $24$ $(1, 5, 7, 11, 13, 17, 19$, and $23)$, so $\\phi(24)=8$."
     ]
    },
    {
     "cell_type": "markdown",
     "metadata": {},
     "source": [
      "Implement the function `totient`, which returns the number of positive integers less than $n$ which are relatively prime to it. Use the `gcd` function given above."
     ]
    },
    {
     "cell_type": "code",
     "collapsed": false,
     "input": [
      "def totient(n):\n",
      "    \"\"\"\n",
      "    Returns the number of positive integers less than $n$ which are relatively prime to it\n",
      "    \n",
      "    YOUR CODE HERE\n",
      "    \"\"\"\n",
      "\n",
      "    return len(filter(lambda i: gcd(i, n) == 1, xrange(1, n)))"
     ],
     "language": "python",
     "metadata": {},
     "outputs": [],
     "prompt_number": 17
    },
    {
     "cell_type": "markdown",
     "metadata": {},
     "source": [
      "Test your implementation below. The test should print True if your implementation is correct"
     ]
    },
    {
     "cell_type": "code",
     "collapsed": false,
     "input": [
      "totient(4) == 2  # 1 and 3 are relatively prime to 4"
     ],
     "language": "python",
     "metadata": {},
     "outputs": [
      {
       "metadata": {},
       "output_type": "pyout",
       "prompt_number": 18,
       "text": [
        "True"
       ]
      }
     ],
     "prompt_number": 18
    },
    {
     "cell_type": "code",
     "collapsed": false,
     "input": [
      "totient(24) == 8"
     ],
     "language": "python",
     "metadata": {},
     "outputs": [
      {
       "metadata": {},
       "output_type": "pyout",
       "prompt_number": 19,
       "text": [
        "True"
       ]
      }
     ],
     "prompt_number": 19
    },
    {
     "cell_type": "markdown",
     "metadata": {},
     "source": [
      "Let's examine some of the behavior of the totient function. Run the cell below to plot some values. "
     ]
    },
    {
     "cell_type": "code",
     "collapsed": false,
     "input": [
      "plt.plot(xrange(1, 101), map(totient, xrange(1, 101)), '.')\n",
      "plt.xlabel('n')\n",
      "plt.ylabel('totient(n)')\n",
      "plt.title(\"Euler's Totient Function\")\n",
      "plt.show()"
     ],
     "language": "python",
     "metadata": {},
     "outputs": [
      {
       "metadata": {},
       "output_type": "display_data",
       "png": "[encoded data removed]",
       "text": [
        "<matplotlib.figure.Figure at 0xb0aa128c>"
       ]
      }
     ],
     "prompt_number": 20
    },
    {
     "cell_type": "markdown",
     "metadata": {},
     "source": [
      "It's all over the place! But we notice a few patterns. In particular, all the values of $\\phi(n)$ seem to be bounded by a line. Run the following cell, which overlays on the plot the value of the totient at all primes less than 100."
     ]
    },
    {
     "cell_type": "code",
     "collapsed": false,
     "input": [
      "primes = sieve(100)\n",
      "plt.plot(xrange(1, 101), map(totient, xrange(1, 101)), '.')\n",
      "plt.plot(primes, map(totient, primes))\n",
      "plt.xlabel('n')\n",
      "plt.ylabel('totient(n)')\n",
      "plt.title(\"Totient of Prime Numbers\")\n",
      "plt.show()"
     ],
     "language": "python",
     "metadata": {},
     "outputs": [
      {
       "metadata": {},
       "output_type": "display_data",
       "png": "[encoded data removed]",
       "text": [
        "<matplotlib.figure.Figure at 0xb09f4d6c>"
       ]
      }
     ],
     "prompt_number": 21
    },
    {
     "cell_type": "markdown",
     "metadata": {},
     "source": [
      "Interesting. What can you conclude about the value of $\\phi(n)$ when $n$ is prime? Why does this make sense?"
     ]
    },
    {
     "cell_type": "markdown",
     "metadata": {},
     "source": [
      "<a id='q5'></a>\n",
      "## Question 5: Euler's theorem"
     ]
    },
    {
     "cell_type": "markdown",
     "metadata": {},
     "source": [
      "Euler's theorem states that for coprime $a,n$\n",
      "\n",
      "$$a^{\\phi(n)} \\equiv 1 \\ (\\mathrm{mod\\ } n)$$\n",
      "\n",
      "This is very similar to Fermat's Little Theorem, but instead of requiring $n$ to be prime, we only require that it is coprime to $a$, a looser condition. As a sanity check, verify that this works for prime $n$. \n",
      "\n",
      "As with Fermat's Little Theorem, this theorem can be massaged into a more useful form with some algebra. \n",
      "\n",
      "$$a^b \\mathrm{\\ mod\\ } n \\equiv a ^ {b \\mathrm{\\ mod\\ } \\phi(n)} \\mathrm{\\ mod\\ } n$$."
     ]
    },
    {
     "cell_type": "markdown",
     "metadata": {},
     "source": [
      "*How did we get to the above form?* Try to work out the algebra yourself before continue reading.\n",
      "\n",
      "Let $b' = b$ mod $\\phi(n)$. Hence, $b = m \\phi(n) + b'$ for some integer $m$. Then $a^b = a^{m \\phi(n) + b'} = (a^{\\phi(n)})^m \\cdot a^{b'} = a^{b'} = a^{b \\mathrm{\\ mod\\ } \\phi(n)}$, using Euler's theorem in the next-to-last step.\n",
      "\n",
      "This is sometimes called [blindingly fast exponentiation](http://www.cs.berkeley.edu/~kamil/teaching/fa03/101003.pdf)."
     ]
    },
    {
     "cell_type": "markdown",
     "metadata": {},
     "source": [
      "Armed with this knowledge, write the function `tower` which, given $x$ and some prime $p$, calculates the value of \n",
      "\n",
      "$$x^{x^{x^x}} \\mathrm{\\ mod\\ } p$$\n",
      "\n",
      "*Hint*: break the chain of exponents into three parts, and calculate each part in a bottom-up approach using the formula above. Use the functions `mod_exp` and `totient` defined in previous parts."
     ]
    },
    {
     "cell_type": "code",
     "collapsed": false,
     "input": [
      "def tower(x, p):\n",
      "    \"\"\"\n",
      "    Returns the value of x^(x^(x^x)) mod p\n",
      "\n",
      "    YOUR CODE HERE   \n",
      "    \"\"\"\n",
      "\n",
      "    first = mod_exp(x, x, totient(p-1))\n",
      "    second = mod_exp(x, first, p-1)\n",
      "    return mod_exp(x, second, p)"
     ],
     "language": "python",
     "metadata": {},
     "outputs": [],
     "prompt_number": 22
    },
    {
     "cell_type": "markdown",
     "metadata": {},
     "source": [
      "Alternatively, if you went one step further and applied the formula to the innermost layer, it's perfectly fine. The code above would be modified as follows."
     ]
    },
    {
     "cell_type": "code",
     "collapsed": false,
     "input": [
      "def tower2(x, p):\n",
      "    \"\"\"\n",
      "    Returns the value of x^(x^(x^x)) mod p\n",
      "\n",
      "    YOUR CODE HERE   \n",
      "    \"\"\"\n",
      "\n",
      "    first = x % totient(totient(p-1))\n",
      "    second = mod_exp(x, first, totient(p-1))\n",
      "    third = mod_exp(x, second, p-1)\n",
      "    return mod_exp(x, third, p)"
     ],
     "language": "python",
     "metadata": {},
     "outputs": [],
     "prompt_number": 23
    },
    {
     "cell_type": "markdown",
     "metadata": {},
     "source": [
      "Test your implementation below. The test should print True if your implementation is correct. Calculate $21^{21^{21^{21}}} \\mathrm{\\ mod\\ } 101$."
     ]
    },
    {
     "cell_type": "code",
     "collapsed": false,
     "input": [
      "tower(21, 101) == 9"
     ],
     "language": "python",
     "metadata": {},
     "outputs": [
      {
       "metadata": {},
       "output_type": "pyout",
       "prompt_number": 24,
       "text": [
        "True"
       ]
      }
     ],
     "prompt_number": 24
    },
    {
     "cell_type": "code",
     "collapsed": false,
     "input": [
      "tower2(21, 101) == 9"
     ],
     "language": "python",
     "metadata": {},
     "outputs": [
      {
       "metadata": {},
       "output_type": "pyout",
       "prompt_number": 25,
       "text": [
        "True"
       ]
      }
     ],
     "prompt_number": 25
    },
    {
     "cell_type": "markdown",
     "metadata": {},
     "source": [
      "<a id='q6'></a>\n",
      "## Question 6: Plot polynomials"
     ]
    },
    {
     "cell_type": "markdown",
     "metadata": {},
     "source": [
      "This last question will introduce you to basic polynomial plotting in Python using Matplotlib."
     ]
    },
    {
     "cell_type": "code",
     "collapsed": false,
     "input": [
      "# First, we'll generate some fake data to use\n",
      "x = np.linspace(0, 10, 50) # 50 evenly-spaced points from 0 to 10\n",
      "\n",
      "# Remember, you can always look at the help for linspace\n",
      "# help(np.linspace)"
     ],
     "language": "python",
     "metadata": {},
     "outputs": [],
     "prompt_number": 26
    },
    {
     "cell_type": "markdown",
     "metadata": {},
     "source": [
      "Now let's say we want to plot the line $y = 2x + 1$. What should we do?\n",
      "\n",
      "It's exactly how you would guess it..."
     ]
    },
    {
     "cell_type": "code",
     "collapsed": false,
     "input": [
      "y = 2*x + 1"
     ],
     "language": "python",
     "metadata": {},
     "outputs": [],
     "prompt_number": 27
    },
    {
     "cell_type": "markdown",
     "metadata": {},
     "source": [
      "Let's see the output!"
     ]
    },
    {
     "cell_type": "code",
     "collapsed": false,
     "input": [
      "plt.grid(True)\n",
      "plt.plot(x, y)"
     ],
     "language": "python",
     "metadata": {},
     "outputs": [
      {
       "metadata": {},
       "output_type": "pyout",
       "prompt_number": 28,
       "text": [
        "[<matplotlib.lines.Line2D at 0xb084daac>]"
       ]
      },
      {
       "metadata": {},
       "output_type": "display_data",
       "png": "[encoded data removed]",
       "text": [
        "<matplotlib.figure.Figure at 0xb0aa10ac>"
       ]
      }
     ],
     "prompt_number": 28
    },
    {
     "cell_type": "markdown",
     "metadata": {},
     "source": [
      "Woo! Isn't that pretty straightforward?\n",
      "\n",
      "Now it's your turn. Generate $50$ points between $-5$ and $5$, then plot the curve $y = x^2 - 4$ as seen in Note 7."
     ]
    },
    {
     "cell_type": "code",
     "collapsed": false,
     "input": [
      "# YOUR CODE HERE\n",
      "\n",
      "x = np.linspace(-5, 5, 50)\n",
      "y = x**2 - 4\n",
      "plt.grid(True)\n",
      "plt.plot(x, y)"
     ],
     "language": "python",
     "metadata": {},
     "outputs": [
      {
       "metadata": {},
       "output_type": "pyout",
       "prompt_number": 29,
       "text": [
        "[<matplotlib.lines.Line2D at 0xb090570c>]"
       ]
      },
      {
       "metadata": {},
       "output_type": "display_data",
       "png": "[encoded data removed]",
       "text": [
        "<matplotlib.figure.Figure at 0xb082a1ac>"
       ]
      }
     ],
     "prompt_number": 29
    },
    {
     "cell_type": "markdown",
     "metadata": {},
     "source": [
      "Now we're going to add the x-axis (y = 0) to the plot above. Can you spot the two roots of $y = x^2 - 4$?\n",
      "\n",
      "*Hint*: all the points on the x-axis has a y-coordinate of 0."
     ]
    },
    {
     "cell_type": "code",
     "collapsed": false,
     "input": [
      "# YOUR CODE HERE\n",
      "\n",
      "x_axis = x * 0\n",
      "plt.grid(True)\n",
      "plt.plot(x, x_axis)\n",
      "plt.plot(x, y)"
     ],
     "language": "python",
     "metadata": {},
     "outputs": [
      {
       "metadata": {},
       "output_type": "pyout",
       "prompt_number": 30,
       "text": [
        "[<matplotlib.lines.Line2D at 0xb0aa2fec>]"
       ]
      },
      {
       "metadata": {},
       "output_type": "display_data",
       "png": "[encoded data removed]",
       "text": [
        "<matplotlib.figure.Figure at 0xb090ac0c>"
       ]
      }
     ],
     "prompt_number": 30
    },
    {
     "cell_type": "markdown",
     "metadata": {},
     "source": [
      "In future labs, we will explore more powerful features of `matplotlib`, as well as do more fun plotting with polynomials. Stay tuned!"
     ]
    },
    {
     "cell_type": "markdown",
     "metadata": {},
     "source": [
      "**Congratulations**! You are done with Virtual Lab 5.\n",
      "\n",
      "Don't forget to convert this notebook to a pdf document, merge it with your written homework, and submit both the pdf and the code (as a zip file) on glookup.\n",
      "\n",
      "**Reminder**: late submissions are NOT accepted. If you have any technical difficulty,\n",
      "resolve it early on or use the provided VM."
     ]
    },
    {
     "cell_type": "markdown",
     "metadata": {},
     "source": [
      "**Acknowledgments**:\n",
      "\n",
      "* Davis Foote, one of our Readers this semester, creates Questions 4 and 5."
     ]
    }
   ],
   "metadata": {}
  }
 ]
}