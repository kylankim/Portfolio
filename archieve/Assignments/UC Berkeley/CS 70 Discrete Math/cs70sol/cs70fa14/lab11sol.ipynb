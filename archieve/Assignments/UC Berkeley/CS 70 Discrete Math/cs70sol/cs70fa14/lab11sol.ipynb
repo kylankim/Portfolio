{
 "metadata": {
  "name": "",
  "signature": "sha256:16fd115403beec522e18660e8ac1fbcdbc15e71f29bc84b9396124980fa811aa"
 },
 "nbformat": 3,
 "nbformat_minor": 0,
 "worksheets": [
  {
   "cells": [
    {
     "cell_type": "markdown",
     "metadata": {},
     "source": [
      "# Virtual Lab 11 Solution: Biased Coins, Birthday Paradox, and Stirling's Approximation\n",
      "\n",
      "### EECS 70: Discrete Mathematics and Probability Theory, Fall 2014\n",
      "\n",
      "#### Due Date: Monday, November 17th, 2014 at 12pm\n"
     ]
    },
    {
     "cell_type": "markdown",
     "metadata": {},
     "source": [
      "**Name**: EECS 70 TA\n",
      "\n",
      "**Login**: cs70-ta"
     ]
    },
    {
     "cell_type": "markdown",
     "metadata": {},
     "source": [
      "**Instructions**:\n",
      "\n",
      "* **Please fill out your name and login above.**\n",
      "* **Please leave your answers in the Markdown cells, marked with `\"YOUR COMMENTS HERE\"`.** If you don't see this cell at the end of a question, it simply means that question doesn't require an answer.\n",
      "* **Complete this lab by filling in all of the required functions, marked with `\"YOUR CODE HERE\"`.**\n",
      "* If you plan to use Python, make sure to go over **Tutorial 1: Introduction to Python and IPython** and **Tutorial 2: Plotting in Python with Matplotlib** before attempting the lab.\n",
      "* Make sure you run every code cell one after another, i.e. don't skip any cell. A shortcut for doing this in the notebook is Shift+Enter. When you finish, choose 'Cell > Run All' to test your code one last time all at once.\n",
      "* Most of the solution requires no more than a few lines each.\n",
      "* Please do not hardcode the result or change any function without the `\"YOUR CODE HERE\"` mark.\n",
      "* Questions? Bring them to our Office Hour and/or ask on Piazza.\n",
      "* Good luck, and have fun!\n"
     ]
    },
    {
     "cell_type": "markdown",
     "metadata": {},
     "source": [
      "## Table of Contents\n",
      "\n",
      "The number inside parentheses is the number of functions or code blocks you are required to fill out for each question. Always make sure to double check before you submit.\n",
      "\n",
      "* [Introduction](#intro)\n",
      "* [Part (a): Normal cdf v.s. Empirical cdf](#q1) (3)\n",
      "* [Part (b): Overlay](#q2) (1)\n",
      "* [Part (c): Kullback-Liebler Divergence](#q3) (2)\n",
      "* [Part (d): Same Birthday](#q4) (3)\n",
      "* [Part (e): Birthday Paradox](#q5) (2)\n",
      "* [Part (f): Stirling's Approximation to the Birthday Paradox](#q6) (2)\n",
      "* [Part (g): Generate Permutations](#q7) (1)\n",
      "* [Part (h): Plot $ln(x)$](#q8) (1)\n",
      "* [Part (i): Plot Stirling's Approximation](#q9) (2)\n",
      "* [Part (j): Plot $ln(\\binom{n}{k})$](#q10) (3) \n",
      "* [Part (k): (Optional) Approximate Slope](#q11) (3)\n",
      "\n",
      "Please note that there is no credit for doing part (k) of the VL. It is supposed to help you with part (j) of Question 8. Again, part (k) of the VL is **NOT** extra credit."
     ]
    },
    {
     "cell_type": "code",
     "collapsed": false,
     "input": [
      "%pylab inline"
     ],
     "language": "python",
     "metadata": {},
     "outputs": [
      {
       "output_type": "stream",
       "stream": "stdout",
       "text": [
        "Populating the interactive namespace from numpy and matplotlib\n"
       ]
      }
     ],
     "prompt_number": 1
    },
    {
     "cell_type": "code",
     "collapsed": false,
     "input": [
      "from __future__ import division  # so that you don't have to worry about float division\n",
      "import random\n",
      "import math\n",
      "import itertools\n",
      "import scipy.integrate\n",
      "import scipy.special"
     ],
     "language": "python",
     "metadata": {},
     "outputs": [],
     "prompt_number": 2
    },
    {
     "cell_type": "markdown",
     "metadata": {},
     "source": [
      "<a id='intro'></a>\n",
      "## Introduction"
     ]
    },
    {
     "cell_type": "markdown",
     "metadata": {},
     "source": [
      "Up until this point, everything that you have done in the last three virtual labs \n",
      "is something that you could've naturally discovered yourself as something worth trying. \n",
      "The data is speaking directly to the experimentalist in you. \n",
      "However, discovering an actual formula for the shape of this \"cliff-face\" is\n",
      "something that actually requires a theoretical investigation that is\n",
      "related to counting, Fourier Transforms, and Power Series. \n",
      "Guessing its exact shape is not something that comes very naturally on\n",
      "experimentalist intuition alone.\n",
      "\n",
      "In this week's lab, we will simply provide you with the right curve and \n",
      "continue from last week's lab on biased coins.\n",
      "Unless specified otherwise, you can assume the same configurations from last week's lab.\n",
      "In other words, the coin is biased with $P($head$) = 0.7$,\n",
      "the number of tosses are ($k = 10, 100, 1000, 4000$), respectively,\n",
      "and the number of trials is $m = 1000$.\n",
      "Make sure you review the lab solution from Homework 10 before moving on.\n",
      "\n",
      "In addition, we will also look at the Birthday Paradox and Stirling's Approximation.\n",
      "Please come back to the last three parts of the lab when you are working on Question 9.\n",
      "\n",
      "For each part, students who want to can choose to completely rewrite the question.\n",
      "Basically, you can come up with your own formulation of how to do a series of experiments that result in the same discoveries. \n",
      "Then, write up the results nicely using plots as appropriate to show what you observed.\n",
      "You can also rewrite the entire lab to take a different path through as long as \n",
      "they convey the key insights aimed at in each part.\n",
      "\n",
      "Below, you will find sample implementations of some functions we implemented in last week's lab."
     ]
    },
    {
     "cell_type": "code",
     "collapsed": false,
     "input": [
      "def biased_coin(p):\n",
      "    \"\"\"\n",
      "    Creates a biased coin with p(Head) = p\n",
      "    Returns True if heads and False otherwise.\n",
      "    \"\"\"\n",
      "\n",
      "    assert p >= 0 and p <= 1, \"Wrong biased coin probability\"\n",
      "    return random.random() <= p"
     ],
     "language": "python",
     "metadata": {},
     "outputs": [],
     "prompt_number": 3
    },
    {
     "cell_type": "code",
     "collapsed": false,
     "input": [
      "def run_trial(p, k):\n",
      "    \"\"\"\n",
      "    Runs a trial of k tosses of a biased coin (w.p. p of heads)\n",
      "    and returns number of heads.\n",
      "    \"\"\"\n",
      "\n",
      "    return sum([biased_coin(p) for _ in xrange(k)])"
     ],
     "language": "python",
     "metadata": {},
     "outputs": [],
     "prompt_number": 4
    },
    {
     "cell_type": "code",
     "collapsed": false,
     "input": [
      "def run_many_trials(p, k, m):\n",
      "    \"\"\"\n",
      "    Runs m trials of k tosses of a biased coin (w.p. p of heads)\n",
      "    and returns a list of the numbers of heads.\n",
      "    \"\"\"\n",
      "\n",
      "    return [run_trial(p, k) for _ in xrange(m)]"
     ],
     "language": "python",
     "metadata": {},
     "outputs": [],
     "prompt_number": 5
    },
    {
     "cell_type": "code",
     "collapsed": false,
     "input": [
      "def choose(n, k):\n",
      "    \"\"\"\n",
      "    Computes n choose k\n",
      "    \"\"\"\n",
      "\n",
      "    assert n >= 0 and k >= 0 and n >= k, \"Incorrect parameters\"\n",
      "    return math.factorial(n)/(math.factorial(k)*math.factorial(n-k))"
     ],
     "language": "python",
     "metadata": {},
     "outputs": [],
     "prompt_number": 6
    },
    {
     "cell_type": "markdown",
     "metadata": {},
     "source": [
      "<a id='q1'></a>\n",
      "## Part (a): Normal cdf v.s. Empirical cdf"
     ]
    },
    {
     "cell_type": "markdown",
     "metadata": {},
     "source": [
      "Plot $\\int_{-\\infty}^d\\frac{1}{\\sqrt{2\\pi}} e^{-\\frac{x^2}{2}}dx$\n",
      "  overlaid with the normalized cliff-face shapes you had plotted in\n",
      "  last week's lab. (This integral is related to something\n",
      "  called the Error Function.) What do you observe?\n",
      "\n",
      "  This is the heart of the Central Limit Theorem as applied to coin\n",
      "  tosses.\n",
      "\n",
      "  *Hint*: Implement the function `normal`, which takes a real number $x$\n",
      "  and returns $\\frac{1}{\\sqrt{2\\pi}} e^{-\\frac{x^2}{2}}$. Then, implement the function\n",
      "  `integrate_normal(d)`, which integrates the above function from $-\\infty$ to $d$.\n",
      "  In Python, you can use `scipy.integrate.quad`."
     ]
    },
    {
     "cell_type": "code",
     "collapsed": false,
     "input": [
      "def normal(x):\n",
      "    \"\"\"\n",
      "    Normal distribution\n",
      "    \n",
      "    YOUR CODE HERE\n",
      "    \"\"\"\n",
      "\n",
      "    return 1/math.sqrt(2*math.pi) * math.exp(-x*x/2)"
     ],
     "language": "python",
     "metadata": {},
     "outputs": [],
     "prompt_number": 7
    },
    {
     "cell_type": "markdown",
     "metadata": {},
     "source": [
      "Here's an example of how to calculate an integral using `scipy.integrate.quad`. We will calculate $\\int^4_0 x^2dx$.\n",
      "\n",
      "For more details, check out the documentation, or simply execute `help(scipy.integrate.quad)`."
     ]
    },
    {
     "cell_type": "code",
     "collapsed": false,
     "input": [
      "f = lambda x: x**2\n",
      "print scipy.integrate.quad(f, 0, 4)[0]\n",
      "\n",
      "# Analytic result (which you learned in Math 1A)\n",
      "print 4**3 / 3"
     ],
     "language": "python",
     "metadata": {},
     "outputs": [
      {
       "output_type": "stream",
       "stream": "stdout",
       "text": [
        "21.3333333333\n",
        "21.3333333333\n"
       ]
      }
     ],
     "prompt_number": 8
    },
    {
     "cell_type": "code",
     "collapsed": false,
     "input": [
      "def integrate_normal(d):\n",
      "    \"\"\"\n",
      "    Integrates normal distribution\n",
      "    \n",
      "    Hint: negative infinity in Python is -float('inf')\n",
      "    \n",
      "    YOUR CODE HERE\n",
      "    \"\"\"\n",
      "\n",
      "    return scipy.integrate.quad(lambda x: normal(x), -float('inf'), d)[0]"
     ],
     "language": "python",
     "metadata": {},
     "outputs": [],
     "prompt_number": 9
    },
    {
     "cell_type": "code",
     "collapsed": false,
     "input": [
      "def partA(p=0.7, krange=[10,100,1000,4000], m=1000):\n",
      "    \"\"\"\n",
      "    Part (a) code\n",
      "    \"\"\"\n",
      "\n",
      "    # Plots empirical cdf -- this is from HW10's part (k)\n",
      "    std = math.sqrt(p*(1-p))\n",
      "    for k in krange:\n",
      "        results = {}\n",
      "        results[k] = [(Sk-k*p)/(math.sqrt(k)*std) for Sk in run_many_trials(p, k, m)]\n",
      "        results[k].sort()\n",
      "        plt.plot(results[k], [float(y)/m for y in xrange(1, m+1)], label='k=' + str(k))\n",
      "        \n",
      "    # We want to cover the range [-min_max*num_points, min_max*num_points)\n",
      "    num_points = 1000\n",
      "    min_max = 3\n",
      "    \n",
      "    # Overlays normal cdf\n",
      "    # YOUR CODE HERE\n",
      "    x_values = [float(x)/num_points for x in xrange(-min_max*num_points, min_max*num_points)]\n",
      "    plt.plot(x_values, [integrate_normal(x) for x in x_values], lw=3, label='normal CDF')\n",
      "    # END YOUR CODE HERE\n",
      "\n",
      "    # Sets up plot\n",
      "    plt.legend(loc=2)\n",
      "    plt.xlabel('Normalized and centered fraction of heads')\n",
      "    plt.ylabel('Frequency')\n",
      "    plt.xlim(-min_max, min_max)\n",
      "    plt.title('p=' + str(p) + ', k = ' + str(krange) + ', m=' + str(m))\n",
      "    plt.show()"
     ],
     "language": "python",
     "metadata": {},
     "outputs": [],
     "prompt_number": 10
    },
    {
     "cell_type": "code",
     "collapsed": false,
     "input": [
      "# This plot should take a while (20 seconds or more) to generate. Be patient.\n",
      "\n",
      "partA()"
     ],
     "language": "python",
     "metadata": {},
     "outputs": [
      {
       "metadata": {},
       "output_type": "display_data",
       "png": "[encoded data removed]",
       "text": [
        "<matplotlib.figure.Figure at 0xa0662cc>"
       ]
      }
     ],
     "prompt_number": 11
    },
    {
     "cell_type": "markdown",
     "metadata": {},
     "source": [
      "YOUR COMMENTS HERE:\n"
     ]
    },
    {
     "cell_type": "markdown",
     "metadata": {},
     "source": [
      "<a id='q2'></a>\n",
      "## Part (b): Overlay"
     ]
    },
    {
     "cell_type": "markdown",
     "metadata": {},
     "source": [
      "Now, since you had realized in the previous lab that the cliff-faces and the\n",
      "  histograms have some natural relationship with each other, see if\n",
      "  you can figure out a way to naturally overlay a smooth plot of\n",
      "  $\\frac{1}{\\sqrt{2\\pi}} e^{-\\frac{x^2}{2}}$ to the normalized\n",
      "  histograms. What does this mean?\n",
      "  \n",
      "*Hint*: There's a parameter for `plt.hist()` you learned in HW7 \n",
      "  that you can use to normalize the histogram."
     ]
    },
    {
     "cell_type": "code",
     "collapsed": false,
     "input": [
      "def partB(p=0.7, krange=[10,100,1000,4000], m=1000):\n",
      "    \"\"\"\n",
      "    Part (b) code\n",
      "    \"\"\"\n",
      "\n",
      "    bin_width = 0.2\n",
      "\n",
      "    # Plots normalized histograms\n",
      "    # YOUR CODE HERE\n",
      "    std = math.sqrt(p*(1-p))\n",
      "    for k in krange:\n",
      "        results = [(Sk-k*p)/(math.sqrt(k)*std) for Sk in run_many_trials(p, k, m)]\n",
      "        plt.hist(results, bins=np.arange(min(results), max(results)+bin_width*2, bin_width), \n",
      "                 align='mid', normed=True, label='k=' + str(k))\n",
      "    # END YOUR CODE HERE\n",
      "\n",
      "    # Overlays normal distribution\n",
      "    # YOUR CODE HERE\n",
      "    x_values = np.linspace(-3,3,100)\n",
      "    plt.plot(x_values, [normal(x) for x in x_values], lw=3, label='normal PDF')\n",
      "    # END YOUR CODE HERE\n",
      "\n",
      "    # Sets up plot\n",
      "    plt.legend(fontsize='small')\n",
      "    plt.xlabel('Number of heads')\n",
      "    plt.ylabel('Frequency')\n",
      "    min_max = 3\n",
      "    plt.xlim(-min_max, min_max)\n",
      "    plt.title('p=' + str(p) + ', k = ' + str(krange) + ', m=' + str(m))\n",
      "    plt.show()"
     ],
     "language": "python",
     "metadata": {},
     "outputs": [],
     "prompt_number": 18
    },
    {
     "cell_type": "code",
     "collapsed": false,
     "input": [
      "partB()"
     ],
     "language": "python",
     "metadata": {},
     "outputs": [
      {
       "metadata": {},
       "output_type": "display_data",
       "png": "[encoded data removed]",
       "text": [
        "<matplotlib.figure.Figure at 0xa38ae0c>"
       ]
      }
     ],
     "prompt_number": 19
    },
    {
     "cell_type": "markdown",
     "metadata": {},
     "source": [
      "YOUR COMMENTS HERE:\n"
     ]
    },
    {
     "cell_type": "markdown",
     "metadata": {},
     "source": [
      "<a id='q3'></a>\n",
      "## Part (c): Kullback-Liebler Divergence"
     ]
    },
    {
     "cell_type": "markdown",
     "metadata": {},
     "source": [
      "Another interesting pattern that you had seen in the previous\n",
      "  Virtual Labs was the\n",
      "  exponential drop in the frequencies of certain rare events. For an\n",
      "  exponential drop, the most interesting thing is to understand the\n",
      "  rate of the exponential --- or the relevant slope on the Log-Linear\n",
      "  plot.  \n",
      "\n",
      "  For a coin with probability $p$ of being heads, we are interested in\n",
      "  the frequency by which tossing $k$ such coins results in more than\n",
      "  $ak$ heads (where $a$ is a number larger than $p$). We are\n",
      "  interested in $p=0.3,0.7$ and $a = p+0.05$,\n",
      "  $p+0.1$. Take $m = 1000$ and plot the natural log of the frequencies \n",
      "  these deviations against $k$ (ranging from $10$ to $200$). Approximately\n",
      "  extract the slopes for all four of these.\n",
      "\n",
      "  Compare them in a table against the predictions of the following\n",
      "  formula (which we will derive later in the course)\n",
      "  $$D(a||p) = a \\ln \\frac{a}{p} + (1-a) \\ln \\frac{1-a}{1-p}.$$\n",
      "  \n",
      "  This expression is called the Kullback-Leibler divergence and is also\n",
      "  called the relative entropy. \n",
      "\n",
      "  Finally, add $e^{-D(a||p) k}$ to the plots (there should be 4 of\n",
      "  these) you have made as straight lines for immediate visual\n",
      "  comparison. This straight line is called a \"Chernoff Bound\" on the\n",
      "  probability in question. \n",
      "\n",
      "  What do you observe?\n",
      "  \n",
      "*Hint*: First, implement the function `KL`, which computes $D(a||p)$\n",
      "  using the given formula. To fit a line in Python, you can use \n",
      "  `np.polyfit`.\n",
      "  There will probably be some $0$ values, which will mess up this fitting, so you can replace \n",
      "  the zeros with $10^{-3}$.\n",
      "\n",
      "**This is a very challenging question**. If you can't figure it out, continue on with the rest of the lab and come back to this one later."
     ]
    },
    {
     "cell_type": "code",
     "collapsed": false,
     "input": [
      "def KL(a, p):\n",
      "    \"\"\"\n",
      "    Computes KL divergence\n",
      "    \n",
      "    YOUR CODE HERE\n",
      "    \"\"\"\n",
      "\n",
      "    return a*math.log(a/p) + (1-a)*math.log((1-a)/(1-p))"
     ],
     "language": "python",
     "metadata": {},
     "outputs": [],
     "prompt_number": 14
    },
    {
     "cell_type": "markdown",
     "metadata": {},
     "source": [
      "Here's an example of how to perform a linear fit in Python. This is releated to a concept known as \"linear least square\", which we will study later in the course. Interested students are encouraged to take Stat 135, 151A, and/or CS 189 to see the powerful mathematics behind least square analysis."
     ]
    },
    {
     "cell_type": "code",
     "collapsed": false,
     "input": [
      "x = [-7.30000, -4.10000, -1.70000, -0.02564,\n",
      "     1.50000, 4.50000, 9.10000]\n",
      "y = [-0.80000, -0.50000, -0.20000, 0.00000,\n",
      "     0.20000, 0.50000, 0.80000]\n",
      "\n",
      "coefficients = np.polyfit(x, y, 1)  # notice that np.polyfit returns coefficients\n",
      "polynomial = np.poly1d(coefficients)\n",
      "ys = polynomial(x)\n",
      "\n",
      "plt.plot(x, y, 'o')\n",
      "plt.plot(x, ys)\n",
      "plt.ylabel('y')\n",
      "plt.xlabel('x')\n",
      "plt.xlim(-10,10)\n",
      "plt.ylim(-1,1)\n",
      "plt.show()"
     ],
     "language": "python",
     "metadata": {},
     "outputs": [
      {
       "metadata": {},
       "output_type": "display_data",
       "png": "[encoded data removed]",
       "text": [
        "<matplotlib.figure.Figure at 0xafced4c>"
       ]
      }
     ],
     "prompt_number": 15
    },
    {
     "cell_type": "code",
     "collapsed": false,
     "input": [
      "def partC(prange=[0.3, 0.7], krange=xrange(10, 201), m=1000):\n",
      "    \"\"\"\n",
      "    Part (c) code\n",
      "    \"\"\"\n",
      "\n",
      "    log_thresh = 1e-3  \n",
      "    erange = [0.05, 0.1]\n",
      "    COLORS = ['b', 'k', 'g', 'r']\n",
      "    color_idx = 0\n",
      "\n",
      "    for p in prange:\n",
      "        all_trials = []\n",
      "        for k in krange:\n",
      "            trials_k = run_many_trials(p, k, m)\n",
      "            all_trials.append(trials_k)\n",
      "        arange = [p+e for e in erange]\n",
      "        for a in arange:\n",
      "            \n",
      "            # Plots fraction of heads above ak heads\n",
      "            # YOUR CODE HERE\n",
      "            frac_lst = []\n",
      "            for i in range(len(krange)):\n",
      "                k = krange[i]\n",
      "                frac_above = [Sk > a*k for Sk in all_trials[i]].count(True) / m\n",
      "                frac_lst.append(max(frac_above, log_thresh))\n",
      "            lbl = 'p=' + str(p) + ', a=' + str(a)\n",
      "            plt.plot(krange, frac_lst, COLORS[color_idx] + '.-', label=lbl)\n",
      "            # END YOUR CODE HERE\n",
      "\n",
      "            # Fits a line to each set of points\n",
      "            # YOUR CODE HERE\n",
      "            ls_line = np.polyfit(krange, [math.log(f) for f in frac_lst], 1)\n",
      "            lbl = 'fitted line'\n",
      "            plt.plot(krange, [math.exp(ls_line[0]*k + ls_line[1]) for k in krange],\n",
      "                     COLORS[color_idx], label=lbl)\n",
      "            # END YOUR CODE HERE\n",
      "\n",
      "            # Overlays KL divergence\n",
      "            # YOUR CODE HERE\n",
      "            lbl = 'exp(-KL divergence)'\n",
      "            plt.plot(krange, [math.exp(-KL(a,p)*k) for k in krange],\n",
      "                     COLORS[color_idx] + '--', label=lbl)\n",
      "            # END YOUR CODE HERE\n",
      "            \n",
      "            color_idx += 1\n",
      "\n",
      "    # Sets up plot\n",
      "    plt.xlabel('Number of coin flips, k')\n",
      "    plt.ylabel('Fraction of trials with more than a*k heads')\n",
      "    plt.title('p = ' + str(prange) + ', m=' + str(m))\n",
      "    plt.yscale('symlog', linthreshy=log_thresh*math.sqrt(1e-1))\n",
      "    plt.axis([krange[0]-5, krange[-1]+5, log_thresh*math.sqrt(1e-1),1])\n",
      "    plt.legend(loc=3, fontsize='x-small')\n",
      "    plt.show()"
     ],
     "language": "python",
     "metadata": {},
     "outputs": [],
     "prompt_number": 16
    },
    {
     "cell_type": "code",
     "collapsed": false,
     "input": [
      "# This plot should take a while (30 seconds or more) to generate. Be patient.\n",
      "# If you want to know what your plot should look like, turn to page 9 of Note 19\n",
      "\n",
      "partC()"
     ],
     "language": "python",
     "metadata": {},
     "outputs": [
      {
       "metadata": {},
       "output_type": "display_data",
       "png": "[encoded data removed]",
       "text": [
        "<matplotlib.figure.Figure at 0xad0b08c>"
       ]
      }
     ],
     "prompt_number": 17
    },
    {
     "cell_type": "markdown",
     "metadata": {},
     "source": [
      "Fitted slopes v.s. Kullback-Liebler divergence table. Put your answers below. (We use $D(a,p)$ instead of $D(a||p)$ in the table below.)\n",
      "\n",
      "| p | a | fitted slope | D(a,p)|\n",
      "|:-:|---|--------------|-------|\n",
      "|   |   |              |       |\n",
      "|   |   |              |       |\n",
      "|   |   |              |       |\n",
      "|   |   |              |       |"
     ]
    },
    {
     "cell_type": "markdown",
     "metadata": {},
     "source": [
      "YOUR COMMENTS HERE:\n"
     ]
    },
    {
     "cell_type": "markdown",
     "metadata": {},
     "source": [
      "<a id='q4'></a>\n",
      "## Part (d): Same Birthday"
     ]
    },
    {
     "cell_type": "markdown",
     "metadata": {},
     "source": [
      "During your first week of Charm School (CS), you want to find fellow CS students \n",
      "who have the same birthday. Let's switch gears to an interesting problem studied in Lecture Note 12: the Birthday Paradox.\n",
      "This interesting phenomenon concerns the probability of two people in a group of $m$ people \n",
      "having the same birthdays. This probability is given by \n",
      "\n",
      "$$P(A^c) = 1 - \\frac{365 \\times 364 \\times \\ldots \\times (365-m+1)}{365^m} = 1 - \\frac{365!}{(365-m)! 365^m}$$ where $$P(A) = \\frac{365!}{(365-m)!365^m} = \\left( 1-\\frac{1}{365} \\right) \\times \\left( 1-\\frac{2}{365} \\right) \\times \\ldots \\times \\left( 1-\\frac{m-1}{365} \\right)$$ \n",
      "\n",
      "and $P(A)$ is the probability that no two people have the same birthdays.\n",
      "\n",
      "For $m = 10, 23, 50, 60$, randomly generate birthdays by uniformly picking $m$ numbers between $1$ and $365$. \n",
      "Do this 1000 times for each value of $m$. Record how many trials have at least 2 same birthdays.\n",
      "Plot this fraction vs. $m$ using a bar chart. What do you observe?\n",
      "\n",
      "*Hint*: First, implement the function `has_duplicate`, which returns True if a list contains any\n",
      "repeated element and False otherwise. Then, implement the function `gen_birthday(m)`,\n",
      "which generates random birthday for $m$ people."
     ]
    },
    {
     "cell_type": "code",
     "collapsed": false,
     "input": [
      "def has_duplicate(lst):\n",
      "    \"\"\"\n",
      "    Returns True if lst contains any duplicate element, False otherwise\n",
      "    \n",
      "    YOUR CODE HERE\n",
      "    \"\"\"\n",
      "\n",
      "    return len(set(lst)) != len(lst)"
     ],
     "language": "python",
     "metadata": {},
     "outputs": [],
     "prompt_number": 18
    },
    {
     "cell_type": "markdown",
     "metadata": {},
     "source": [
      "Test your implementation below. Both tests should print True if your implementation is correct."
     ]
    },
    {
     "cell_type": "code",
     "collapsed": false,
     "input": [
      "has_duplicate([3, 4, 5, 6, 3]) == True  # 3 is repeated"
     ],
     "language": "python",
     "metadata": {},
     "outputs": [
      {
       "metadata": {},
       "output_type": "pyout",
       "prompt_number": 19,
       "text": [
        "True"
       ]
      }
     ],
     "prompt_number": 19
    },
    {
     "cell_type": "code",
     "collapsed": false,
     "input": [
      "has_duplicate([3, 4, 5, 6, 7]) == False"
     ],
     "language": "python",
     "metadata": {},
     "outputs": [
      {
       "metadata": {},
       "output_type": "pyout",
       "prompt_number": 20,
       "text": [
        "True"
       ]
      }
     ],
     "prompt_number": 20
    },
    {
     "cell_type": "code",
     "collapsed": false,
     "input": [
      "def gen_birthday(m):\n",
      "    \"\"\"\n",
      "    Generates random birthday for m people.\n",
      "    \n",
      "    Returns a list of length n, where each element is an\n",
      "    integer in the range [1, 365].\n",
      "    \n",
      "    Don't worry about leap year for this problem.\n",
      "    \n",
      "    YOUR CODE HERE\n",
      "    \"\"\"\n",
      "\n",
      "    return [random.randint(1, 365) for _ in range(m)]"
     ],
     "language": "python",
     "metadata": {},
     "outputs": [],
     "prompt_number": 21
    },
    {
     "cell_type": "code",
     "collapsed": false,
     "input": [
      "def partD(num_people_lst=[10,23,50,60], num_trials=1000):\n",
      "    \"\"\"\n",
      "    Code for part (d)\n",
      "    \"\"\"\n",
      "    \n",
      "    # Retrieves the probability of having at least two people\n",
      "    # with the same birthday for each value of n in num_people_lst\n",
      "    # YOUR CODE HERE\n",
      "    prob_duplicate_lst = []\n",
      "    for m in num_people_lst:\n",
      "        counter = 0\n",
      "        for _ in range(num_trials):       \n",
      "            birthdays = gen_birthday(m)\n",
      "            if has_duplicate(birthdays):\n",
      "                counter += 1\n",
      "        prob_duplicate_lst.append(counter / num_trials)\n",
      "    # END YOUR CODE HERE\n",
      "    \n",
      "    # Plots the result\n",
      "    # YOUR CODE HERE\n",
      "    ticks = range(len(num_people_lst)) # for plotting\n",
      "    plt.bar(ticks, prob_duplicate_lst)\n",
      "    plt.xticks([tck + 0.5 for tck in ticks], num_people_lst)\n",
      "    # END YOUR CODE HERE\n",
      "    \n",
      "    # Other configurations. No need to change anything below.\n",
      "    plt.xlabel('Number of people')\n",
      "    plt.yticks(np.arange(11)/10)\n",
      "    plt.ylabel('Probability of having duplicate birthday')\n",
      "    plt.title('Birthday paradox')\n",
      "    plt.show()"
     ],
     "language": "python",
     "metadata": {},
     "outputs": [],
     "prompt_number": 22
    },
    {
     "cell_type": "code",
     "collapsed": false,
     "input": [
      "partD()"
     ],
     "language": "python",
     "metadata": {},
     "outputs": [
      {
       "metadata": {},
       "output_type": "display_data",
       "png": "[encoded data removed]",
       "text": [
        "<matplotlib.figure.Figure at 0xb04356c>"
       ]
      }
     ],
     "prompt_number": 23
    },
    {
     "cell_type": "markdown",
     "metadata": {},
     "source": [
      "YOUR COMMENTS HERE:\n"
     ]
    },
    {
     "cell_type": "markdown",
     "metadata": {},
     "source": [
      "<a id='q5'></a>\n",
      "## Part (e): Birthday Paradox"
     ]
    },
    {
     "cell_type": "markdown",
     "metadata": {},
     "source": [
      "We will now calculate the probability of having two people with the same birthday empirically,\n",
      "and plot the result against the expected probability, which is derived in Note 12.\n",
      "\n",
      "Implement the function `birthday_formula(n)`,\n",
      "which calculates the probability of at least two people having the same birthday among $m$ people.\n",
      "\n",
      "Plot the empirical result (you can assume $1000$ trials) v.s. the analytical result \n",
      "`birthday_formula(m)`), for $m=[1, 100]$ people. What do you observe?\n",
      "What happens at $m=23$ and $m=60$? Is this consonant with what we previously knew about the Birthday Paradox?"
     ]
    },
    {
     "cell_type": "code",
     "collapsed": false,
     "input": [
      "def birthday_formula(m):\n",
      "    \"\"\"\n",
      "    Calculates the probability of at least two people having the same birthday\n",
      "    among m people. Use the formula at the top of page 4 of Note 12.\n",
      "    \n",
      "    Please only use math.factorial(), ** (raise to a power), and elementary arithmetic\n",
      "    operations for this problem.\n",
      "\n",
      "    YOUR CODE HERE\n",
      "    \"\"\"\n",
      "\n",
      "    return (1 - math.factorial(365) / (365**m * math.factorial(365-m)))"
     ],
     "language": "python",
     "metadata": {},
     "outputs": [],
     "prompt_number": 24
    },
    {
     "cell_type": "markdown",
     "metadata": {},
     "source": [
      "Test your implementation below. Both tests should print True if your implementation is correct."
     ]
    },
    {
     "cell_type": "code",
     "collapsed": false,
     "input": [
      "birthday_formula(23) > 0.5"
     ],
     "language": "python",
     "metadata": {},
     "outputs": [
      {
       "metadata": {},
       "output_type": "pyout",
       "prompt_number": 25,
       "text": [
        "True"
       ]
      }
     ],
     "prompt_number": 25
    },
    {
     "cell_type": "code",
     "collapsed": false,
     "input": [
      "birthday_formula(60) > 0.99"
     ],
     "language": "python",
     "metadata": {},
     "outputs": [
      {
       "metadata": {},
       "output_type": "pyout",
       "prompt_number": 26,
       "text": [
        "True"
       ]
      }
     ],
     "prompt_number": 26
    },
    {
     "cell_type": "markdown",
     "metadata": {},
     "source": [
      "Now it's time to plot the above result!"
     ]
    },
    {
     "cell_type": "code",
     "collapsed": false,
     "input": [
      "def partE(max_num_people=100, num_trials=1000):\n",
      "    \"\"\"\n",
      "    Code for part (e)\n",
      "    \"\"\"\n",
      "\n",
      "    num_people_lst = xrange(1, max_num_people+1)\n",
      "    \n",
      "    # Calculates the empirical and analytical probabilities\n",
      "    # YOUR CODE HERE\n",
      "    prob_duplicate_lst = []\n",
      "    birthday_formula_lst = []\n",
      "\n",
      "    for m in num_people_lst:\n",
      "        counter = 0\n",
      "        for _ in range(num_trials):       \n",
      "            birthdays = gen_birthday(m)\n",
      "            if has_duplicate(birthdays):\n",
      "                counter += 1\n",
      "\n",
      "        # Appends the values\n",
      "        prob_duplicate_lst.append(counter / num_trials)\n",
      "        birthday_formula_lst.append(birthday_formula(m))\n",
      "    # END YOUR CODE HERE\n",
      "    \n",
      "    # Plots the analytical vs empirical result\n",
      "    # YOUR CODE HERE\n",
      "    plt.plot(num_people_lst, prob_duplicate_lst, 'o--', label=\"Empirical\")\n",
      "    plt.plot(num_people_lst, birthday_formula_lst, 'x--', label=\"Analytical\")\n",
      "    # END YOUR CODE HERE\n",
      "    \n",
      "    # Plots the two vertical lines at x = 23 and x = 60, and a horizontal line at y = 0.5\n",
      "    plt.plot([23 for _ in range(1, max_num_people+1)], np.linspace(0, 1, max_num_people), color='black')\n",
      "    plt.plot([60 for _ in range(1, max_num_people+1)], np.linspace(0, 1, max_num_people), color='black')\n",
      "    plt.plot(num_people_lst, [0.5 for _ in range(max_num_people)], color='black')\n",
      "    \n",
      "    # Other configurations. No need to change anything.\n",
      "    plt.xlim(1, max_num_people+1)\n",
      "    plt.ylim(0, 1)\n",
      "    plt.yticks(np.arange(11)/10)\n",
      "    plt.title(\"Birthday paradox\")\n",
      "    plt.ylabel(\"Probability of having duplicate birthday\")\n",
      "    plt.xlabel(\"Number of people\")\n",
      "    plt.legend(loc=1)\n",
      "    plt.show()"
     ],
     "language": "python",
     "metadata": {},
     "outputs": [],
     "prompt_number": 27
    },
    {
     "cell_type": "code",
     "collapsed": false,
     "input": [
      "partE()"
     ],
     "language": "python",
     "metadata": {},
     "outputs": [
      {
       "metadata": {},
       "output_type": "display_data",
       "png": "[encoded data removed]",
       "text": [
        "<matplotlib.figure.Figure at 0xb0c502c>"
       ]
      }
     ],
     "prompt_number": 28
    },
    {
     "cell_type": "markdown",
     "metadata": {},
     "source": [
      "YOUR COMMENTS HERE:\n"
     ]
    },
    {
     "cell_type": "markdown",
     "metadata": {},
     "source": [
      "<a id='q6'></a>\n",
      "## Part (f): Stirling's Approximation to the Birthday Paradox"
     ]
    },
    {
     "cell_type": "markdown",
     "metadata": {},
     "source": [
      "Now approximate $P(A)$ using Stirling's approximation for $n!$ \n",
      "and plot the approximated $P(A^c) = 1 - P(A)$ as a function of $m$. \n",
      "Stirling's approximation is given by $$n! \\approx \\sqrt{2 \\pi n} \\left( \\frac{n}{e} \\right)^n.$$\n",
      "Plot the analytical result from the previous part and the approximated result\n",
      "in the same figure. What do you observe?\n",
      "\n",
      "*Hint*: Implement the function `birthday_stirling`,\n",
      "which computes the probability that no two people have the same birthday\n",
      "given that there are $m$ birthdays using Stirling's approximation. \n",
      "\n",
      "That said, don't use Stirling's approximation directly!\n",
      "Simplify your expression after using the approximation \n",
      "as much as possible before you implement the `birthday_stirling` function,\n",
      "or the large values will blow up your computer."
     ]
    },
    {
     "cell_type": "code",
     "collapsed": false,
     "input": [
      "def birthday_stirling(m):\n",
      "    \"\"\"\n",
      "    Probability that no two people have the same birthday\n",
      "    given that there are m birthdays.\n",
      "    \n",
      "    Uses Stirling's approximation and simplifies P(A) first as much as possible\n",
      "    \n",
      "    YOUR CODE HERE\n",
      "    \"\"\"\n",
      "\n",
      "    return math.sqrt(365.0/(365.0-m))*math.pow(1.0-m/365.0, m-365)*math.pow(math.e,-m)"
     ],
     "language": "python",
     "metadata": {},
     "outputs": [],
     "prompt_number": 29
    },
    {
     "cell_type": "code",
     "collapsed": false,
     "input": [
      "def partF(max_num_people=100):\n",
      "    \"\"\"\n",
      "    Code for part (f)\n",
      "    \"\"\"\n",
      "\n",
      "    # Calculates the analytical and Stirling approximated probabilities\n",
      "    # YOUR CODE HERE\n",
      "    birthday_formula_lst = []\n",
      "    birthday_stirling_lst = []\n",
      "    num_people_lst = xrange(1, max_num_people+1)\n",
      "\n",
      "    for m in num_people_lst:\n",
      "        birthday_formula_lst.append(birthday_formula(m))\n",
      "        birthday_stirling_lst.append(1-birthday_stirling(m))\n",
      "    # END YOUR CODE HERE\n",
      "    \n",
      "    # Plots the two curves\n",
      "    # YOUR CODE HERE\n",
      "    plt.plot(num_people_lst, birthday_formula_lst, 'o--', label=\"Analytical\")\n",
      "    plt.plot(num_people_lst, birthday_stirling_lst, 'x--', label=\"Stirling's Approximation\")\n",
      "    # END YOUR CODE HERE\n",
      "    \n",
      "    # Other configurations. No need to change anything.\n",
      "    plt.xlim(1, max_num_people+1)\n",
      "    plt.ylim(0, 1)\n",
      "    plt.yticks(np.arange(11)/10)\n",
      "    plt.title(\"Birthday paradox\")\n",
      "    plt.ylabel(\"Probability of having duplicate birthday\")\n",
      "    plt.xlabel(\"Number of people\")\n",
      "    plt.legend(loc=4)\n",
      "    plt.show()"
     ],
     "language": "python",
     "metadata": {},
     "outputs": [],
     "prompt_number": 30
    },
    {
     "cell_type": "code",
     "collapsed": false,
     "input": [
      "partF()"
     ],
     "language": "python",
     "metadata": {},
     "outputs": [
      {
       "metadata": {},
       "output_type": "display_data",
       "png": "[encoded data removed]",
       "text": [
        "<matplotlib.figure.Figure at 0xaee68cc>"
       ]
      }
     ],
     "prompt_number": 31
    },
    {
     "cell_type": "markdown",
     "metadata": {},
     "source": [
      "YOUR COMMENTS HERE:\n"
     ]
    },
    {
     "cell_type": "markdown",
     "metadata": {},
     "source": [
      "<a id='q7'></a>\n",
      "## Part (g): Generate Permutations"
     ]
    },
    {
     "cell_type": "markdown",
     "metadata": {},
     "source": [
      "Lastly, let's come back to the problem of counting the number of ways to throw $m$ balls\n",
      "into $n$ bins. Suppose the number of balls in each bin is a nonnegative integer,\n",
      "implement the function `permutation(m,n)`, which generates all possible permutations\n",
      "of throwing $m$ balls into $n$ bins. For example, `permutation(2,3)` should return\n",
      "`[[0,0,2],[0,1,1],[0,2,0],[1,0,1],[1,1,0],[2,0,0]]`.\n",
      "\n",
      "How would you change your implementation if we now require each bin to contain\n",
      "a positive number of balls?\n",
      "\n",
      "*Hint: Use recursion. You should have three base cases.*"
     ]
    },
    {
     "cell_type": "code",
     "collapsed": false,
     "input": [
      "def permutation(m, n):\n",
      "    \"\"\"\n",
      "    Generates all permutations for throwing m balls into n bins,\n",
      "    where each bin contains a nonnegative number of balls.\n",
      "\n",
      "    YOUR CODE HERE\n",
      "    \"\"\"\n",
      "\n",
      "    assert m >= 0 and n >= 0, \"Incorrect parameters\"\n",
      "\n",
      "    if m == 0:    # 0 balls, all bins are empty\n",
      "        return [[0]*n]\n",
      "    elif n == 0:  # 0 bin, doesn't matter how many balls you have\n",
      "        return []\n",
      "    elif n == 1:  # 1 bin, then that bin has all the m balls\n",
      "        return [[m]]\n",
      "    \n",
      "    # We either put 0 ball in the first bin (essentially remove that bin)\n",
      "    # or put 1 ball in the first bin, and count the number of ways to\n",
      "    # throw m-1 balls into n bins\n",
      "    return [[0]+val for val in permutation(m, n-1)] + \\\n",
      "           [[val[0]+1] + val[1:] for val in permutation(m-1, n)]"
     ],
     "language": "python",
     "metadata": {},
     "outputs": [],
     "prompt_number": 1
    },
    {
     "cell_type": "markdown",
     "metadata": {},
     "source": [
      "Test your implementation below. All tests should print True if your implementation is correct."
     ]
    },
    {
     "cell_type": "code",
     "collapsed": false,
     "input": [
      "sorted(permutation(3, 0)) == []  # zero bin..."
     ],
     "language": "python",
     "metadata": {},
     "outputs": [
      {
       "metadata": {},
       "output_type": "pyout",
       "prompt_number": 2,
       "text": [
        "True"
       ]
      }
     ],
     "prompt_number": 2
    },
    {
     "cell_type": "code",
     "collapsed": false,
     "input": [
      "sorted(permutation(0, 3)) == [[0, 0, 0]]  # all bins are empty"
     ],
     "language": "python",
     "metadata": {},
     "outputs": [
      {
       "metadata": {},
       "output_type": "pyout",
       "prompt_number": 3,
       "text": [
        "True"
       ]
      }
     ],
     "prompt_number": 3
    },
    {
     "cell_type": "code",
     "collapsed": false,
     "input": [
      "sorted(permutation(3, 1)) == [[3]]  # 1 bin has all balls"
     ],
     "language": "python",
     "metadata": {},
     "outputs": [
      {
       "metadata": {},
       "output_type": "pyout",
       "prompt_number": 4,
       "text": [
        "True"
       ]
      }
     ],
     "prompt_number": 4
    },
    {
     "cell_type": "code",
     "collapsed": false,
     "input": [
      "sorted(permutation(2, 3)) == [[0, 0, 2], [0, 1, 1], [0, 2, 0], [1, 0, 1], [1, 1, 0], [2, 0, 0]]"
     ],
     "language": "python",
     "metadata": {},
     "outputs": [
      {
       "metadata": {},
       "output_type": "pyout",
       "prompt_number": 5,
       "text": [
        "True"
       ]
      }
     ],
     "prompt_number": 5
    },
    {
     "cell_type": "code",
     "collapsed": true,
     "input": [
      "len(permutation(20, 6)) == choose(25, 5)  # this is the first part of Discussion 10M Q3"
     ],
     "language": "python",
     "metadata": {},
     "outputs": [
      {
       "metadata": {},
       "output_type": "pyout",
       "prompt_number": 10,
       "text": [
        "True"
       ]
      }
     ],
     "prompt_number": 10
    },
    {
     "cell_type": "markdown",
     "metadata": {},
     "source": [
      "YOUR COMMENTS HERE:\n"
     ]
    },
    {
     "cell_type": "markdown",
     "metadata": {},
     "source": [
      "<a id='q8'></a>\n",
      "## Part (h): Plot $ln(x)$"
     ]
    },
    {
     "cell_type": "markdown",
     "metadata": {},
     "source": [
      "Plot the function $f(x)=\\ln x$."
     ]
    },
    {
     "cell_type": "code",
     "collapsed": false,
     "input": [
      "def partH():\n",
      "    \"\"\"\n",
      "    Part (h) code\n",
      "    \n",
      "    YOUR CODE HERE\n",
      "    \"\"\"\n",
      "\n",
      "    plt.plot(xrange(1, 100), [math.log(i) for i in xrange(1, 100)])\n",
      "    plt.xlabel(\"$x$\")\n",
      "    plt.ylabel(\"$ln(x)$\")\n",
      "    plt.title(\"$f(x)=\\ln x$\")\n",
      "    plt.show()"
     ],
     "language": "python",
     "metadata": {},
     "outputs": [],
     "prompt_number": 34
    },
    {
     "cell_type": "code",
     "collapsed": false,
     "input": [
      "partH()"
     ],
     "language": "python",
     "metadata": {},
     "outputs": [
      {
       "metadata": {},
       "output_type": "display_data",
       "png": "[encoded data removed]",
       "text": [
        "<matplotlib.figure.Figure at 0xb0d1cac>"
       ]
      }
     ],
     "prompt_number": 35
    },
    {
     "cell_type": "markdown",
     "metadata": {},
     "source": [
      "<a id='q9'></a>\n",
      "## Part (i): Plot Stirling's Approximation"
     ]
    },
    {
     "cell_type": "markdown",
     "metadata": {},
     "source": [
      "The Stirling's approximation is usually written as $n!\\approx\\sqrt{2\\pi n}\\left(\\frac{n}{e}\\right)^n$ or a simpler version $n!\\approx\\left(\\frac{n}{e}\\right)^n$. Plot the function $f(n)=\\frac{\\sqrt{2\\pi n}\\left(\\frac{n}{e}\\right)^n}{n!}$. What do you observe?"
     ]
    },
    {
     "cell_type": "code",
     "collapsed": false,
     "input": [
      "def stirling(n):\n",
      "    \"\"\"\n",
      "    Returns Stirling's Approximation to n!\n",
      "    \n",
      "    You probably will find math.sqrt(x), math.pi, math.e, and math.pow(x, p) useful\n",
      "    \n",
      "    YOUR CODE HERE\n",
      "    \"\"\"\n",
      "\n",
      "    return math.sqrt(2*math.pi * n) * math.pow((n/math.e), n)"
     ],
     "language": "python",
     "metadata": {},
     "outputs": [],
     "prompt_number": 41
    },
    {
     "cell_type": "code",
     "collapsed": false,
     "input": [
      "def partI():\n",
      "    \"\"\"\n",
      "    Part (i) code\n",
      "    \n",
      "    YOUR CODE HERE\n",
      "    \"\"\"\n",
      "\n",
      "    def f(n): \n",
      "       return stirling(n) / math.factorial(n)\n",
      "    \n",
      "    plt.plot(xrange(1, 100), [f(i) for i in xrange(1, 100)])\n",
      "    plt.xlabel(\"n\")\n",
      "    plt.ylabel(\"f(n)\")\n",
      "    plt.title(\"Ratio of Stirling's Approximation of $n$ and $n!$\")\n",
      "    plt.show()"
     ],
     "language": "python",
     "metadata": {},
     "outputs": [],
     "prompt_number": 50
    },
    {
     "cell_type": "code",
     "collapsed": false,
     "input": [
      "partI()"
     ],
     "language": "python",
     "metadata": {},
     "outputs": [
      {
       "metadata": {},
       "output_type": "display_data",
       "png": "[encoded data removed]",
       "text": [
        "<matplotlib.figure.Figure at 0xad72b0c>"
       ]
      }
     ],
     "prompt_number": 51
    },
    {
     "cell_type": "markdown",
     "metadata": {},
     "source": [
      "YOUR COMMENTS HERE:\n"
     ]
    },
    {
     "cell_type": "markdown",
     "metadata": {},
     "source": [
      "<a id='q10'></a>\n",
      "## Part (j): Plot $ln(\\binom{n}{k})$ "
     ]
    },
    {
     "cell_type": "markdown",
     "metadata": {},
     "source": [
      "Now, suppose $m_1=\\frac{k_1}{n}=0.25$, $m_2=\\frac{k_2}{n}=0.5$, and $m_3=\\frac{k_3}{n}=0.75$, plot $\\ln({n \\choose k_1})$, $\\ln({n \\choose k_2})$, and $\\ln({n \\choose k_3})$ as functions of $n$ on a plot with linear-scaled axes. What do you observe?\n",
      "\n",
      "*Hint: Define $j_i(n)$ such that $j_i(n) = ln(\\binom{n}{k_i})$.\n",
      "Implement the three functions below, which calculate each $ln(\\binom{n}{k_i})$.*\n",
      "\n",
      "Note: `math.log(x)` and `scipy.special.binom(n, k)` could be useful here. Use `scipy.special.binom(n, k)` instead of our home-made `choose(n, k)`."
     ]
    },
    {
     "cell_type": "code",
     "collapsed": false,
     "input": [
      "def j_1(n):\n",
      "    \"\"\"\n",
      "    YOUR CODE HERE\n",
      "    \"\"\"\n",
      "    \n",
      "    return math.log(scipy.special.binom(n, 0.25*n))\n",
      "\n",
      "def j_2(n):\n",
      "    \"\"\"\n",
      "    YOUR CODE HERE\n",
      "    \"\"\"\n",
      "    \n",
      "    return math.log(scipy.special.binom(n, 0.5*n))\n",
      "\n",
      "def j_3(n):\n",
      "    \"\"\"\n",
      "    YOUR CODE HERE\n",
      "    \"\"\"\n",
      "    \n",
      "    return math.log(scipy.special.binom(n, 0.75*n))"
     ],
     "language": "python",
     "metadata": {},
     "outputs": [],
     "prompt_number": 63
    },
    {
     "cell_type": "code",
     "collapsed": false,
     "input": [
      "def partJ():\n",
      "    \"\"\"\n",
      "    Part (j) code\n",
      "    \n",
      "    YOUR CODE HERE\n",
      "    \"\"\"\n",
      "\n",
      "    N = 100\n",
      "    plt.plot(range(1, N), [j_1(i) for i in range(1, N)], color='red', label='m1 = 0.25')\n",
      "    plt.plot(range(1, N), [j_2(i) for i in range(1, N)], color='blue', label='m2 = 0.5')\n",
      "    plt.plot(range(1, N), [j_3(i) for i in range(1, N)], color='green', label='m3 = 0.75', linestyle='--')\n",
      "    plt.xlabel(\"n\")\n",
      "    plt.ylabel(\"n choose k\")\n",
      "    plt.legend(loc=2)\n",
      "    plt.show()"
     ],
     "language": "python",
     "metadata": {},
     "outputs": [],
     "prompt_number": 64
    },
    {
     "cell_type": "code",
     "collapsed": false,
     "input": [
      "partJ()"
     ],
     "language": "python",
     "metadata": {},
     "outputs": [
      {
       "metadata": {},
       "output_type": "display_data",
       "png": "[encoded data removed]",
       "text": [
        "<matplotlib.figure.Figure at 0xb02d32c>"
       ]
      }
     ],
     "prompt_number": 65
    },
    {
     "cell_type": "markdown",
     "metadata": {},
     "source": [
      "YOUR COMMENTS HERE:\n"
     ]
    },
    {
     "cell_type": "markdown",
     "metadata": {},
     "source": [
      "<a id='q11'></a>\n",
      "## Part (l): (Optional) Approximate Slope"
     ]
    },
    {
     "cell_type": "markdown",
     "metadata": {},
     "source": [
      "Use a point at $n=70$ and a point at $n=90$ to approximate the slopes of your lines.\n",
      "Use these slopes for the rest of Question 8's part (j); putting this in this file was just \n",
      "to guide you on how you are expected to get them.\n",
      "\n",
      "There is no extra credit for doing this question. It is supposed to help you with part (j) of Question 8."
     ]
    },
    {
     "cell_type": "code",
     "collapsed": false,
     "input": [
      "# Slope of (n choose k_1)\n",
      "# YOUR CODE HERE\n",
      "slope1 = (j_1(90) - j_1(70))/(90-70) \n",
      "\n",
      "# Slope of (n choose k_2)\n",
      "# YOUR CODE HERE\n",
      "slope2 = (j_2(90) - j_2(70))/(90-70) \n",
      "\n",
      "# Slope of (n choose k_3)\n",
      "# YOUR CODE HERE\n",
      "slope3 = (j_3(90) - j_3(70))/(90-70)"
     ],
     "language": "python",
     "metadata": {},
     "outputs": [],
     "prompt_number": 66
    },
    {
     "cell_type": "code",
     "collapsed": false,
     "input": [
      "print(\"Slope 1: {0}, Slope 2: {1}, Slope 3: {2}\".format(slope1, slope2, slope3))"
     ],
     "language": "python",
     "metadata": {},
     "outputs": [
      {
       "output_type": "stream",
       "stream": "stdout",
       "text": [
        "Slope 1: 0.556109589137, Slope 2: 0.686903999178, Slope 3: 0.556109589137\n"
       ]
      }
     ],
     "prompt_number": 67
    },
    {
     "cell_type": "markdown",
     "metadata": {},
     "source": [
      "**Congratulations**! You are done with Virtual Lab 11.\n",
      "\n",
      "Don't forget to convert this notebook to a pdf document, merge it with your written homework, and submit both the pdf and the code (as a zip file) on glookup.\n",
      "\n",
      "**Reminder**: late submissions are NOT accepted. If you have any technical difficulty,\n",
      "resolve it early on or use the provided VM."
     ]
    }
   ],
   "metadata": {}
  }
 ]
}