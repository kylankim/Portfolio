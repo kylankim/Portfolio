{
 "cells": [
  {
   "cell_type": "code",
   "execution_count": 30,
   "metadata": {},
   "outputs": [],
   "source": [
    "# Import statements and basic sample datas\n",
    "\n",
    "import numpy as np\n",
    "import pandas as pd\n",
    "\n",
    "from urllib.request import urlopen\n",
    "from datascience import *\n",
    "%matplotlib inline\n",
    "\n",
    "census_url = 'https://www2.census.gov/programs-surveys/' # url address of US census website. (Data soiurce)\n",
    "\n",
    "# url-link of 2010-2015 population data csv file.\n",
    "pop_url = 'https://www2.census.gov/programs-surveys/popest/datasets/2010-2015/national/asrh/nc-est2015-agesex-res.csv'\n",
    "pop_tbl = Table().read_table(pop_url) # Create a table based on the csv file.\n",
    "\n",
    "# Refined version of US population table \n",
    "ref_pop_tbl = pop_tbl.select('SEX', 'AGE', 4, 9).relabeled(2, '2010').relabeled(3, '2015')\n",
    "# ref_pop_tbl "
   ]
  },
  {
   "cell_type": "markdown",
   "metadata": {},
   "source": [
    "# 1) Charts "
   ]
  },
  {
   "cell_type": "markdown",
   "metadata": {},
   "source": [
    "## Line Graph > .plot('index' | 'Label') "
   ]
  },
  {
   "cell_type": "code",
   "execution_count": 29,
   "metadata": {},
   "outputs": [],
   "source": [
    "by_age = ref_pop_tbl.where('SEX', 0).drop('SEX').where('AGE', are.between(0, 100))\n",
    "# by_age"
   ]
  },
  {
   "cell_type": "markdown",
   "metadata": {},
   "source": [
    "### .plot('index' | 'Label') \n",
    "   \n",
    "   > .plot(index_hor, index_ver)\n",
    "   \n",
    "   > .select(index | Label).plot(index_hor) > Plot multiple graphs at once    \n",
    "   > "
   ]
  },
  {
   "cell_type": "code",
   "execution_count": 28,
   "metadata": {},
   "outputs": [],
   "source": [
    "# plot a line graph according to two columns of indexes.\n",
    "by_age.plot()"
   ]
  },
  {
   "cell_type": "markdown",
   "metadata": {},
   "source": [
    "## Data Types :\n",
    "\n",
    "### Numerical  :\n",
    " \n",
    "### Categorical :"
   ]
  },
  {
   "cell_type": "markdown",
   "metadata": {},
   "source": [
    "## Categorical Distributions : \n",
    "\n",
    "   > Bar chart > distribution of categorical variable\n",
    "   \n",
    "   > Table.group('label') > Group the table according to all distinct values of 'label' "
   ]
  },
  {
   "cell_type": "markdown",
   "metadata": {},
   "source": [
    "# 2) Histograms "
   ]
  },
  {
   "cell_type": "markdown",
   "metadata": {},
   "source": [
    "## Area \n",
    "\n",
    "   > proportional to the values they represent\n"
   ]
  },
  {
   "cell_type": "markdown",
   "metadata": {},
   "source": [
    "## Binning  \n",
    "   \n",
    "   > Counting the number of numerical values that lie within ranges, called bin\n",
    "    \n",
    "       - Bins > Defined by their lower bounds        \n",
    "       - Categorizing numerical data \n",
    "           > No predefined category for numericals\n",
    "     "
   ]
  },
  {
   "cell_type": "markdown",
   "metadata": {},
   "source": []
  },
  {
   "cell_type": "markdown",
   "metadata": {},
   "source": []
  },
  {
   "cell_type": "markdown",
   "metadata": {},
   "source": []
  },
  {
   "cell_type": "markdown",
   "metadata": {},
   "source": []
  },
  {
   "cell_type": "markdown",
   "metadata": {},
   "source": []
  }
 ],
 "metadata": {
  "kernelspec": {
   "display_name": "Python 3",
   "language": "python",
   "name": "python3"
  },
  "language_info": {
   "codemirror_mode": {
    "name": "ipython",
    "version": 3
   },
   "file_extension": ".py",
   "mimetype": "text/x-python",
   "name": "python",
   "nbconvert_exporter": "python",
   "pygments_lexer": "ipython3",
   "version": "3.6.9"
  }
 },
 "nbformat": 4,
 "nbformat_minor": 4
}
