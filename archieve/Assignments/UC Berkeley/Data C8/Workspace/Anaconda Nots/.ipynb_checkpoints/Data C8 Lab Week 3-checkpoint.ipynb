{
 "cells": [
  {
   "cell_type": "code",
   "execution_count": 127,
   "metadata": {
    "scrolled": true
   },
   "outputs": [],
   "source": [
    "# Import statements and basic sample datas\n",
    "\n",
    "import numpy as np\n",
    "import pandas as pd\n",
    "from urllib.request import urlopen\n",
    "\n",
    "number_array = np.array([1,2,3,4,5])\n",
    "number_array\n",
    "\n",
    "boolean_array = number_array > 3 # boolean array\n",
    "boolean_array\n",
    "\n",
    "num_tbl = pd.DataFrame({'Numbers' : number_array}) # DataFrame of number_array\n",
    "num_tbl\n",
    "\n",
    "bool_tbl = pd.DataFrame({'Booleans' : boolean_array}) # DataFrame of boolean_array\n",
    "# bool_tbl"
   ]
  },
  {
   "cell_type": "markdown",
   "metadata": {},
   "source": [
    "# Data C8 su20 Lab Week 3 "
   ]
  },
  {
   "cell_type": "markdown",
   "metadata": {},
   "source": [
    "# Lab 5: Simulations"
   ]
  },
  {
   "cell_type": "markdown",
   "metadata": {},
   "source": [
    "## Conditional statements\n",
    "\n",
    "### Conditional statement : A multi-line statement that allows Python to choose among different alternatives based on the truth value of an expression.\n",
    "\n",
    "#### General format of Conditional statement\n",
    "\n",
    "```\n",
    "if <if expression>:\n",
    "    <if body>\n",
    "elif <elif expression 0>:\n",
    "    <elif body 0>\n",
    "elif <elif expression 1>:\n",
    "    <elif body 1>\n",
    "...\n",
    "else:\n",
    "    <else body>\n",
    "```\n",
    "\n",
    "#### Rules of conditional statements\n",
    "\n",
    "1. Each `if` and `elif` expression is evaluated and considered in order, starting at the top.\n",
    "\n",
    "2. As soon as a true value is found, the rest of the conditional statement is skipped."
   ]
  },
  {
   "cell_type": "markdown",
   "metadata": {},
   "source": [
    "### Examples of If statement "
   ]
  },
  {
   "cell_type": "code",
   "execution_count": 138,
   "metadata": {},
   "outputs": [],
   "source": [
    "# General example of if statement. If statement used in the function.\n",
    "\n",
    "def greater_than_three(i):\n",
    "    if i > 3:\n",
    "        return True\n",
    "    elif i <= 3:\n",
    "        return False\n",
    "    else:\n",
    "        print(\"This never gets executed.\")\n",
    "\n",
    "        \n",
    "# General example of if statement. If statement used in the function. \n",
    "# If i is greater than 2, return i. Else, return zero.\n",
    "def above_two(i):\n",
    "    if i > 2:\n",
    "        return i\n",
    "    else:\n",
    "        return 0"
   ]
  },
  {
   "cell_type": "markdown",
   "metadata": {},
   "source": [
    "## Simulation and For loops\n",
    "\n",
    "### For loop\n",
    "\n",
    "   > Helps to perform a task multiple times (Iteration)\n",
    "\n",
    "#### General form of For loop - (Collection used in Java instead of Array) \n",
    "    \n",
    "    ```\n",
    "    for i in tmp_Array :       \n",
    "        tmp_func(i)     \n",
    "    ```\n",
    "      "
   ]
  },
  {
   "cell_type": "markdown",
   "metadata": {},
   "source": [
    "### Example of For loop"
   ]
  },
  {
   "cell_type": "code",
   "execution_count": 131,
   "metadata": {},
   "outputs": [
    {
     "name": "stdout",
     "output_type": "stream",
     "text": [
      "Number greater than three : 4\n",
      "Number greater than three : 5\n"
     ]
    }
   ],
   "source": [
    "# General example of For loop\n",
    "for i in number_array:\n",
    "    if greater_than_three(i):\n",
    "        print(\"Number greater than three : \" + str(i))\n",
    "        "
   ]
  },
  {
   "cell_type": "markdown",
   "metadata": {},
   "source": [
    "## Fundamental Methods "
   ]
  },
  {
   "cell_type": "markdown",
   "metadata": {},
   "source": [
    "### 1. np.random.choice(parameter_array, random_num1) \n",
    "    > Returns a new array of randomly chose element.\n",
    "    > Chooses random elements from parameter_array as much as random_num1."
   ]
  },
  {
   "cell_type": "code",
   "execution_count": null,
   "metadata": {},
   "outputs": [],
   "source": [
    "# Choose random element from array. \n",
    "random_num1 = np.random.choice(number_array)\n",
    "random_num1 # (Data in the variable keep changes)\n",
    "\n",
    "# Number of elements to choose as one of parameters.  \n",
    "random_numarr1 = np.random.choice(number_array, random_num1)\n",
    "random_numarr1 # Number of the elements vary b/c of random_num1"
   ]
  },
  {
   "cell_type": "markdown",
   "metadata": {},
   "source": [
    "### 2. np.count_nonzero(parameter_array)\n",
    "    > Counts the number of True elements from the parameter_array"
   ]
  },
  {
   "cell_type": "code",
   "execution_count": 32,
   "metadata": {},
   "outputs": [
    {
     "data": {
      "text/plain": [
       "2"
      ]
     },
     "execution_count": 32,
     "metadata": {},
     "output_type": "execute_result"
    }
   ],
   "source": [
    "# Count number of true elements\n",
    "num = np.count_nonzero(boolean_array)\n",
    "num # boolean_array = array([False, False, False,  True,  True])"
   ]
  },
  {
   "cell_type": "code",
   "execution_count": null,
   "metadata": {},
   "outputs": [],
   "source": []
  },
  {
   "cell_type": "markdown",
   "metadata": {},
   "source": [
    "\n"
   ]
  },
  {
   "cell_type": "markdown",
   "metadata": {},
   "source": [
    "\n"
   ]
  }
 ],
 "metadata": {
  "kernelspec": {
   "display_name": "Python 3",
   "language": "python",
   "name": "python3"
  },
  "language_info": {
   "codemirror_mode": {
    "name": "ipython",
    "version": 3
   },
   "file_extension": ".py",
   "mimetype": "text/x-python",
   "name": "python",
   "nbconvert_exporter": "python",
   "pygments_lexer": "ipython3",
   "version": "3.7.6"
  }
 },
 "nbformat": 4,
 "nbformat_minor": 4
}
