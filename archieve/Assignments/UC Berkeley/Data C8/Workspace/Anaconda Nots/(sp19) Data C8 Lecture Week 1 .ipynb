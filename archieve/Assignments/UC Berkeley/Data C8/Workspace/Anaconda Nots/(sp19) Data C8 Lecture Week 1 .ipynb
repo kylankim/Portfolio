{
 "cells": [
  {
   "cell_type": "markdown",
   "metadata": {},
   "source": [
    "# Shortcuts\n",
    "### Run code\n",
    "'Shift + Enter' > Run cell, select below <br>\n",
    "'Alt + Enter' > Run cell and insert below <br>\n",
    "'Ctrl + Enter' > Run selected cells <br>\n",
    "### Cell control\n",
    "'A' > Add cell above <br>\n",
    "'B' > Add cell below <br>\n",
    "'D' & 'D' > Delete cell <br>\n",
    "### Cell type modification\n",
    "'Y' > Change cell to Code <br>\n",
    "'M' > Change cell to Markdown <br>\n",
    "### ETC\n",
    "'Tab' > Auto completion <br>\n"
   ]
  },
  {
   "cell_type": "markdown",
   "metadata": {},
   "source": [
    "# Import statement"
   ]
  },
  {
   "cell_type": "code",
   "execution_count": 1,
   "metadata": {},
   "outputs": [
    {
     "ename": "ModuleNotFoundError",
     "evalue": "No module named 'datascience'",
     "output_type": "error",
     "traceback": [
      "\u001b[1;31m---------------------------------------------------------------------------\u001b[0m",
      "\u001b[1;31mModuleNotFoundError\u001b[0m                       Traceback (most recent call last)",
      "\u001b[1;32m<ipython-input-1-d5c2c51c0863>\u001b[0m in \u001b[0;36m<module>\u001b[1;34m\u001b[0m\n\u001b[0;32m     11\u001b[0m \u001b[1;31m# import everything from datascience module\u001b[0m\u001b[1;33m\u001b[0m\u001b[1;33m\u001b[0m\u001b[1;33m\u001b[0m\u001b[0m\n\u001b[0;32m     12\u001b[0m \u001b[1;31m# Module > A collection of built-in functions\u001b[0m\u001b[1;33m\u001b[0m\u001b[1;33m\u001b[0m\u001b[1;33m\u001b[0m\u001b[0m\n\u001b[1;32m---> 13\u001b[1;33m \u001b[1;32mfrom\u001b[0m \u001b[0mdatascience\u001b[0m \u001b[1;32mimport\u001b[0m \u001b[1;33m*\u001b[0m\u001b[1;33m\u001b[0m\u001b[1;33m\u001b[0m\u001b[0m\n\u001b[0m",
      "\u001b[1;31mModuleNotFoundError\u001b[0m: No module named 'datascience'"
     ]
    }
   ],
   "source": [
    "# import Numpy package as np\n",
    "# NumPy > 'Num' from numerical and 'Py' from Python \n",
    "import numpy as np \n",
    "\n",
    "# import Pandas package as pd\n",
    "import pandas as pd\n",
    "\n",
    "# urlopen method from URL library\n",
    "from urllib.request import urlopen\n",
    "\n",
    "# import everything from datascience module\n",
    "# Module > A collection of built-in functions\n",
    "from datascience import *"
   ]
  },
  {
   "cell_type": "markdown",
   "metadata": {},
   "source": [
    "# Plotting statement"
   ]
  },
  {
   "cell_type": "code",
   "execution_count": null,
   "metadata": {},
   "outputs": [],
   "source": [
    "# matplotlib > Library of functions useful for ploting \n",
    "%matplotlib inline\n",
    "\n",
    "# import PYPLOT plotting package from the matplotlib module as plt\n",
    "# To create a figure, need to import the Pyplot package from matplotlib\n",
    "from matplotlib import pyplot as plt\n",
    "\n",
    "# import subdirectory PYPLOT plotting package from the matplotlib module as plt\n",
    "import matplotlib.pyplot as plt\n",
    "\n",
    "# How to make plot look nice\n",
    "plots.style.use('fivethirtyeight')"
   ]
  },
  {
   "cell_type": "markdown",
   "metadata": {},
   "source": [
    "# Plotting a graph by reading txt files"
   ]
  },
  {
   "cell_type": "code",
   "execution_count": 5,
   "metadata": {
    "scrolled": false
   },
   "outputs": [
    {
     "data": {
      "text/plain": [
       "<matplotlib.axes._subplots.AxesSubplot at 0x16e8b96de08>"
      ]
     },
     "execution_count": 5,
     "metadata": {},
     "output_type": "execute_result"
    },
    {
     "data": {
      "text/plain": [
       "<Figure size 432x288 with 0 Axes>"
      ]
     },
     "metadata": {},
     "output_type": "display_data"
    },
    {
     "data": {
      "image/png": "[encoded data removed]",
      "text/plain": [
       "<Figure size 432x288 with 1 Axes>"
      ]
     },
     "metadata": {
      "needs_background": "light"
     },
     "output_type": "display_data"
    },
    {
     "data": {
      "image/png": "[encoded data removed]",
      "text/plain": [
       "<Figure size 432x288 with 1 Axes>"
      ]
     },
     "metadata": {
      "needs_background": "light"
     },
     "output_type": "display_data"
    }
   ],
   "source": [
    "# Read text from the URL and create a table w/ a ccolumn of chapter names\n",
    "\n",
    "huck_finn_url = 'https://www.inferentialthinking.com/data/huck_finn.txt'\n",
    "huck_finn_text = urlopen(huck_finn_url).read().decode()\n",
    "huck_finn_chapters = huck_finn_text.split('CHAPTER ')[44:]\n",
    "\n",
    "table_of_chapter_names = pd.DataFrame(huck_finn_chapters, columns=['Chapters'])\n",
    "\n",
    "# Count how many times the names Jim, Tom, and Huck appear in each chapter.\n",
    "counts = pd.DataFrame(\n",
    "    {\n",
    "        'Jim' : np.char.count(huck_finn_chapters, 'Jim'),\n",
    "        'Tom' : np.char.count(huck_finn_chapters, 'Tom'),\n",
    "        'Huck' : np.char.count(huck_finn_chapters, 'Huck')\n",
    "    }\n",
    ")\n",
    "\n",
    "# Plot the cumulative counts into a graph\n",
    "cum_counts = counts.cumsum()\n",
    "\n",
    "# Need to create a figure in order to plot a graph\n",
    "# figure > Space assigned for plotting a graph\n",
    "plt.figure();\n",
    "\n",
    "# Naming the plot as the title\n",
    "cum_counts.plot(title='Cumulative Number of Times Each Name Appears')\n",
    "\n",
    "# In each chapter, count the number of all characters;\n",
    "# call this the \"length\" of the chapter. Also count the number of periods.\n",
    "chars_periods_huck_finn = pd.DataFrame(\n",
    "    {\n",
    "        'Huck Finn Chapter Length' : [len(s) for s in huck_finn_chapters],\n",
    "        'Number of Periods' : np.char.count(huck_finn_chapters, '.')\n",
    "    }\n",
    ")\n",
    "\n",
    "# Plot a scatter graph w/ two series from DataFrame\n",
    "chars_periods_huck_finn.plot(x='Huck Finn Chapter Length', y='Number of Periods', kind='scatter')\n"
   ]
  },
  {
   "cell_type": "markdown",
   "metadata": {},
   "source": [
    "# Methods\n",
    "\n",
    "## General methods\n",
    "1. urlopen('URL_ADDRESS').read().decode() - Read text from the URL\n",
    "    > 1. from urllib.request import urlopen - Need to import urlopen package in order to use urlopen() method \n",
    "    > 2. .decode() - Apply char syntaxes such as newline syntax(\\n)\n",
    "\n",
    "## Numpy\n",
    "\n",
    "1. import Numpyt as np - Import Numpy as np\n",
    "2. np.char.count(FILE, 'CHARACTER') - Count how many 'CHARACTER' appears in the FILE\n",
    "\n",
    "## Pandas\n",
    "\n",
    "1. import Pandas as pd - Import Pandas as pd \n",
    "2. pd.DataFrame() - Create a DataFrame\n",
    "3. pd.cumsum() - Cumulative sum of each columns\n",
    "4. pd.plot() - plot a graph based on the DataFrame\n",
    "    > 1. Parameter 'x & y' - x and y axis of the graph. Assign the name of column in the DataFrame\n",
    "    > 2. Parameter 'kind' - Type of the graph. [kind = 'scatter'] for scatter graph\n",
    "\n",
    "## Pyplot\n",
    "\n",
    "1. plt.figure() - Create or Assign a space for plotting a graph\n"
   ]
  },
  {
   "cell_type": "code",
   "execution_count": 1,
   "metadata": {},
   "outputs": [
    {
     "name": "stdout",
     "output_type": "stream",
     "text": [
      "4 5\n"
     ]
    }
   ],
   "source": [
    "print(4,5)"
   ]
  },
  {
   "cell_type": "markdown",
   "metadata": {},
   "source": []
  },
  {
   "cell_type": "markdown",
   "metadata": {},
   "source": [
    "## Functions related to Array "
   ]
  },
  {
   "cell_type": "code",
   "execution_count": 17,
   "metadata": {},
   "outputs": [
    {
     "data": {
      "text/plain": [
       "5.0"
      ]
     },
     "execution_count": 17,
     "metadata": {},
     "output_type": "execute_result"
    }
   ],
   "source": [
    "# Sample data\n",
    "import numpy as np\n",
    "Argument_Data = 3\n",
    "Argument_Array = np.arange(1,10,2)\n",
    "\n",
    "# Return data type of the argument\n",
    "type(Argument_Data) \n",
    "\n",
    "# Create a new array\n",
    "# make_array(Arguments) -> Built-in function from Data C8 datascience package\n",
    "\n",
    "# Return ith item (Argument_Data) from the array (Starting from index 0)\n",
    "Argument_Array.item(Argument_Data) \n",
    "\n",
    "# Returns an array of difference btw consecutive items in the argument array. Therefore returns a new array w/ length len(Argument_Array) - 1\n",
    "np.diff(Argument_Array)\n",
    "\n",
    "# Return an average of the Argument_Array | Also can be calculated by \"mean(Argument_Array)\"\n",
    "np.average(Argument_Array)"
   ]
  },
  {
   "cell_type": "markdown",
   "metadata": {},
   "source": [
    "## Arithmetics on Array\n",
    "\n",
    "1. Applicable only when all elements has the same data type\n",
    "\n",
    "2. Apply arithmetics on all elements of the array    "
   ]
  },
  {
   "cell_type": "markdown",
   "metadata": {},
   "source": [
    "## Functions related to Table"
   ]
  },
  {
   "cell_type": "code",
   "execution_count": 22,
   "metadata": {},
   "outputs": [],
   "source": [
    "# Return a new table from \"CSV_FILE.csv\" file\n",
    "    # Table.read_table(\"CSV_FILE.csv\")\n",
    "\n",
    "# A new table w/ just specified columns such as \"Label\"\n",
    "    # Table.select(\"Label\") \n",
    "\n",
    "# Table with rows sorted by the specified column of \"Label\"\n",
    "    # Table.sort(\"Label\")\n",
    "\n",
    "# Return an array of labels (attributes of the table)\n",
    "    # Table.labels \n",
    "\n",
    "# Return number of rows in table (Number of individuals)\n",
    "    # Table.num_rows \n",
    "\n",
    "# Return a column (an array) of the \"Label\"\n",
    "    # Table.column(\"Label\")\n",
    "\n",
    "# A new table w/o specified columns such as \"Label\"\n",
    "    # Table.drop(\"Label\")\n",
    "\n",
    "# Returns an array of the data that holds the condition and that is in the \"Label\"\n",
    "    # Table.where(\"Label\", Condition) "
   ]
  },
  {
   "cell_type": "markdown",
   "metadata": {},
   "source": [
    "## Conditional statement\n",
    "\n",
    " 1. Integer - Search items whose data in the \"Label\" column mathes w/ the integer\n",
    "    \n",
    " 2. are.below(X) | are.above(X) | are.above_or_equal(X) | are.below_or_equal(X) - Search for all elements that holds the condition from the \"Label\" column\n",
    "    \n",
    " 3. are.containing(Argument_String) - Search for all elements that contains string Argument_String from the \"Label\" column \n",
    "    \n",
    "4. are.cotained(Argument_Array) - Search for all elements are contained in the Argument_Array from the \"Label\" column"
   ]
  },
  {
   "cell_type": "code",
   "execution_count": null,
   "metadata": {},
   "outputs": [],
   "source": []
  }
 ],
 "metadata": {
  "kernelspec": {
   "display_name": "Python 3",
   "language": "python",
   "name": "python3"
  },
  "language_info": {
   "codemirror_mode": {
    "name": "ipython",
    "version": 3
   },
   "file_extension": ".py",
   "mimetype": "text/x-python",
   "name": "python",
   "nbconvert_exporter": "python",
   "pygments_lexer": "ipython3",
   "version": "3.7.6"
  }
 },
 "nbformat": 4,
 "nbformat_minor": 4
}
